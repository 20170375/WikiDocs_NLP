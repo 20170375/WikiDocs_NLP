{
 "cells": [
  {
   "cell_type": "markdown",
   "id": "e36239d8",
   "metadata": {},
   "source": [
    "# 11. RNN을 이용한 텍스트 분류(Text Classification)\n",
    "\n",
    "## 5) 나이브 베이즈 분류기(Naive Bayes Classifier)"
   ]
  },
  {
   "cell_type": "markdown",
   "id": "05308e36",
   "metadata": {},
   "source": [
    "베이즈의 정리(Bayes' theorem)\n",
    "\n",
    "P(A|B) = P(B|A)P(A) / P(B)"
   ]
  },
  {
   "cell_type": "markdown",
   "id": "052f1809",
   "metadata": {},
   "source": [
    "### 3) 뉴스그룹 데이터 분류하기(Classification of 20 News Group with Naive Bayes Classifier)"
   ]
  },
  {
   "cell_type": "markdown",
   "id": "24848844",
   "metadata": {},
   "source": [
    "#### (1) 뉴스그룹 데이터에 대한 이해"
   ]
  },
  {
   "cell_type": "code",
   "execution_count": 1,
   "id": "b3062c13",
   "metadata": {},
   "outputs": [
    {
     "name": "stdout",
     "output_type": "stream",
     "text": [
      "dict_keys(['data', 'filenames', 'target_names', 'target', 'DESCR'])\n"
     ]
    }
   ],
   "source": [
    "from sklearn.datasets import fetch_20newsgroups\n",
    "\n",
    "newsdata = fetch_20newsgroups(subset='train')\n",
    "print(newsdata.keys())"
   ]
  },
  {
   "cell_type": "code",
   "execution_count": 2,
   "id": "d4aedf3d",
   "metadata": {},
   "outputs": [
    {
     "name": "stdout",
     "output_type": "stream",
     "text": [
      "11314 11314 20 11314\n"
     ]
    }
   ],
   "source": [
    "print (len(newsdata.data), len(newsdata.filenames), \n",
    "       len(newsdata.target_names), len(newsdata.target))"
   ]
  },
  {
   "cell_type": "code",
   "execution_count": 4,
   "id": "58df607c",
   "metadata": {},
   "outputs": [
    {
     "name": "stdout",
     "output_type": "stream",
     "text": [
      "['alt.atheism', 'comp.graphics', 'comp.os.ms-windows.misc', 'comp.sys.ibm.pc.hardware', 'comp.sys.mac.hardware', 'comp.windows.x', 'misc.forsale', 'rec.autos', 'rec.motorcycles', 'rec.sport.baseball', 'rec.sport.hockey', 'sci.crypt', 'sci.electronics', 'sci.med', 'sci.space', 'soc.religion.christian', 'talk.politics.guns', 'talk.politics.mideast', 'talk.politics.misc', 'talk.religion.misc']\n"
     ]
    }
   ],
   "source": [
    "print(newsdata.target_names)"
   ]
  },
  {
   "cell_type": "code",
   "execution_count": 5,
   "id": "b2110a9d",
   "metadata": {},
   "outputs": [
    {
     "name": "stdout",
     "output_type": "stream",
     "text": [
      "7\n"
     ]
    }
   ],
   "source": [
    "print(newsdata.target[0])"
   ]
  },
  {
   "cell_type": "code",
   "execution_count": 6,
   "id": "46af3dc8",
   "metadata": {},
   "outputs": [
    {
     "name": "stdout",
     "output_type": "stream",
     "text": [
      "rec.autos\n"
     ]
    }
   ],
   "source": [
    "print(newsdata.target_names[7])"
   ]
  },
  {
   "cell_type": "code",
   "execution_count": 7,
   "id": "867ba903",
   "metadata": {},
   "outputs": [
    {
     "name": "stdout",
     "output_type": "stream",
     "text": [
      "From: lerxst@wam.umd.edu (where's my thing)\n",
      "Subject: WHAT car is this!?\n",
      "Nntp-Posting-Host: rac3.wam.umd.edu\n",
      "Organization: University of Maryland, College Park\n",
      "Lines: 15\n",
      "\n",
      " I was wondering if anyone out there could enlighten me on this car I saw\n",
      "the other day. It was a 2-door sports car, looked to be from the late 60s/\n",
      "early 70s. It was called a Bricklin. The doors were really small. In addition,\n",
      "the front bumper was separate from the rest of the body. This is \n",
      "all I know. If anyone can tellme a model name, engine specs, years\n",
      "of production, where this car is made, history, or whatever info you\n",
      "have on this funky looking car, please e-mail.\n",
      "\n",
      "Thanks,\n",
      "- IL\n",
      "   ---- brought to you by your neighborhood Lerxst ----\n",
      "\n",
      "\n",
      "\n",
      "\n",
      "\n"
     ]
    }
   ],
   "source": [
    "print(newsdata.data[0])"
   ]
  },
  {
   "cell_type": "markdown",
   "id": "21a88ba1",
   "metadata": {},
   "source": [
    "#### (2) 나이브 베이즈 분류"
   ]
  },
  {
   "cell_type": "code",
   "execution_count": 8,
   "id": "c51ff610",
   "metadata": {},
   "outputs": [
    {
     "name": "stdout",
     "output_type": "stream",
     "text": [
      "(11314, 130107)\n"
     ]
    }
   ],
   "source": [
    "from sklearn.feature_extraction.text import CountVectorizer\n",
    "from sklearn.feature_extraction.text import TfidfTransformer\n",
    "from sklearn.naive_bayes import MultinomialNB # 다항분포 나이브 베이즈 모델\n",
    "from sklearn.metrics import accuracy_score #정확도 계산\n",
    "\n",
    "dtmvector = CountVectorizer()\n",
    "X_train_dtm = dtmvector.fit_transform(newsdata.data)\n",
    "print(X_train_dtm.shape)"
   ]
  },
  {
   "cell_type": "code",
   "execution_count": 9,
   "id": "f67ca402",
   "metadata": {},
   "outputs": [
    {
     "name": "stdout",
     "output_type": "stream",
     "text": [
      "(11314, 130107)\n"
     ]
    }
   ],
   "source": [
    "tfidf_transformer = TfidfTransformer()\n",
    "tfidfv = tfidf_transformer.fit_transform(X_train_dtm)\n",
    "print(tfidfv.shape)"
   ]
  },
  {
   "cell_type": "code",
   "execution_count": 11,
   "id": "3b5cd2e6",
   "metadata": {},
   "outputs": [
    {
     "data": {
      "text/plain": [
       "MultinomialNB()"
      ]
     },
     "execution_count": 11,
     "metadata": {},
     "output_type": "execute_result"
    }
   ],
   "source": [
    "mod = MultinomialNB(alpha=1.0, class_prior=None, fit_prior=True)\n",
    "mod.fit(tfidfv, newsdata.target)"
   ]
  },
  {
   "cell_type": "code",
   "execution_count": 12,
   "id": "959b3f1c",
   "metadata": {},
   "outputs": [
    {
     "name": "stdout",
     "output_type": "stream",
     "text": [
      "정확도: 0.7738980350504514\n"
     ]
    }
   ],
   "source": [
    "# 테스트 데이터 갖고오기\n",
    "newsdata_test = fetch_20newsgroups(subset='test', shuffle=True)\n",
    "\n",
    "# 테스트 데이터를 DTM으로 변환\n",
    "X_test_dtm = dtmvector.transform(newsdata_test.data)\n",
    "\n",
    "# DTM을 TF-IDF 행렬로 변환\n",
    "tfidfv_test = tfidf_transformer.transform(X_test_dtm)\n",
    "\n",
    "# 테스트 데이터에 대한 예측\n",
    "predicted = mod.predict(tfidfv_test)\n",
    "\n",
    "# 예측값과 실제값 비교\n",
    "print(\"정확도:\", accuracy_score(newsdata_test.target, predicted))"
   ]
  },
  {
   "cell_type": "code",
   "execution_count": null,
   "id": "5b0f8091",
   "metadata": {},
   "outputs": [],
   "source": []
  }
 ],
 "metadata": {
  "kernelspec": {
   "display_name": "Python 3",
   "language": "python",
   "name": "python3"
  },
  "language_info": {
   "codemirror_mode": {
    "name": "ipython",
    "version": 3
   },
   "file_extension": ".py",
   "mimetype": "text/x-python",
   "name": "python",
   "nbconvert_exporter": "python",
   "pygments_lexer": "ipython3",
   "version": "3.6.3"
  }
 },
 "nbformat": 4,
 "nbformat_minor": 5
}
