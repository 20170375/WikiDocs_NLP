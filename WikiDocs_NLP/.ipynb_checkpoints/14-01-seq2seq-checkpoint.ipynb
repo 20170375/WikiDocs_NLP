{
 "cells": [
  {
   "cell_type": "markdown",
   "id": "2901f5bd",
   "metadata": {},
   "source": [
    "# 14. RNN을 이용한 인코더-디코더\n",
    "\n",
    "## 1) 시퀀스-투-시퀀스(Sequence-to-Sequence, seq2seq)"
   ]
  },
  {
   "cell_type": "markdown",
   "id": "c55fa20f",
   "metadata": {},
   "source": [
    "시퀀스-투-시퀀스(Sequence-to-Sequence, seq2seq)는 입력된 시퀀스로부터 다른 도메인의 시퀀스를 출력하는 다양한 분야에서 사용되는 모델입니다. \n",
    "\n",
    "예를 들어 챗봇(Chatbot)과 기계 번역(Machine Translation)이 그러한 대표적인 예인데, 입력 시퀀스와 출력 시퀀스를 각각 질문과 대답으로 구성하면 챗봇으로 만들 수 있고, 입력 시퀀스와 출력 시퀀스를 각각 입력 문장과 번역 문장으로 만들면 번역기로 만들 수 있습니다. "
   ]
  },
  {
   "cell_type": "markdown",
   "id": "7eb3ac47",
   "metadata": {},
   "source": [
    "### 1. 시퀀스-투-시퀀스(Sequence-to-Sequence)"
   ]
  },
  {
   "attachments": {
    "image-3.png": {
     "image/png": "[encoded data removed]"
    }
   },
   "cell_type": "markdown",
   "id": "766e50df",
   "metadata": {},
   "source": [
    "![image-3.png](attachment:image-3.png)"
   ]
  },
  {
   "cell_type": "markdown",
   "id": "60ee4c7d",
   "metadata": {},
   "source": [
    "### 2. 문자 레벨 기계 번역기(Character-Level Neural Machine Translation) 구현하기"
   ]
  },
  {
   "cell_type": "markdown",
   "id": "6f47641d",
   "metadata": {},
   "source": [
    "#### 1) 병렬 코퍼스 데이터에 대한 이해와 전처리"
   ]
  },
  {
   "cell_type": "markdown",
   "id": "0386a239",
   "metadata": {},
   "source": [
    "```\n",
    "Watch me.           Regardez-moi !\n",
    "```\n",
    "여기서 사용할 fra.txt 데이터는 위와 같이 왼쪽의 영어 문장과 오른쪽의 프랑스어 문장 사이에 탭으로 구분되는 구조가 하나의 샘플입니다. "
   ]
  },
  {
   "cell_type": "code",
   "execution_count": 1,
   "id": "de153b64",
   "metadata": {},
   "outputs": [],
   "source": [
    "import os\n",
    "import shutil\n",
    "import zipfile\n",
    "\n",
    "import pandas as pd\n",
    "import tensorflow as tf\n",
    "import urllib3\n",
    "from tensorflow.keras.preprocessing.sequence import pad_sequences\n",
    "from tensorflow.keras.utils import to_categorical"
   ]
  },
  {
   "cell_type": "code",
   "execution_count": 2,
   "id": "8ea679ab",
   "metadata": {},
   "outputs": [
    {
     "name": "stdout",
     "output_type": "stream",
     "text": [
      "전체 샘플의 개수 : 191954\n"
     ]
    }
   ],
   "source": [
    "lines = pd.read_csv('datasets/fra.txt', names=['src', 'tar', 'lic'], sep='\\t')\n",
    "del lines['lic']\n",
    "print('전체 샘플의 개수 :',len(lines))"
   ]
  },
  {
   "cell_type": "code",
   "execution_count": 3,
   "id": "87b9d0f4",
   "metadata": {},
   "outputs": [
    {
     "data": {
      "text/html": [
       "<div>\n",
       "<style scoped>\n",
       "    .dataframe tbody tr th:only-of-type {\n",
       "        vertical-align: middle;\n",
       "    }\n",
       "\n",
       "    .dataframe tbody tr th {\n",
       "        vertical-align: top;\n",
       "    }\n",
       "\n",
       "    .dataframe thead th {\n",
       "        text-align: right;\n",
       "    }\n",
       "</style>\n",
       "<table border=\"1\" class=\"dataframe\">\n",
       "  <thead>\n",
       "    <tr style=\"text-align: right;\">\n",
       "      <th></th>\n",
       "      <th>src</th>\n",
       "      <th>tar</th>\n",
       "    </tr>\n",
       "  </thead>\n",
       "  <tbody>\n",
       "    <tr>\n",
       "      <th>35929</th>\n",
       "      <td>I'll come right now.</td>\n",
       "      <td>J'arrive tout de suite.</td>\n",
       "    </tr>\n",
       "    <tr>\n",
       "      <th>50688</th>\n",
       "      <td>She followed him home.</td>\n",
       "      <td>Elle le suivit à la maison.</td>\n",
       "    </tr>\n",
       "    <tr>\n",
       "      <th>57950</th>\n",
       "      <td>That's not my decision.</td>\n",
       "      <td>Ce n'est pas ma décision.</td>\n",
       "    </tr>\n",
       "    <tr>\n",
       "      <th>38649</th>\n",
       "      <td>We really need that.</td>\n",
       "      <td>Nous avons vraiment besoin de ça.</td>\n",
       "    </tr>\n",
       "    <tr>\n",
       "      <th>21270</th>\n",
       "      <td>Were you excited?</td>\n",
       "      <td>Étiez-vous excité ?</td>\n",
       "    </tr>\n",
       "    <tr>\n",
       "      <th>21001</th>\n",
       "      <td>Watch yourselves.</td>\n",
       "      <td>Prenez garde !</td>\n",
       "    </tr>\n",
       "    <tr>\n",
       "      <th>21653</th>\n",
       "      <td>You deserve this.</td>\n",
       "      <td>Tu mérites ça.</td>\n",
       "    </tr>\n",
       "    <tr>\n",
       "      <th>20182</th>\n",
       "      <td>The noes have it.</td>\n",
       "      <td>Le \"non\" l'emporte.</td>\n",
       "    </tr>\n",
       "    <tr>\n",
       "      <th>13029</th>\n",
       "      <td>Close the hatch.</td>\n",
       "      <td>Fermez la trappe.</td>\n",
       "    </tr>\n",
       "    <tr>\n",
       "      <th>14653</th>\n",
       "      <td>Is it poisonous?</td>\n",
       "      <td>Est-ce toxique ?</td>\n",
       "    </tr>\n",
       "  </tbody>\n",
       "</table>\n",
       "</div>"
      ],
      "text/plain": [
       "                           src                                tar\n",
       "35929     I'll come right now.            J'arrive tout de suite.\n",
       "50688   She followed him home.        Elle le suivit à la maison.\n",
       "57950  That's not my decision.          Ce n'est pas ma décision.\n",
       "38649     We really need that.  Nous avons vraiment besoin de ça.\n",
       "21270        Were you excited?                Étiez-vous excité ?\n",
       "21001        Watch yourselves.                     Prenez garde !\n",
       "21653        You deserve this.                     Tu mérites ça.\n",
       "20182        The noes have it.                Le \"non\" l'emporte.\n",
       "13029         Close the hatch.                  Fermez la trappe.\n",
       "14653         Is it poisonous?                   Est-ce toxique ?"
      ]
     },
     "execution_count": 3,
     "metadata": {},
     "output_type": "execute_result"
    }
   ],
   "source": [
    "lines = lines.loc[:, 'src':'tar']\n",
    "lines = lines[0:60000] # 6만개만 저장\n",
    "lines.sample(10)"
   ]
  },
  {
   "cell_type": "markdown",
   "id": "077c7d3d",
   "metadata": {},
   "source": [
    "번역 문장에 해당되는 프랑스어 데이터는 시작을 의미하는 심볼 <sos>과 종료를 의미하는 심볼 <eos>을 넣어주어야 합니다. \n",
    "    \n",
    "여기서는 <sos>와 <eos> 대신 '\\t'를 시작 심볼, '\\n'을 종료 심볼로 간주하여 추가하고 다시 데이터를 출력해보겠습니다."
   ]
  },
  {
   "cell_type": "code",
   "execution_count": 4,
   "id": "1f5ac8c4",
   "metadata": {},
   "outputs": [
    {
     "data": {
      "text/html": [
       "<div>\n",
       "<style scoped>\n",
       "    .dataframe tbody tr th:only-of-type {\n",
       "        vertical-align: middle;\n",
       "    }\n",
       "\n",
       "    .dataframe tbody tr th {\n",
       "        vertical-align: top;\n",
       "    }\n",
       "\n",
       "    .dataframe thead th {\n",
       "        text-align: right;\n",
       "    }\n",
       "</style>\n",
       "<table border=\"1\" class=\"dataframe\">\n",
       "  <thead>\n",
       "    <tr style=\"text-align: right;\">\n",
       "      <th></th>\n",
       "      <th>src</th>\n",
       "      <th>tar</th>\n",
       "    </tr>\n",
       "  </thead>\n",
       "  <tbody>\n",
       "    <tr>\n",
       "      <th>56567</th>\n",
       "      <td>I'm sick of hearing it.</td>\n",
       "      <td>\\t J'en ai marre de l'entendre. \\n</td>\n",
       "    </tr>\n",
       "    <tr>\n",
       "      <th>45739</th>\n",
       "      <td>Where are the others?</td>\n",
       "      <td>\\t Où sont les autres ? \\n</td>\n",
       "    </tr>\n",
       "    <tr>\n",
       "      <th>50827</th>\n",
       "      <td>Show me your passport.</td>\n",
       "      <td>\\t Montrez-moi votre passeport ! \\n</td>\n",
       "    </tr>\n",
       "    <tr>\n",
       "      <th>59708</th>\n",
       "      <td>Where's the toothpaste?</td>\n",
       "      <td>\\t Où est le dentifrice ? \\n</td>\n",
       "    </tr>\n",
       "    <tr>\n",
       "      <th>28306</th>\n",
       "      <td>Get out of my room.</td>\n",
       "      <td>\\t Sors de ma chambre ! \\n</td>\n",
       "    </tr>\n",
       "    <tr>\n",
       "      <th>4699</th>\n",
       "      <td>Hey, wait up!</td>\n",
       "      <td>\\t Hé, un moment ! \\n</td>\n",
       "    </tr>\n",
       "    <tr>\n",
       "      <th>32131</th>\n",
       "      <td>Tom seems dejected.</td>\n",
       "      <td>\\t Tom semble abattu. \\n</td>\n",
       "    </tr>\n",
       "    <tr>\n",
       "      <th>20031</th>\n",
       "      <td>That sounds fair.</td>\n",
       "      <td>\\t Ça a l'air juste. \\n</td>\n",
       "    </tr>\n",
       "    <tr>\n",
       "      <th>10523</th>\n",
       "      <td>I said nothing.</td>\n",
       "      <td>\\t Je ne dis rien. \\n</td>\n",
       "    </tr>\n",
       "    <tr>\n",
       "      <th>6507</th>\n",
       "      <td>Are you blind?</td>\n",
       "      <td>\\t Êtes-vous aveugle ? \\n</td>\n",
       "    </tr>\n",
       "  </tbody>\n",
       "</table>\n",
       "</div>"
      ],
      "text/plain": [
       "                           src                                  tar\n",
       "56567  I'm sick of hearing it.   \\t J'en ai marre de l'entendre. \\n\n",
       "45739    Where are the others?           \\t Où sont les autres ? \\n\n",
       "50827   Show me your passport.  \\t Montrez-moi votre passeport ! \\n\n",
       "59708  Where's the toothpaste?         \\t Où est le dentifrice ? \\n\n",
       "28306      Get out of my room.           \\t Sors de ma chambre ! \\n\n",
       "4699             Hey, wait up!                \\t Hé, un moment ! \\n\n",
       "32131      Tom seems dejected.             \\t Tom semble abattu. \\n\n",
       "20031        That sounds fair.              \\t Ça a l'air juste. \\n\n",
       "10523          I said nothing.                \\t Je ne dis rien. \\n\n",
       "6507            Are you blind?            \\t Êtes-vous aveugle ? \\n"
      ]
     },
     "execution_count": 4,
     "metadata": {},
     "output_type": "execute_result"
    }
   ],
   "source": [
    "lines.tar = lines.tar.apply(lambda x : '\\t '+ x + ' \\n')\n",
    "lines.sample(10)"
   ]
  },
  {
   "cell_type": "markdown",
   "id": "6c779dd6",
   "metadata": {},
   "source": [
    "문자 집합을 생성해보겠습니다. "
   ]
  },
  {
   "cell_type": "code",
   "execution_count": 5,
   "id": "18d4c168",
   "metadata": {},
   "outputs": [],
   "source": [
    "# 문자 집합 구축\n",
    "src_vocab = set()\n",
    "for line in lines.src: # 1줄씩 읽음\n",
    "    for char in line: # 1개의 문자씩 읽음\n",
    "        src_vocab.add(char)\n",
    "\n",
    "tar_vocab = set()\n",
    "for line in lines.tar:\n",
    "    for char in line:\n",
    "        tar_vocab.add(char)"
   ]
  },
  {
   "cell_type": "code",
   "execution_count": 6,
   "id": "69d92875",
   "metadata": {},
   "outputs": [
    {
     "name": "stdout",
     "output_type": "stream",
     "text": [
      "source 문장의 char 집합 : 79\n",
      "target 문장의 char 집합 : 105\n"
     ]
    }
   ],
   "source": [
    "src_vocab_size = len(src_vocab)+1\n",
    "tar_vocab_size = len(tar_vocab)+1\n",
    "print('source 문장의 char 집합 :', src_vocab_size)\n",
    "print('target 문장의 char 집합 :', tar_vocab_size)"
   ]
  },
  {
   "cell_type": "code",
   "execution_count": 7,
   "id": "76d4ef3b",
   "metadata": {},
   "outputs": [
    {
     "name": "stdout",
     "output_type": "stream",
     "text": [
      "['W', 'X', 'Y', 'Z', 'a', 'b', 'c', 'd', 'e', 'f', 'g', 'h', 'i', 'j', 'k', 'l', 'm', 'n', 'o', 'p', 'q', 'r', 's', 't', 'u', 'v', 'w', 'x', 'y', 'z']\n",
      "\n",
      "['T', 'U', 'V', 'W', 'X', 'Y', 'Z', 'a', 'b', 'c', 'd', 'e', 'f', 'g', 'h', 'i', 'j', 'k', 'l', 'm', 'n', 'o', 'p', 'q', 'r', 's', 't', 'u', 'v', 'w']\n"
     ]
    }
   ],
   "source": [
    "src_vocab = sorted(list(src_vocab))\n",
    "tar_vocab = sorted(list(tar_vocab))\n",
    "print(src_vocab[45:75])\n",
    "print()\n",
    "print(tar_vocab[45:75])"
   ]
  },
  {
   "cell_type": "markdown",
   "id": "60841d71",
   "metadata": {},
   "source": [
    "문자 집합에 문자 단위로 저장된 것을 확인할 수 있습니다.\n",
    "\n",
    "각 문자에 인덱스를 부여하겠습니다."
   ]
  },
  {
   "cell_type": "code",
   "execution_count": 8,
   "id": "eaf0d5a6",
   "metadata": {},
   "outputs": [
    {
     "name": "stdout",
     "output_type": "stream",
     "text": [
      "{' ': 1, '!': 2, '\"': 3, '$': 4, '%': 5, '&': 6, \"'\": 7, ',': 8, '-': 9, '.': 10, '/': 11, '0': 12, '1': 13, '2': 14, '3': 15, '4': 16, '5': 17, '6': 18, '7': 19, '8': 20, '9': 21, ':': 22, '?': 23, 'A': 24, 'B': 25, 'C': 26, 'D': 27, 'E': 28, 'F': 29, 'G': 30, 'H': 31, 'I': 32, 'J': 33, 'K': 34, 'L': 35, 'M': 36, 'N': 37, 'O': 38, 'P': 39, 'Q': 40, 'R': 41, 'S': 42, 'T': 43, 'U': 44, 'V': 45, 'W': 46, 'X': 47, 'Y': 48, 'Z': 49, 'a': 50, 'b': 51, 'c': 52, 'd': 53, 'e': 54, 'f': 55, 'g': 56, 'h': 57, 'i': 58, 'j': 59, 'k': 60, 'l': 61, 'm': 62, 'n': 63, 'o': 64, 'p': 65, 'q': 66, 'r': 67, 's': 68, 't': 69, 'u': 70, 'v': 71, 'w': 72, 'x': 73, 'y': 74, 'z': 75, 'é': 76, '’': 77, '€': 78}\n",
      "\n",
      "{'\\t': 1, '\\n': 2, ' ': 3, '!': 4, '\"': 5, '$': 6, '%': 7, '&': 8, \"'\": 9, '(': 10, ')': 11, ',': 12, '-': 13, '.': 14, '0': 15, '1': 16, '2': 17, '3': 18, '4': 19, '5': 20, '6': 21, '7': 22, '8': 23, '9': 24, ':': 25, '?': 26, 'A': 27, 'B': 28, 'C': 29, 'D': 30, 'E': 31, 'F': 32, 'G': 33, 'H': 34, 'I': 35, 'J': 36, 'K': 37, 'L': 38, 'M': 39, 'N': 40, 'O': 41, 'P': 42, 'Q': 43, 'R': 44, 'S': 45, 'T': 46, 'U': 47, 'V': 48, 'W': 49, 'X': 50, 'Y': 51, 'Z': 52, 'a': 53, 'b': 54, 'c': 55, 'd': 56, 'e': 57, 'f': 58, 'g': 59, 'h': 60, 'i': 61, 'j': 62, 'k': 63, 'l': 64, 'm': 65, 'n': 66, 'o': 67, 'p': 68, 'q': 69, 'r': 70, 's': 71, 't': 72, 'u': 73, 'v': 74, 'w': 75, 'x': 76, 'y': 77, 'z': 78, '\\xa0': 79, '«': 80, '»': 81, 'À': 82, 'Ç': 83, 'É': 84, 'Ê': 85, 'Ô': 86, 'à': 87, 'â': 88, 'ç': 89, 'è': 90, 'é': 91, 'ê': 92, 'ë': 93, 'î': 94, 'ï': 95, 'ô': 96, 'ù': 97, 'û': 98, 'œ': 99, '\\u2009': 100, '\\u200b': 101, '‘': 102, '’': 103, '\\u202f': 104}\n"
     ]
    }
   ],
   "source": [
    "src_to_index = dict([(word, i+1) for i, word in enumerate(src_vocab)])\n",
    "tar_to_index = dict([(word, i+1) for i, word in enumerate(tar_vocab)])\n",
    "print(src_to_index)\n",
    "print()\n",
    "print(tar_to_index)"
   ]
  },
  {
   "cell_type": "markdown",
   "id": "7341d5fb",
   "metadata": {},
   "source": [
    "인코더의 입력이 될 영어 문장 샘플에 대해서 정수 인코딩을 수행합니다. "
   ]
  },
  {
   "cell_type": "code",
   "execution_count": 9,
   "id": "50077284",
   "metadata": {},
   "outputs": [
    {
     "name": "stdout",
     "output_type": "stream",
     "text": [
      "source 문장의 정수 인코딩 :\n",
      " [[30, 64, 10], [30, 64, 10], [30, 64, 10], [31, 58, 10], [31, 58, 10]]\n"
     ]
    }
   ],
   "source": [
    "encoder_input = []\n",
    "\n",
    "for line in lines.src:\n",
    "    encoded_line = []\n",
    "    # 각 줄에서 1개의 char\n",
    "    for char in line:\n",
    "        # 각 char을 정수로 변환\n",
    "        encoded_line.append(src_to_index[char])\n",
    "    encoder_input.append(encoded_line)\n",
    "print('source 문장의 정수 인코딩 :\\n', encoder_input[:5])"
   ]
  },
  {
   "cell_type": "markdown",
   "id": "666977e8",
   "metadata": {},
   "source": [
    "디코더의 입력이 될 프랑스어 데이터에 대해서 정수 인코딩을 수행해보겠습니다."
   ]
  },
  {
   "cell_type": "code",
   "execution_count": 10,
   "id": "03f46b3a",
   "metadata": {},
   "outputs": [
    {
     "name": "stdout",
     "output_type": "stream",
     "text": [
      "target 문장의 정수 인코딩 :\n",
      " [[1, 3, 48, 53, 3, 4, 3, 2], [1, 3, 39, 53, 70, 55, 60, 57, 14, 3, 2], [1, 3, 28, 67, 73, 59, 57, 3, 4, 3, 2], [1, 3, 45, 53, 64, 73, 72, 3, 4, 3, 2], [1, 3, 45, 53, 64, 73, 72, 14, 3, 2]]\n"
     ]
    }
   ],
   "source": [
    "decoder_input = []\n",
    "\n",
    "for line in lines.tar:\n",
    "    encoded_line = []\n",
    "    for char in line:\n",
    "        encoded_line.append(tar_to_index[char])\n",
    "    decoder_input.append(encoded_line)\n",
    "print('target 문장의 정수 인코딩 :\\n', decoder_input[:5])"
   ]
  },
  {
   "cell_type": "markdown",
   "id": "f33a7ea2",
   "metadata": {},
   "source": [
    "디코더의 예측값과 비교하기 위한 실제값에 대해서 정수 인코딩을 수행해보겠습니다.\n",
    "\n",
    "이번에는 정수 인코딩 과정에서 모든 프랑스어 문장의 맨 앞에 붙어있는 '\\t'를 제거하도록 합니다."
   ]
  },
  {
   "cell_type": "code",
   "execution_count": 11,
   "id": "1d66dec9",
   "metadata": {},
   "outputs": [
    {
     "name": "stdout",
     "output_type": "stream",
     "text": [
      "target 문장 레이블의 정수 인코딩 :\n",
      " [[3, 48, 53, 3, 4, 3, 2], [3, 39, 53, 70, 55, 60, 57, 14, 3, 2], [3, 28, 67, 73, 59, 57, 3, 4, 3, 2], [3, 45, 53, 64, 73, 72, 3, 4, 3, 2], [3, 45, 53, 64, 73, 72, 14, 3, 2]]\n"
     ]
    }
   ],
   "source": [
    "decoder_target = []\n",
    "\n",
    "for line in lines.tar:\n",
    "    timestep = 0\n",
    "    encoded_line = []\n",
    "    for char in line:\n",
    "        if timestep > 0:\n",
    "            encoded_line.append(tar_to_index[char])\n",
    "        timestep = timestep + 1\n",
    "    decoder_target.append(encoded_line)\n",
    "print('target 문장 레이블의 정수 인코딩 :\\n', decoder_target[:5])"
   ]
  },
  {
   "cell_type": "markdown",
   "id": "fa4e74ca",
   "metadata": {},
   "source": [
    "앞서 먼저 만들었던 디코더의 입력값에 해당되는 decoder_input 데이터와 비교하면 decoder_input에서는 모든 문장의 앞에 붙어있던 숫자 1이 decoder_target에서는 제거된 것을 볼 수 있습니다. '\\t'가 인덱스가 1이므로 정상적으로 제거된 것입니다. "
   ]
  },
  {
   "cell_type": "code",
   "execution_count": 12,
   "id": "f5a336f9",
   "metadata": {},
   "outputs": [
    {
     "name": "stdout",
     "output_type": "stream",
     "text": [
      "source 문장의 최대 길이 : 23\n",
      "target 문장의 최대 길이 : 76\n"
     ]
    }
   ],
   "source": [
    "max_src_len = max([len(line) for line in lines.src])\n",
    "max_tar_len = max([len(line) for line in lines.tar])\n",
    "print('source 문장의 최대 길이 :',max_src_len)\n",
    "print('target 문장의 최대 길이 :',max_tar_len)"
   ]
  },
  {
   "cell_type": "markdown",
   "id": "62392802",
   "metadata": {},
   "source": [
    "영어 데이터는 영어 샘플들끼리, 프랑스어는 프랑스어 샘플들끼리 길이를 맞추어서 패딩합니다."
   ]
  },
  {
   "cell_type": "code",
   "execution_count": 13,
   "id": "2e1757e3",
   "metadata": {},
   "outputs": [],
   "source": [
    "encoder_input = pad_sequences(encoder_input, maxlen=max_src_len, padding='post')\n",
    "decoder_input = pad_sequences(decoder_input, maxlen=max_tar_len, padding='post')\n",
    "decoder_target = pad_sequences(decoder_target, maxlen=max_tar_len, padding='post')"
   ]
  },
  {
   "cell_type": "markdown",
   "id": "103548bb",
   "metadata": {},
   "source": [
    "모든 값에 대해서 원-핫 인코딩을 수행합니다. \n",
    "\n",
    "문자 단위 번역기므로 워드 임베딩은 별도로 사용되지 않으며, 예측값과의 오차 측정에 사용되는 실제값뿐만 아니라 입력값도 원-핫 벡터를 사용하겠습니다."
   ]
  },
  {
   "cell_type": "code",
   "execution_count": 14,
   "id": "728791a1",
   "metadata": {},
   "outputs": [],
   "source": [
    "encoder_input = to_categorical(encoder_input)\n",
    "decoder_input = to_categorical(decoder_input)\n",
    "decoder_target = to_categorical(decoder_target)"
   ]
  },
  {
   "cell_type": "markdown",
   "id": "c1e8fb20",
   "metadata": {},
   "source": [
    "#### 2) 교사 강요(Teacher forcing)"
   ]
  },
  {
   "cell_type": "markdown",
   "id": "fc821a2d",
   "metadata": {},
   "source": [
    "이전 시점의 디코더 셀의 예측값 대신 실제값을 현재 시점의 디코더 셀의 입력으로 사용하는 방법을 사용할 수 있습니다. \n",
    "\n",
    "이와 같이 RNN의 모든 시점에 대해서 이전 시점의 예측값 대신 실제값을 입력으로 주는 방법을 교사 강요라고 합니다."
   ]
  },
  {
   "cell_type": "markdown",
   "id": "df3a5cdb",
   "metadata": {},
   "source": [
    "#### 3) seq2seq 기계 번역기 훈련시키기"
   ]
  },
  {
   "cell_type": "code",
   "execution_count": 15,
   "id": "079f7807",
   "metadata": {},
   "outputs": [],
   "source": [
    "from tensorflow.keras.layers import Input, LSTM, Embedding, Dense\n",
    "from tensorflow.keras.models import Model\n",
    "import numpy as np"
   ]
  },
  {
   "cell_type": "code",
   "execution_count": 16,
   "id": "3dfb1ef8",
   "metadata": {},
   "outputs": [],
   "source": [
    "encoder_inputs = Input(shape=(None, src_vocab_size))\n",
    "encoder_lstm = LSTM(units=256, return_state=True)\n",
    "\n",
    "# encoder_outputs은 여기서는 불필요\n",
    "encoder_outputs, state_h, state_c = encoder_lstm(encoder_inputs)\n",
    "\n",
    "# LSTM은 바닐라 RNN과는 달리 상태가 두 개. 은닉 상태와 셀 상태.\n",
    "encoder_states = [state_h, state_c]"
   ]
  },
  {
   "cell_type": "markdown",
   "id": "f652a0ab",
   "metadata": {},
   "source": [
    "encoder_states를 디코더에 전달하므로서 이 두 가지 상태 모두를 디코더로 전달합니다. 이것이 앞서 배운 컨텍스트 벡터입니다."
   ]
  },
  {
   "cell_type": "code",
   "execution_count": 17,
   "id": "3b44840a",
   "metadata": {},
   "outputs": [],
   "source": [
    "decoder_inputs = Input(shape=(None, tar_vocab_size))\n",
    "decoder_lstm = LSTM(units=256, return_sequences=True, return_state=True)\n",
    "\n",
    "# 디코더에게 인코더의 은닉 상태, 셀 상태를 전달.\n",
    "decoder_outputs, _, _= decoder_lstm(decoder_inputs, initial_state=encoder_states)\n",
    "\n",
    "decoder_softmax_layer = Dense(tar_vocab_size, activation='softmax')\n",
    "decoder_outputs = decoder_softmax_layer(decoder_outputs)\n",
    "\n",
    "model = Model([encoder_inputs, decoder_inputs], decoder_outputs)\n",
    "model.compile(optimizer=\"rmsprop\", loss=\"categorical_crossentropy\")"
   ]
  },
  {
   "cell_type": "markdown",
   "id": "c5e3d96b",
   "metadata": {},
   "source": [
    "디코더는 인코더의 마지막 은닉 상태를 초기 은닉 상태로 사용합니다. \n",
    "\n",
    "위에서 initial_state의 인자값으로 encoder_states를 주는 코드가 이에 해당됩니다.\n",
    "\n",
    "디코더도 은닉 상태, 셀 상태를 리턴하기는 하지만 훈련 과정에서는 사용하지 않습니다. "
   ]
  },
  {
   "cell_type": "code",
   "execution_count": 18,
   "id": "7ef35e59",
   "metadata": {},
   "outputs": [
    {
     "name": "stdout",
     "output_type": "stream",
     "text": [
      "Epoch 1/40\n",
      "750/750 [==============================] - 18s 16ms/step - loss: 0.7492 - val_loss: 0.6622\n",
      "Epoch 2/40\n",
      "750/750 [==============================] - 11s 15ms/step - loss: 0.4558 - val_loss: 0.5353\n",
      "Epoch 3/40\n",
      "750/750 [==============================] - 11s 15ms/step - loss: 0.3819 - val_loss: 0.4766\n",
      "Epoch 4/40\n",
      "750/750 [==============================] - 11s 15ms/step - loss: 0.3393 - val_loss: 0.4333\n",
      "Epoch 5/40\n",
      "750/750 [==============================] - 11s 15ms/step - loss: 0.3108 - val_loss: 0.4094\n",
      "Epoch 6/40\n",
      "750/750 [==============================] - 11s 15ms/step - loss: 0.2901 - val_loss: 0.3929\n",
      "Epoch 7/40\n",
      "750/750 [==============================] - 11s 15ms/step - loss: 0.2741 - val_loss: 0.3825\n",
      "Epoch 8/40\n",
      "750/750 [==============================] - 11s 15ms/step - loss: 0.2613 - val_loss: 0.3711\n",
      "Epoch 9/40\n",
      "750/750 [==============================] - 11s 15ms/step - loss: 0.2506 - val_loss: 0.3663\n",
      "Epoch 10/40\n",
      "750/750 [==============================] - 11s 15ms/step - loss: 0.2413 - val_loss: 0.3596\n",
      "Epoch 11/40\n",
      "750/750 [==============================] - 11s 15ms/step - loss: 0.2332 - val_loss: 0.3567\n",
      "Epoch 12/40\n",
      "750/750 [==============================] - 12s 15ms/step - loss: 0.2261 - val_loss: 0.3547\n",
      "Epoch 13/40\n",
      "750/750 [==============================] - 11s 15ms/step - loss: 0.2196 - val_loss: 0.3527\n",
      "Epoch 14/40\n",
      "750/750 [==============================] - 11s 15ms/step - loss: 0.2135 - val_loss: 0.3504\n",
      "Epoch 15/40\n",
      "750/750 [==============================] - 11s 15ms/step - loss: 0.2081 - val_loss: 0.3509\n",
      "Epoch 16/40\n",
      "750/750 [==============================] - 11s 15ms/step - loss: 0.2029 - val_loss: 0.3503\n",
      "Epoch 17/40\n",
      "750/750 [==============================] - 11s 15ms/step - loss: 0.1981 - val_loss: 0.3509\n",
      "Epoch 18/40\n",
      "750/750 [==============================] - 11s 15ms/step - loss: 0.1938 - val_loss: 0.3511\n",
      "Epoch 19/40\n",
      "750/750 [==============================] - 11s 15ms/step - loss: 0.1896 - val_loss: 0.3524\n",
      "Epoch 20/40\n",
      "750/750 [==============================] - 11s 15ms/step - loss: 0.1856 - val_loss: 0.3542\n",
      "Epoch 21/40\n",
      "750/750 [==============================] - 11s 15ms/step - loss: 0.1818 - val_loss: 0.3558\n",
      "Epoch 22/40\n",
      "750/750 [==============================] - 11s 15ms/step - loss: 0.1782 - val_loss: 0.3575\n",
      "Epoch 23/40\n",
      "750/750 [==============================] - 11s 15ms/step - loss: 0.1750 - val_loss: 0.3600\n",
      "Epoch 24/40\n",
      "750/750 [==============================] - 11s 15ms/step - loss: 0.1717 - val_loss: 0.3614\n",
      "Epoch 25/40\n",
      "750/750 [==============================] - 11s 15ms/step - loss: 0.1688 - val_loss: 0.3645\n",
      "Epoch 26/40\n",
      "750/750 [==============================] - 11s 15ms/step - loss: 0.1659 - val_loss: 0.3652\n",
      "Epoch 27/40\n",
      "750/750 [==============================] - 11s 15ms/step - loss: 0.1631 - val_loss: 0.3670\n",
      "Epoch 28/40\n",
      "750/750 [==============================] - 11s 15ms/step - loss: 0.1605 - val_loss: 0.3700\n",
      "Epoch 29/40\n",
      "750/750 [==============================] - 11s 15ms/step - loss: 0.1580 - val_loss: 0.3710\n",
      "Epoch 30/40\n",
      "750/750 [==============================] - 11s 15ms/step - loss: 0.1556 - val_loss: 0.3752\n",
      "Epoch 31/40\n",
      "750/750 [==============================] - 11s 15ms/step - loss: 0.1532 - val_loss: 0.3776\n",
      "Epoch 32/40\n",
      "750/750 [==============================] - 11s 15ms/step - loss: 0.1509 - val_loss: 0.3820\n",
      "Epoch 33/40\n",
      "750/750 [==============================] - 11s 15ms/step - loss: 0.1488 - val_loss: 0.3831\n",
      "Epoch 34/40\n",
      "750/750 [==============================] - 11s 15ms/step - loss: 0.1468 - val_loss: 0.3839\n",
      "Epoch 35/40\n",
      "750/750 [==============================] - 11s 15ms/step - loss: 0.1448 - val_loss: 0.3887\n",
      "Epoch 36/40\n",
      "750/750 [==============================] - 11s 15ms/step - loss: 0.1429 - val_loss: 0.3922\n",
      "Epoch 37/40\n",
      "750/750 [==============================] - 11s 15ms/step - loss: 0.1412 - val_loss: 0.3951\n",
      "Epoch 38/40\n",
      "750/750 [==============================] - 11s 15ms/step - loss: 0.1394 - val_loss: 0.3967\n",
      "Epoch 39/40\n",
      "750/750 [==============================] - 11s 15ms/step - loss: 0.1375 - val_loss: 0.3981\n",
      "Epoch 40/40\n",
      "750/750 [==============================] - 11s 15ms/step - loss: 0.1360 - val_loss: 0.4021\n"
     ]
    },
    {
     "data": {
      "text/plain": [
       "<tensorflow.python.keras.callbacks.History at 0x23a6e350860>"
      ]
     },
     "execution_count": 18,
     "metadata": {},
     "output_type": "execute_result"
    }
   ],
   "source": [
    "model.fit(x=[encoder_input, decoder_input], y=decoder_target, \n",
    "          batch_size=64, epochs=40, validation_split=0.2)"
   ]
  },
  {
   "cell_type": "markdown",
   "id": "d411a319",
   "metadata": {},
   "source": [
    "#### 4) seq2seq 기계 번역기 동작시키기"
   ]
  },
  {
   "cell_type": "markdown",
   "id": "9d6499f7",
   "metadata": {},
   "source": [
    "앞서 seq2seq는 훈련할 때와 동작할 때의 방식이 다르다고 언급한 바 있습니다. 이번에는 입력한 문장에 대해서 기계 번역을 하도록 모델을 조정하고 동작시켜보도록 하겠습니다.\n",
    "\n",
    "전체적인 번역 동작 단계를 정리하면 아래와 같습니다.\n",
    "1. 번역하고자 하는 입력 문장이 인코더에 들어가서 은닉 상태와 셀 상태를 얻습니다.\n",
    "2. 상태와 \\<SOS\\>에 해당하는 '\\t'를 디코더로 보냅니다.\n",
    "3. 디코더가 \\<EOS\\>에 해당하는 '\\n'이 나올 때까지 다음 문자를 예측하는 행동을 반복합니다."
   ]
  },
  {
   "cell_type": "markdown",
   "id": "564cf9e2",
   "metadata": {},
   "source": [
    "우선 인코더를 정의합니다.\n",
    "\n",
    "encoder_inputs와 encoder_states는 훈련 과정에서 이미 정의한 것들을 재사용하는 것입니다."
   ]
  },
  {
   "cell_type": "code",
   "execution_count": 19,
   "id": "6e0f836f",
   "metadata": {},
   "outputs": [],
   "source": [
    "encoder_model = Model(inputs=encoder_inputs, outputs=encoder_states)"
   ]
  },
  {
   "cell_type": "markdown",
   "id": "613d313c",
   "metadata": {},
   "source": [
    "디코더를 설계해보겠습니다."
   ]
  },
  {
   "cell_type": "code",
   "execution_count": 20,
   "id": "cec35913",
   "metadata": {},
   "outputs": [],
   "source": [
    "# 이전 시점의 상태들을 저장하는 텐서\n",
    "decoder_state_input_h = Input(shape=(256,))\n",
    "decoder_state_input_c = Input(shape=(256,))\n",
    "decoder_states_inputs = [decoder_state_input_h, decoder_state_input_c]\n",
    "\n",
    "# 문장의 다음 단어를 예측하기 위해서 초기 상태(initial_state)를 이전 시점의 상태로 사용.\n",
    "# 뒤의 함수 decode_sequence()에 동작을 구현 예정\n",
    "decoder_outputs, state_h, state_c = decoder_lstm(decoder_inputs, \n",
    "                                                 initial_state=decoder_states_inputs)\n",
    "\n",
    "# 훈련 과정에서와 달리 LSTM의 리턴하는 은닉 상태와 셀 상태를 버리지 않음.\n",
    "decoder_states = [state_h, state_c]\n",
    "decoder_outputs = decoder_softmax_layer(decoder_outputs)\n",
    "decoder_model = Model(inputs=[decoder_inputs] + decoder_states_inputs, \n",
    "                      outputs=[decoder_outputs] + decoder_states)"
   ]
  },
  {
   "cell_type": "markdown",
   "id": "aea3fe42",
   "metadata": {},
   "source": [
    "단어로부터 인덱스를 얻는 것이 아니라 인덱스로부터 단어를 얻을 수 있는 index_to_src와 index_to_tar를 만듭니다."
   ]
  },
  {
   "cell_type": "code",
   "execution_count": 21,
   "id": "94300201",
   "metadata": {},
   "outputs": [],
   "source": [
    "index_to_src = dict((i, char) for char, i in src_to_index.items())\n",
    "index_to_tar = dict((i, char) for char, i in tar_to_index.items())"
   ]
  },
  {
   "cell_type": "code",
   "execution_count": 22,
   "id": "b1986efc",
   "metadata": {},
   "outputs": [],
   "source": [
    "def decode_sequence(input_seq):\n",
    "    # 입력으로부터 인코더의 상태를 얻음\n",
    "    states_value = encoder_model.predict(input_seq)\n",
    "\n",
    "    # <SOS>에 해당하는 원-핫 벡터 생성\n",
    "    target_seq = np.zeros((1, 1, tar_vocab_size))\n",
    "    target_seq[0, 0, tar_to_index['\\t']] = 1.\n",
    "\n",
    "    stop_condition = False\n",
    "    decoded_sentence = \"\"\n",
    "\n",
    "    # stop_condition이 True가 될 때까지 루프 반복\n",
    "    while not stop_condition:\n",
    "        # 이점 시점의 상태 states_value를 현 시점의 초기 상태로 사용\n",
    "        output_tokens, h, c = decoder_model.predict([target_seq] + states_value)\n",
    "\n",
    "        # 예측 결과를 문자로 변환\n",
    "        sampled_token_index = np.argmax(output_tokens[0, -1, :])\n",
    "        sampled_char = index_to_tar[sampled_token_index]\n",
    "\n",
    "        # 현재 시점의 예측 문자를 예측 문장에 추가\n",
    "        decoded_sentence += sampled_char\n",
    "\n",
    "        # <eos>에 도달하거나 최대 길이를 넘으면 중단.\n",
    "        if (sampled_char == '\\n' or\n",
    "            len(decoded_sentence) > max_tar_len):\n",
    "            stop_condition = True\n",
    "\n",
    "        # 현재 시점의 예측 결과를 다음 시점의 입력으로 사용하기 위해 저장\n",
    "        target_seq = np.zeros((1, 1, tar_vocab_size))\n",
    "        target_seq[0, 0, sampled_token_index] = 1.\n",
    "\n",
    "        # 현재 시점의 상태를 다음 시점의 상태로 사용하기 위해 저장\n",
    "        states_value = [h, c]\n",
    "\n",
    "    return decoded_sentence"
   ]
  },
  {
   "cell_type": "code",
   "execution_count": 23,
   "id": "62572e94",
   "metadata": {},
   "outputs": [
    {
     "name": "stdout",
     "output_type": "stream",
     "text": [
      "-----------------------------------\n",
      "입력 문장: Hi.\n",
      "정답 문장: Salut ! \n",
      "번역 문장: Salut. \n",
      "-----------------------------------\n",
      "입력 문장: I see.\n",
      "정답 문장: Aha. \n",
      "번역 문장: Je conduis. \n",
      "-----------------------------------\n",
      "입력 문장: Hug me.\n",
      "정답 문장: Serrez-moi dans vos bras ! \n",
      "번역 문장: Serrez-moi la viande. \n",
      "-----------------------------------\n",
      "입력 문장: Help me.\n",
      "정답 문장: Aidez-moi. \n",
      "번역 문장: Aide-moi ! \n",
      "-----------------------------------\n",
      "입력 문장: I beg you.\n",
      "정답 문장: Je vous en prie. \n",
      "번역 문장: Je vous en fice. \n"
     ]
    }
   ],
   "source": [
    "for seq_index in [3,50,100,300,1001]: # 입력 문장의 인덱스\n",
    "    input_seq = encoder_input[seq_index:seq_index+1]\n",
    "    decoded_sentence = decode_sequence(input_seq)\n",
    "    print(35 * \"-\")\n",
    "    print('입력 문장:', lines.src[seq_index])\n",
    "    print('정답 문장:', lines.tar[seq_index][2:len(lines.tar[seq_index])-1]) # '\\t'와 '\\n'을 빼고 출력\n",
    "    print('번역 문장:', decoded_sentence[1:len(decoded_sentence)-1]) # '\\n'을 빼고 출력"
   ]
  },
  {
   "cell_type": "code",
   "execution_count": null,
   "id": "36087978",
   "metadata": {},
   "outputs": [],
   "source": []
  }
 ],
 "metadata": {
  "kernelspec": {
   "display_name": "Python 3",
   "language": "python",
   "name": "python3"
  },
  "language_info": {
   "codemirror_mode": {
    "name": "ipython",
    "version": 3
   },
   "file_extension": ".py",
   "mimetype": "text/x-python",
   "name": "python",
   "nbconvert_exporter": "python",
   "pygments_lexer": "ipython3",
   "version": "3.6.3"
  }
 },
 "nbformat": 4,
 "nbformat_minor": 5
}
