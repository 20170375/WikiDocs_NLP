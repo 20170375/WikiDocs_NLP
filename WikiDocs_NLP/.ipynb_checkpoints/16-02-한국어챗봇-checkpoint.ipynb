{
 "cells": [
  {
   "cell_type": "markdown",
   "id": "38475c99",
   "metadata": {},
   "source": [
    "# 16. 트랜스포머(Transformer)\n",
    "\n",
    "## 2) 트랜스포머를 이용한 한국어 챗봇(Transformer Chatbot Tutorial)"
   ]
  },
  {
   "cell_type": "markdown",
   "id": "3afbf8d3",
   "metadata": {},
   "source": [
    "### 1. 데이터 로드하기"
   ]
  },
  {
   "cell_type": "code",
   "execution_count": 1,
   "id": "d63e3546",
   "metadata": {},
   "outputs": [],
   "source": [
    "import pandas as pd\n",
    "import numpy as np\n",
    "import matplotlib.pyplot as plt\n",
    "import re\n",
    "import urllib.request\n",
    "import time\n",
    "import tensorflow_datasets as tfds\n",
    "import tensorflow as tf"
   ]
  },
  {
   "cell_type": "code",
   "execution_count": 2,
   "id": "aae2c672",
   "metadata": {},
   "outputs": [
    {
     "data": {
      "text/html": [
       "<div>\n",
       "<style scoped>\n",
       "    .dataframe tbody tr th:only-of-type {\n",
       "        vertical-align: middle;\n",
       "    }\n",
       "\n",
       "    .dataframe tbody tr th {\n",
       "        vertical-align: top;\n",
       "    }\n",
       "\n",
       "    .dataframe thead th {\n",
       "        text-align: right;\n",
       "    }\n",
       "</style>\n",
       "<table border=\"1\" class=\"dataframe\">\n",
       "  <thead>\n",
       "    <tr style=\"text-align: right;\">\n",
       "      <th></th>\n",
       "      <th>Q</th>\n",
       "      <th>A</th>\n",
       "      <th>label</th>\n",
       "    </tr>\n",
       "  </thead>\n",
       "  <tbody>\n",
       "    <tr>\n",
       "      <th>0</th>\n",
       "      <td>12시 땡!</td>\n",
       "      <td>하루가 또 가네요.</td>\n",
       "      <td>0</td>\n",
       "    </tr>\n",
       "    <tr>\n",
       "      <th>1</th>\n",
       "      <td>1지망 학교 떨어졌어</td>\n",
       "      <td>위로해 드립니다.</td>\n",
       "      <td>0</td>\n",
       "    </tr>\n",
       "    <tr>\n",
       "      <th>2</th>\n",
       "      <td>3박4일 놀러가고 싶다</td>\n",
       "      <td>여행은 언제나 좋죠.</td>\n",
       "      <td>0</td>\n",
       "    </tr>\n",
       "    <tr>\n",
       "      <th>3</th>\n",
       "      <td>3박4일 정도 놀러가고 싶다</td>\n",
       "      <td>여행은 언제나 좋죠.</td>\n",
       "      <td>0</td>\n",
       "    </tr>\n",
       "    <tr>\n",
       "      <th>4</th>\n",
       "      <td>PPL 심하네</td>\n",
       "      <td>눈살이 찌푸려지죠.</td>\n",
       "      <td>0</td>\n",
       "    </tr>\n",
       "  </tbody>\n",
       "</table>\n",
       "</div>"
      ],
      "text/plain": [
       "                 Q            A  label\n",
       "0           12시 땡!   하루가 또 가네요.      0\n",
       "1      1지망 학교 떨어졌어    위로해 드립니다.      0\n",
       "2     3박4일 놀러가고 싶다  여행은 언제나 좋죠.      0\n",
       "3  3박4일 정도 놀러가고 싶다  여행은 언제나 좋죠.      0\n",
       "4          PPL 심하네   눈살이 찌푸려지죠.      0"
      ]
     },
     "execution_count": 2,
     "metadata": {},
     "output_type": "execute_result"
    }
   ],
   "source": [
    "# urllib.request.urlretrieve(\"https://raw.githubusercontent.com/songys/Chatbot_data/master/ChatbotData.csv\", \n",
    "#                            filename=\"datasets/ChatBotData.csv\")\n",
    "train_data = pd.read_csv('datasets/ChatBotData.csv')\n",
    "train_data.head()"
   ]
  },
  {
   "cell_type": "code",
   "execution_count": 3,
   "id": "82417e5a",
   "metadata": {},
   "outputs": [
    {
     "name": "stdout",
     "output_type": "stream",
     "text": [
      "챗봇 샘플의 개수 : 11823\n"
     ]
    }
   ],
   "source": [
    "print('챗봇 샘플의 개수 :', len(train_data))"
   ]
  },
  {
   "cell_type": "code",
   "execution_count": 4,
   "id": "c64b8d2e",
   "metadata": {},
   "outputs": [
    {
     "name": "stdout",
     "output_type": "stream",
     "text": [
      "Q        0\n",
      "A        0\n",
      "label    0\n",
      "dtype: int64\n"
     ]
    }
   ],
   "source": [
    "print(train_data.isnull().sum())"
   ]
  },
  {
   "cell_type": "markdown",
   "id": "2fa1cd33",
   "metadata": {},
   "source": [
    "원 데이터에서 ?, ., !와 같은 구두점을 미리 처리해두어야 하는데, 구두점들을 단순히 제거할 수도 있겠지만, 여기서는 구두점 앞에 공백. 즉, 띄어쓰기를 추가하여 다른 문자들과 구분하겠습니다."
   ]
  },
  {
   "cell_type": "code",
   "execution_count": 5,
   "id": "ad636d4f",
   "metadata": {},
   "outputs": [],
   "source": [
    "questions = []\n",
    "for sentence in train_data['Q']:\n",
    "    # 구두점에 대해서 띄어쓰기\n",
    "    # ex) 12시 땡! -> 12시 땡 !\n",
    "    sentence = re.sub(r\"([?.!,])\", r\" \\1 \", sentence)\n",
    "    sentence = sentence.strip()\n",
    "    questions.append(sentence)"
   ]
  },
  {
   "cell_type": "code",
   "execution_count": 6,
   "id": "2bcd622e",
   "metadata": {},
   "outputs": [],
   "source": [
    "answers = []\n",
    "for sentence in train_data['A']:\n",
    "    # 구두점에 대해서 띄어쓰기\n",
    "    # ex) 12시 땡! -> 12시 땡 !\n",
    "    sentence = re.sub(r\"([?.!,])\", r\" \\1 \", sentence)\n",
    "    sentence = sentence.strip()\n",
    "    answers.append(sentence)"
   ]
  },
  {
   "cell_type": "code",
   "execution_count": 7,
   "id": "acbd2410",
   "metadata": {},
   "outputs": [
    {
     "name": "stdout",
     "output_type": "stream",
     "text": [
      "['12시 땡 !', '1지망 학교 떨어졌어', '3박4일 놀러가고 싶다', '3박4일 정도 놀러가고 싶다', 'PPL 심하네']\n",
      "\n",
      "['하루가 또 가네요 .', '위로해 드립니다 .', '여행은 언제나 좋죠 .', '여행은 언제나 좋죠 .', '눈살이 찌푸려지죠 .']\n"
     ]
    }
   ],
   "source": [
    "print(questions[:5])\n",
    "print()\n",
    "print(answers[:5])"
   ]
  },
  {
   "cell_type": "markdown",
   "id": "9ef2b3c1",
   "metadata": {},
   "source": [
    "### 2. 단어 집합 생성"
   ]
  },
  {
   "cell_type": "markdown",
   "id": "8e2a5194",
   "metadata": {},
   "source": [
    "앞서 서브워드 토크나이저 챕터에서 배웠던 서브워드텍스트인코더를 사용해봅시다. 자주 사용되는 서브워드 단위로 토큰을 분리하는 토크나이저로 학습 데이터로부터 학습하여 서브워드로 구성된 단어 집합을 생성합니다."
   ]
  },
  {
   "cell_type": "code",
   "execution_count": 9,
   "id": "05b2bec1",
   "metadata": {},
   "outputs": [],
   "source": [
    "# 서브워드텍스트인코더를 사용하여 질문, 답변 데이터로부터 단어 집합(Vocabulary) 생성\n",
    "tokenizer = tfds.deprecated.text.SubwordTextEncoder.build_from_corpus(\n",
    "    questions + answers, target_vocab_size=2**13)"
   ]
  },
  {
   "cell_type": "markdown",
   "id": "7bb5bdc7",
   "metadata": {},
   "source": [
    "seq2seq 챕터에서 배웠던 것처럼 인코더-디코더 모델 계열에는 디코더의 입력으로 사용할 시작을 의미하는 시작 토큰 SOS와 종료 토큰 EOS 또한 존재합니다. 해당 토큰들도 단어 집합에 포함시킬 필요가 있으므로 이 두 토큰에 정수를 부여해줍니다."
   ]
  },
  {
   "cell_type": "code",
   "execution_count": 10,
   "id": "d5658a13",
   "metadata": {},
   "outputs": [],
   "source": [
    "# 시작 토큰과 종료 토큰에 대한 정수 부여.\n",
    "START_TOKEN, END_TOKEN = [tokenizer.vocab_size], [tokenizer.vocab_size + 1]\n",
    "\n",
    "# 시작 토큰과 종료 토큰을 고려하여 단어 집합의 크기를 + 2\n",
    "VOCAB_SIZE = tokenizer.vocab_size + 2"
   ]
  },
  {
   "cell_type": "code",
   "execution_count": 11,
   "id": "4701b131",
   "metadata": {},
   "outputs": [
    {
     "name": "stdout",
     "output_type": "stream",
     "text": [
      "시작 토큰 번호 : [8178]\n",
      "종료 토큰 번호 : [8179]\n",
      "단어 집합의 크기 : 8180\n"
     ]
    }
   ],
   "source": [
    "print('시작 토큰 번호 :', START_TOKEN)\n",
    "print('종료 토큰 번호 :', END_TOKEN)\n",
    "print('단어 집합의 크기 :', VOCAB_SIZE)"
   ]
  },
  {
   "cell_type": "markdown",
   "id": "b66411fe",
   "metadata": {},
   "source": [
    "### 3. 정수 인코딩과 패딩"
   ]
  },
  {
   "cell_type": "code",
   "execution_count": 12,
   "id": "ce893a98",
   "metadata": {},
   "outputs": [],
   "source": [
    "# 최대 길이를 40으로 정의\n",
    "MAX_LENGTH = 40\n",
    "\n",
    "# 토큰화 / 정수 인코딩 / 시작 토큰과 종료 토큰 추가 / 패딩\n",
    "def tokenize_and_filter(inputs, outputs):\n",
    "    tokenized_inputs, tokenized_outputs = [], []\n",
    "\n",
    "    for (sentence1, sentence2) in zip(inputs, outputs):\n",
    "    # encode(토큰화 + 정수 인코딩), 시작 토큰과 종료 토큰 추가\n",
    "        sentence1 = START_TOKEN + tokenizer.encode(sentence1) + END_TOKEN\n",
    "        sentence2 = START_TOKEN + tokenizer.encode(sentence2) + END_TOKEN\n",
    "\n",
    "        tokenized_inputs.append(sentence1)\n",
    "        tokenized_outputs.append(sentence2)\n",
    "\n",
    "    # 패딩\n",
    "    tokenized_inputs = tf.keras.preprocessing.sequence.pad_sequences(\n",
    "      tokenized_inputs, maxlen=MAX_LENGTH, padding='post')\n",
    "    tokenized_outputs = tf.keras.preprocessing.sequence.pad_sequences(\n",
    "      tokenized_outputs, maxlen=MAX_LENGTH, padding='post')\n",
    "\n",
    "    return tokenized_inputs, tokenized_outputs"
   ]
  },
  {
   "cell_type": "code",
   "execution_count": 13,
   "id": "a39b0344",
   "metadata": {},
   "outputs": [],
   "source": [
    "questions, answers = tokenize_and_filter(questions, answers)"
   ]
  },
  {
   "cell_type": "code",
   "execution_count": 14,
   "id": "c722eabd",
   "metadata": {},
   "outputs": [
    {
     "name": "stdout",
     "output_type": "stream",
     "text": [
      "질문 데이터의 크기(shape) : (11823, 40)\n",
      "답변 데이터의 크기(shape) : (11823, 40)\n"
     ]
    }
   ],
   "source": [
    "print('질문 데이터의 크기(shape) :', questions.shape)\n",
    "print('답변 데이터의 크기(shape) :', answers.shape)"
   ]
  },
  {
   "cell_type": "markdown",
   "id": "204c6d06",
   "metadata": {},
   "source": [
    "### 4. 인코더와 디코더의 입력, 그리고 레이블 만들기."
   ]
  },
  {
   "cell_type": "markdown",
   "id": "7675e34f",
   "metadata": {},
   "source": [
    "tf.data.Dataset을 사용하여 데이터를 배치 단위로 불러올 수 있습니다."
   ]
  },
  {
   "cell_type": "code",
   "execution_count": 43,
   "id": "1be4cc41",
   "metadata": {},
   "outputs": [],
   "source": [
    "# 텐서플로우 dataset을 이용하여 셔플(shuffle)을 수행하되, \n",
    "# 배치 크기로 데이터를 묶는다.\n",
    "# 또한 이 과정에서 교사 강요(teacher forcing)을 사용하기 위해서 \n",
    "# 디코더의 입력과 실제값 시퀀스를 구성한다.\n",
    "BATCH_SIZE = 64\n",
    "BUFFER_SIZE = 20000\n",
    "\n",
    "# 디코더의 실제값 시퀀스에서는 시작 토큰을 제거해야 한다.\n",
    "dataset = tf.data.Dataset.from_tensor_slices((\n",
    "    {\n",
    "        'inputs': questions,\n",
    "        'dec_inputs': answers[:, :-1] # 디코더의 입력. 마지막 패딩 토큰이 제거된다.\n",
    "    },\n",
    "    {\n",
    "        'outputs': answers[:, 1:]  # 맨 처음 토큰이 제거된다. 다시 말해 시작 토큰이 제거된다.\n",
    "    },\n",
    "))\n",
    "\n",
    "dataset = dataset.cache()\n",
    "dataset = dataset.shuffle(BUFFER_SIZE)\n",
    "dataset = dataset.batch(BATCH_SIZE)\n",
    "dataset = dataset.prefetch(tf.data.experimental.AUTOTUNE)"
   ]
  },
  {
   "cell_type": "markdown",
   "id": "f4a7ff15",
   "metadata": {},
   "source": [
    "### 5. 트랜스포머 만들기"
   ]
  },
  {
   "cell_type": "code",
   "execution_count": 32,
   "id": "7db43673",
   "metadata": {},
   "outputs": [],
   "source": [
    "def scaled_dot_product_attention(query, key, value, mask):\n",
    "    # query 크기 : (batch_size, num_heads, query의 문장 길이, d_model/num_heads)\n",
    "    # key 크기 : (batch_size, num_heads, key의 문장 길이, d_model/num_heads)\n",
    "    # value 크기 : (batch_size, num_heads, value의 문장 길이, d_model/num_heads)\n",
    "    # padding_mask : (batch_size, 1, 1, key의 문장 길이)\n",
    "\n",
    "    # Q와 K의 곱. 어텐션 스코어 행렬.\n",
    "    matmul_qk = tf.matmul(query, key, transpose_b=True)\n",
    "\n",
    "    # 스케일링\n",
    "    # dk의 루트값으로 나눠준다.\n",
    "    depth = tf.cast(tf.shape(key)[-1], tf.float32)\n",
    "    logits = matmul_qk / tf.math.sqrt(depth)\n",
    "\n",
    "    # 마스킹. 어텐션 스코어 행렬의 마스킹 할 위치에 매우 작은 음수값을 넣는다.\n",
    "    # 매우 작은 값이므로 소프트맥스 함수를 지나면 행렬의 해당 위치의 값은 0이 된다.\n",
    "    if mask is not None:\n",
    "        logits += (mask * -1e9)\n",
    "\n",
    "    # 소프트맥스 함수는 마지막 차원인 key의 문장 길이 방향으로 수행된다.\n",
    "    # attention weight : (batch_size, num_heads, query의 문장 길이, key의 문장 길이)\n",
    "    attention_weights = tf.nn.softmax(logits, axis=-1)\n",
    "\n",
    "    # output : (batch_size, num_heads, query의 문장 길이, d_model/num_heads)\n",
    "    output = tf.matmul(attention_weights, value)\n",
    "\n",
    "    return output, attention_weights"
   ]
  },
  {
   "cell_type": "code",
   "execution_count": 26,
   "id": "9b3113f6",
   "metadata": {},
   "outputs": [],
   "source": [
    "class PositionalEncoding(tf.keras.layers.Layer):\n",
    "    def __init__(self, position, d_model):\n",
    "        super(PositionalEncoding, self).__init__()\n",
    "        self.pos_encoding = self.positional_encoding(position, d_model)\n",
    "\n",
    "    def get_angles(self, position, i, d_model):\n",
    "        angles = 1 / tf.pow(10000, (2 * (i // 2)) / tf.cast(d_model, tf.float32))\n",
    "        return position * angles\n",
    "\n",
    "    def positional_encoding(self, position, d_model):\n",
    "        angle_rads = self.get_angles(\n",
    "            position=tf.range(position, dtype=tf.float32)[:, tf.newaxis],\n",
    "            i=tf.range(d_model, dtype=tf.float32)[tf.newaxis, :],\n",
    "            d_model=d_model)\n",
    "\n",
    "        # 배열의 짝수 인덱스(2i)에는 사인 함수 적용\n",
    "        sines = tf.math.sin(angle_rads[:, 0::2])\n",
    "\n",
    "        # 배열의 홀수 인덱스(2i+1)에는 코사인 함수 적용\n",
    "        cosines = tf.math.cos(angle_rads[:, 1::2])\n",
    "\n",
    "        angle_rads = np.zeros(angle_rads.shape)\n",
    "        angle_rads[:, 0::2] = sines\n",
    "        angle_rads[:, 1::2] = cosines\n",
    "        pos_encoding = tf.constant(angle_rads)\n",
    "        pos_encoding = pos_encoding[tf.newaxis, ...]\n",
    "\n",
    "        print(pos_encoding.shape)\n",
    "        return tf.cast(pos_encoding, tf.float32)\n",
    "\n",
    "    def call(self, inputs):\n",
    "        return inputs + self.pos_encoding[:, :tf.shape(inputs)[1], :]"
   ]
  },
  {
   "cell_type": "code",
   "execution_count": 30,
   "id": "e71716c3",
   "metadata": {},
   "outputs": [],
   "source": [
    "class MultiHeadAttention(tf.keras.layers.Layer):\n",
    "    def __init__(self, d_model, num_heads, name=\"multi_head_attention\"):\n",
    "        super(MultiHeadAttention, self).__init__(name=name)\n",
    "        self.num_heads = num_heads\n",
    "        self.d_model = d_model\n",
    "\n",
    "        assert d_model % self.num_heads == 0\n",
    "\n",
    "        # d_model을 num_heads로 나눈 값.\n",
    "        # 논문 기준 : 64\n",
    "        self.depth = d_model // self.num_heads\n",
    "\n",
    "        # WQ, WK, WV에 해당하는 밀집층 정의\n",
    "        self.query_dense = tf.keras.layers.Dense(units=d_model)\n",
    "        self.key_dense = tf.keras.layers.Dense(units=d_model)\n",
    "        self.value_dense = tf.keras.layers.Dense(units=d_model)\n",
    "\n",
    "        # WO에 해당하는 밀집층 정의\n",
    "        self.dense = tf.keras.layers.Dense(units=d_model)\n",
    "\n",
    "    # num_heads 개수만큼 q, k, v를 split하는 함수\n",
    "    def split_heads(self, inputs, batch_size):\n",
    "        inputs = tf.reshape(\n",
    "            inputs, shape=(batch_size, -1, self.num_heads, self.depth))\n",
    "        return tf.transpose(inputs, perm=[0, 2, 1, 3])\n",
    "\n",
    "    def call(self, inputs):\n",
    "        query, key, value, mask = inputs['query'], inputs['key'], inputs[\n",
    "            'value'], inputs['mask']\n",
    "        batch_size = tf.shape(query)[0]\n",
    "\n",
    "        # 1. WQ, WK, WV에 해당하는 밀집층 지나기\n",
    "        # q : (batch_size, query의 문장 길이, d_model)\n",
    "        # k : (batch_size, key의 문장 길이, d_model)\n",
    "        # v : (batch_size, value의 문장 길이, d_model)\n",
    "        # 참고) 인코더(k, v)-디코더(q) 어텐션에서는 query 길이와 key, value의 길이는 다를 수 있다.\n",
    "        query = self.query_dense(query)\n",
    "        key = self.key_dense(key)\n",
    "        value = self.value_dense(value)\n",
    "\n",
    "        # 2. 헤드 나누기\n",
    "        # q : (batch_size, num_heads, query의 문장 길이, d_model/num_heads)\n",
    "        # k : (batch_size, num_heads, key의 문장 길이, d_model/num_heads)\n",
    "        # v : (batch_size, num_heads, value의 문장 길이, d_model/num_heads)\n",
    "        query = self.split_heads(query, batch_size)\n",
    "        key = self.split_heads(key, batch_size)\n",
    "        value = self.split_heads(value, batch_size)\n",
    "\n",
    "        # 3. 스케일드 닷 프로덕트 어텐션. 앞서 구현한 함수 사용.\n",
    "        # (batch_size, num_heads, query의 문장 길이, d_model/num_heads)\n",
    "        scaled_attention, _ = scaled_dot_product_attention(query, key, value, mask)\n",
    "        # (batch_size, query의 문장 길이, num_heads, d_model/num_heads)\n",
    "        scaled_attention = tf.transpose(scaled_attention, perm=[0, 2, 1, 3])\n",
    "\n",
    "        # 4. 헤드 연결(concatenate)하기\n",
    "        # (batch_size, query의 문장 길이, d_model)\n",
    "        concat_attention = tf.reshape(scaled_attention,\n",
    "                                      (batch_size, -1, self.d_model))\n",
    "\n",
    "        # 5. WO에 해당하는 밀집층 지나기\n",
    "        # (batch_size, query의 문장 길이, d_model)\n",
    "        outputs = self.dense(concat_attention)\n",
    "        \n",
    "        return outputs"
   ]
  },
  {
   "cell_type": "code",
   "execution_count": 19,
   "id": "962fa614",
   "metadata": {},
   "outputs": [],
   "source": [
    "def create_padding_mask(x):\n",
    "    mask = tf.cast(tf.math.equal(x, 0), tf.float32)\n",
    "    # (batch_size, 1, 1, key의 문장 길이)\n",
    "    return mask[:, tf.newaxis, tf.newaxis, :]"
   ]
  },
  {
   "cell_type": "code",
   "execution_count": 22,
   "id": "3d52fe7f",
   "metadata": {},
   "outputs": [],
   "source": [
    "# 디코더의 첫번째 서브층(sublayer)에서 미래 토큰을 Mask하는 함수\n",
    "def create_look_ahead_mask(x):\n",
    "    seq_len = tf.shape(x)[1]\n",
    "    look_ahead_mask = 1 - tf.linalg.band_part(tf.ones((seq_len, seq_len)), -1, 0)\n",
    "    padding_mask = create_padding_mask(x) # 패딩 마스크도 포함\n",
    "    return tf.maximum(look_ahead_mask, padding_mask)"
   ]
  },
  {
   "cell_type": "code",
   "execution_count": 28,
   "id": "2a61a437",
   "metadata": {},
   "outputs": [],
   "source": [
    "def encoder_layer(dff, d_model, num_heads, dropout, name=\"encoder_layer\"):\n",
    "    inputs = tf.keras.Input(shape=(None, d_model), name=\"inputs\")\n",
    "\n",
    "    # 인코더는 패딩 마스크 사용\n",
    "    padding_mask = tf.keras.Input(shape=(1, 1, None), name=\"padding_mask\")\n",
    "\n",
    "    # 멀티-헤드 어텐션 (첫번째 서브층 / 셀프 어텐션)\n",
    "    attention = MultiHeadAttention(\n",
    "      d_model, num_heads, name=\"attention\")({\n",
    "          'query': inputs, 'key': inputs, 'value': inputs, # Q = K = V\n",
    "          'mask': padding_mask # 패딩 마스크 사용\n",
    "      })\n",
    "\n",
    "    # 드롭아웃 + 잔차 연결과 층 정규화\n",
    "    attention = tf.keras.layers.Dropout(rate=dropout)(attention)\n",
    "    attention = tf.keras.layers.LayerNormalization(\n",
    "      epsilon=1e-6)(inputs + attention)\n",
    "\n",
    "    # 포지션 와이즈 피드 포워드 신경망 (두번째 서브층)\n",
    "    outputs = tf.keras.layers.Dense(units=dff, activation='relu')(attention)\n",
    "    outputs = tf.keras.layers.Dense(units=d_model)(outputs)\n",
    "\n",
    "    # 드롭아웃 + 잔차 연결과 층 정규화\n",
    "    outputs = tf.keras.layers.Dropout(rate=dropout)(outputs)\n",
    "    outputs = tf.keras.layers.LayerNormalization(\n",
    "      epsilon=1e-6)(attention + outputs)\n",
    "\n",
    "    return tf.keras.Model(\n",
    "      inputs=[inputs, padding_mask], outputs=outputs, name=name)"
   ]
  },
  {
   "cell_type": "code",
   "execution_count": 24,
   "id": "3b2b1706",
   "metadata": {},
   "outputs": [],
   "source": [
    "def encoder(vocab_size, num_layers, dff,\n",
    "            d_model, num_heads, dropout,\n",
    "            name=\"encoder\"):\n",
    "    inputs = tf.keras.Input(shape=(None,), name=\"inputs\")\n",
    "\n",
    "    # 인코더는 패딩 마스크 사용\n",
    "    padding_mask = tf.keras.Input(shape=(1, 1, None), name=\"padding_mask\")\n",
    "\n",
    "    # 포지셔널 인코딩 + 드롭아웃\n",
    "    embeddings = tf.keras.layers.Embedding(vocab_size, d_model)(inputs)\n",
    "    embeddings *= tf.math.sqrt(tf.cast(d_model, tf.float32))\n",
    "    embeddings = PositionalEncoding(vocab_size, d_model)(embeddings)\n",
    "    outputs = tf.keras.layers.Dropout(rate=dropout)(embeddings)\n",
    "\n",
    "    # 인코더를 num_layers개 쌓기\n",
    "    for i in range(num_layers):\n",
    "        outputs = encoder_layer(dff=dff, d_model=d_model, num_heads=num_heads,\n",
    "            dropout=dropout, name=\"encoder_layer_{}\".format(i),\n",
    "        )([outputs, padding_mask])\n",
    "\n",
    "    return tf.keras.Model(\n",
    "      inputs=[inputs, padding_mask], outputs=outputs, name=name)"
   ]
  },
  {
   "cell_type": "code",
   "execution_count": 34,
   "id": "e5118372",
   "metadata": {},
   "outputs": [],
   "source": [
    "def decoder_layer(dff, d_model, num_heads, dropout, name=\"decoder_layer\"):\n",
    "    inputs = tf.keras.Input(shape=(None, d_model), name=\"inputs\")\n",
    "    enc_outputs = tf.keras.Input(shape=(None, d_model), name=\"encoder_outputs\")\n",
    "\n",
    "    # 룩어헤드 마스크(첫번째 서브층)\n",
    "    look_ahead_mask = tf.keras.Input(\n",
    "      shape=(1, None, None), name=\"look_ahead_mask\")\n",
    "\n",
    "    # 패딩 마스크(두번째 서브층)\n",
    "    padding_mask = tf.keras.Input(shape=(1, 1, None), name='padding_mask')\n",
    "\n",
    "    # 멀티-헤드 어텐션 (첫번째 서브층 / 마스크드 셀프 어텐션)\n",
    "    attention1 = MultiHeadAttention(\n",
    "      d_model, num_heads, name=\"attention_1\")(inputs={\n",
    "          'query': inputs, 'key': inputs, 'value': inputs, # Q = K = V\n",
    "          'mask': look_ahead_mask # 룩어헤드 마스크\n",
    "      })\n",
    "\n",
    "    # 잔차 연결과 층 정규화\n",
    "    attention1 = tf.keras.layers.LayerNormalization(\n",
    "      epsilon=1e-6)(attention1 + inputs)\n",
    "\n",
    "    # 멀티-헤드 어텐션 (두번째 서브층 / 디코더-인코더 어텐션)\n",
    "    attention2 = MultiHeadAttention(\n",
    "      d_model, num_heads, name=\"attention_2\")(inputs={\n",
    "          'query': attention1, 'key': enc_outputs, 'value': enc_outputs, # Q != K = V\n",
    "          'mask': padding_mask # 패딩 마스크\n",
    "      })\n",
    "\n",
    "    # 드롭아웃 + 잔차 연결과 층 정규화\n",
    "    attention2 = tf.keras.layers.Dropout(rate=dropout)(attention2)\n",
    "    attention2 = tf.keras.layers.LayerNormalization(\n",
    "      epsilon=1e-6)(attention2 + attention1)\n",
    "\n",
    "    # 포지션 와이즈 피드 포워드 신경망 (세번째 서브층)\n",
    "    outputs = tf.keras.layers.Dense(units=dff, activation='relu')(attention2)\n",
    "    outputs = tf.keras.layers.Dense(units=d_model)(outputs)\n",
    "\n",
    "    # 드롭아웃 + 잔차 연결과 층 정규화\n",
    "    outputs = tf.keras.layers.Dropout(rate=dropout)(outputs)\n",
    "    outputs = tf.keras.layers.LayerNormalization(\n",
    "      epsilon=1e-6)(outputs + attention2)\n",
    "\n",
    "    return tf.keras.Model(\n",
    "      inputs=[inputs, enc_outputs, look_ahead_mask, padding_mask],\n",
    "      outputs=outputs,\n",
    "      name=name)"
   ]
  },
  {
   "cell_type": "code",
   "execution_count": 35,
   "id": "de77c26c",
   "metadata": {},
   "outputs": [],
   "source": [
    "def decoder(vocab_size, num_layers, dff,\n",
    "            d_model, num_heads, dropout,\n",
    "            name='decoder'):\n",
    "    inputs = tf.keras.Input(shape=(None,), name='inputs')\n",
    "    enc_outputs = tf.keras.Input(shape=(None, d_model), name='encoder_outputs')\n",
    "\n",
    "    # 디코더는 룩어헤드 마스크(첫번째 서브층)와 패딩 마스크(두번째 서브층) 둘 다 사용.\n",
    "    look_ahead_mask = tf.keras.Input(\n",
    "      shape=(1, None, None), name='look_ahead_mask')\n",
    "    padding_mask = tf.keras.Input(shape=(1, 1, None), name='padding_mask')\n",
    "\n",
    "    # 포지셔널 인코딩 + 드롭아웃\n",
    "    embeddings = tf.keras.layers.Embedding(vocab_size, d_model)(inputs)\n",
    "    embeddings *= tf.math.sqrt(tf.cast(d_model, tf.float32))\n",
    "    embeddings = PositionalEncoding(vocab_size, d_model)(embeddings)\n",
    "    outputs = tf.keras.layers.Dropout(rate=dropout)(embeddings)\n",
    "\n",
    "    # 디코더를 num_layers개 쌓기\n",
    "    for i in range(num_layers):\n",
    "        outputs = decoder_layer(dff=dff, d_model=d_model, num_heads=num_heads,\n",
    "            dropout=dropout, name='decoder_layer_{}'.format(i),\n",
    "        )(inputs=[outputs, enc_outputs, look_ahead_mask, padding_mask])\n",
    "\n",
    "    return tf.keras.Model(\n",
    "      inputs=[inputs, enc_outputs, look_ahead_mask, padding_mask],\n",
    "      outputs=outputs,\n",
    "      name=name)"
   ]
  },
  {
   "cell_type": "code",
   "execution_count": 20,
   "id": "3ed69ac1",
   "metadata": {},
   "outputs": [],
   "source": [
    "def transformer(vocab_size, num_layers, dff,\n",
    "                d_model, num_heads, dropout,\n",
    "                name=\"transformer\"):\n",
    "\n",
    "    # 인코더의 입력\n",
    "    inputs = tf.keras.Input(shape=(None,), name=\"inputs\")\n",
    "\n",
    "    # 디코더의 입력\n",
    "    dec_inputs = tf.keras.Input(shape=(None,), name=\"dec_inputs\")\n",
    "\n",
    "    # 인코더의 패딩 마스크\n",
    "    enc_padding_mask = tf.keras.layers.Lambda(\n",
    "      create_padding_mask, output_shape=(1, 1, None),\n",
    "      name='enc_padding_mask')(inputs)\n",
    "\n",
    "    # 디코더의 룩어헤드 마스크(첫번째 서브층)\n",
    "    look_ahead_mask = tf.keras.layers.Lambda(\n",
    "      create_look_ahead_mask, output_shape=(1, None, None),\n",
    "      name='look_ahead_mask')(dec_inputs)\n",
    "\n",
    "    # 디코더의 패딩 마스크(두번째 서브층)\n",
    "    dec_padding_mask = tf.keras.layers.Lambda(\n",
    "      create_padding_mask, output_shape=(1, 1, None),\n",
    "      name='dec_padding_mask')(inputs)\n",
    "\n",
    "    # 인코더의 출력은 enc_outputs. 디코더로 전달된다.\n",
    "    enc_outputs = encoder(vocab_size=vocab_size, num_layers=num_layers, dff=dff,\n",
    "      d_model=d_model, num_heads=num_heads, dropout=dropout,\n",
    "    )(inputs=[inputs, enc_padding_mask]) # 인코더의 입력은 입력 문장과 패딩 마스크\n",
    "\n",
    "    # 디코더의 출력은 dec_outputs. 출력층으로 전달된다.\n",
    "    dec_outputs = decoder(vocab_size=vocab_size, num_layers=num_layers, dff=dff,\n",
    "      d_model=d_model, num_heads=num_heads, dropout=dropout,\n",
    "    )(inputs=[dec_inputs, enc_outputs, look_ahead_mask, dec_padding_mask])\n",
    "\n",
    "    # 다음 단어 예측을 위한 출력층\n",
    "    outputs = tf.keras.layers.Dense(units=vocab_size, name=\"outputs\")(dec_outputs)\n",
    "\n",
    "    return tf.keras.Model(inputs=[inputs, dec_inputs], outputs=outputs, name=name)"
   ]
  },
  {
   "cell_type": "code",
   "execution_count": 40,
   "id": "7cb74fcd",
   "metadata": {},
   "outputs": [],
   "source": [
    "def loss_function(y_true, y_pred):\n",
    "    y_true = tf.reshape(y_true, shape=(-1, MAX_LENGTH - 1))\n",
    "\n",
    "    loss = tf.keras.losses.SparseCategoricalCrossentropy(\n",
    "      from_logits=True, reduction='none')(y_true, y_pred)\n",
    "\n",
    "    mask = tf.cast(tf.not_equal(y_true, 0), tf.float32)\n",
    "    loss = tf.multiply(loss, mask)\n",
    "\n",
    "    return tf.reduce_mean(loss)"
   ]
  },
  {
   "cell_type": "code",
   "execution_count": 38,
   "id": "2d6a6a3f",
   "metadata": {},
   "outputs": [],
   "source": [
    "class CustomSchedule(tf.keras.optimizers.schedules.LearningRateSchedule):\n",
    "    def __init__(self, d_model, warmup_steps=4000):\n",
    "        super(CustomSchedule, self).__init__()\n",
    "        self.d_model = d_model\n",
    "        self.d_model = tf.cast(self.d_model, tf.float32)\n",
    "        self.warmup_steps = warmup_steps\n",
    "\n",
    "    def __call__(self, step):\n",
    "        arg1 = tf.math.rsqrt(step)\n",
    "        arg2 = step * (self.warmup_steps**-1.5)\n",
    "\n",
    "        return tf.math.rsqrt(self.d_model) * tf.math.minimum(arg1, arg2)"
   ]
  },
  {
   "cell_type": "code",
   "execution_count": 36,
   "id": "d0990272",
   "metadata": {},
   "outputs": [
    {
     "name": "stdout",
     "output_type": "stream",
     "text": [
      "(1, 8180, 256)\n",
      "(1, 8180, 256)\n"
     ]
    }
   ],
   "source": [
    "tf.keras.backend.clear_session()\n",
    "\n",
    "# 하이퍼파라미터\n",
    "D_MODEL = 256\n",
    "NUM_LAYERS = 2\n",
    "NUM_HEADS = 8\n",
    "DFF = 512\n",
    "DROPOUT = 0.1\n",
    "\n",
    "model = transformer(\n",
    "    vocab_size=VOCAB_SIZE,\n",
    "    num_layers=NUM_LAYERS,\n",
    "    dff=DFF,\n",
    "    d_model=D_MODEL,\n",
    "    num_heads=NUM_HEADS,\n",
    "    dropout=DROPOUT)"
   ]
  },
  {
   "cell_type": "code",
   "execution_count": 41,
   "id": "b36ab035",
   "metadata": {},
   "outputs": [],
   "source": [
    "learning_rate = CustomSchedule(D_MODEL)\n",
    "\n",
    "optimizer = tf.keras.optimizers.Adam(\n",
    "    learning_rate, beta_1=0.9, beta_2=0.98, epsilon=1e-9)\n",
    "\n",
    "def accuracy(y_true, y_pred):\n",
    "    # 레이블의 크기는 (batch_size, MAX_LENGTH - 1)\n",
    "    y_true = tf.reshape(y_true, shape=(-1, MAX_LENGTH - 1))\n",
    "    return tf.keras.metrics.sparse_categorical_accuracy(y_true, y_pred)\n",
    "\n",
    "model.compile(optimizer=optimizer, loss=loss_function, metrics=[accuracy])"
   ]
  },
  {
   "cell_type": "code",
   "execution_count": 44,
   "id": "3f378310",
   "metadata": {},
   "outputs": [
    {
     "name": "stdout",
     "output_type": "stream",
     "text": [
      "Epoch 1/50\n",
      "185/185 [==============================] - 24s 96ms/step - loss: 1.4480 - accuracy: 0.0286\n",
      "Epoch 2/50\n",
      "185/185 [==============================] - 17s 94ms/step - loss: 1.1750 - accuracy: 0.0494: 18s - loss: 1.3438 - accuracy: 0. -  - ETA: 12s - loss: 1.2808 - accuracy: - ETA: 11s - loss: 1.275 - ETA: 9s - loss: 1.2624 - a - ETA: 7s - loss: 1.2308 - accuracy: 0.04 - ETA: 7s - loss: - ETA: 5s - loss: 1.2175 - accuracy:  - ETA: 5s - l - ETA: 4s - loss: 1.203 - ETA: 3s - loss: 1.1973 - accuracy: 0. - ETA: 3s - loss: 1.1954  - ETA: 2s - loss: - ETA: 0s - loss: 1.1818 - accu - ETA: 0s - loss: 1.1783 - accuracy: 0. - ETA: 0s - loss: 1.1769 - accuracy: \n",
      "Epoch 3/50\n",
      "185/185 [==============================] - 17s 94ms/step - loss: 1.0066 - accuracy: 0.0504: 17s - loss: 1.05 - ETA: 15s - loss: 1.0 - ETA: 5s - loss:\n",
      "Epoch 4/50\n",
      "185/185 [==============================] - 18s 96ms/step - loss: 0.9291 - accuracy: 0.0543: 15s - loss: 0.9454 - accuracy: - ETA: 14s - loss: 0.9465 - accuracy:  - ETA: 14s - los - ETA: 11s - loss: 0.9471 - accur - ETA: 10s - loss: 0.9442 - accuracy - ETA: 9s - loss: 0.9427 - accuracy: 0. - ETA: 9s - loss: 0.9440 - accu - ETA: 9s - loss: 0.9411 - accuracy: 0. - ETA: 8s - loss: 0.9397 - accuracy: 0. - ETA: 8s - loss: - - ETA - ETA: 1s - los - ETA: 0s - loss: 0.9303 - accuracy\n",
      "Epoch 5/50\n",
      "185/185 [==============================] - 18s 96ms/step - loss: 0.8697 - accuracy: 0.05771s - loss: 0.8707 - ac - ETA: 0s - loss: 0.8703 - accuracy - ETA: 0s - loss: 0.8697 - accuracy: 0.05\n",
      "Epoch 6/50\n",
      "185/185 [==============================] - 18s 95ms/step - loss: 0.8086 - accuracy: 0.0622: 16s - loss: 0.7895 - accur - ETA: 15s - loss: 0.8036 - acc - ETA: 13s - loss: 0.8055 - acc - ETA: 12s - loss: 0.8106 - accuracy: - ETA: 12s - loss: 0.8120 - accuracy: 0.06 - ETA: 11s - loss: 0.8126 - accuracy: - ETA: 11s - loss: 0.8132 - accuracy: 0.06 - ETA: 11s - loss: 0 - ETA: 0s - loss: 0.8092 - accuracy - ETA: 0s - loss: 0.8084 - accuracy - ETA: 0s - loss: 0.8087 - accuracy: \n",
      "Epoch 7/50\n",
      "185/185 [==============================] - 18s 95ms/step - loss: 0.7414 - accuracy: 0.0683: 16s - loss: 0.7616 - accuracy: 0.0 - ETA: 16s - loss: 0.7514 - accuracy:  - ETA: 16s - loss: 0.7640 - accuracy: 0. - ETA: 15s - loss: 0.76 - ETA: 13s - loss: 0.7595 - accuracy: - ETA: 12s - loss: 0.7574 - ac - ETA: 11s - loss: 0.7534 - accuracy: 0.067 - ETA: 11s - loss: 0.7525 - accuracy: 0 - ETA: 10s - loss: 0.7523 - accuracy:  - ETA: 10s - loss: 0.7505 - accuracy: 0.067 - ETA: 10s - loss: 0.7 - - ETA: 0s - loss: 0.742\n",
      "Epoch 8/50\n",
      "185/185 [==============================] - 18s 96ms/step - loss: 0.6670 - accuracy: 0.0764: 14s - loss: 0.6783 - ETA: 12s - loss: 0 - ETA: 10s - loss: 0.673 - ETA: 7s - loss: 0.668\n",
      "Epoch 9/50\n",
      "185/185 [==============================] - 18s 96ms/step - loss: 0.5886 - accuracy: 0.0848\n",
      "Epoch 10/50\n",
      "185/185 [==============================] - 18s 95ms/step - loss: 0.5073 - accuracy: 0.0941: 17s - loss: 0 - ETA: 14s - loss: 0.4921 - accur - ETA: 13s - loss: 0.4961 - accuracy: 0.095 - ETA: 13s - loss: 0.4960 -  - ETA: 4s - loss: 0.5071 - accuracy:  - ETA: 4s - - ETA: 2s - loss: - ETA: 1s - loss: 0.5072 -  - ETA: 0s - loss: 0.507\n",
      "Epoch 11/50\n",
      "185/185 [==============================] - 18s 95ms/step - loss: 0.4253 - accuracy: 0.1043: 15s - loss: 0.4287 - accuracy: 0 - ETA - ETA: 1s - loss: 0.4270 -  - ETA: 1s - loss:\n",
      "Epoch 12/50\n",
      "185/185 [==============================] - 17s 94ms/step - loss: 0.3452 - accuracy: 0.1149: 12s - loss: 0.3473 - accuracy: 0.1 - ETA: 12s - loss: 0.3472 - accuracy: 0 - ETA: 11s - loss: 0.3465 - accuracy: 0.116 - ETA: 11s - loss: 0.3469 - accuracy - ETA: 10s - loss: 0.3467 - accuracy: 0.1 - ETA: 3s - ETA: 2s - los - ETA: 1s - loss: 0.3445  - ETA: 0s - loss: 0.3450 - accuracy: \n",
      "Epoch 13/50\n",
      "185/185 [==============================] - 18s 96ms/step - loss: 0.2717 - accuracy: 0.1256: 16s - loss: 0.2884 - accuracy: 0.128 - ETA: 16s - loss: 0.2814 - accuracy - ETA: 16s - loss: 0.2742 - accuracy: 0.129 - ETA: 16s - loss: 0.2758 - accurac - ETA: 15s - loss: 0.2609 - accu - ETA: 14s - loss: 0.261 - ETA: 12s - loss: 0.2614 - accuracy: 0.127 - ETA: 12s - loss: 0.2613 - accuracy: 0.1 - ETA: 11s - loss: 0.2624 - accuracy: 0.12 - ETA: 11s - loss: 0.2633 - accuracy: - ETA: 11s - loss: - ETA: 9s - loss: 0.2657 -  - ETA: 8s - loss: 0.2657 - accura - ETA: 8s - loss: 0.2655 - ac - ETA: 7s - loss: 0.265 - ETA: 6s - loss: 0.2658  - ETA: 5s\n",
      "Epoch 14/50\n",
      "185/185 [==============================] - 19s 101ms/step - loss: 0.2071 - accuracy: 0.1358\n",
      "Epoch 15/50\n",
      "185/185 [==============================] - 18s 96ms/step - loss: 0.1534 - accuracy: 0.1451: 16 - ETA: 13s - loss: 0.1395 - accuracy: 0 - ETA: 13s - loss: 0.1403 - accuracy: 0.149 - ETA: 12s - loss: 0.1 - ETA: 8s - loss: 0.1 - ETA: 6s - loss: 0.1472 - ac - E - E - ETA: 2s - loss: 0.1501 - accuracy\n",
      "Epoch 16/50\n",
      "185/185 [==============================] - 18s 95ms/step - loss: 0.1108 - accuracy: 0.1526: 10s  - ETA: 8s - loss: 0.1011 - accuracy:  - ETA: 8s - loss: 0.1014 - accura - ETA: 8s - loss: 0.1017 - accuracy:  - ETA: 7s - loss: 0.1020 - accuracy: 0. - ETA: 7s - loss: 0.1023 - accuracy: 0. - ETA:  - ETA: 1s - loss: 0.1091 - accuracy: 0.15 - ETA: 1s - loss: 0 - ETA: 0s - loss: 0.1105 - accuracy: 0.15 - ETA: 0s - loss: 0.1106 - accuracy\n",
      "Epoch 17/50\n",
      "185/185 [==============================] - 17s 94ms/step - loss: 0.0804 - accuracy: 0.1586: 16s - loss: 0.0687 - accuracy: 0.161 - ETA: 16s - loss: 0.0684 - acc - ETA: 14s - l - ETA: 11s - loss: 0.0688 - accuracy: 0 - ETA: 11s - loss: 0.0688 - accuracy: - ETA: 10 - ETA: 8s - l - ETA: 7s - loss: 0 - ETA: 4s - loss: 0.0767 - ac - ETA: 3s - los - ETA: 2s - loss: 0.0785 - accuracy: 0.15 - ETA: 1s - loss: 0.0786 - accuracy:  - ETA: 1s - loss: 0.0790 - accuracy: 0. - ETA: 1s - loss: 0.0792 -  - ETA: 0s - loss: 0.0797 \n",
      "Epoch 18/50\n",
      "185/185 [==============================] - 18s 97ms/step - loss: 0.0623 - accuracy: 0.1618: 16s - loss: 0.0511 -  - ETA: 4s - loss: 0.0584 - accura - ETA: 3s -\n",
      "Epoch 19/50\n",
      "185/185 [==============================] - 17s 95ms/step - loss: 0.0522 - accuracy: 0.1633: 14s - loss: 0.0387 - accuracy:  - ETA: 13s - loss: 0.0390 - accur - ETA: 12s - loss: 0.0397 - accuracy: 0 - ETA: 12s - loss: 0.0399 - accur - ETA: 11s - loss: 0.0408 - accuracy: 0.164 - ETA: 11s - loss: 0.0409 - accuracy: 0.16 - - ETA: 8s - loss: 0.0431 - ac - ETA: 7s - loss: 0.0434 - accuracy:  - ETA: 7s - loss: 0.0437 - ac - ETA - ETA: 5s - loss: 0.0463 - accuracy:  - ETA: 4s - loss: 0.0467  - ETA: 3s - loss: 0.0476 - accuracy: 0.16 - ETA\n",
      "Epoch 20/50\n",
      "185/185 [==============================] - 18s 96ms/step - loss: 0.0457 - accuracy: 0.1644\n",
      "Epoch 21/50\n",
      "185/185 [==============================] - 18s 95ms/step - loss: 0.0432 - accuracy: 0.16484s - loss: 0.0393 - accura - ETA: 4s - loss: - ETA: 3s - loss: 0.0406 -  - ETA: 2s - loss: 0.0413 - accuracy: 0. - ETA: 2s - - ETA: 0s - loss: 0.0425 \n",
      "Epoch 22/50\n",
      "185/185 [==============================] - 18s 96ms/step - loss: 0.0408 - accuracy: 0.1651: 16s - loss: 0.0282 - accuracy: 0.166 - ETA: 16s - loss: 0.0285 - accuracy:  - ETA: 15s - loss: 0.0292 - accuracy: 0.1 - ETA: 15s - loss: 0.0295 - accuracy: 0.166 - ETA: 15s - loss: 0.0297 - accuracy: 0.166 -  - ETA: 8s - loss: 0.0340 - ac - ETA: 3s - ETA: 2s - loss: 0.0391 - accuracy:  - ETA: 1s - loss: - ETA: 0s - loss: 0.0405 - ac\n",
      "Epoch 23/50\n",
      "185/185 [==============================] - 18s 98ms/step - loss: 0.0372 - accuracy: 0.1659: 14s - loss: 0.03 - E - ETA: 5s - loss: 0.0355 - accuracy:  - ETA: 4s - loss: 0.0355 - accuracy:  - ETA: 4s - los - ETA: 3s - loss: 0.0\n",
      "Epoch 24/50\n",
      "185/185 [==============================] - 18s 96ms/step - loss: 0.0321 - accuracy: 0.1671: 17s - loss: 0.0250 - accura - ET - ETA: 11s - loss: 0.0270 - accuracy: - ETA: 11s - loss: 0.0275 - accuracy: 0.167 - ETA: 10s - loss: 0.0277 - accuracy: 0. - ETA: 10s - loss: 0.0280 - accuracy: 0.16 - ETA: 10s - loss: 0.0279 - accuracy: 0. - ETA: 10s - loss: 0.0278 - accurac - ETA: 9s - ETA: 5s - loss: 0.0296 - accu - ETA: 5s - loss: 0.029 - ETA: 2s - loss: 0.0312 - accura - ETA: \n",
      "Epoch 25/50\n"
     ]
    },
    {
     "name": "stdout",
     "output_type": "stream",
     "text": [
      "185/185 [==============================] - 18s 96ms/step - loss: 0.0288 - accuracy: 0.1678: 17s - loss: 0.0242 - accuracy: - ETA: 16s - loss: 0.0238 - accuracy: 0 - ETA: 15s - loss: 0.0234 - a - ETA: 14s - loss: 0.0247 - ac - ETA: 13s - loss: 0.0248 - accuracy: 0. - ETA: 12s - loss: 0 - ETA: 1s - los - ETA: 0s - loss: 0.0288 - accura\n",
      "Epoch 26/50\n",
      "185/185 [==============================] - 18s 96ms/step - loss: 0.0257 - accuracy: 0.16872s - los - ETA: 0s - loss: 0.025\n",
      "Epoch 27/50\n",
      "185/185 [==============================] - 17s 92ms/step - loss: 0.0229 - accuracy: 0.1694: 14s - lo - ETA: 11s - loss: 0.0195 - accura - ETA: 10s - loss: 0.0196 - accuracy: 0 - ETA: 9s - loss: 0.0197 - accuracy:  - ETA: 7s - loss: 0.0203 - accuracy:  - ETA: 7s - loss: 0\n",
      "Epoch 28/50\n",
      "185/185 [==============================] - 17s 91ms/step - loss: 0.0201 - accuracy: 0.17009s - loss: 0.0 - ETA: 8s - loss: 0.0183 - ac - ETA: 8s - loss: - ETA: 2s - loss: 0.0197 - accuracy: 0. - ETA:  - ETA: 1s - loss: 0.0199 - accuracy - ETA: 0s - loss: 0.0200 - accuracy:  - ETA: 0s - loss: 0.0200 - accu\n",
      "Epoch 29/50\n",
      "185/185 [==============================] - 17s 92ms/step - loss: 0.0188 - accuracy: 0.1705: 15s - loss: 0.0155 - acc - ETA: 14s - loss: 0.0155 - accu - ETA: 12s - loss: 0.0153 - accuracy: 0.172 - ETA: 12s - loss: 0.0153 - ac - ETA: 11s - loss: 0.0158 - ac - ETA: 10s - loss: 0. - ETA: 9s - loss: - ETA: 7s - loss: 0.0170 - accura - ETA: 7s - loss: 0.016 - ETA: 4s - loss: 0.0177 -  - ETA: 3s - loss: 0.0178 - accuracy: 0. - ETA: 3s\n",
      "Epoch 30/50\n",
      "185/185 [==============================] - 17s 92ms/step - loss: 0.0171 - accuracy: 0.1708: 14s - loss: 0.0142 - accuracy:  - ETA: 13s - loss: 0.0146 - accuracy:  - ETA: 13s - l - ETA: 10s - loss: 0.0143 - accuracy: 0 - ETA: 9s - loss: 0.0145 - accuracy: - ETA: 9s - loss: 0.0144 - accuracy: 0.17 - ETA: 9s - loss: 0.0144 - ac - ETA: 8s - loss: 0.0146 \n",
      "Epoch 31/50\n",
      "185/185 [==============================] - 17s 92ms/step - loss: 0.0158 - accuracy: 0.1711: 15s - loss: 0.0113 - accuracy: 0.1 - ETA: 8s - loss: 0.0136 - accuracy - ETA: 8s - loss: 0.0138 - accuracy: 0. - ETA: 8s - loss: 0.013 - ETA: 7s - loss: 0.0140 - accura - ETA: 6s - loss: 0.0141 - accuracy: 0.17 - ETA - ETA: 4s - - ETA: 3s - loss: 0 - ETA - ETA: 0s - loss: 0.0157 - ac\n",
      "Epoch 32/50\n",
      "185/185 [==============================] - 17s 92ms/step - loss: 0.0148 - accuracy: 0.1714: 17s - loss: 0.0133 - accur - ETA: 15s - loss: 0.0121 - accuracy: 0.1 - ETA: 15s - loss: 0.0123 - accuracy: 0.169 - ETA: 1 - ETA: 12s - loss: 0.0134 - accuracy: 0.171 - ETA: 11s - loss: 0.0135 - accura - ETA: 11s - loss: 0.0133 - accuracy:  - ETA: 10s - loss: 0.0133 - accuracy: 0. - ETA: 1 - ETA: 8s - loss: - ETA: 7s - loss: 0.0133 - accuracy: 0. - ETA: 6s - loss: 0.0133 - accuracy:  - ETA: 6s - loss: 0 - ETA: 1s - loss: 0.0146  - ETA: 0s - loss: 0.0147 \n",
      "Epoch 33/50\n",
      "185/185 [==============================] - 17s 92ms/step - loss: 0.0135 - accuracy: 0.1718: 14s - loss: 0.0120 - accurac - ETA: 14s - loss: 0.0121 - accuracy - ETA: 13s - loss: 0.0120 - accuracy: - ETA: 12s - loss: 0.0 - ETA: 10s - loss: 0.0116 - accuracy: 0.173 - ETA: 10s - loss: 0.0116 - accuracy: - ETA: 1s - loss: 0.0130 - accuracy: 0.17 - ETA: 1s - loss: 0.0130 - accuracy - ETA: 1s - loss: 0.0132 - accuracy: 0.17 - ETA: 1s - l\n",
      "Epoch 34/50\n",
      "185/185 [==============================] - 17s 93ms/step - loss: 0.0125 - accuracy: 0.1721: 16s - loss: 0.0111  - ETA: 14s - loss: 0.0100 - accuracy: 0.1 - ETA: 14s - loss: 0.0099 - accuracy: 0.174 - ETA: 14s - loss: 0.0101 - accur - ETA: 13s - loss - ETA: 2s - loss: 0.0119 - ac - ETA\n",
      "Epoch 35/50\n",
      "185/185 [==============================] - 17s 92ms/step - loss: 0.0117 - accuracy: 0.1722: 16s - loss: 0.0111 - accuracy: 0. - ETA: 16s - loss: 0.0100 - accuracy: 0.172 -  - ETA: 9s - loss: 0.0\n",
      "Epoch 36/50\n",
      "185/185 [==============================] - 17s 93ms/step - loss: 0.0111 - accuracy: 0.1724: 16s - loss: 0.0107 - accuracy: 0. - ETA: 16s - loss - ETA: 13s - loss: 0.0096 - - ETA: 11s - loss: 0.0095 - ETA: 9s - loss: 0.0092 -  - ETA: 9s - loss: 0.0094 - accu - ETA: 8s - loss: 0.0 - ETA: 7s - los - ETA: 6s - loss: 0.010 - ETA: 5s - loss: 0.0102 - accu - ETA: 4s - l - ETA: 1s - l\n",
      "Epoch 37/50\n",
      "185/185 [==============================] - 17s 93ms/step - loss: 0.0105 - accuracy: 0.1725: 13s - loss: 0.0094 - accuracy: - ETA: 13s - los\n",
      "Epoch 38/50\n",
      "185/185 [==============================] - 18s 98ms/step - loss: 0.0097 - accuracy: 0.17271s - l\n",
      "Epoch 39/50\n",
      "185/185 [==============================] - 18s 95ms/step - loss: 0.0094 - accuracy: 0.1728 - ETA: 3s - loss: 0.0088 -  - ETA: 2s - loss: 0.0089 - ac\n",
      "Epoch 40/50\n",
      "185/185 [==============================] - 17s 93ms/step - loss: 0.0090 - accuracy: 0.17293s - loss: 0.0088  - ETA: 2s - loss: 0.0089 - accuracy: 0.17 - ETA: 2s - loss: 0.0088 - ac - ETA: 1s - - ETA: 0s - loss: 0.0090 - accuracy: 0.\n",
      "Epoch 41/50\n",
      "185/185 [==============================] - 17s 94ms/step - loss: 0.0084 - accuracy: 0.17306s - loss: 0.0078 - ac - ETA: 5s - loss: 0.0078 - accura - ETA: 5s - loss: 0.0079 - accuracy: 0.17 - ETA: 5s - los - E\n",
      "Epoch 42/50\n",
      "185/185 [==============================] - 17s 92ms/step - loss: 0.0079 - accuracy: 0.1732: 16s - loss: 0.0 - ETA: - ETA: 8s - loss: 0 - ETA: 7s - loss:\n",
      "Epoch 43/50\n",
      "185/185 [==============================] - 17s 92ms/step - loss: 0.0079 - accuracy: 0.1732: 15s - loss: 0.0047 - accuracy: 0.17 - ETA: 15s - loss: 0.0057 - accuracy: 0.174 - ETA: 15s - loss: 0.0060 - accuracy: 0.174 - ETA: 15s - loss: 0.0058 - accurac - ETA: 14s - loss: 0.0064 -  - ETA: 13s - loss: 0.0066 - accuracy: 0.172 - ETA: 13s - loss: 0.0067 - accuracy: 0.172 - ETA: 12s - loss: 0.0067 - accuracy:  - ETA: 12s - loss: 0.0068 - accuracy: 0.17 - ETA: 12s - loss: 0.0068 - accuracy: 0.17 - ETA: 12s - loss: 0.0067 - accuracy: 0.173 - ETA: 11s - loss: 0.0067 - accuracy: 0.173 - ETA: 11s - loss: 0.0067 - accuracy: 0 - ETA: 11s - loss:  - ETA: 5s -\n",
      "Epoch 44/50\n",
      "185/185 [==============================] - 18s 96ms/step - loss: 0.0073 - accuracy: 0.17337s - loss: 0.0066  - ETA: 6s - loss: 0.0066 - accura\n",
      "Epoch 45/50\n",
      "185/185 [==============================] - 18s 95ms/step - loss: 0.0075 - accuracy: 0.17331s -\n",
      "Epoch 46/50\n",
      "185/185 [==============================] - 17s 92ms/step - loss: 0.0066 - accuracy: 0.17359s - l - E - E\n",
      "Epoch 47/50\n",
      "185/185 [==============================] - 17s 93ms/step - loss: 0.0064 - accuracy: 0.1735: 14s - loss: 0.0057 - accuracy:  - ETA: 13s - loss: 0.0058 - - ETA: 0s - loss: 0.0064 \n",
      "Epoch 48/50\n",
      "185/185 [==============================] - 17s 92ms/step - loss: 0.0062 - accuracy: 0.1736: 13s - loss: 0.0051 - acc - ETA:  - ETA:  - - ETA: 1s - loss: 0.0061 - ac - ETA: 1s - loss:\n",
      "Epoch 49/50\n",
      "185/185 [==============================] - 17s 92ms/step - loss: 0.0058 - accuracy: 0.1736: 17s - loss: 0.005 - ETA: 14s - loss: 0.0056 - accuracy: 0 - ETA: 14s - loss: 0.0056 -  - ETA: 12s - loss: 0.0050 - accuracy: 0.174 - ETA: 12s - loss: 0. - ETA: 10s - loss: - ETA: 9s - l - ETA: 7s - los - ETA: 6s - loss: 0 - ETA: 5s - loss: 0.0053 - accura - ETA - ETA: 3s - loss: 0.0056 - ac - ETA: 2s - loss: 0 - ETA: 1s - loss: 0.0058 - accu - ETA: 0s - loss: 0.0058 - accuracy:  - ETA: 0s - loss: 0.0058 - accuracy: 0. - ETA: 0s - loss: 0.0058 - accuracy:  - ETA: 0s - loss: 0.0058 - accuracy: 0.\n",
      "Epoch 50/50\n",
      "185/185 [==============================] - 17s 92ms/step - loss: 0.0058 - accuracy: 0.1737: 16s - loss: 0.00 - ETA: 13s - l - ETA: 2s - loss: 0.0056 - accuracy: 0.17 - - ETA: 0s - loss: 0.0058 - accuracy\n"
     ]
    },
    {
     "data": {
      "text/plain": [
       "<tensorflow.python.keras.callbacks.History at 0x2719c8ada58>"
      ]
     },
     "execution_count": 44,
     "metadata": {},
     "output_type": "execute_result"
    }
   ],
   "source": [
    "EPOCHS = 50\n",
    "model.fit(dataset, epochs=EPOCHS)"
   ]
  },
  {
   "cell_type": "markdown",
   "id": "03ebffb8",
   "metadata": {},
   "source": [
    "### 6. 챗봇 평가하기."
   ]
  },
  {
   "cell_type": "markdown",
   "id": "af61e827",
   "metadata": {},
   "source": [
    "챗봇을 평가하기 위한 세 개의 함수를 구현합니다."
   ]
  },
  {
   "cell_type": "markdown",
   "id": "bec0e1ba",
   "metadata": {},
   "source": [
    "사용자의 입력이 파이썬의 문자열로 입력되면 preprocess_sentence 함수에서 문자열에 대한 전처리를 수행합니다."
   ]
  },
  {
   "cell_type": "code",
   "execution_count": 45,
   "id": "676c1415",
   "metadata": {},
   "outputs": [],
   "source": [
    "def preprocess_sentence(sentence):\n",
    "    # 단어와 구두점 사이에 공백 추가.\n",
    "    # ex) 12시 땡! -> 12시 땡 !\n",
    "    sentence = re.sub(r\"([?.!,])\", r\" \\1 \", sentence)\n",
    "    sentence = sentence.strip()\n",
    "    return sentence"
   ]
  },
  {
   "cell_type": "markdown",
   "id": "a48ec5b8",
   "metadata": {},
   "source": [
    "evaluate 함수는 트랜스포머 모델에 전처리가 진행된 사용자의 입력을 전달하고, 디코더를 통해 계속해서 현재 시점의 예측. 다시 말해 챗봇의 대답에 해당하는 단어를 순차적으로 예측합니다. \n",
    "\n",
    "여기서 예측된 단어들은 문자열이 아니라 정수인 상태이므로 evaluate 함수가 리턴하는 것은 결과적으로 정수 시퀀스입니다."
   ]
  },
  {
   "cell_type": "code",
   "execution_count": 46,
   "id": "cb54ea24",
   "metadata": {},
   "outputs": [],
   "source": [
    "def evaluate(sentence):\n",
    "    # 입력 문장에 대한 전처리\n",
    "    sentence = preprocess_sentence(sentence)\n",
    "\n",
    "    # 입력 문장에 시작 토큰과 종료 토큰을 추가\n",
    "    sentence = tf.expand_dims(\n",
    "      START_TOKEN + tokenizer.encode(sentence) + END_TOKEN, axis=0)\n",
    "\n",
    "    output = tf.expand_dims(START_TOKEN, 0)\n",
    "\n",
    "    # 디코더의 예측 시작\n",
    "    for i in range(MAX_LENGTH):\n",
    "        predictions = model(inputs=[sentence, output], training=False)\n",
    "\n",
    "        # 현재 시점의 예측 단어를 받아온다.\n",
    "        predictions = predictions[:, -1:, :]\n",
    "        predicted_id = tf.cast(tf.argmax(predictions, axis=-1), tf.int32)\n",
    "\n",
    "        # 만약 현재 시점의 예측 단어가 종료 토큰이라면 예측을 중단\n",
    "        if tf.equal(predicted_id, END_TOKEN[0]):\n",
    "            break\n",
    "\n",
    "        # 현재 시점의 예측 단어를 output(출력)에 연결한다.\n",
    "        # output은 for문의 다음 루프에서 디코더의 입력이 된다.\n",
    "        output = tf.concat([output, predicted_id], axis=-1)\n",
    "\n",
    "    # 단어 예측이 모두 끝났다면 output을 리턴.\n",
    "    return tf.squeeze(output, axis=0)"
   ]
  },
  {
   "cell_type": "markdown",
   "id": "3a86d087",
   "metadata": {},
   "source": [
    "predict 함수는 evaluate 함수로부터 전달받은 챗봇의 대답에 해당하는 정수 시퀀스를 문자열로 다시 디코딩을 하고 사용자에게 챗봇의 대답을 출력합니다."
   ]
  },
  {
   "cell_type": "code",
   "execution_count": 47,
   "id": "c9d39dd1",
   "metadata": {},
   "outputs": [],
   "source": [
    "def predict(sentence):\n",
    "    prediction = evaluate(sentence)\n",
    "\n",
    "    # prediction == 디코더가 리턴한 챗봇의 대답에 해당하는 정수 시퀀스\n",
    "    # tokenizer.decode()를 통해 정수 시퀀스를 문자열로 디코딩.\n",
    "    predicted_sentence = tokenizer.decode(\n",
    "      [i for i in prediction if i < tokenizer.vocab_size])\n",
    "\n",
    "    print('Input: {}'.format(sentence))\n",
    "    print('Output: {}'.format(predicted_sentence))\n",
    "\n",
    "    return predicted_sentence"
   ]
  },
  {
   "cell_type": "markdown",
   "id": "11ba8552",
   "metadata": {},
   "source": [
    "학습된 트랜스포머에 임의로 생각나는 말들을 적어보았습니다."
   ]
  },
  {
   "cell_type": "code",
   "execution_count": 48,
   "id": "905ad8f3",
   "metadata": {},
   "outputs": [
    {
     "name": "stdout",
     "output_type": "stream",
     "text": [
      "Input: 영화 볼래?\n",
      "Output: 최신 영화가 좋을 것 같아요 .\n"
     ]
    }
   ],
   "source": [
    "output = predict(\"영화 볼래?\")"
   ]
  },
  {
   "cell_type": "code",
   "execution_count": 49,
   "id": "c8474fb7",
   "metadata": {},
   "outputs": [
    {
     "name": "stdout",
     "output_type": "stream",
     "text": [
      "Input: 고민이 있어\n",
      "Output: 글로 적어보세요 .  조금이나마 정리가 될 거예요 .\n"
     ]
    }
   ],
   "source": [
    "output = predict(\"고민이 있어\")"
   ]
  },
  {
   "cell_type": "code",
   "execution_count": 50,
   "id": "a8b1c9ab",
   "metadata": {},
   "outputs": [
    {
     "name": "stdout",
     "output_type": "stream",
     "text": [
      "Input: 너무 화가나\n",
      "Output: 제가 풀어드릴게요 .\n"
     ]
    }
   ],
   "source": [
    "output = predict(\"너무 화가나\")"
   ]
  },
  {
   "cell_type": "code",
   "execution_count": 51,
   "id": "e9ca00c1",
   "metadata": {},
   "outputs": [
    {
     "name": "stdout",
     "output_type": "stream",
     "text": [
      "Input: 카페갈래?\n",
      "Output: 카페 데이트 좋죠 .\n"
     ]
    }
   ],
   "source": [
    "output = predict(\"카페갈래?\")"
   ]
  },
  {
   "cell_type": "code",
   "execution_count": 52,
   "id": "019d1356",
   "metadata": {},
   "outputs": [
    {
     "name": "stdout",
     "output_type": "stream",
     "text": [
      "Input: 게임하고싶당\n",
      "Output: 게임하세요 !\n"
     ]
    }
   ],
   "source": [
    "output = predict(\"게임하고싶당\")"
   ]
  },
  {
   "cell_type": "code",
   "execution_count": 53,
   "id": "f97efbeb",
   "metadata": {},
   "outputs": [
    {
     "name": "stdout",
     "output_type": "stream",
     "text": [
      "Input: 게임하자\n",
      "Output: 게임하세요 !\n"
     ]
    }
   ],
   "source": [
    "output = predict(\"게임하자\")"
   ]
  },
  {
   "cell_type": "code",
   "execution_count": null,
   "id": "725735d5",
   "metadata": {},
   "outputs": [],
   "source": []
  }
 ],
 "metadata": {
  "kernelspec": {
   "display_name": "Python 3",
   "language": "python",
   "name": "python3"
  },
  "language_info": {
   "codemirror_mode": {
    "name": "ipython",
    "version": 3
   },
   "file_extension": ".py",
   "mimetype": "text/x-python",
   "name": "python",
   "nbconvert_exporter": "python",
   "pygments_lexer": "ipython3",
   "version": "3.6.3"
  }
 },
 "nbformat": 4,
 "nbformat_minor": 5
}
