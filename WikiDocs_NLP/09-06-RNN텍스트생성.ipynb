{
 "cells": [
  {
   "cell_type": "markdown",
   "id": "17cb21f9",
   "metadata": {},
   "source": [
    "# 09. 순환 신경망(Recurrent Neural Network)\n",
    "\n",
    "## 6) RNN을 이용한 텍스트 생성(Text Generation using RNN)"
   ]
  },
  {
   "cell_type": "markdown",
   "id": "02c76043",
   "metadata": {},
   "source": [
    "### 1) 데이터에 대한 이해와 전처리"
   ]
  },
  {
   "cell_type": "code",
   "execution_count": 1,
   "id": "efe2759f",
   "metadata": {},
   "outputs": [],
   "source": [
    "import numpy as np\n",
    "from tensorflow.keras.preprocessing.text import Tokenizer\n",
    "from tensorflow.keras.preprocessing.sequence import pad_sequences\n",
    "from tensorflow.keras.utils import to_categorical"
   ]
  },
  {
   "cell_type": "code",
   "execution_count": 2,
   "id": "50c8e611",
   "metadata": {},
   "outputs": [],
   "source": [
    "text = \"\"\"경마장에 있는 말이 뛰고 있다\\n\n",
    "          그의 말이 법이다\\n\n",
    "          가는 말이 고와야 오는 말이 곱다\\n\"\"\""
   ]
  },
  {
   "cell_type": "code",
   "execution_count": 3,
   "id": "60f2f9cb",
   "metadata": {},
   "outputs": [
    {
     "name": "stdout",
     "output_type": "stream",
     "text": [
      "단어 집합의 크기 : 12\n"
     ]
    }
   ],
   "source": [
    "tokenizer = Tokenizer()\n",
    "tokenizer.fit_on_texts([text])\n",
    "vocab_size = len(tokenizer.word_index) + 1\n",
    "print('단어 집합의 크기 : %d' % vocab_size)"
   ]
  },
  {
   "cell_type": "code",
   "execution_count": 4,
   "id": "36bb8a5f",
   "metadata": {},
   "outputs": [
    {
     "name": "stdout",
     "output_type": "stream",
     "text": [
      "{'말이': 1, '경마장에': 2, '있는': 3, '뛰고': 4, '있다': 5, '그의': 6, '법이다': 7, '가는': 8, '고와야': 9, '오는': 10, '곱다': 11}\n"
     ]
    }
   ],
   "source": [
    "print(tokenizer.word_index)"
   ]
  },
  {
   "cell_type": "code",
   "execution_count": 5,
   "id": "845d61e0",
   "metadata": {},
   "outputs": [
    {
     "name": "stdout",
     "output_type": "stream",
     "text": [
      "학습에 사용할 샘플의 개수: 11\n"
     ]
    }
   ],
   "source": [
    "sequences = list()\n",
    "for line in text.split('\\n'): # Wn을 기준으로 문장 토큰화\n",
    "    encoded = tokenizer.texts_to_sequences([line])[0]\n",
    "    for i in range(1, len(encoded)):\n",
    "        sequence = encoded[:i+1]\n",
    "        sequences.append(sequence)\n",
    "\n",
    "print('학습에 사용할 샘플의 개수: %d' % len(sequences))"
   ]
  },
  {
   "cell_type": "code",
   "execution_count": 6,
   "id": "b7086f3f",
   "metadata": {},
   "outputs": [
    {
     "name": "stdout",
     "output_type": "stream",
     "text": [
      "[[2, 3], [2, 3, 1], [2, 3, 1, 4], [2, 3, 1, 4, 5], [6, 1], [6, 1, 7], [8, 1], [8, 1, 9], [8, 1, 9, 10], [8, 1, 9, 10, 1], [8, 1, 9, 10, 1, 11]]\n"
     ]
    }
   ],
   "source": [
    "print(sequences)"
   ]
  },
  {
   "cell_type": "code",
   "execution_count": 7,
   "id": "728f6b6f",
   "metadata": {},
   "outputs": [
    {
     "name": "stdout",
     "output_type": "stream",
     "text": [
      "샘플의 최대 길이 : 6\n"
     ]
    }
   ],
   "source": [
    "max_len = max(len(l) for l in sequences) \n",
    "# 모든 샘플에서 길이가 가장 긴 샘플의 길이 출력\n",
    "print('샘플의 최대 길이 : {}'.format(max_len))"
   ]
  },
  {
   "cell_type": "markdown",
   "id": "36fb952c",
   "metadata": {},
   "source": [
    "전체 훈련 데이터에서 가장 긴 샘플의 길이가 6임을 확인하였습니다. \n",
    "\n",
    "전체 샘플의 길이를 6으로 패딩합니다."
   ]
  },
  {
   "cell_type": "code",
   "execution_count": 8,
   "id": "396afe83",
   "metadata": {},
   "outputs": [],
   "source": [
    "sequences = pad_sequences(sequences, maxlen=max_len, padding='pre')"
   ]
  },
  {
   "cell_type": "code",
   "execution_count": 9,
   "id": "844999f1",
   "metadata": {},
   "outputs": [
    {
     "name": "stdout",
     "output_type": "stream",
     "text": [
      "[[ 0  0  0  0  2  3]\n",
      " [ 0  0  0  2  3  1]\n",
      " [ 0  0  2  3  1  4]\n",
      " [ 0  2  3  1  4  5]\n",
      " [ 0  0  0  0  6  1]\n",
      " [ 0  0  0  6  1  7]\n",
      " [ 0  0  0  0  8  1]\n",
      " [ 0  0  0  8  1  9]\n",
      " [ 0  0  8  1  9 10]\n",
      " [ 0  8  1  9 10  1]\n",
      " [ 8  1  9 10  1 11]]\n"
     ]
    }
   ],
   "source": [
    "print(sequences)"
   ]
  },
  {
   "cell_type": "markdown",
   "id": "9d73a5f6",
   "metadata": {},
   "source": [
    "리스트의 마지막 값을 제외하고 저장한 것은 X, 리스트의 마지막 값만 저장한 것은 y. 이는 레이블에 해당됩니다."
   ]
  },
  {
   "cell_type": "code",
   "execution_count": 10,
   "id": "e49a91bd",
   "metadata": {},
   "outputs": [],
   "source": [
    "sequences = np.array(sequences)\n",
    "X = sequences[:,:-1]\n",
    "y = sequences[:,-1]"
   ]
  },
  {
   "cell_type": "code",
   "execution_count": 11,
   "id": "21b7924a",
   "metadata": {},
   "outputs": [
    {
     "name": "stdout",
     "output_type": "stream",
     "text": [
      "[[ 0  0  0  0  2]\n",
      " [ 0  0  0  2  3]\n",
      " [ 0  0  2  3  1]\n",
      " [ 0  2  3  1  4]\n",
      " [ 0  0  0  0  6]\n",
      " [ 0  0  0  6  1]\n",
      " [ 0  0  0  0  8]\n",
      " [ 0  0  0  8  1]\n",
      " [ 0  0  8  1  9]\n",
      " [ 0  8  1  9 10]\n",
      " [ 8  1  9 10  1]]\n"
     ]
    }
   ],
   "source": [
    "print(X)"
   ]
  },
  {
   "cell_type": "code",
   "execution_count": 12,
   "id": "fd83868e",
   "metadata": {},
   "outputs": [
    {
     "name": "stdout",
     "output_type": "stream",
     "text": [
      "[ 3  1  4  5  1  7  1  9 10  1 11]\n"
     ]
    }
   ],
   "source": [
    "print(y)"
   ]
  },
  {
   "cell_type": "code",
   "execution_count": 13,
   "id": "45ca4e1e",
   "metadata": {},
   "outputs": [],
   "source": [
    "y = to_categorical(y, num_classes=vocab_size)"
   ]
  },
  {
   "cell_type": "markdown",
   "id": "c195b6be",
   "metadata": {},
   "source": [
    "RNN 모델에 훈련 데이터를 훈련 시키기 전에 레이블에 대해서 원-핫 인코딩을 수행합니다."
   ]
  },
  {
   "cell_type": "code",
   "execution_count": 14,
   "id": "e0daf03a",
   "metadata": {},
   "outputs": [
    {
     "name": "stdout",
     "output_type": "stream",
     "text": [
      "[[0. 0. 0. 1. 0. 0. 0. 0. 0. 0. 0. 0.]\n",
      " [0. 1. 0. 0. 0. 0. 0. 0. 0. 0. 0. 0.]\n",
      " [0. 0. 0. 0. 1. 0. 0. 0. 0. 0. 0. 0.]\n",
      " [0. 0. 0. 0. 0. 1. 0. 0. 0. 0. 0. 0.]\n",
      " [0. 1. 0. 0. 0. 0. 0. 0. 0. 0. 0. 0.]\n",
      " [0. 0. 0. 0. 0. 0. 0. 1. 0. 0. 0. 0.]\n",
      " [0. 1. 0. 0. 0. 0. 0. 0. 0. 0. 0. 0.]\n",
      " [0. 0. 0. 0. 0. 0. 0. 0. 0. 1. 0. 0.]\n",
      " [0. 0. 0. 0. 0. 0. 0. 0. 0. 0. 1. 0.]\n",
      " [0. 1. 0. 0. 0. 0. 0. 0. 0. 0. 0. 0.]\n",
      " [0. 0. 0. 0. 0. 0. 0. 0. 0. 0. 0. 1.]]\n"
     ]
    }
   ],
   "source": [
    "print(y)"
   ]
  },
  {
   "cell_type": "markdown",
   "id": "4fe5a9db",
   "metadata": {},
   "source": [
    "### 2) 모델 설계하기"
   ]
  },
  {
   "cell_type": "code",
   "execution_count": 15,
   "id": "9a4bbcb1",
   "metadata": {},
   "outputs": [
    {
     "name": "stdout",
     "output_type": "stream",
     "text": [
      "Epoch 1/200\n",
      "1/1 - 5s - loss: 2.4528 - accuracy: 0.2727\n",
      "Epoch 2/200\n",
      "1/1 - 0s - loss: 2.4396 - accuracy: 0.2727\n",
      "Epoch 3/200\n",
      "1/1 - 0s - loss: 2.4263 - accuracy: 0.2727\n",
      "Epoch 4/200\n",
      "1/1 - 0s - loss: 2.4126 - accuracy: 0.2727\n",
      "Epoch 5/200\n",
      "1/1 - 0s - loss: 2.3985 - accuracy: 0.3636\n",
      "Epoch 6/200\n",
      "1/1 - 0s - loss: 2.3839 - accuracy: 0.3636\n",
      "Epoch 7/200\n",
      "1/1 - 0s - loss: 2.3688 - accuracy: 0.3636\n",
      "Epoch 8/200\n",
      "1/1 - 0s - loss: 2.3530 - accuracy: 0.3636\n",
      "Epoch 9/200\n",
      "1/1 - 0s - loss: 2.3366 - accuracy: 0.3636\n",
      "Epoch 10/200\n",
      "1/1 - 1s - loss: 2.3194 - accuracy: 0.3636\n",
      "Epoch 11/200\n",
      "1/1 - 0s - loss: 2.3014 - accuracy: 0.3636\n",
      "Epoch 12/200\n",
      "1/1 - 0s - loss: 2.2825 - accuracy: 0.3636\n",
      "Epoch 13/200\n",
      "1/1 - 0s - loss: 2.2628 - accuracy: 0.3636\n",
      "Epoch 14/200\n",
      "1/1 - 0s - loss: 2.2421 - accuracy: 0.3636\n",
      "Epoch 15/200\n",
      "1/1 - 0s - loss: 2.2206 - accuracy: 0.3636\n",
      "Epoch 16/200\n",
      "1/1 - 0s - loss: 2.1982 - accuracy: 0.3636\n",
      "Epoch 17/200\n",
      "1/1 - 0s - loss: 2.1749 - accuracy: 0.3636\n",
      "Epoch 18/200\n",
      "1/1 - 0s - loss: 2.1508 - accuracy: 0.3636\n",
      "Epoch 19/200\n",
      "1/1 - 0s - loss: 2.1260 - accuracy: 0.3636\n",
      "Epoch 20/200\n",
      "1/1 - 0s - loss: 2.1006 - accuracy: 0.3636\n",
      "Epoch 21/200\n",
      "1/1 - 0s - loss: 2.0749 - accuracy: 0.3636\n",
      "Epoch 22/200\n",
      "1/1 - 0s - loss: 2.0490 - accuracy: 0.3636\n",
      "Epoch 23/200\n",
      "1/1 - 0s - loss: 2.0232 - accuracy: 0.3636\n",
      "Epoch 24/200\n",
      "1/1 - 0s - loss: 1.9977 - accuracy: 0.3636\n",
      "Epoch 25/200\n",
      "1/1 - 0s - loss: 1.9728 - accuracy: 0.3636\n",
      "Epoch 26/200\n",
      "1/1 - 0s - loss: 1.9487 - accuracy: 0.3636\n",
      "Epoch 27/200\n",
      "1/1 - 0s - loss: 1.9257 - accuracy: 0.3636\n",
      "Epoch 28/200\n",
      "1/1 - 0s - loss: 1.9039 - accuracy: 0.3636\n",
      "Epoch 29/200\n",
      "1/1 - 0s - loss: 1.8834 - accuracy: 0.3636\n",
      "Epoch 30/200\n",
      "1/1 - 0s - loss: 1.8640 - accuracy: 0.3636\n",
      "Epoch 31/200\n",
      "1/1 - 0s - loss: 1.8457 - accuracy: 0.3636\n",
      "Epoch 32/200\n",
      "1/1 - 0s - loss: 1.8283 - accuracy: 0.3636\n",
      "Epoch 33/200\n",
      "1/1 - 0s - loss: 1.8114 - accuracy: 0.4545\n",
      "Epoch 34/200\n",
      "1/1 - 0s - loss: 1.7948 - accuracy: 0.4545\n",
      "Epoch 35/200\n",
      "1/1 - 0s - loss: 1.7781 - accuracy: 0.4545\n",
      "Epoch 36/200\n",
      "1/1 - 0s - loss: 1.7612 - accuracy: 0.4545\n",
      "Epoch 37/200\n",
      "1/1 - 0s - loss: 1.7438 - accuracy: 0.4545\n",
      "Epoch 38/200\n",
      "1/1 - 0s - loss: 1.7260 - accuracy: 0.4545\n",
      "Epoch 39/200\n",
      "1/1 - 0s - loss: 1.7077 - accuracy: 0.4545\n",
      "Epoch 40/200\n",
      "1/1 - 0s - loss: 1.6890 - accuracy: 0.4545\n",
      "Epoch 41/200\n",
      "1/1 - 0s - loss: 1.6700 - accuracy: 0.4545\n",
      "Epoch 42/200\n",
      "1/1 - 0s - loss: 1.6507 - accuracy: 0.4545\n",
      "Epoch 43/200\n",
      "1/1 - 0s - loss: 1.6313 - accuracy: 0.4545\n",
      "Epoch 44/200\n",
      "1/1 - 0s - loss: 1.6118 - accuracy: 0.4545\n",
      "Epoch 45/200\n",
      "1/1 - 0s - loss: 1.5922 - accuracy: 0.4545\n",
      "Epoch 46/200\n",
      "1/1 - 0s - loss: 1.5725 - accuracy: 0.4545\n",
      "Epoch 47/200\n",
      "1/1 - 0s - loss: 1.5527 - accuracy: 0.4545\n",
      "Epoch 48/200\n",
      "1/1 - 0s - loss: 1.5327 - accuracy: 0.4545\n",
      "Epoch 49/200\n",
      "1/1 - 0s - loss: 1.5125 - accuracy: 0.4545\n",
      "Epoch 50/200\n",
      "1/1 - 0s - loss: 1.4921 - accuracy: 0.4545\n",
      "Epoch 51/200\n",
      "1/1 - 0s - loss: 1.4714 - accuracy: 0.4545\n",
      "Epoch 52/200\n",
      "1/1 - 0s - loss: 1.4504 - accuracy: 0.4545\n",
      "Epoch 53/200\n",
      "1/1 - 0s - loss: 1.4292 - accuracy: 0.4545\n",
      "Epoch 54/200\n",
      "1/1 - 0s - loss: 1.4077 - accuracy: 0.4545\n",
      "Epoch 55/200\n",
      "1/1 - 0s - loss: 1.3861 - accuracy: 0.4545\n",
      "Epoch 56/200\n",
      "1/1 - 0s - loss: 1.3644 - accuracy: 0.4545\n",
      "Epoch 57/200\n",
      "1/1 - 0s - loss: 1.3427 - accuracy: 0.4545\n",
      "Epoch 58/200\n",
      "1/1 - 0s - loss: 1.3210 - accuracy: 0.4545\n",
      "Epoch 59/200\n",
      "1/1 - 0s - loss: 1.2994 - accuracy: 0.4545\n",
      "Epoch 60/200\n",
      "1/1 - 0s - loss: 1.2778 - accuracy: 0.4545\n",
      "Epoch 61/200\n",
      "1/1 - 0s - loss: 1.2563 - accuracy: 0.5455\n",
      "Epoch 62/200\n",
      "1/1 - 0s - loss: 1.2350 - accuracy: 0.5455\n",
      "Epoch 63/200\n",
      "1/1 - 0s - loss: 1.2138 - accuracy: 0.6364\n",
      "Epoch 64/200\n",
      "1/1 - 0s - loss: 1.1928 - accuracy: 0.6364\n",
      "Epoch 65/200\n",
      "1/1 - 0s - loss: 1.1719 - accuracy: 0.6364\n",
      "Epoch 66/200\n",
      "1/1 - 0s - loss: 1.1512 - accuracy: 0.7273\n",
      "Epoch 67/200\n",
      "1/1 - 0s - loss: 1.1307 - accuracy: 0.7273\n",
      "Epoch 68/200\n",
      "1/1 - 0s - loss: 1.1104 - accuracy: 0.7273\n",
      "Epoch 69/200\n",
      "1/1 - 0s - loss: 1.0902 - accuracy: 0.7273\n",
      "Epoch 70/200\n",
      "1/1 - 0s - loss: 1.0703 - accuracy: 0.7273\n",
      "Epoch 71/200\n",
      "1/1 - 0s - loss: 1.0506 - accuracy: 0.7273\n",
      "Epoch 72/200\n",
      "1/1 - 0s - loss: 1.0310 - accuracy: 0.7273\n",
      "Epoch 73/200\n",
      "1/1 - 2s - loss: 1.0117 - accuracy: 0.7273\n",
      "Epoch 74/200\n",
      "1/1 - 0s - loss: 0.9926 - accuracy: 0.7273\n",
      "Epoch 75/200\n",
      "1/1 - 0s - loss: 0.9738 - accuracy: 0.8182\n",
      "Epoch 76/200\n",
      "1/1 - 0s - loss: 0.9551 - accuracy: 0.8182\n",
      "Epoch 77/200\n",
      "1/1 - 0s - loss: 0.9367 - accuracy: 0.8182\n",
      "Epoch 78/200\n",
      "1/1 - 0s - loss: 0.9185 - accuracy: 0.8182\n",
      "Epoch 79/200\n",
      "1/1 - 0s - loss: 0.9005 - accuracy: 0.8182\n",
      "Epoch 80/200\n",
      "1/1 - 0s - loss: 0.8828 - accuracy: 0.8182\n",
      "Epoch 81/200\n",
      "1/1 - 0s - loss: 0.8653 - accuracy: 0.8182\n",
      "Epoch 82/200\n",
      "1/1 - 0s - loss: 0.8481 - accuracy: 0.8182\n",
      "Epoch 83/200\n",
      "1/1 - 0s - loss: 0.8311 - accuracy: 0.9091\n",
      "Epoch 84/200\n",
      "1/1 - 0s - loss: 0.8143 - accuracy: 0.9091\n",
      "Epoch 85/200\n",
      "1/1 - 0s - loss: 0.7978 - accuracy: 0.9091\n",
      "Epoch 86/200\n",
      "1/1 - 0s - loss: 0.7816 - accuracy: 0.9091\n",
      "Epoch 87/200\n",
      "1/1 - 0s - loss: 0.7657 - accuracy: 0.9091\n",
      "Epoch 88/200\n",
      "1/1 - 0s - loss: 0.7500 - accuracy: 0.9091\n",
      "Epoch 89/200\n",
      "1/1 - 0s - loss: 0.7346 - accuracy: 0.9091\n",
      "Epoch 90/200\n",
      "1/1 - 0s - loss: 0.7194 - accuracy: 0.9091\n",
      "Epoch 91/200\n",
      "1/1 - 0s - loss: 0.7046 - accuracy: 0.9091\n",
      "Epoch 92/200\n",
      "1/1 - 0s - loss: 0.6900 - accuracy: 0.9091\n",
      "Epoch 93/200\n",
      "1/1 - 0s - loss: 0.6758 - accuracy: 0.9091\n",
      "Epoch 94/200\n",
      "1/1 - 0s - loss: 0.6618 - accuracy: 0.9091\n",
      "Epoch 95/200\n",
      "1/1 - 0s - loss: 0.6482 - accuracy: 0.9091\n",
      "Epoch 96/200\n",
      "1/1 - 0s - loss: 0.6348 - accuracy: 0.9091\n",
      "Epoch 97/200\n",
      "1/1 - 0s - loss: 0.6217 - accuracy: 0.9091\n",
      "Epoch 98/200\n",
      "1/1 - 0s - loss: 0.6090 - accuracy: 0.9091\n",
      "Epoch 99/200\n",
      "1/1 - 0s - loss: 0.5965 - accuracy: 0.9091\n",
      "Epoch 100/200\n",
      "1/1 - 0s - loss: 0.5843 - accuracy: 0.9091\n",
      "Epoch 101/200\n",
      "1/1 - 0s - loss: 0.5723 - accuracy: 0.9091\n",
      "Epoch 102/200\n",
      "1/1 - 0s - loss: 0.5607 - accuracy: 0.9091\n",
      "Epoch 103/200\n",
      "1/1 - 0s - loss: 0.5493 - accuracy: 0.9091\n",
      "Epoch 104/200\n",
      "1/1 - 0s - loss: 0.5382 - accuracy: 0.9091\n",
      "Epoch 105/200\n",
      "1/1 - 0s - loss: 0.5274 - accuracy: 0.9091\n",
      "Epoch 106/200\n",
      "1/1 - 0s - loss: 0.5168 - accuracy: 0.9091\n",
      "Epoch 107/200\n",
      "1/1 - 0s - loss: 0.5065 - accuracy: 0.9091\n",
      "Epoch 108/200\n",
      "1/1 - 0s - loss: 0.4964 - accuracy: 0.9091\n",
      "Epoch 109/200\n",
      "1/1 - 0s - loss: 0.4866 - accuracy: 0.9091\n",
      "Epoch 110/200\n",
      "1/1 - 0s - loss: 0.4770 - accuracy: 0.9091\n",
      "Epoch 111/200\n",
      "1/1 - 0s - loss: 0.4677 - accuracy: 0.9091\n",
      "Epoch 112/200\n",
      "1/1 - 0s - loss: 0.4585 - accuracy: 0.9091\n",
      "Epoch 113/200\n",
      "1/1 - 0s - loss: 0.4496 - accuracy: 0.9091\n",
      "Epoch 114/200\n",
      "1/1 - 0s - loss: 0.4409 - accuracy: 0.9091\n",
      "Epoch 115/200\n",
      "1/1 - 0s - loss: 0.4323 - accuracy: 0.9091\n",
      "Epoch 116/200\n",
      "1/1 - 0s - loss: 0.4240 - accuracy: 0.9091\n",
      "Epoch 117/200\n",
      "1/1 - 0s - loss: 0.4159 - accuracy: 0.9091\n",
      "Epoch 118/200\n",
      "1/1 - 0s - loss: 0.4079 - accuracy: 0.9091\n",
      "Epoch 119/200\n",
      "1/1 - 0s - loss: 0.4001 - accuracy: 0.9091\n",
      "Epoch 120/200\n",
      "1/1 - 0s - loss: 0.3925 - accuracy: 0.9091\n",
      "Epoch 121/200\n",
      "1/1 - 0s - loss: 0.3850 - accuracy: 0.9091\n",
      "Epoch 122/200\n",
      "1/1 - 0s - loss: 0.3777 - accuracy: 0.9091\n",
      "Epoch 123/200\n",
      "1/1 - 0s - loss: 0.3706 - accuracy: 0.9091\n",
      "Epoch 124/200\n",
      "1/1 - 0s - loss: 0.3636 - accuracy: 0.9091\n",
      "Epoch 125/200\n",
      "1/1 - 0s - loss: 0.3568 - accuracy: 0.9091\n",
      "Epoch 126/200\n",
      "1/1 - 0s - loss: 0.3500 - accuracy: 0.9091\n",
      "Epoch 127/200\n",
      "1/1 - 0s - loss: 0.3435 - accuracy: 0.9091\n",
      "Epoch 128/200\n",
      "1/1 - 0s - loss: 0.3370 - accuracy: 0.9091\n",
      "Epoch 129/200\n",
      "1/1 - 0s - loss: 0.3307 - accuracy: 0.9091\n",
      "Epoch 130/200\n",
      "1/1 - 0s - loss: 0.3245 - accuracy: 0.9091\n",
      "Epoch 131/200\n",
      "1/1 - 0s - loss: 0.3184 - accuracy: 0.9091\n",
      "Epoch 132/200\n",
      "1/1 - 0s - loss: 0.3125 - accuracy: 0.9091\n",
      "Epoch 133/200\n",
      "1/1 - 0s - loss: 0.3067 - accuracy: 0.9091\n",
      "Epoch 134/200\n",
      "1/1 - 0s - loss: 0.3009 - accuracy: 1.0000\n",
      "Epoch 135/200\n",
      "1/1 - 0s - loss: 0.2953 - accuracy: 1.0000\n",
      "Epoch 136/200\n",
      "1/1 - 0s - loss: 0.2898 - accuracy: 1.0000\n",
      "Epoch 137/200\n",
      "1/1 - 0s - loss: 0.2844 - accuracy: 1.0000\n",
      "Epoch 138/200\n",
      "1/1 - 0s - loss: 0.2791 - accuracy: 1.0000\n",
      "Epoch 139/200\n",
      "1/1 - 1s - loss: 0.2739 - accuracy: 1.0000\n",
      "Epoch 140/200\n",
      "1/1 - 0s - loss: 0.2688 - accuracy: 1.0000\n",
      "Epoch 141/200\n",
      "1/1 - 0s - loss: 0.2638 - accuracy: 1.0000\n",
      "Epoch 142/200\n",
      "1/1 - 0s - loss: 0.2589 - accuracy: 1.0000\n",
      "Epoch 143/200\n",
      "1/1 - 0s - loss: 0.2540 - accuracy: 1.0000\n",
      "Epoch 144/200\n",
      "1/1 - 0s - loss: 0.2493 - accuracy: 1.0000\n",
      "Epoch 145/200\n",
      "1/1 - 0s - loss: 0.2447 - accuracy: 1.0000\n",
      "Epoch 146/200\n",
      "1/1 - 0s - loss: 0.2401 - accuracy: 1.0000\n"
     ]
    },
    {
     "name": "stdout",
     "output_type": "stream",
     "text": [
      "Epoch 147/200\n",
      "1/1 - 0s - loss: 0.2356 - accuracy: 1.0000\n",
      "Epoch 148/200\n",
      "1/1 - 0s - loss: 0.2313 - accuracy: 1.0000\n",
      "Epoch 149/200\n",
      "1/1 - 0s - loss: 0.2270 - accuracy: 1.0000\n",
      "Epoch 150/200\n",
      "1/1 - 0s - loss: 0.2227 - accuracy: 1.0000\n",
      "Epoch 151/200\n",
      "1/1 - 0s - loss: 0.2186 - accuracy: 1.0000\n",
      "Epoch 152/200\n",
      "1/1 - 0s - loss: 0.2146 - accuracy: 1.0000\n",
      "Epoch 153/200\n",
      "1/1 - 0s - loss: 0.2106 - accuracy: 1.0000\n",
      "Epoch 154/200\n",
      "1/1 - 0s - loss: 0.2067 - accuracy: 1.0000\n",
      "Epoch 155/200\n",
      "1/1 - 0s - loss: 0.2029 - accuracy: 1.0000\n",
      "Epoch 156/200\n",
      "1/1 - 0s - loss: 0.1991 - accuracy: 1.0000\n",
      "Epoch 157/200\n",
      "1/1 - 0s - loss: 0.1955 - accuracy: 1.0000\n",
      "Epoch 158/200\n",
      "1/1 - 0s - loss: 0.1919 - accuracy: 1.0000\n",
      "Epoch 159/200\n",
      "1/1 - 0s - loss: 0.1884 - accuracy: 1.0000\n",
      "Epoch 160/200\n",
      "1/1 - 0s - loss: 0.1849 - accuracy: 1.0000\n",
      "Epoch 161/200\n",
      "1/1 - 0s - loss: 0.1816 - accuracy: 1.0000\n",
      "Epoch 162/200\n",
      "1/1 - 0s - loss: 0.1783 - accuracy: 1.0000\n",
      "Epoch 163/200\n",
      "1/1 - 0s - loss: 0.1750 - accuracy: 1.0000\n",
      "Epoch 164/200\n",
      "1/1 - 0s - loss: 0.1719 - accuracy: 1.0000\n",
      "Epoch 165/200\n",
      "1/1 - 0s - loss: 0.1688 - accuracy: 1.0000\n",
      "Epoch 166/200\n",
      "1/1 - 0s - loss: 0.1657 - accuracy: 1.0000\n",
      "Epoch 167/200\n",
      "1/1 - 0s - loss: 0.1628 - accuracy: 1.0000\n",
      "Epoch 168/200\n",
      "1/1 - 0s - loss: 0.1598 - accuracy: 1.0000\n",
      "Epoch 169/200\n",
      "1/1 - 0s - loss: 0.1570 - accuracy: 1.0000\n",
      "Epoch 170/200\n",
      "1/1 - 0s - loss: 0.1542 - accuracy: 1.0000\n",
      "Epoch 171/200\n",
      "1/1 - 0s - loss: 0.1515 - accuracy: 1.0000\n",
      "Epoch 172/200\n",
      "1/1 - 0s - loss: 0.1488 - accuracy: 1.0000\n",
      "Epoch 173/200\n",
      "1/1 - 0s - loss: 0.1462 - accuracy: 1.0000\n",
      "Epoch 174/200\n",
      "1/1 - 0s - loss: 0.1437 - accuracy: 1.0000\n",
      "Epoch 175/200\n",
      "1/1 - 0s - loss: 0.1412 - accuracy: 1.0000\n",
      "Epoch 176/200\n",
      "1/1 - 0s - loss: 0.1387 - accuracy: 1.0000\n",
      "Epoch 177/200\n",
      "1/1 - 0s - loss: 0.1363 - accuracy: 1.0000\n",
      "Epoch 178/200\n",
      "1/1 - 0s - loss: 0.1340 - accuracy: 1.0000\n",
      "Epoch 179/200\n",
      "1/1 - 0s - loss: 0.1317 - accuracy: 1.0000\n",
      "Epoch 180/200\n",
      "1/1 - 0s - loss: 0.1295 - accuracy: 1.0000\n",
      "Epoch 181/200\n",
      "1/1 - 0s - loss: 0.1273 - accuracy: 1.0000\n",
      "Epoch 182/200\n",
      "1/1 - 0s - loss: 0.1251 - accuracy: 1.0000\n",
      "Epoch 183/200\n",
      "1/1 - 0s - loss: 0.1230 - accuracy: 1.0000\n",
      "Epoch 184/200\n",
      "1/1 - 0s - loss: 0.1210 - accuracy: 1.0000\n",
      "Epoch 185/200\n",
      "1/1 - 0s - loss: 0.1190 - accuracy: 1.0000\n",
      "Epoch 186/200\n",
      "1/1 - 0s - loss: 0.1170 - accuracy: 1.0000\n",
      "Epoch 187/200\n",
      "1/1 - 0s - loss: 0.1151 - accuracy: 1.0000\n",
      "Epoch 188/200\n",
      "1/1 - 0s - loss: 0.1132 - accuracy: 1.0000\n",
      "Epoch 189/200\n",
      "1/1 - 1s - loss: 0.1114 - accuracy: 1.0000\n",
      "Epoch 190/200\n",
      "1/1 - 0s - loss: 0.1095 - accuracy: 1.0000\n",
      "Epoch 191/200\n",
      "1/1 - 0s - loss: 0.1078 - accuracy: 1.0000\n",
      "Epoch 192/200\n",
      "1/1 - 0s - loss: 0.1061 - accuracy: 1.0000\n",
      "Epoch 193/200\n",
      "1/1 - 0s - loss: 0.1044 - accuracy: 1.0000\n",
      "Epoch 194/200\n",
      "1/1 - 0s - loss: 0.1027 - accuracy: 1.0000\n",
      "Epoch 195/200\n",
      "1/1 - 0s - loss: 0.1011 - accuracy: 1.0000\n",
      "Epoch 196/200\n",
      "1/1 - 0s - loss: 0.0995 - accuracy: 1.0000\n",
      "Epoch 197/200\n",
      "1/1 - 0s - loss: 0.0980 - accuracy: 1.0000\n",
      "Epoch 198/200\n",
      "1/1 - 0s - loss: 0.0964 - accuracy: 1.0000\n",
      "Epoch 199/200\n",
      "1/1 - 0s - loss: 0.0950 - accuracy: 1.0000\n",
      "Epoch 200/200\n",
      "1/1 - 0s - loss: 0.0935 - accuracy: 1.0000\n"
     ]
    },
    {
     "data": {
      "text/plain": [
       "<tensorflow.python.keras.callbacks.History at 0x18f4c5ec860>"
      ]
     },
     "execution_count": 15,
     "metadata": {},
     "output_type": "execute_result"
    }
   ],
   "source": [
    "from tensorflow.keras.models import Sequential\n",
    "from tensorflow.keras.layers import Embedding, Dense, SimpleRNN\n",
    "\n",
    "embedding_dim = 10\n",
    "hidden_units = 32\n",
    "\n",
    "model = Sequential()\n",
    "model.add(Embedding(vocab_size, embedding_dim))\n",
    "model.add(SimpleRNN(hidden_units))\n",
    "model.add(Dense(vocab_size, activation='softmax'))\n",
    "model.compile(loss='categorical_crossentropy', optimizer='adam', metrics=['accuracy'])\n",
    "model.fit(X, y, epochs=200, verbose=2)"
   ]
  },
  {
   "cell_type": "markdown",
   "id": "3d9029e0",
   "metadata": {},
   "source": [
    "모델이 정확하게 예측하고 있는지 문장을 생성하는 함수를 만들어서 출력해봅시다."
   ]
  },
  {
   "cell_type": "code",
   "execution_count": 16,
   "id": "2efc174c",
   "metadata": {},
   "outputs": [],
   "source": [
    "def sentence_generation(model, tokenizer, current_word, n): \n",
    "    # 모델, 토크나이저, 현재 단어, 반복할 횟수\n",
    "    init_word = current_word\n",
    "    sentence = ''\n",
    "\n",
    "    # n번 반복\n",
    "    for _ in range(n):\n",
    "        # 현재 단어에 대한 정수 인코딩과 패딩\n",
    "        encoded = tokenizer.texts_to_sequences([current_word])[0]\n",
    "        encoded = pad_sequences([encoded], maxlen=5, padding='pre')\n",
    "        # 입력한 X(현재 단어)에 대해서 Y를 예측하고 Y(예측한 단어)를 result에 저장.\n",
    "        result = model.predict(encoded, verbose=0)\n",
    "        result = np.argmax(result, axis=1)\n",
    "\n",
    "        for word, index in tokenizer.word_index.items(): \n",
    "            # 만약 예측한 단어와 인덱스와 동일한 단어가 있다면 break\n",
    "            if index == result:\n",
    "                break\n",
    "\n",
    "        # 현재 단어 + ' ' + 예측 단어를 현재 단어로 변경\n",
    "        current_word = current_word + ' '  + word\n",
    "\n",
    "        # 예측 단어를 문장에 저장\n",
    "        sentence = sentence + ' ' + word\n",
    "\n",
    "    sentence = init_word + sentence\n",
    "    return sentence"
   ]
  },
  {
   "cell_type": "code",
   "execution_count": 17,
   "id": "010a600c",
   "metadata": {},
   "outputs": [
    {
     "name": "stdout",
     "output_type": "stream",
     "text": [
      "경마장에 있는 말이 뛰고 있다\n"
     ]
    }
   ],
   "source": [
    "print(sentence_generation(model, tokenizer, '경마장에', 4))"
   ]
  },
  {
   "cell_type": "code",
   "execution_count": 18,
   "id": "de0a9969",
   "metadata": {},
   "outputs": [
    {
     "name": "stdout",
     "output_type": "stream",
     "text": [
      "그의 말이 법이다\n"
     ]
    }
   ],
   "source": [
    "print(sentence_generation(model, tokenizer, '그의', 2))"
   ]
  },
  {
   "cell_type": "code",
   "execution_count": 19,
   "id": "928f5fc7",
   "metadata": {},
   "outputs": [
    {
     "name": "stdout",
     "output_type": "stream",
     "text": [
      "가는 말이 고와야 오는 말이 곱다\n"
     ]
    }
   ],
   "source": [
    "print(sentence_generation(model, tokenizer, '가는', 5))"
   ]
  },
  {
   "cell_type": "markdown",
   "id": "d1c4d52f",
   "metadata": {},
   "source": [
    "### 2. LSTM을 이용하여 텍스트 생성하기"
   ]
  },
  {
   "cell_type": "markdown",
   "id": "a3d5f19f",
   "metadata": {},
   "source": [
    "#### 1) 데이터에 대한 이해와 전처리"
   ]
  },
  {
   "cell_type": "code",
   "execution_count": 20,
   "id": "0467b610",
   "metadata": {},
   "outputs": [
    {
     "data": {
      "text/html": [
       "<div>\n",
       "<style scoped>\n",
       "    .dataframe tbody tr th:only-of-type {\n",
       "        vertical-align: middle;\n",
       "    }\n",
       "\n",
       "    .dataframe tbody tr th {\n",
       "        vertical-align: top;\n",
       "    }\n",
       "\n",
       "    .dataframe thead th {\n",
       "        text-align: right;\n",
       "    }\n",
       "</style>\n",
       "<table border=\"1\" class=\"dataframe\">\n",
       "  <thead>\n",
       "    <tr style=\"text-align: right;\">\n",
       "      <th></th>\n",
       "      <th>articleID</th>\n",
       "      <th>articleWordCount</th>\n",
       "      <th>byline</th>\n",
       "      <th>documentType</th>\n",
       "      <th>headline</th>\n",
       "      <th>keywords</th>\n",
       "      <th>multimedia</th>\n",
       "      <th>newDesk</th>\n",
       "      <th>printPage</th>\n",
       "      <th>pubDate</th>\n",
       "      <th>sectionName</th>\n",
       "      <th>snippet</th>\n",
       "      <th>source</th>\n",
       "      <th>typeOfMaterial</th>\n",
       "      <th>webURL</th>\n",
       "    </tr>\n",
       "  </thead>\n",
       "  <tbody>\n",
       "    <tr>\n",
       "      <th>0</th>\n",
       "      <td>5adf6684068401528a2aa69b</td>\n",
       "      <td>781</td>\n",
       "      <td>By JOHN BRANCH</td>\n",
       "      <td>article</td>\n",
       "      <td>Former N.F.L. Cheerleaders’ Settlement Offer: ...</td>\n",
       "      <td>['Workplace Hazards and Violations', 'Football...</td>\n",
       "      <td>68</td>\n",
       "      <td>Sports</td>\n",
       "      <td>0</td>\n",
       "      <td>2018-04-24 17:16:49</td>\n",
       "      <td>Pro Football</td>\n",
       "      <td>“I understand that they could meet with us, pa...</td>\n",
       "      <td>The New York Times</td>\n",
       "      <td>News</td>\n",
       "      <td>https://www.nytimes.com/2018/04/24/sports/foot...</td>\n",
       "    </tr>\n",
       "    <tr>\n",
       "      <th>1</th>\n",
       "      <td>5adf653f068401528a2aa697</td>\n",
       "      <td>656</td>\n",
       "      <td>By LISA FRIEDMAN</td>\n",
       "      <td>article</td>\n",
       "      <td>E.P.A. to Unveil a New Rule. Its Effect: Less ...</td>\n",
       "      <td>['Environmental Protection Agency', 'Pruitt, S...</td>\n",
       "      <td>68</td>\n",
       "      <td>Climate</td>\n",
       "      <td>0</td>\n",
       "      <td>2018-04-24 17:11:21</td>\n",
       "      <td>Unknown</td>\n",
       "      <td>The agency plans to publish a new regulation T...</td>\n",
       "      <td>The New York Times</td>\n",
       "      <td>News</td>\n",
       "      <td>https://www.nytimes.com/2018/04/24/climate/epa...</td>\n",
       "    </tr>\n",
       "    <tr>\n",
       "      <th>2</th>\n",
       "      <td>5adf4626068401528a2aa628</td>\n",
       "      <td>2427</td>\n",
       "      <td>By PETE WELLS</td>\n",
       "      <td>article</td>\n",
       "      <td>The New Noma, Explained</td>\n",
       "      <td>['Restaurants', 'Noma (Copenhagen, Restaurant)...</td>\n",
       "      <td>66</td>\n",
       "      <td>Dining</td>\n",
       "      <td>0</td>\n",
       "      <td>2018-04-24 14:58:44</td>\n",
       "      <td>Unknown</td>\n",
       "      <td>What’s it like to eat at the second incarnatio...</td>\n",
       "      <td>The New York Times</td>\n",
       "      <td>News</td>\n",
       "      <td>https://www.nytimes.com/2018/04/24/dining/noma...</td>\n",
       "    </tr>\n",
       "    <tr>\n",
       "      <th>3</th>\n",
       "      <td>5adf40d2068401528a2aa619</td>\n",
       "      <td>626</td>\n",
       "      <td>By JULIE HIRSCHFELD DAVIS and PETER BAKER</td>\n",
       "      <td>article</td>\n",
       "      <td>Unknown</td>\n",
       "      <td>['Macron, Emmanuel (1977- )', 'Trump, Donald J...</td>\n",
       "      <td>68</td>\n",
       "      <td>Washington</td>\n",
       "      <td>0</td>\n",
       "      <td>2018-04-24 14:35:57</td>\n",
       "      <td>Europe</td>\n",
       "      <td>President Trump welcomed President Emmanuel Ma...</td>\n",
       "      <td>The New York Times</td>\n",
       "      <td>News</td>\n",
       "      <td>https://www.nytimes.com/2018/04/24/world/europ...</td>\n",
       "    </tr>\n",
       "    <tr>\n",
       "      <th>4</th>\n",
       "      <td>5adf3d64068401528a2aa60f</td>\n",
       "      <td>815</td>\n",
       "      <td>By IAN AUSTEN and DAN BILEFSKY</td>\n",
       "      <td>article</td>\n",
       "      <td>Unknown</td>\n",
       "      <td>['Toronto, Ontario, Attack (April, 2018)', 'Mu...</td>\n",
       "      <td>68</td>\n",
       "      <td>Foreign</td>\n",
       "      <td>0</td>\n",
       "      <td>2018-04-24 14:21:21</td>\n",
       "      <td>Canada</td>\n",
       "      <td>Alek Minassian, 25, a resident of Toronto’s Ri...</td>\n",
       "      <td>The New York Times</td>\n",
       "      <td>News</td>\n",
       "      <td>https://www.nytimes.com/2018/04/24/world/canad...</td>\n",
       "    </tr>\n",
       "  </tbody>\n",
       "</table>\n",
       "</div>"
      ],
      "text/plain": [
       "                  articleID  articleWordCount  \\\n",
       "0  5adf6684068401528a2aa69b               781   \n",
       "1  5adf653f068401528a2aa697               656   \n",
       "2  5adf4626068401528a2aa628              2427   \n",
       "3  5adf40d2068401528a2aa619               626   \n",
       "4  5adf3d64068401528a2aa60f               815   \n",
       "\n",
       "                                      byline documentType  \\\n",
       "0                             By JOHN BRANCH      article   \n",
       "1                           By LISA FRIEDMAN      article   \n",
       "2                              By PETE WELLS      article   \n",
       "3  By JULIE HIRSCHFELD DAVIS and PETER BAKER      article   \n",
       "4             By IAN AUSTEN and DAN BILEFSKY      article   \n",
       "\n",
       "                                            headline  \\\n",
       "0  Former N.F.L. Cheerleaders’ Settlement Offer: ...   \n",
       "1  E.P.A. to Unveil a New Rule. Its Effect: Less ...   \n",
       "2                            The New Noma, Explained   \n",
       "3                                            Unknown   \n",
       "4                                            Unknown   \n",
       "\n",
       "                                            keywords  multimedia     newDesk  \\\n",
       "0  ['Workplace Hazards and Violations', 'Football...          68      Sports   \n",
       "1  ['Environmental Protection Agency', 'Pruitt, S...          68     Climate   \n",
       "2  ['Restaurants', 'Noma (Copenhagen, Restaurant)...          66      Dining   \n",
       "3  ['Macron, Emmanuel (1977- )', 'Trump, Donald J...          68  Washington   \n",
       "4  ['Toronto, Ontario, Attack (April, 2018)', 'Mu...          68     Foreign   \n",
       "\n",
       "   printPage              pubDate   sectionName  \\\n",
       "0          0  2018-04-24 17:16:49  Pro Football   \n",
       "1          0  2018-04-24 17:11:21       Unknown   \n",
       "2          0  2018-04-24 14:58:44       Unknown   \n",
       "3          0  2018-04-24 14:35:57        Europe   \n",
       "4          0  2018-04-24 14:21:21        Canada   \n",
       "\n",
       "                                             snippet              source  \\\n",
       "0  “I understand that they could meet with us, pa...  The New York Times   \n",
       "1  The agency plans to publish a new regulation T...  The New York Times   \n",
       "2  What’s it like to eat at the second incarnatio...  The New York Times   \n",
       "3  President Trump welcomed President Emmanuel Ma...  The New York Times   \n",
       "4  Alek Minassian, 25, a resident of Toronto’s Ri...  The New York Times   \n",
       "\n",
       "  typeOfMaterial                                             webURL  \n",
       "0           News  https://www.nytimes.com/2018/04/24/sports/foot...  \n",
       "1           News  https://www.nytimes.com/2018/04/24/climate/epa...  \n",
       "2           News  https://www.nytimes.com/2018/04/24/dining/noma...  \n",
       "3           News  https://www.nytimes.com/2018/04/24/world/europ...  \n",
       "4           News  https://www.nytimes.com/2018/04/24/world/canad...  "
      ]
     },
     "execution_count": 20,
     "metadata": {},
     "output_type": "execute_result"
    }
   ],
   "source": [
    "import pandas as pd\n",
    "import numpy as np\n",
    "from string import punctuation\n",
    "\n",
    "from tensorflow.keras.preprocessing.text import Tokenizer\n",
    "from tensorflow.keras.preprocessing.sequence import pad_sequences\n",
    "from tensorflow.keras.utils import to_categorical\n",
    "\n",
    "df = pd.read_csv('datasets/ArticlesApril2018.csv')\n",
    "df.head()"
   ]
  },
  {
   "cell_type": "code",
   "execution_count": 21,
   "id": "bcdd42b0",
   "metadata": {},
   "outputs": [
    {
     "name": "stdout",
     "output_type": "stream",
     "text": [
      "열의 개수:  15\n",
      "Index(['articleID', 'articleWordCount', 'byline', 'documentType', 'headline',\n",
      "       'keywords', 'multimedia', 'newDesk', 'printPage', 'pubDate',\n",
      "       'sectionName', 'snippet', 'source', 'typeOfMaterial', 'webURL'],\n",
      "      dtype='object')\n"
     ]
    }
   ],
   "source": [
    "print('열의 개수: ',len(df.columns))\n",
    "print(df.columns)"
   ]
  },
  {
   "cell_type": "code",
   "execution_count": 22,
   "id": "7aeed56d",
   "metadata": {},
   "outputs": [
    {
     "name": "stdout",
     "output_type": "stream",
     "text": [
      "False\n"
     ]
    }
   ],
   "source": [
    "print(df['headline'].isnull().values.any())\n",
    "# Null 값은 별도로 없는 것으로 보입니다."
   ]
  },
  {
   "cell_type": "markdown",
   "id": "e6f7618a",
   "metadata": {},
   "source": [
    "headline 열에서 모든 신문 기사의 제목을 뽑아서 하나의 리스트로 저장해보도록 하겠습니다."
   ]
  },
  {
   "cell_type": "code",
   "execution_count": 23,
   "id": "bd1f2463",
   "metadata": {},
   "outputs": [
    {
     "data": {
      "text/plain": [
       "['Former N.F.L. Cheerleaders’ Settlement Offer: $1 and a Meeting With Goodell',\n",
       " 'E.P.A. to Unveil a New Rule. Its Effect: Less Science in Policymaking.',\n",
       " 'The New Noma, Explained',\n",
       " 'Unknown',\n",
       " 'Unknown']"
      ]
     },
     "execution_count": 23,
     "metadata": {},
     "output_type": "execute_result"
    }
   ],
   "source": [
    "headline = []\n",
    "# 헤드라인의 값들을 리스트로 저장\n",
    "headline.extend(list(df.headline.values)) \n",
    "headline[:5]"
   ]
  },
  {
   "cell_type": "code",
   "execution_count": 24,
   "id": "8413b6c4",
   "metadata": {},
   "outputs": [
    {
     "name": "stdout",
     "output_type": "stream",
     "text": [
      "노이즈값 제거 전 샘플의 개수 : 1324\n",
      "노이즈값 제거 후 샘플의 개수 : 1214\n"
     ]
    }
   ],
   "source": [
    "print('노이즈값 제거 전 샘플의 개수 : {}'.format(len(headline)))\n",
    "headline = [word for word in headline if word != \"Unknown\"]\n",
    "print('노이즈값 제거 후 샘플의 개수 : {}'.format(len(headline)))"
   ]
  },
  {
   "cell_type": "code",
   "execution_count": 25,
   "id": "10859e1c",
   "metadata": {},
   "outputs": [
    {
     "data": {
      "text/plain": [
       "['Former N.F.L. Cheerleaders’ Settlement Offer: $1 and a Meeting With Goodell',\n",
       " 'E.P.A. to Unveil a New Rule. Its Effect: Less Science in Policymaking.',\n",
       " 'The New Noma, Explained',\n",
       " 'How a Bag of Texas Dirt  Became a Times Tradition',\n",
       " 'Is School a Place for Self-Expression?']"
      ]
     },
     "execution_count": 25,
     "metadata": {},
     "output_type": "execute_result"
    }
   ],
   "source": [
    "headline[:5]"
   ]
  },
  {
   "cell_type": "markdown",
   "id": "1be28f13",
   "metadata": {},
   "source": [
    "**구두점 제거**와 단어의 **소문자화**를 수행합니다. "
   ]
  },
  {
   "cell_type": "code",
   "execution_count": 26,
   "id": "07cc16c7",
   "metadata": {},
   "outputs": [
    {
     "data": {
      "text/plain": [
       "['former nfl cheerleaders settlement offer 1 and a meeting with goodell',\n",
       " 'epa to unveil a new rule its effect less science in policymaking',\n",
       " 'the new noma explained',\n",
       " 'how a bag of texas dirt  became a times tradition',\n",
       " 'is school a place for selfexpression']"
      ]
     },
     "execution_count": 26,
     "metadata": {},
     "output_type": "execute_result"
    }
   ],
   "source": [
    "def repreprocessing(raw_sentence):\n",
    "    preproceseed_sentence = raw_sentence.encode(\"utf8\").decode(\"ascii\",'ignore')\n",
    "    # 구두점 제거와 동시에 소문자화\n",
    "    return ''.join(word for word in preproceseed_sentence if word not in punctuation).lower()\n",
    "\n",
    "preporcessed_headline = [repreprocessing(x) for x in headline]\n",
    "preporcessed_headline[:5]"
   ]
  },
  {
   "cell_type": "markdown",
   "id": "f07369ea",
   "metadata": {},
   "source": [
    "단어 집합(vocabulary)을 만들고 크기를 확인합니다."
   ]
  },
  {
   "cell_type": "code",
   "execution_count": 27,
   "id": "ccd28779",
   "metadata": {},
   "outputs": [
    {
     "name": "stdout",
     "output_type": "stream",
     "text": [
      "단어 집합의 크기 : 3494\n"
     ]
    }
   ],
   "source": [
    "tokenizer = Tokenizer()\n",
    "tokenizer.fit_on_texts(preporcessed_headline)\n",
    "vocab_size = len(tokenizer.word_index) + 1\n",
    "print('단어 집합의 크기 : %d' % vocab_size)"
   ]
  },
  {
   "cell_type": "markdown",
   "id": "1dcf2729",
   "metadata": {},
   "source": [
    "정수 인코딩을 진행하는 동시에 하나의 문장을 여러 줄로 분해하여 훈련 데이터를 구성합니다."
   ]
  },
  {
   "cell_type": "code",
   "execution_count": 28,
   "id": "aea65cba",
   "metadata": {},
   "outputs": [
    {
     "data": {
      "text/plain": [
       "[[99, 269],\n",
       " [99, 269, 371],\n",
       " [99, 269, 371, 1115],\n",
       " [99, 269, 371, 1115, 582],\n",
       " [99, 269, 371, 1115, 582, 52],\n",
       " [99, 269, 371, 1115, 582, 52, 7],\n",
       " [99, 269, 371, 1115, 582, 52, 7, 2],\n",
       " [99, 269, 371, 1115, 582, 52, 7, 2, 372],\n",
       " [99, 269, 371, 1115, 582, 52, 7, 2, 372, 10],\n",
       " [99, 269, 371, 1115, 582, 52, 7, 2, 372, 10, 1116],\n",
       " [100, 3]]"
      ]
     },
     "execution_count": 28,
     "metadata": {},
     "output_type": "execute_result"
    }
   ],
   "source": [
    "sequences = list()\n",
    "\n",
    "for sentence in preporcessed_headline:\n",
    "\n",
    "    # 각 샘플에 대한 정수 인코딩\n",
    "    encoded = tokenizer.texts_to_sequences([sentence])[0] \n",
    "    for i in range(1, len(encoded)):\n",
    "        sequence = encoded[:i+1]\n",
    "        sequences.append(sequence)\n",
    "\n",
    "sequences[:11]"
   ]
  },
  {
   "cell_type": "markdown",
   "id": "faff7cbd",
   "metadata": {},
   "source": [
    "어떤 정수가 어떤 단어를 의미하는지 알아보기 위해 인덱스로부터 단어를 찾는 index_to_word를 만듭니다."
   ]
  },
  {
   "cell_type": "code",
   "execution_count": 29,
   "id": "3240a883",
   "metadata": {},
   "outputs": [
    {
     "name": "stdout",
     "output_type": "stream",
     "text": [
      "빈도수 상위 582번 단어 : offer\n"
     ]
    }
   ],
   "source": [
    "index_to_word = {}\n",
    "for key, value in tokenizer.word_index.items(): \n",
    "    # 인덱스를 단어로 바꾸기 위해 index_to_word를 생성\n",
    "    index_to_word[value] = key\n",
    "\n",
    "print('빈도수 상위 582번 단어 : {}'.format(index_to_word[582]))"
   ]
  },
  {
   "cell_type": "code",
   "execution_count": 30,
   "id": "9d2ff889",
   "metadata": {},
   "outputs": [
    {
     "name": "stdout",
     "output_type": "stream",
     "text": [
      "샘플의 최대 길이 : 24\n"
     ]
    }
   ],
   "source": [
    "max_len = max(len(l) for l in sequences)\n",
    "print('샘플의 최대 길이 : {}'.format(max_len))"
   ]
  },
  {
   "cell_type": "markdown",
   "id": "a595fc88",
   "metadata": {},
   "source": [
    "가장 긴 샘플의 길이인 24로 모든 샘플의 길이를 패딩하겠습니다."
   ]
  },
  {
   "cell_type": "code",
   "execution_count": 31,
   "id": "4f5a3301",
   "metadata": {},
   "outputs": [
    {
     "name": "stdout",
     "output_type": "stream",
     "text": [
      "[[   0    0    0    0    0    0    0    0    0    0    0    0    0    0\n",
      "     0    0    0    0    0    0    0    0   99  269]\n",
      " [   0    0    0    0    0    0    0    0    0    0    0    0    0    0\n",
      "     0    0    0    0    0    0    0   99  269  371]\n",
      " [   0    0    0    0    0    0    0    0    0    0    0    0    0    0\n",
      "     0    0    0    0    0    0   99  269  371 1115]]\n"
     ]
    }
   ],
   "source": [
    "sequences = pad_sequences(sequences, maxlen=max_len, padding='pre')\n",
    "print(sequences[:3])"
   ]
  },
  {
   "cell_type": "code",
   "execution_count": 32,
   "id": "0cbf78f9",
   "metadata": {},
   "outputs": [],
   "source": [
    "sequences = np.array(sequences)\n",
    "X = sequences[:,:-1]\n",
    "y = sequences[:,-1]"
   ]
  },
  {
   "cell_type": "code",
   "execution_count": 33,
   "id": "021d7884",
   "metadata": {},
   "outputs": [
    {
     "name": "stdout",
     "output_type": "stream",
     "text": [
      "[[  0   0   0   0   0   0   0   0   0   0   0   0   0   0   0   0   0   0\n",
      "    0   0   0   0  99]\n",
      " [  0   0   0   0   0   0   0   0   0   0   0   0   0   0   0   0   0   0\n",
      "    0   0   0  99 269]\n",
      " [  0   0   0   0   0   0   0   0   0   0   0   0   0   0   0   0   0   0\n",
      "    0   0  99 269 371]]\n"
     ]
    }
   ],
   "source": [
    "print(X[:3])"
   ]
  },
  {
   "cell_type": "code",
   "execution_count": 34,
   "id": "d33c6af0",
   "metadata": {},
   "outputs": [
    {
     "name": "stdout",
     "output_type": "stream",
     "text": [
      "[ 269  371 1115]\n"
     ]
    }
   ],
   "source": [
    "print(y[:3])"
   ]
  },
  {
   "cell_type": "markdown",
   "id": "e3e4356b",
   "metadata": {},
   "source": [
    "레이블 데이터 y에 대해서 원-핫 인코딩을 수행하겠습니다."
   ]
  },
  {
   "cell_type": "code",
   "execution_count": 36,
   "id": "596260ee",
   "metadata": {},
   "outputs": [],
   "source": [
    "y = to_categorical(y, num_classes=vocab_size)"
   ]
  },
  {
   "cell_type": "markdown",
   "id": "74cb6f0a",
   "metadata": {},
   "source": [
    "#### 2) 모델 설계하기"
   ]
  },
  {
   "cell_type": "code",
   "execution_count": 37,
   "id": "135a97b5",
   "metadata": {},
   "outputs": [
    {
     "name": "stdout",
     "output_type": "stream",
     "text": [
      "Epoch 1/200\n",
      "244/244 - 11s - loss: 7.6365 - accuracy: 0.0306\n",
      "Epoch 2/200\n",
      "244/244 - 3s - loss: 7.1099 - accuracy: 0.0299\n",
      "Epoch 3/200\n",
      "244/244 - 3s - loss: 6.9723 - accuracy: 0.0351\n",
      "Epoch 4/200\n",
      "244/244 - 2s - loss: 6.8415 - accuracy: 0.0425\n",
      "Epoch 5/200\n",
      "244/244 - 2s - loss: 6.6893 - accuracy: 0.0447\n",
      "Epoch 6/200\n",
      "244/244 - 1s - loss: 6.5201 - accuracy: 0.0495\n",
      "Epoch 7/200\n",
      "244/244 - 3s - loss: 6.3341 - accuracy: 0.0519\n",
      "Epoch 8/200\n",
      "244/244 - 5s - loss: 6.1409 - accuracy: 0.0557\n",
      "Epoch 9/200\n",
      "244/244 - 3s - loss: 5.9582 - accuracy: 0.0636\n",
      "Epoch 10/200\n",
      "244/244 - 3s - loss: 5.7774 - accuracy: 0.0655\n",
      "Epoch 11/200\n",
      "244/244 - 4s - loss: 5.6076 - accuracy: 0.0719\n",
      "Epoch 12/200\n",
      "244/244 - 3s - loss: 5.4476 - accuracy: 0.0751\n",
      "Epoch 13/200\n",
      "244/244 - 3s - loss: 5.2932 - accuracy: 0.0813\n",
      "Epoch 14/200\n",
      "244/244 - 4s - loss: 5.1454 - accuracy: 0.0865\n",
      "Epoch 15/200\n",
      "244/244 - 1s - loss: 5.0031 - accuracy: 0.0939\n",
      "Epoch 16/200\n",
      "244/244 - 2s - loss: 4.8653 - accuracy: 0.1055\n",
      "Epoch 17/200\n",
      "244/244 - 1s - loss: 4.7339 - accuracy: 0.1138\n",
      "Epoch 18/200\n",
      "244/244 - 1s - loss: 4.6057 - accuracy: 0.1275\n",
      "Epoch 19/200\n",
      "244/244 - 1s - loss: 4.4830 - accuracy: 0.1421\n",
      "Epoch 20/200\n",
      "244/244 - 1s - loss: 4.3623 - accuracy: 0.1588\n",
      "Epoch 21/200\n",
      "244/244 - 1s - loss: 4.2463 - accuracy: 0.1747\n",
      "Epoch 22/200\n",
      "244/244 - 1s - loss: 4.1337 - accuracy: 0.1926\n",
      "Epoch 23/200\n",
      "244/244 - 1s - loss: 4.0239 - accuracy: 0.2122\n",
      "Epoch 24/200\n",
      "244/244 - 1s - loss: 3.9205 - accuracy: 0.2268\n",
      "Epoch 25/200\n",
      "244/244 - 1s - loss: 3.8182 - accuracy: 0.2458\n",
      "Epoch 26/200\n",
      "244/244 - 1s - loss: 3.7219 - accuracy: 0.2595\n",
      "Epoch 27/200\n",
      "244/244 - 1s - loss: 3.6232 - accuracy: 0.2769\n",
      "Epoch 28/200\n",
      "244/244 - 1s - loss: 3.5347 - accuracy: 0.2867\n",
      "Epoch 29/200\n",
      "244/244 - 1s - loss: 3.4443 - accuracy: 0.3054\n",
      "Epoch 30/200\n",
      "244/244 - 1s - loss: 3.3564 - accuracy: 0.3232\n",
      "Epoch 31/200\n",
      "244/244 - 1s - loss: 3.2783 - accuracy: 0.3399\n",
      "Epoch 32/200\n",
      "244/244 - 1s - loss: 3.1954 - accuracy: 0.3513\n",
      "Epoch 33/200\n",
      "244/244 - 1s - loss: 3.1189 - accuracy: 0.3658\n",
      "Epoch 34/200\n",
      "244/244 - 1s - loss: 3.0472 - accuracy: 0.3747\n",
      "Epoch 35/200\n",
      "244/244 - 1s - loss: 2.9752 - accuracy: 0.3911\n",
      "Epoch 36/200\n",
      "244/244 - 1s - loss: 2.9072 - accuracy: 0.4038\n",
      "Epoch 37/200\n",
      "244/244 - 1s - loss: 2.8378 - accuracy: 0.4139\n",
      "Epoch 38/200\n",
      "244/244 - 1s - loss: 2.7744 - accuracy: 0.4298\n",
      "Epoch 39/200\n",
      "244/244 - 1s - loss: 2.7127 - accuracy: 0.4424\n",
      "Epoch 40/200\n",
      "244/244 - 1s - loss: 2.6550 - accuracy: 0.4526\n",
      "Epoch 41/200\n",
      "244/244 - 1s - loss: 2.5962 - accuracy: 0.4671\n",
      "Epoch 42/200\n",
      "244/244 - 1s - loss: 2.5383 - accuracy: 0.4762\n",
      "Epoch 43/200\n",
      "244/244 - 1s - loss: 2.4852 - accuracy: 0.4867\n",
      "Epoch 44/200\n",
      "244/244 - 1s - loss: 2.4311 - accuracy: 0.4955\n",
      "Epoch 45/200\n",
      "244/244 - 1s - loss: 2.3811 - accuracy: 0.5078\n",
      "Epoch 46/200\n",
      "244/244 - 1s - loss: 2.3311 - accuracy: 0.5154\n",
      "Epoch 47/200\n",
      "244/244 - 1s - loss: 2.2789 - accuracy: 0.5311\n",
      "Epoch 48/200\n",
      "244/244 - 1s - loss: 2.2330 - accuracy: 0.5386\n",
      "Epoch 49/200\n",
      "244/244 - 1s - loss: 2.1882 - accuracy: 0.5466\n",
      "Epoch 50/200\n",
      "244/244 - 1s - loss: 2.1398 - accuracy: 0.5562\n",
      "Epoch 51/200\n",
      "244/244 - 1s - loss: 2.0978 - accuracy: 0.5652\n",
      "Epoch 52/200\n",
      "244/244 - 1s - loss: 2.0558 - accuracy: 0.5744\n",
      "Epoch 53/200\n",
      "244/244 - 1s - loss: 2.0129 - accuracy: 0.5827\n",
      "Epoch 54/200\n",
      "244/244 - 1s - loss: 1.9720 - accuracy: 0.5944\n",
      "Epoch 55/200\n",
      "244/244 - 1s - loss: 1.9301 - accuracy: 0.6068\n",
      "Epoch 56/200\n",
      "244/244 - 1s - loss: 1.8939 - accuracy: 0.6101\n",
      "Epoch 57/200\n",
      "244/244 - 1s - loss: 1.8506 - accuracy: 0.6214\n",
      "Epoch 58/200\n",
      "244/244 - 1s - loss: 1.8169 - accuracy: 0.6267\n",
      "Epoch 59/200\n",
      "244/244 - 1s - loss: 1.7762 - accuracy: 0.6372\n",
      "Epoch 60/200\n",
      "244/244 - 1s - loss: 1.7423 - accuracy: 0.6398\n",
      "Epoch 61/200\n",
      "244/244 - 1s - loss: 1.7073 - accuracy: 0.6535\n",
      "Epoch 62/200\n",
      "244/244 - 1s - loss: 1.6713 - accuracy: 0.6588\n",
      "Epoch 63/200\n",
      "244/244 - 1s - loss: 1.6383 - accuracy: 0.6654\n",
      "Epoch 64/200\n",
      "244/244 - 1s - loss: 1.6016 - accuracy: 0.6744\n",
      "Epoch 65/200\n",
      "244/244 - 1s - loss: 1.5678 - accuracy: 0.6792\n",
      "Epoch 66/200\n",
      "244/244 - 1s - loss: 1.5343 - accuracy: 0.6869\n",
      "Epoch 67/200\n",
      "244/244 - 1s - loss: 1.5058 - accuracy: 0.6926\n",
      "Epoch 68/200\n",
      "244/244 - 1s - loss: 1.4713 - accuracy: 0.7051\n",
      "Epoch 69/200\n",
      "244/244 - 1s - loss: 1.4436 - accuracy: 0.7051\n",
      "Epoch 70/200\n",
      "244/244 - 1s - loss: 1.4102 - accuracy: 0.7173\n",
      "Epoch 71/200\n",
      "244/244 - 1s - loss: 1.3809 - accuracy: 0.7209\n",
      "Epoch 72/200\n",
      "244/244 - 1s - loss: 1.3502 - accuracy: 0.7283\n",
      "Epoch 73/200\n",
      "244/244 - 1s - loss: 1.3246 - accuracy: 0.7328\n",
      "Epoch 74/200\n",
      "244/244 - 1s - loss: 1.2936 - accuracy: 0.7432\n",
      "Epoch 75/200\n",
      "244/244 - 1s - loss: 1.2687 - accuracy: 0.7468\n",
      "Epoch 76/200\n",
      "244/244 - 1s - loss: 1.2424 - accuracy: 0.7489\n",
      "Epoch 77/200\n",
      "244/244 - 1s - loss: 1.2157 - accuracy: 0.7571\n",
      "Epoch 78/200\n",
      "244/244 - 1s - loss: 1.1901 - accuracy: 0.7623\n",
      "Epoch 79/200\n",
      "244/244 - 1s - loss: 1.1627 - accuracy: 0.7692\n",
      "Epoch 80/200\n",
      "244/244 - 1s - loss: 1.1408 - accuracy: 0.7712\n",
      "Epoch 81/200\n",
      "244/244 - 1s - loss: 1.1156 - accuracy: 0.7801\n",
      "Epoch 82/200\n",
      "244/244 - 1s - loss: 1.0912 - accuracy: 0.7834\n",
      "Epoch 83/200\n",
      "244/244 - 1s - loss: 1.0706 - accuracy: 0.7864\n",
      "Epoch 84/200\n",
      "244/244 - 1s - loss: 1.0443 - accuracy: 0.7925\n",
      "Epoch 85/200\n",
      "244/244 - 1s - loss: 1.0204 - accuracy: 0.7985\n",
      "Epoch 86/200\n",
      "244/244 - 1s - loss: 0.9996 - accuracy: 0.8070\n",
      "Epoch 87/200\n",
      "244/244 - 1s - loss: 0.9802 - accuracy: 0.8065\n",
      "Epoch 88/200\n",
      "244/244 - 1s - loss: 0.9580 - accuracy: 0.8116\n",
      "Epoch 89/200\n",
      "244/244 - 1s - loss: 0.9367 - accuracy: 0.8169\n",
      "Epoch 90/200\n",
      "244/244 - 1s - loss: 0.9153 - accuracy: 0.8207\n",
      "Epoch 91/200\n",
      "244/244 - 1s - loss: 0.8969 - accuracy: 0.8258\n",
      "Epoch 92/200\n",
      "244/244 - 1s - loss: 0.8788 - accuracy: 0.8299\n",
      "Epoch 93/200\n",
      "244/244 - 1s - loss: 0.8584 - accuracy: 0.8338\n",
      "Epoch 94/200\n",
      "244/244 - 1s - loss: 0.8405 - accuracy: 0.8392\n",
      "Epoch 95/200\n",
      "244/244 - 1s - loss: 0.8217 - accuracy: 0.8415\n",
      "Epoch 96/200\n",
      "244/244 - 1s - loss: 0.8036 - accuracy: 0.8445\n",
      "Epoch 97/200\n",
      "244/244 - 1s - loss: 0.7892 - accuracy: 0.8440\n",
      "Epoch 98/200\n",
      "244/244 - 1s - loss: 0.7719 - accuracy: 0.8517\n",
      "Epoch 99/200\n",
      "244/244 - 1s - loss: 0.7557 - accuracy: 0.8535\n",
      "Epoch 100/200\n",
      "244/244 - 1s - loss: 0.7390 - accuracy: 0.8549\n",
      "Epoch 101/200\n",
      "244/244 - 1s - loss: 0.7228 - accuracy: 0.8590\n",
      "Epoch 102/200\n",
      "244/244 - 1s - loss: 0.7059 - accuracy: 0.8644\n",
      "Epoch 103/200\n",
      "244/244 - 1s - loss: 0.6914 - accuracy: 0.8654\n",
      "Epoch 104/200\n",
      "244/244 - 1s - loss: 0.6761 - accuracy: 0.8688\n",
      "Epoch 105/200\n",
      "244/244 - 1s - loss: 0.6620 - accuracy: 0.8700\n",
      "Epoch 106/200\n",
      "244/244 - 1s - loss: 0.6499 - accuracy: 0.8740\n",
      "Epoch 107/200\n",
      "244/244 - 1s - loss: 0.6361 - accuracy: 0.8749\n",
      "Epoch 108/200\n",
      "244/244 - 1s - loss: 0.6257 - accuracy: 0.8745\n",
      "Epoch 109/200\n",
      "244/244 - 1s - loss: 0.6113 - accuracy: 0.8788\n",
      "Epoch 110/200\n",
      "244/244 - 1s - loss: 0.5989 - accuracy: 0.8813\n",
      "Epoch 111/200\n",
      "244/244 - 1s - loss: 0.5851 - accuracy: 0.8859\n",
      "Epoch 112/200\n",
      "244/244 - 1s - loss: 0.5768 - accuracy: 0.8871\n",
      "Epoch 113/200\n",
      "244/244 - 1s - loss: 0.5779 - accuracy: 0.8839\n",
      "Epoch 114/200\n",
      "244/244 - 1s - loss: 0.5546 - accuracy: 0.8881\n",
      "Epoch 115/200\n",
      "244/244 - 1s - loss: 0.5426 - accuracy: 0.8903\n",
      "Epoch 116/200\n",
      "244/244 - 1s - loss: 0.5295 - accuracy: 0.8923\n",
      "Epoch 117/200\n",
      "244/244 - 1s - loss: 0.5195 - accuracy: 0.8957\n",
      "Epoch 118/200\n",
      "244/244 - 1s - loss: 0.5108 - accuracy: 0.8959\n",
      "Epoch 119/200\n",
      "244/244 - 1s - loss: 0.5006 - accuracy: 0.8971\n",
      "Epoch 120/200\n",
      "244/244 - 1s - loss: 0.4921 - accuracy: 0.8997\n",
      "Epoch 121/200\n",
      "244/244 - 1s - loss: 0.4832 - accuracy: 0.9003\n",
      "Epoch 122/200\n",
      "244/244 - 1s - loss: 0.4769 - accuracy: 0.9000\n",
      "Epoch 123/200\n",
      "244/244 - 1s - loss: 0.4661 - accuracy: 0.9026\n",
      "Epoch 124/200\n",
      "244/244 - 1s - loss: 0.4567 - accuracy: 0.9029\n",
      "Epoch 125/200\n",
      "244/244 - 1s - loss: 0.4499 - accuracy: 0.9054\n",
      "Epoch 126/200\n",
      "244/244 - 1s - loss: 0.4431 - accuracy: 0.9061\n",
      "Epoch 127/200\n",
      "244/244 - 1s - loss: 0.4346 - accuracy: 0.9047\n",
      "Epoch 128/200\n",
      "244/244 - 1s - loss: 0.4278 - accuracy: 0.9062\n",
      "Epoch 129/200\n",
      "244/244 - 1s - loss: 0.4209 - accuracy: 0.9080\n",
      "Epoch 130/200\n",
      "244/244 - 1s - loss: 0.4122 - accuracy: 0.9099\n",
      "Epoch 131/200\n",
      "244/244 - 1s - loss: 0.4084 - accuracy: 0.9094\n",
      "Epoch 132/200\n",
      "244/244 - 1s - loss: 0.4029 - accuracy: 0.9093\n",
      "Epoch 133/200\n",
      "244/244 - 1s - loss: 0.3981 - accuracy: 0.9103\n",
      "Epoch 134/200\n",
      "244/244 - 1s - loss: 0.3901 - accuracy: 0.9109\n",
      "Epoch 135/200\n",
      "244/244 - 1s - loss: 0.3824 - accuracy: 0.9113\n",
      "Epoch 136/200\n",
      "244/244 - 1s - loss: 0.3792 - accuracy: 0.9130\n",
      "Epoch 137/200\n"
     ]
    },
    {
     "name": "stdout",
     "output_type": "stream",
     "text": [
      "244/244 - 1s - loss: 0.3750 - accuracy: 0.9116\n",
      "Epoch 138/200\n",
      "244/244 - 1s - loss: 0.3696 - accuracy: 0.9121\n",
      "Epoch 139/200\n",
      "244/244 - 1s - loss: 0.3680 - accuracy: 0.9132\n",
      "Epoch 140/200\n",
      "244/244 - 1s - loss: 0.3739 - accuracy: 0.9107\n",
      "Epoch 141/200\n",
      "244/244 - 1s - loss: 0.3632 - accuracy: 0.9136\n",
      "Epoch 142/200\n",
      "244/244 - 1s - loss: 0.3529 - accuracy: 0.9132\n",
      "Epoch 143/200\n",
      "244/244 - 1s - loss: 0.3500 - accuracy: 0.9149\n",
      "Epoch 144/200\n",
      "244/244 - 1s - loss: 0.3445 - accuracy: 0.9134\n",
      "Epoch 145/200\n",
      "244/244 - 1s - loss: 0.3394 - accuracy: 0.9166\n",
      "Epoch 146/200\n",
      "244/244 - 1s - loss: 0.3367 - accuracy: 0.9144\n",
      "Epoch 147/200\n",
      "244/244 - 1s - loss: 0.3341 - accuracy: 0.9146\n",
      "Epoch 148/200\n",
      "244/244 - 1s - loss: 0.3329 - accuracy: 0.9143\n",
      "Epoch 149/200\n",
      "244/244 - 1s - loss: 0.3303 - accuracy: 0.9162\n",
      "Epoch 150/200\n",
      "244/244 - 1s - loss: 0.3262 - accuracy: 0.9143\n",
      "Epoch 151/200\n",
      "244/244 - 1s - loss: 0.3232 - accuracy: 0.9149\n",
      "Epoch 152/200\n",
      "244/244 - 1s - loss: 0.3216 - accuracy: 0.9130\n",
      "Epoch 153/200\n",
      "244/244 - 1s - loss: 0.3182 - accuracy: 0.9146\n",
      "Epoch 154/200\n",
      "244/244 - 1s - loss: 0.3159 - accuracy: 0.9163\n",
      "Epoch 155/200\n",
      "244/244 - 1s - loss: 0.3122 - accuracy: 0.9179\n",
      "Epoch 156/200\n",
      "244/244 - 1s - loss: 0.3111 - accuracy: 0.9163\n",
      "Epoch 157/200\n",
      "244/244 - 1s - loss: 0.3140 - accuracy: 0.9149\n",
      "Epoch 158/200\n",
      "244/244 - 1s - loss: 0.3074 - accuracy: 0.9164\n",
      "Epoch 159/200\n",
      "244/244 - 1s - loss: 0.3125 - accuracy: 0.9145\n",
      "Epoch 160/200\n",
      "244/244 - 1s - loss: 0.3099 - accuracy: 0.9161\n",
      "Epoch 161/200\n",
      "244/244 - 1s - loss: 0.3010 - accuracy: 0.9176\n",
      "Epoch 162/200\n",
      "244/244 - 1s - loss: 0.2989 - accuracy: 0.9158\n",
      "Epoch 163/200\n",
      "244/244 - 1s - loss: 0.2958 - accuracy: 0.9161\n",
      "Epoch 164/200\n",
      "244/244 - 1s - loss: 0.2950 - accuracy: 0.9168\n",
      "Epoch 165/200\n",
      "244/244 - 1s - loss: 0.2919 - accuracy: 0.9163\n",
      "Epoch 166/200\n",
      "244/244 - 1s - loss: 0.2960 - accuracy: 0.9163\n",
      "Epoch 167/200\n",
      "244/244 - 1s - loss: 0.3021 - accuracy: 0.9149\n",
      "Epoch 168/200\n",
      "244/244 - 1s - loss: 0.3209 - accuracy: 0.9116\n",
      "Epoch 169/200\n",
      "244/244 - 1s - loss: 0.2969 - accuracy: 0.9158\n",
      "Epoch 170/200\n",
      "244/244 - 1s - loss: 0.2869 - accuracy: 0.9171\n",
      "Epoch 171/200\n",
      "244/244 - 1s - loss: 0.2857 - accuracy: 0.9164\n",
      "Epoch 172/200\n",
      "244/244 - 1s - loss: 0.2835 - accuracy: 0.9179\n",
      "Epoch 173/200\n",
      "244/244 - 1s - loss: 0.2830 - accuracy: 0.9144\n",
      "Epoch 174/200\n",
      "244/244 - 1s - loss: 0.2820 - accuracy: 0.9164\n",
      "Epoch 175/200\n",
      "244/244 - 1s - loss: 0.2812 - accuracy: 0.9164\n",
      "Epoch 176/200\n",
      "244/244 - 1s - loss: 0.2811 - accuracy: 0.9161\n",
      "Epoch 177/200\n",
      "244/244 - 1s - loss: 0.2815 - accuracy: 0.9181\n",
      "Epoch 178/200\n",
      "244/244 - 1s - loss: 0.2794 - accuracy: 0.9158\n",
      "Epoch 179/200\n",
      "244/244 - 1s - loss: 0.2794 - accuracy: 0.9170\n",
      "Epoch 180/200\n",
      "244/244 - 1s - loss: 0.2783 - accuracy: 0.9155\n",
      "Epoch 181/200\n",
      "244/244 - 1s - loss: 0.2808 - accuracy: 0.9164\n",
      "Epoch 182/200\n",
      "244/244 - 1s - loss: 0.3616 - accuracy: 0.8991\n",
      "Epoch 183/200\n",
      "244/244 - 1s - loss: 0.2856 - accuracy: 0.9146\n",
      "Epoch 184/200\n",
      "244/244 - 1s - loss: 0.2744 - accuracy: 0.9167\n",
      "Epoch 185/200\n",
      "244/244 - 1s - loss: 0.2726 - accuracy: 0.9172\n",
      "Epoch 186/200\n",
      "244/244 - 1s - loss: 0.2715 - accuracy: 0.9190\n",
      "Epoch 187/200\n",
      "244/244 - 1s - loss: 0.2708 - accuracy: 0.9175\n",
      "Epoch 188/200\n",
      "244/244 - 1s - loss: 0.2705 - accuracy: 0.9162\n",
      "Epoch 189/200\n",
      "244/244 - 1s - loss: 0.2703 - accuracy: 0.9170\n",
      "Epoch 190/200\n",
      "244/244 - 1s - loss: 0.2706 - accuracy: 0.9166\n",
      "Epoch 191/200\n",
      "244/244 - 1s - loss: 0.2700 - accuracy: 0.9164\n",
      "Epoch 192/200\n",
      "244/244 - 1s - loss: 0.2696 - accuracy: 0.9166\n",
      "Epoch 193/200\n",
      "244/244 - 1s - loss: 0.2688 - accuracy: 0.9171\n",
      "Epoch 194/200\n",
      "244/244 - 1s - loss: 0.2692 - accuracy: 0.9158\n",
      "Epoch 195/200\n",
      "244/244 - 1s - loss: 0.2706 - accuracy: 0.9163\n",
      "Epoch 196/200\n",
      "244/244 - 1s - loss: 0.2696 - accuracy: 0.9157\n",
      "Epoch 197/200\n",
      "244/244 - 1s - loss: 0.2687 - accuracy: 0.9164\n",
      "Epoch 198/200\n",
      "244/244 - 1s - loss: 0.2704 - accuracy: 0.9145\n",
      "Epoch 199/200\n",
      "244/244 - 1s - loss: 0.2891 - accuracy: 0.9122\n",
      "Epoch 200/200\n",
      "244/244 - 1s - loss: 0.2878 - accuracy: 0.9135\n"
     ]
    },
    {
     "data": {
      "text/plain": [
       "<tensorflow.python.keras.callbacks.History at 0x190636a4278>"
      ]
     },
     "execution_count": 37,
     "metadata": {},
     "output_type": "execute_result"
    }
   ],
   "source": [
    "from tensorflow.keras.models import Sequential\n",
    "from tensorflow.keras.layers import Embedding, Dense, LSTM\n",
    "\n",
    "embedding_dim = 10\n",
    "hidden_units = 128\n",
    "\n",
    "model = Sequential()\n",
    "model.add(Embedding(vocab_size, embedding_dim))\n",
    "model.add(LSTM(hidden_units))\n",
    "model.add(Dense(vocab_size, activation='softmax'))\n",
    "model.compile(loss='categorical_crossentropy', optimizer='adam', metrics=['accuracy'])\n",
    "model.fit(X, y, epochs=200, verbose=2)"
   ]
  },
  {
   "cell_type": "markdown",
   "id": "6d08629c",
   "metadata": {},
   "source": [
    "문장을 생성하는 함수 sentence_generation을 만들어서 문장을 생성해봅시다."
   ]
  },
  {
   "cell_type": "code",
   "execution_count": 38,
   "id": "66d5eebf",
   "metadata": {},
   "outputs": [],
   "source": [
    "def sentence_generation(model, tokenizer, current_word, n): # 모델, 토크나이저, 현재 단어, 반복할 횟수\n",
    "    init_word = current_word\n",
    "    sentence = ''\n",
    "\n",
    "    # n번 반복\n",
    "    for _ in range(n):\n",
    "        encoded = tokenizer.texts_to_sequences([current_word])[0]\n",
    "        encoded = pad_sequences([encoded], maxlen=max_len-1, padding='pre')\n",
    "\n",
    "        # 입력한 X(현재 단어)에 대해서 y를 예측하고 y(예측한 단어)를 result에 저장.\n",
    "        result = model.predict(encoded, verbose=0)\n",
    "        result = np.argmax(result, axis=1)\n",
    "\n",
    "        for word, index in tokenizer.word_index.items(): \n",
    "            # 만약 예측한 단어와 인덱스와 동일한 단어가 있다면\n",
    "            if index == result:\n",
    "                break\n",
    "\n",
    "        # 현재 단어 + ' ' + 예측 단어를 현재 단어로 변경\n",
    "        current_word = current_word + ' '  + word\n",
    "\n",
    "        # 예측 단어를 문장에 저장\n",
    "        sentence = sentence + ' ' + word\n",
    "\n",
    "    sentence = init_word + sentence\n",
    "    return sentence"
   ]
  },
  {
   "cell_type": "markdown",
   "id": "7ea88ac2",
   "metadata": {},
   "source": [
    "임의의 단어 'i'에 대해서 10개의 단어를 추가 생성해봅시다."
   ]
  },
  {
   "cell_type": "code",
   "execution_count": 39,
   "id": "2df450c5",
   "metadata": {},
   "outputs": [
    {
     "name": "stdout",
     "output_type": "stream",
     "text": [
      "i want to be rich and im not sorry think say\n"
     ]
    }
   ],
   "source": [
    "print(sentence_generation(model, tokenizer, 'i', 10))"
   ]
  },
  {
   "cell_type": "code",
   "execution_count": 40,
   "id": "7532145c",
   "metadata": {},
   "outputs": [
    {
     "name": "stdout",
     "output_type": "stream",
     "text": [
      "how to make a crossword puzzle tells fire theyre the art\n"
     ]
    }
   ],
   "source": [
    "print(sentence_generation(model, tokenizer, 'how', 10))"
   ]
  },
  {
   "cell_type": "code",
   "execution_count": null,
   "id": "b5949104",
   "metadata": {},
   "outputs": [],
   "source": []
  }
 ],
 "metadata": {
  "kernelspec": {
   "display_name": "Python 3",
   "language": "python",
   "name": "python3"
  },
  "language_info": {
   "codemirror_mode": {
    "name": "ipython",
    "version": 3
   },
   "file_extension": ".py",
   "mimetype": "text/x-python",
   "name": "python",
   "nbconvert_exporter": "python",
   "pygments_lexer": "ipython3",
   "version": "3.6.3"
  }
 },
 "nbformat": 4,
 "nbformat_minor": 5
}
