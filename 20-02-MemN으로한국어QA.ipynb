{
 "cells": [
  {
   "cell_type": "markdown",
   "id": "398e6c42",
   "metadata": {},
   "source": [
    "# 20. 질의 응답(Question Answering, QA)\n",
    "\n",
    "## 2) MemN으로 한국어 QA 해보기"
   ]
  },
  {
   "cell_type": "markdown",
   "id": "20105222",
   "metadata": {},
   "source": [
    "### 1. 커스터마이즈드 KoNLPy 사용하기"
   ]
  },
  {
   "cell_type": "markdown",
   "id": "cf26c29f",
   "metadata": {},
   "source": [
    "사용자 사전을 추가하는 방법은 형태소 분석기마다 다른데, 생각보다 복잡한 경우들이 많습니다. \n",
    "\n",
    "이번 실습에서는 Customized Konlpy라는 사용자 사전 추가가 매우 쉬운 패키지를 사용합니다.\n",
    "\n",
    "```\n",
    "pip install customized_konlpy\n",
    "```"
   ]
  },
  {
   "cell_type": "code",
   "execution_count": 1,
   "id": "5dc37790",
   "metadata": {},
   "outputs": [
    {
     "name": "stderr",
     "output_type": "stream",
     "text": [
      "C:\\Users\\seungwon\\anaconda3\\envs\\scratch\\lib\\site-packages\\konlpy\\tag\\_okt.py:16: UserWarning: \"Twitter\" has changed to \"Okt\" since KoNLPy v0.4.5.\n",
      "  warn('\"Twitter\" has changed to \"Okt\" since KoNLPy v0.4.5.')\n"
     ]
    },
    {
     "data": {
      "text/plain": [
       "['은', '경이', '는', '사무실', '로', '갔습니다', '.']"
      ]
     },
     "execution_count": 1,
     "metadata": {},
     "output_type": "execute_result"
    }
   ],
   "source": [
    "from ckonlpy.tag import Twitter\n",
    "twitter = Twitter()\n",
    "twitter.morphs('은경이는 사무실로 갔습니다.')"
   ]
  },
  {
   "cell_type": "markdown",
   "id": "a194cd04",
   "metadata": {},
   "source": [
    "'은경이'라는 단어가 '은', '경이'와 같이 분리됩니다. 이때, 형태소 분석기 Twitter에 add_dictionary('단어', '품사')와 같은 형식으로 사전 추가를 해줄 수 있습니다."
   ]
  },
  {
   "cell_type": "code",
   "execution_count": 2,
   "id": "4955b4fa",
   "metadata": {},
   "outputs": [],
   "source": [
    "twitter.add_dictionary('은경이', 'Noun')"
   ]
  },
  {
   "cell_type": "code",
   "execution_count": 3,
   "id": "8be73584",
   "metadata": {},
   "outputs": [
    {
     "data": {
      "text/plain": [
       "['은경이', '는', '사무실', '로', '갔습니다', '.']"
      ]
     },
     "execution_count": 3,
     "metadata": {},
     "output_type": "execute_result"
    }
   ],
   "source": [
    "twitter.morphs('은경이는 사무실로 갔습니다.')"
   ]
  },
  {
   "cell_type": "markdown",
   "id": "247dfa5a",
   "metadata": {},
   "source": [
    "### 2. 한국어 Babi 데이터셋 로드와 전처리"
   ]
  },
  {
   "cell_type": "code",
   "execution_count": 4,
   "id": "384fc54d",
   "metadata": {},
   "outputs": [],
   "source": [
    "from ckonlpy.tag import Twitter\n",
    "from tensorflow.keras.utils import get_file\n",
    "from tensorflow.keras.preprocessing.sequence import pad_sequences\n",
    "from tensorflow.keras.utils import to_categorical\n",
    "import numpy as np\n",
    "from nltk import FreqDist\n",
    "from functools import reduce\n",
    "import os\n",
    "import re\n",
    "import matplotlib.pyplot as plt"
   ]
  },
  {
   "cell_type": "code",
   "execution_count": 5,
   "id": "e3d819e3",
   "metadata": {},
   "outputs": [],
   "source": [
    "TRAIN_FILE = os.path.join(\"datasets/qa1_single-supporting-fact_train_kor.txt\")\n",
    "TEST_FILE = os.path.join(\"datasets/qa1_single-supporting-fact_test_kor.txt\")"
   ]
  },
  {
   "cell_type": "markdown",
   "id": "250c1c06",
   "metadata": {},
   "source": [
    "훈련 데이터로부터 상위 20개의 문장을 출력합니다."
   ]
  },
  {
   "cell_type": "code",
   "execution_count": 6,
   "id": "47b4879d",
   "metadata": {},
   "outputs": [
    {
     "name": "stdout",
     "output_type": "stream",
     "text": [
      "1 필웅이는 화장실로 갔습니다.\n",
      "2 은경이는 복도로 이동했습니다.\n",
      "3 필웅이는 어디야? \t화장실\t1\n",
      "4 수종이는 복도로 복귀했습니다.\n",
      "5 경임이는 정원으로 갔습니다.\n",
      "6 수종이는 어디야? \t복도\t4\n",
      "7 은경이는 사무실로 갔습니다.\n",
      "8 경임이는 화장실로 뛰어갔습니다.\n",
      "9 수종이는 어디야? \t복도\t4\n",
      "10 필웅이는 복도로 갔습니다.\n",
      "11 수종이는 사무실로 가버렸습니다.\n",
      "12 수종이는 어디야? \t사무실\t11\n",
      "13 은경이는 정원으로 복귀했습니다.\n",
      "14 은경이는 침실로 갔습니다.\n",
      "15 경임이는 어디야? \t화장실\t8\n",
      "1 경임이는 사무실로 가버렸습니다.\n",
      "2 경임이는 화장실로 이동했습니다.\n",
      "3 경임이는 어디야? \t화장실\t2\n",
      "4 필웅이는 침실로 이동했습니다.\n",
      "5 수종이는 복도로 갔습니다.\n"
     ]
    }
   ],
   "source": [
    "i = 0\n",
    "lines = open(TRAIN_FILE , \"rb\")\n",
    "for line in lines:\n",
    "    line = line.decode(\"utf-8\").strip()\n",
    "    i = i + 1\n",
    "    print(line)\n",
    "    if i == 20:\n",
    "        break"
   ]
  },
  {
   "cell_type": "markdown",
   "id": "f683eba2",
   "metadata": {},
   "source": [
    "훈련 데이터와 테스트 데이터를 로드하기 위한 read_data() 함수를 만듭니다."
   ]
  },
  {
   "cell_type": "code",
   "execution_count": 7,
   "id": "e4c2d210",
   "metadata": {},
   "outputs": [],
   "source": [
    "def read_data(dir):\n",
    "    stories, questions, answers = [], [], [] # 각각 스토리, 질문, 답변을 저장할 예정\n",
    "    story_temp = [] # 현재 시점의 스토리 임시 저장\n",
    "    lines = open(dir, \"rb\")\n",
    "\n",
    "    for line in lines:\n",
    "        line = line.decode(\"utf-8\") # b' 제거\n",
    "        line = line.strip() # '\\n' 제거\n",
    "        idx, text = line.split(\" \", 1) # 맨 앞에 있는 id number 분리\n",
    "        # 여기까지는 모든 줄에 적용되는 전처리\n",
    "\n",
    "        if int(idx) == 1:\n",
    "            story_temp = []\n",
    "\n",
    "        if \"\\t\" in text: # 현재 읽는 줄이 질문 (tab) 답변 (tab)인 경우\n",
    "            question, answer, _ = text.split(\"\\t\") # 질문과 답변을 각각 저장\n",
    "            stories.append([x for x in story_temp if x]) # 지금까지의 누적 스토리를 스토리에 저장\n",
    "            questions.append(question)\n",
    "            answers.append(answer)\n",
    "\n",
    "        else: # 현재 읽는 줄이 스토리인 경우\n",
    "            story_temp.append(text) # 임시 저장\n",
    "\n",
    "    lines.close()\n",
    "    return stories, questions, answers"
   ]
  },
  {
   "cell_type": "code",
   "execution_count": 8,
   "id": "e7888599",
   "metadata": {},
   "outputs": [],
   "source": [
    "train_data = read_data(TRAIN_FILE)\n",
    "test_data = read_data(TEST_FILE)"
   ]
  },
  {
   "cell_type": "markdown",
   "id": "0c235de5",
   "metadata": {},
   "source": [
    "데이터의 구성을 확인하기 위해서 스토리, 질문, 답변을 각각 분리해서 로드해봅시다."
   ]
  },
  {
   "cell_type": "code",
   "execution_count": 9,
   "id": "cc850141",
   "metadata": {},
   "outputs": [],
   "source": [
    "train_stories, train_questions, train_answers = read_data(TRAIN_FILE)\n",
    "test_stories, test_questions, test_answers = read_data(TEST_FILE)"
   ]
  },
  {
   "cell_type": "code",
   "execution_count": 10,
   "id": "7ff36244",
   "metadata": {},
   "outputs": [
    {
     "name": "stdout",
     "output_type": "stream",
     "text": [
      "훈련용 스토리의 개수 : 10000\n",
      "훈련용 질문의 개수 : 10000\n",
      "훈련용 답변의 개수 : 10000\n",
      "테스트용 스토리의 개수 : 1000\n",
      "테스트용 질문의 개수 : 1000\n",
      "테스트용 답변의 개수 : 1000\n"
     ]
    }
   ],
   "source": [
    "print('훈련용 스토리의 개수 :', len(train_stories))\n",
    "print('훈련용 질문의 개수 :', len(train_questions))\n",
    "print('훈련용 답변의 개수 :', len(train_answers))\n",
    "print('테스트용 스토리의 개수 :', len(test_stories))\n",
    "print('테스트용 질문의 개수 :', len(test_questions))\n",
    "print('테스트용 답변의 개수 :', len(test_answers))"
   ]
  },
  {
   "cell_type": "markdown",
   "id": "7e0d12a6",
   "metadata": {},
   "source": [
    "임의로 3573번째 스토리, 질문, 답변을 출력해보겠습니다."
   ]
  },
  {
   "cell_type": "code",
   "execution_count": 11,
   "id": "265857bb",
   "metadata": {},
   "outputs": [
    {
     "name": "stdout",
     "output_type": "stream",
     "text": [
      "['은경이는 부엌으로 가버렸습니다.', '필웅이는 사무실로 가버렸습니다.', '수종이는 복도로 뛰어갔습니다.', '은경이는 사무실로 복귀했습니다.', '경임이는 사무실로 이동했습니다.', '경임이는 침실로 갔습니다.']\n",
      "\n",
      "은경이는 어디야? \n",
      "\n",
      "사무실\n"
     ]
    }
   ],
   "source": [
    "print(train_stories[3572])\n",
    "print()\n",
    "print(train_questions[3572])\n",
    "print()\n",
    "print(train_answers[3572])"
   ]
  },
  {
   "cell_type": "markdown",
   "id": "5797b1b1",
   "metadata": {},
   "source": [
    "토큰화 함수를 정의합니다."
   ]
  },
  {
   "cell_type": "code",
   "execution_count": 12,
   "id": "b9b13609",
   "metadata": {},
   "outputs": [],
   "source": [
    "def tokenize(sent):\n",
    "    return [ x.strip() for x in re.split('(\\W+)?', sent) if x.strip()]"
   ]
  },
  {
   "cell_type": "code",
   "execution_count": 53,
   "id": "9ab329eb",
   "metadata": {},
   "outputs": [
    {
     "name": "stdout",
     "output_type": "stream",
     "text": [
      "['필웅이', '는', '화장실', '로', '갔습니다', '.', '은경이', '는', '복도', '로', '이동', '했습니다', '.']\n",
      "\n",
      "['필웅이는', '화장실로', '갔습니다', '.', '은경이는', '복도로', '이동했습니다', '.']\n"
     ]
    }
   ],
   "source": [
    "flatten = lambda data: reduce(lambda x, y: x + y, data)\n",
    "a = train_data[0][0]\n",
    "fa = flatten(a)\n",
    "\n",
    "\n",
    "print(tokenize(fa))\n",
    "print()\n",
    "\n",
    "\n",
    "def test(sent): \n",
    "    return [ x.strip() for x in re.split('(\\W+)?', sent) if x and x.strip()]\n",
    "print(test(fa))"
   ]
  },
  {
   "cell_type": "code",
   "execution_count": 13,
   "id": "4f6643b6",
   "metadata": {},
   "outputs": [],
   "source": [
    "def preprocess_data(train_data, test_data):\n",
    "    counter = FreqDist()\n",
    "\n",
    "    # 두 문장의 story를 하나의 문장으로 통합하는 함수\n",
    "    flatten = lambda data: reduce(lambda x, y: x + y, data)\n",
    "\n",
    "    # 각 샘플의 길이를 저장하는 리스트\n",
    "    story_len = []\n",
    "    question_len = []\n",
    "\n",
    "    for stories, questions, answers in [train_data, test_data]:\n",
    "        for story in stories:\n",
    "            stories = tokenize(flatten(story)) # 스토리의 문장들을 펼친 후 토큰화\n",
    "            story_len.append(len(stories)) # 각 story의 길이 저장\n",
    "            for word in stories: # 단어 집합에 단어 추가\n",
    "                counter[word] += 1\n",
    "        for question in questions:\n",
    "            question = tokenize(question)\n",
    "            question_len.append(len(question))\n",
    "            for word in question:\n",
    "                counter[word] += 1\n",
    "        for answer in answers:\n",
    "            answer = tokenize(answer)\n",
    "            for word in answer:\n",
    "                counter[word] += 1\n",
    "\n",
    "    # 단어 집합 생성\n",
    "    word2idx = {word : (idx + 1) for idx, (word, _) in enumerate(counter.most_common())}\n",
    "    idx2word = {idx : word for word, idx in word2idx.items()}\n",
    "\n",
    "    # 가장 긴 샘플의 길이\n",
    "    story_max_len = np.max(story_len)\n",
    "    question_max_len = np.max(question_len)\n",
    "\n",
    "    return word2idx, idx2word, story_max_len, question_max_len"
   ]
  },
  {
   "cell_type": "code",
   "execution_count": 15,
   "id": "27f4ae17",
   "metadata": {
    "scrolled": true
   },
   "outputs": [
    {
     "name": "stderr",
     "output_type": "stream",
     "text": [
      "C:\\Users\\seungwon\\anaconda3\\envs\\scratch\\lib\\re.py:212: FutureWarning: split() requires a non-empty pattern match.\n",
      "  return _compile(pattern, flags).split(string, maxsplit)\n"
     ]
    }
   ],
   "source": [
    "word2idx, idx2word, story_max_len, question_max_len = preprocess_data(train_data, test_data)"
   ]
  },
  {
   "cell_type": "code",
   "execution_count": 16,
   "id": "af524307",
   "metadata": {},
   "outputs": [
    {
     "name": "stdout",
     "output_type": "stream",
     "text": [
      "{'.': 1, '경임이는': 2, '은경이는': 3, '수종이는': 4, '필웅이는': 5, '이동했습니다': 6, '가버렸습니다': 7, '뛰어갔습니다': 8, '복귀했습니다': 9, '갔습니다': 10, '화장실로': 11, '정원으로': 12, '복도로': 13, '어디야': 14, '?': 15, '부엌으로': 16, '사무실로': 17, '침실로': 18, '화장실': 19, '정원': 20, '사무실': 21, '침실': 22, '복도': 23, '부엌': 24}\n"
     ]
    }
   ],
   "source": [
    "print(word2idx)"
   ]
  },
  {
   "cell_type": "markdown",
   "id": "ead51507",
   "metadata": {},
   "source": [
    "띄어쓰기 단위, 다시 말해 어절 단위로 했을 때 나오는 총 토큰의 수는 24개입니다.\n",
    "\n",
    "'화장실로', '정원으로', '복도로', '부엌으로', '사무실로', '침실로'로 분리된 토큰들은 형태소 분석을 하였을 때 전부 '화장실', '정원', '사무실', '침실', '복도', '부엌'으로 분리되어야 합니다.\n",
    "\n",
    "이제 여기서 해야할 일은 형태소 분석기를 실제로 사용해서 우리가 원하는 결과가 정상적으로 출력되는지 확인하고, 그렇지 않다면 이에 대한 조치를 취해주는 것입니다. 형태소 분석기 Twitter()를 사용해봅시다."
   ]
  },
  {
   "cell_type": "code",
   "execution_count": 17,
   "id": "459a68fa",
   "metadata": {},
   "outputs": [
    {
     "name": "stderr",
     "output_type": "stream",
     "text": [
      "C:\\Users\\seungwon\\anaconda3\\envs\\scratch\\lib\\site-packages\\konlpy\\tag\\_okt.py:16: UserWarning: \"Twitter\" has changed to \"Okt\" since KoNLPy v0.4.5.\n",
      "  warn('\"Twitter\" has changed to \"Okt\" since KoNLPy v0.4.5.')\n"
     ]
    }
   ],
   "source": [
    "twitter = Twitter()"
   ]
  },
  {
   "cell_type": "code",
   "execution_count": 18,
   "id": "a8e950bf",
   "metadata": {},
   "outputs": [
    {
     "name": "stdout",
     "output_type": "stream",
     "text": [
      "['은', '경이', '는', '화장실', '로', '이동', '했습니다', '.']\n",
      "['경', '임', '이', '는', '정원', '으로', '가버렸습니다', '.']\n",
      "['수종', '이', '는', '복도', '로', '뛰어갔습니다', '.']\n",
      "['필웅이', '는', '부엌', '으로', '복귀', '했습니다', '.']\n",
      "['수종', '이', '는', '사무실', '로', '갔습니다', '.']\n",
      "['은', '경이', '는', '침실', '로', '갔습니다', '.']\n"
     ]
    }
   ],
   "source": [
    "print(twitter.morphs('은경이는 화장실로 이동했습니다.'))\n",
    "print(twitter.morphs('경임이는 정원으로 가버렸습니다.'))\n",
    "print(twitter.morphs('수종이는 복도로 뛰어갔습니다.'))\n",
    "print(twitter.morphs('필웅이는 부엌으로 복귀했습니다.'))\n",
    "print(twitter.morphs('수종이는 사무실로 갔습니다.'))\n",
    "print(twitter.morphs('은경이는 침실로 갔습니다.'))"
   ]
  },
  {
   "cell_type": "markdown",
   "id": "a888b825",
   "metadata": {},
   "source": [
    "사람의 이름은 유지하지 못하고 분리되었습니다.\n",
    "\n",
    "'필웅이'를 제외하고 모두 '--이' 형태로 분리할 수 있도록 사전을 추가해주겠습니다."
   ]
  },
  {
   "cell_type": "code",
   "execution_count": 19,
   "id": "4cb2245b",
   "metadata": {},
   "outputs": [],
   "source": [
    "twitter.add_dictionary('은경이', 'Noun')\n",
    "twitter.add_dictionary('경임이', 'Noun')\n",
    "twitter.add_dictionary('수종이', 'Noun')"
   ]
  },
  {
   "cell_type": "code",
   "execution_count": 20,
   "id": "536f41e6",
   "metadata": {},
   "outputs": [
    {
     "name": "stdout",
     "output_type": "stream",
     "text": [
      "['은경이', '는', '화장실', '로', '이동', '했습니다', '.']\n",
      "['경임이', '는', '정원', '으로', '가버렸습니다', '.']\n",
      "['수종이', '는', '복도', '로', '뛰어갔습니다', '.']\n",
      "['필웅이', '는', '부엌', '으로', '복귀', '했습니다', '.']\n",
      "['수종이', '는', '사무실', '로', '갔습니다', '.']\n",
      "['은경이', '는', '침실', '로', '갔습니다', '.']\n"
     ]
    }
   ],
   "source": [
    "print(twitter.morphs('은경이는 화장실로 이동했습니다.'))\n",
    "print(twitter.morphs('경임이는 정원으로 가버렸습니다.'))\n",
    "print(twitter.morphs('수종이는 복도로 뛰어갔습니다.'))\n",
    "print(twitter.morphs('필웅이는 부엌으로 복귀했습니다.'))\n",
    "print(twitter.morphs('수종이는 사무실로 갔습니다.'))\n",
    "print(twitter.morphs('은경이는 침실로 갔습니다.'))"
   ]
  },
  {
   "cell_type": "markdown",
   "id": "d1d20b3c",
   "metadata": {},
   "source": [
    "이제 이를 새로운 토큰화 함수로 정의합니다."
   ]
  },
  {
   "cell_type": "code",
   "execution_count": 21,
   "id": "217c0443",
   "metadata": {},
   "outputs": [],
   "source": [
    "def tokenize(sent):\n",
    "    return twitter.morphs(sent)"
   ]
  },
  {
   "cell_type": "code",
   "execution_count": 22,
   "id": "7842f7f1",
   "metadata": {},
   "outputs": [],
   "source": [
    "word2idx, idx2word, story_max_len, question_max_len = preprocess_data(train_data, test_data)"
   ]
  },
  {
   "cell_type": "markdown",
   "id": "7defab9b",
   "metadata": {},
   "source": [
    "새로 생성된 word2idx를 출력해봅시다."
   ]
  },
  {
   "cell_type": "code",
   "execution_count": 23,
   "id": "297fa9de",
   "metadata": {},
   "outputs": [
    {
     "name": "stdout",
     "output_type": "stream",
     "text": [
      "{'는': 1, '.': 2, '로': 3, '했습니다': 4, '으로': 5, '경임이': 6, '은경이': 7, '수종이': 8, '필웅이': 9, '이동': 10, '가버렸습니다': 11, '뛰어갔습니다': 12, '복귀': 13, '화장실': 14, '정원': 15, '복도': 16, '갔습니다': 17, '사무실': 18, '부엌': 19, '침실': 20, '어디': 21, '야': 22, '?': 23}\n"
     ]
    }
   ],
   "source": [
    "print(word2idx)"
   ]
  },
  {
   "cell_type": "code",
   "execution_count": 24,
   "id": "66ffb74d",
   "metadata": {},
   "outputs": [
    {
     "name": "stdout",
     "output_type": "stream",
     "text": [
      "24\n"
     ]
    }
   ],
   "source": [
    "vocab_size = len(word2idx) + 1\n",
    "print(vocab_size)"
   ]
  },
  {
   "cell_type": "code",
   "execution_count": 25,
   "id": "c7ff9903",
   "metadata": {},
   "outputs": [
    {
     "name": "stdout",
     "output_type": "stream",
     "text": [
      "스토리의 최대 길이 : 70\n",
      "질문의 최대 길이 : 5\n"
     ]
    }
   ],
   "source": [
    "print('스토리의 최대 길이 :', story_max_len)\n",
    "print('질문의 최대 길이 :', question_max_len)"
   ]
  },
  {
   "cell_type": "code",
   "execution_count": 26,
   "id": "0aee059b",
   "metadata": {},
   "outputs": [],
   "source": [
    "def vectorize(data, word2idx, story_maxlen, question_maxlen):\n",
    "    Xs, Xq, Y = [], [], []\n",
    "    flatten = lambda data: reduce(lambda x, y: x + y, data)\n",
    "\n",
    "    stories, questions, answers = data\n",
    "    for story, question, answer in zip(stories, questions, answers):\n",
    "        xs = [word2idx[w] for w in tokenize(flatten(story))]\n",
    "        xq = [word2idx[w] for w in tokenize(question)]\n",
    "        Xs.append(xs)\n",
    "        Xq.append(xq)\n",
    "        Y.append(word2idx[answer])\n",
    "\n",
    "        # 스토리와 질문은 각각의 최대 길이로 패딩\n",
    "        # 정답은 원-핫 인코딩\n",
    "    return pad_sequences(Xs, maxlen=story_maxlen),\\\n",
    "           pad_sequences(Xq, maxlen=question_maxlen),\\\n",
    "           to_categorical(Y, num_classes=len(word2idx) + 1)"
   ]
  },
  {
   "cell_type": "code",
   "execution_count": 27,
   "id": "fb3b2649",
   "metadata": {},
   "outputs": [],
   "source": [
    "Xstrain, Xqtrain, Ytrain = vectorize(train_data, word2idx, story_max_len, question_max_len)\n",
    "Xstest, Xqtest, Ytest = vectorize(test_data, word2idx, story_max_len, question_max_len)"
   ]
  },
  {
   "cell_type": "code",
   "execution_count": 28,
   "id": "286807f8",
   "metadata": {},
   "outputs": [
    {
     "name": "stdout",
     "output_type": "stream",
     "text": [
      "(10000, 70) (10000, 5) (10000, 24) (1000, 70) (1000, 5) (1000, 24)\n"
     ]
    }
   ],
   "source": [
    "print(Xstrain.shape, Xqtrain.shape, Ytrain.shape, \n",
    "      Xstest.shape, Xqtest.shape, Ytest.shape)"
   ]
  },
  {
   "cell_type": "markdown",
   "id": "39d8e831",
   "metadata": {},
   "source": [
    "### 3. 메모리 네트워크로 QA 태스크 풀기"
   ]
  },
  {
   "cell_type": "code",
   "execution_count": 29,
   "id": "2bbf205d",
   "metadata": {},
   "outputs": [],
   "source": [
    "from tensorflow.keras.models import Sequential, Model\n",
    "from tensorflow.keras.layers import Embedding\n",
    "from tensorflow.keras.layers import Permute, dot, add, concatenate\n",
    "from tensorflow.keras.layers import LSTM, Dense, Dropout, Input, Activation"
   ]
  },
  {
   "cell_type": "code",
   "execution_count": 30,
   "id": "3b2b0ebd",
   "metadata": {},
   "outputs": [],
   "source": [
    "train_epochs = 120 # 에포크 횟수\n",
    "batch_size = 32 # 배치 크기\n",
    "embed_size = 50 # 임베딩 크기\n",
    "lstm_size = 64 # LSTM의 크기\n",
    "dropout_rate = 0.30 # 과적합 방지 기법인 드롭아웃 적용 비율"
   ]
  },
  {
   "cell_type": "code",
   "execution_count": 31,
   "id": "efbfaef8",
   "metadata": {},
   "outputs": [
    {
     "name": "stdout",
     "output_type": "stream",
     "text": [
      "Stories : KerasTensor(type_spec=TensorSpec(shape=(None, 70), dtype=tf.float32, name='input_1'), name='input_1', description=\"created by layer 'input_1'\")\n",
      "Question: KerasTensor(type_spec=TensorSpec(shape=(None, 5), dtype=tf.float32, name='input_2'), name='input_2', description=\"created by layer 'input_2'\")\n"
     ]
    }
   ],
   "source": [
    "# 플레이스 홀더. 입력을 담는 변수\n",
    "input_sequence = Input((story_max_len,))\n",
    "question = Input((question_max_len,))\n",
    "\n",
    "print('Stories :', input_sequence)\n",
    "print('Question:', question)"
   ]
  },
  {
   "attachments": {
    "image.png": {
     "image/png": "[encoded data removed]"
    }
   },
   "cell_type": "markdown",
   "id": "5ec5f2e5",
   "metadata": {},
   "source": [
    "메모리 네트워크를 설계합니다.\n",
    "\n",
    "![image.png](attachment:image.png)"
   ]
  },
  {
   "cell_type": "code",
   "execution_count": 32,
   "id": "709f4665",
   "metadata": {},
   "outputs": [],
   "source": [
    "# 스토리를 위한 첫번째 임베딩. 그림에서의 Embedding A\n",
    "input_encoder_m = Sequential()\n",
    "input_encoder_m.add(Embedding(input_dim=vocab_size,\n",
    "                              output_dim=embed_size))\n",
    "input_encoder_m.add(Dropout(dropout_rate))\n",
    "# 결과 : (samples, story_max_len, embedding_dim) / 샘플의 수, 문장의 최대 길이, 임베딩 벡터의 차원\n",
    "\n",
    "# 스토리를 위한 두번째 임베딩. 그림에서의 Embedding C\n",
    "# 임베딩 벡터의 차원을 question_max_len(질문의 최대 길이)로 한다.\n",
    "input_encoder_c = Sequential()\n",
    "input_encoder_c.add(Embedding(input_dim=vocab_size,\n",
    "                              output_dim=question_max_len))\n",
    "input_encoder_c.add(Dropout(dropout_rate))\n",
    "# 결과 : (samples, story_max_len, question_max_len) / 샘플의 수, 문장의 최대 길이, 질문의 최대 길이(임베딩 벡터의 차원)"
   ]
  },
  {
   "cell_type": "code",
   "execution_count": 33,
   "id": "fac5404b",
   "metadata": {},
   "outputs": [],
   "source": [
    "# 질문을 위한 임베딩. 그림에서의 Embedding B\n",
    "question_encoder = Sequential()\n",
    "question_encoder.add(Embedding(input_dim=vocab_size,\n",
    "                               output_dim=embed_size,\n",
    "                               input_length=question_max_len))\n",
    "question_encoder.add(Dropout(dropout_rate))\n",
    "# 결과 : (samples, question_max_len, embedding_dim) / 샘플의 수, 질문의 최대 길이, 임베딩 벡터의 차원"
   ]
  },
  {
   "cell_type": "code",
   "execution_count": 34,
   "id": "7e45b9a9",
   "metadata": {},
   "outputs": [
    {
     "name": "stdout",
     "output_type": "stream",
     "text": [
      "Input encoded m KerasTensor(type_spec=TensorSpec(shape=(None, 70, 50), dtype=tf.float32, name=None), name='sequential/dropout/Identity:0', description=\"created by layer 'sequential'\")\n",
      "Input encoded c KerasTensor(type_spec=TensorSpec(shape=(None, 70, 5), dtype=tf.float32, name=None), name='sequential_1/dropout_1/Identity:0', description=\"created by layer 'sequential_1'\")\n",
      "Question encoded KerasTensor(type_spec=TensorSpec(shape=(None, 5, 50), dtype=tf.float32, name=None), name='sequential_2/dropout_2/Identity:0', description=\"created by layer 'sequential_2'\")\n"
     ]
    }
   ],
   "source": [
    "# 실질적인 임베딩 과정\n",
    "input_encoded_m = input_encoder_m(input_sequence)\n",
    "input_encoded_c = input_encoder_c(input_sequence)\n",
    "question_encoded = question_encoder(question)\n",
    "\n",
    "print('Input encoded m', input_encoded_m)\n",
    "print('Input encoded c', input_encoded_c)\n",
    "print('Question encoded', question_encoded)"
   ]
  },
  {
   "cell_type": "code",
   "execution_count": 35,
   "id": "2320060b",
   "metadata": {},
   "outputs": [
    {
     "name": "stdout",
     "output_type": "stream",
     "text": [
      "Match shape KerasTensor(type_spec=TensorSpec(shape=(None, 70, 5), dtype=tf.float32, name=None), name='activation/Softmax:0', description=\"created by layer 'activation'\")\n",
      "Response shape KerasTensor(type_spec=TensorSpec(shape=(None, 5, 70), dtype=tf.float32, name=None), name='permute/transpose:0', description=\"created by layer 'permute'\")\n",
      "Answer shape KerasTensor(type_spec=TensorSpec(shape=(None, 5, 120), dtype=tf.float32, name=None), name='concatenate/concat:0', description=\"created by layer 'concatenate'\")\n"
     ]
    }
   ],
   "source": [
    "# 스토리 단어들과 질문 단어들 간의 유사도를 구하는 과정\n",
    "# 유사도는 내적을 사용한다.\n",
    "match = dot([input_encoded_m, question_encoded], axes=-1, normalize=False)\n",
    "match = Activation('softmax')(match)\n",
    "print('Match shape', match)\n",
    "# 결과 : (samples, story_maxlen, question_max_len) / 샘플의 수, 문장의 최대 길이, 질문의 최대 길이\n",
    "\n",
    "response = add([match, input_encoded_c])  # (samples, story_max_len, question_max_len)\n",
    "response = Permute((2, 1))(response)  # (samples, question_max_len, story_max_len)\n",
    "print('Response shape', response)\n",
    "\n",
    "answer = concatenate([response, question_encoded])\n",
    "print('Answer shape', answer)\n",
    "\n",
    "answer = LSTM(lstm_size)(answer)\n",
    "answer = Dropout(dropout_rate)(answer)\n",
    "answer = Dense(vocab_size)(answer)\n",
    "answer = Activation('softmax')(answer)"
   ]
  },
  {
   "cell_type": "code",
   "execution_count": 36,
   "id": "e9988bb3",
   "metadata": {},
   "outputs": [
    {
     "name": "stdout",
     "output_type": "stream",
     "text": [
      "Epoch 1/120\n",
      "313/313 [==============================] - 6s 9ms/step - loss: 1.8936 - acc: 0.1619 - val_loss: 1.7957 - val_acc: 0.1540\n",
      "Epoch 2/120\n",
      "313/313 [==============================] - 2s 8ms/step - loss: 1.7428 - acc: 0.2390 - val_loss: 1.5903 - val_acc: 0.4100\n",
      "Epoch 3/120\n",
      "313/313 [==============================] - 2s 8ms/step - loss: 1.5420 - acc: 0.3821 - val_loss: 1.4768 - val_acc: 0.4180\n",
      "Epoch 4/120\n",
      "313/313 [==============================] - 2s 7ms/step - loss: 1.4888 - acc: 0.4122 - val_loss: 1.4524 - val_acc: 0.4500\n",
      "Epoch 5/120\n",
      "313/313 [==============================] - 2s 7ms/step - loss: 1.4734 - acc: 0.4260 - val_loss: 1.4364 - val_acc: 0.4630\n",
      "Epoch 6/120\n",
      "313/313 [==============================] - 2s 8ms/step - loss: 1.4396 - acc: 0.4480 - val_loss: 1.4087 - val_acc: 0.4800\n",
      "Epoch 7/120\n",
      "313/313 [==============================] - 2s 8ms/step - loss: 1.3911 - acc: 0.4759 - val_loss: 1.3550 - val_acc: 0.5140\n",
      "Epoch 8/120\n",
      "313/313 [==============================] - 2s 8ms/step - loss: 1.3483 - acc: 0.4943 - val_loss: 1.3294 - val_acc: 0.5060\n",
      "Epoch 9/120\n",
      "313/313 [==============================] - 2s 7ms/step - loss: 1.3059 - acc: 0.5103 - val_loss: 1.2859 - val_acc: 0.5220\n",
      "Epoch 10/120\n",
      "313/313 [==============================] - 2s 8ms/step - loss: 1.2837 - acc: 0.5161 - val_loss: 1.2789 - val_acc: 0.5230\n",
      "Epoch 11/120\n",
      "313/313 [==============================] - 2s 7ms/step - loss: 1.2652 - acc: 0.5106 - val_loss: 1.2626 - val_acc: 0.5190\n",
      "Epoch 12/120\n",
      "313/313 [==============================] - 2s 7ms/step - loss: 1.2478 - acc: 0.5186 - val_loss: 1.2399 - val_acc: 0.5190\n",
      "Epoch 13/120\n",
      "313/313 [==============================] - 2s 7ms/step - loss: 1.2294 - acc: 0.5177 - val_loss: 1.2328 - val_acc: 0.5210\n",
      "Epoch 14/120\n",
      "313/313 [==============================] - 3s 8ms/step - loss: 1.2143 - acc: 0.5236 - val_loss: 1.2325 - val_acc: 0.5140\n",
      "Epoch 15/120\n",
      "313/313 [==============================] - 2s 8ms/step - loss: 1.2080 - acc: 0.5236 - val_loss: 1.2353 - val_acc: 0.5140\n",
      "Epoch 16/120\n",
      "313/313 [==============================] - 2s 7ms/step - loss: 1.1792 - acc: 0.5314 - val_loss: 1.2158 - val_acc: 0.5200\n",
      "Epoch 17/120\n",
      "313/313 [==============================] - 2s 7ms/step - loss: 1.1764 - acc: 0.5317 - val_loss: 1.2137 - val_acc: 0.5160\n",
      "Epoch 18/120\n",
      "313/313 [==============================] - 2s 7ms/step - loss: 1.1627 - acc: 0.5366 - val_loss: 1.2069 - val_acc: 0.5220\n",
      "Epoch 19/120\n",
      "313/313 [==============================] - 2s 7ms/step - loss: 1.1564 - acc: 0.5374 - val_loss: 1.1876 - val_acc: 0.5170\n",
      "Epoch 20/120\n",
      "313/313 [==============================] - 2s 7ms/step - loss: 1.1381 - acc: 0.5417 - val_loss: 1.2133 - val_acc: 0.5160\n",
      "Epoch 21/120\n",
      "313/313 [==============================] - 2s 8ms/step - loss: 1.1426 - acc: 0.5390 - val_loss: 1.1973 - val_acc: 0.5200\n",
      "Epoch 22/120\n",
      "313/313 [==============================] - 2s 8ms/step - loss: 1.1205 - acc: 0.5384 - val_loss: 1.2120 - val_acc: 0.5120\n",
      "Epoch 23/120\n",
      "313/313 [==============================] - 2s 7ms/step - loss: 1.1136 - acc: 0.5416 - val_loss: 1.1870 - val_acc: 0.5180\n",
      "Epoch 24/120\n",
      "313/313 [==============================] - 2s 7ms/step - loss: 1.1023 - acc: 0.5459 - val_loss: 1.2066 - val_acc: 0.5200\n",
      "Epoch 25/120\n",
      "313/313 [==============================] - 2s 7ms/step - loss: 1.0946 - acc: 0.5483 - val_loss: 1.1936 - val_acc: 0.5140\n",
      "Epoch 26/120\n",
      "313/313 [==============================] - 2s 7ms/step - loss: 1.0854 - acc: 0.5565 - val_loss: 1.1917 - val_acc: 0.5060\n",
      "Epoch 27/120\n",
      "313/313 [==============================] - 2s 7ms/step - loss: 1.0816 - acc: 0.5566 - val_loss: 1.1956 - val_acc: 0.5250\n",
      "Epoch 28/120\n",
      "313/313 [==============================] - 2s 7ms/step - loss: 1.0692 - acc: 0.5585 - val_loss: 1.1785 - val_acc: 0.5160\n",
      "Epoch 29/120\n",
      "313/313 [==============================] - 2s 7ms/step - loss: 1.0524 - acc: 0.5672 - val_loss: 1.1642 - val_acc: 0.5250\n",
      "Epoch 30/120\n",
      "313/313 [==============================] - 2s 7ms/step - loss: 1.0258 - acc: 0.5805 - val_loss: 1.1650 - val_acc: 0.5400\n",
      "Epoch 31/120\n",
      "313/313 [==============================] - 2s 7ms/step - loss: 0.9759 - acc: 0.6090 - val_loss: 1.0684 - val_acc: 0.5940\n",
      "Epoch 32/120\n",
      "313/313 [==============================] - 2s 7ms/step - loss: 0.8700 - acc: 0.6795 - val_loss: 0.8658 - val_acc: 0.6930\n",
      "Epoch 33/120\n",
      "313/313 [==============================] - 2s 7ms/step - loss: 0.7339 - acc: 0.7412 - val_loss: 0.7644 - val_acc: 0.7350\n",
      "Epoch 34/120\n",
      "313/313 [==============================] - 2s 7ms/step - loss: 0.6389 - acc: 0.7726 - val_loss: 0.7123 - val_acc: 0.7460\n",
      "Epoch 35/120\n",
      "313/313 [==============================] - 2s 7ms/step - loss: 0.5954 - acc: 0.7865 - val_loss: 0.7011 - val_acc: 0.7570\n",
      "Epoch 36/120\n",
      "313/313 [==============================] - 2s 7ms/step - loss: 0.5547 - acc: 0.8012 - val_loss: 0.6471 - val_acc: 0.7700\n",
      "Epoch 37/120\n",
      "313/313 [==============================] - 2s 7ms/step - loss: 0.5168 - acc: 0.8111 - val_loss: 0.5911 - val_acc: 0.7770\n",
      "Epoch 38/120\n",
      "313/313 [==============================] - 2s 7ms/step - loss: 0.4842 - acc: 0.8262 - val_loss: 0.5453 - val_acc: 0.8010\n",
      "Epoch 39/120\n",
      "313/313 [==============================] - 2s 7ms/step - loss: 0.4306 - acc: 0.8464 - val_loss: 0.4828 - val_acc: 0.8300\n",
      "Epoch 40/120\n",
      "313/313 [==============================] - 2s 7ms/step - loss: 0.3754 - acc: 0.8626 - val_loss: 0.4793 - val_acc: 0.8350\n",
      "Epoch 41/120\n",
      "313/313 [==============================] - 2s 7ms/step - loss: 0.3459 - acc: 0.8753 - val_loss: 0.4035 - val_acc: 0.8450\n",
      "Epoch 42/120\n",
      "313/313 [==============================] - 2s 7ms/step - loss: 0.3191 - acc: 0.8843 - val_loss: 0.3761 - val_acc: 0.8480\n",
      "Epoch 43/120\n",
      "313/313 [==============================] - 2s 7ms/step - loss: 0.2944 - acc: 0.8953 - val_loss: 0.4364 - val_acc: 0.8460\n",
      "Epoch 44/120\n",
      "313/313 [==============================] - 2s 7ms/step - loss: 0.2833 - acc: 0.8959 - val_loss: 0.3596 - val_acc: 0.8730\n",
      "Epoch 45/120\n",
      "313/313 [==============================] - 2s 7ms/step - loss: 0.2589 - acc: 0.9053 - val_loss: 0.3790 - val_acc: 0.8630\n",
      "Epoch 46/120\n",
      "313/313 [==============================] - 2s 7ms/step - loss: 0.2417 - acc: 0.9106 - val_loss: 0.3308 - val_acc: 0.8790\n",
      "Epoch 47/120\n",
      "313/313 [==============================] - 2s 7ms/step - loss: 0.2206 - acc: 0.9203 - val_loss: 0.3135 - val_acc: 0.8860\n",
      "Epoch 48/120\n",
      "313/313 [==============================] - 2s 7ms/step - loss: 0.2119 - acc: 0.9219 - val_loss: 0.3154 - val_acc: 0.8840\n",
      "Epoch 49/120\n",
      "313/313 [==============================] - 2s 7ms/step - loss: 0.1938 - acc: 0.9315 - val_loss: 0.3248 - val_acc: 0.8900\n",
      "Epoch 50/120\n",
      "313/313 [==============================] - 2s 7ms/step - loss: 0.1837 - acc: 0.9331 - val_loss: 0.2624 - val_acc: 0.9000\n",
      "Epoch 51/120\n",
      "313/313 [==============================] - 2s 7ms/step - loss: 0.1657 - acc: 0.9419 - val_loss: 0.2459 - val_acc: 0.9230\n",
      "Epoch 52/120\n",
      "313/313 [==============================] - 2s 7ms/step - loss: 0.1514 - acc: 0.9475 - val_loss: 0.2564 - val_acc: 0.9010\n",
      "Epoch 53/120\n",
      "313/313 [==============================] - 2s 7ms/step - loss: 0.1407 - acc: 0.9506 - val_loss: 0.2259 - val_acc: 0.9310\n",
      "Epoch 54/120\n",
      "313/313 [==============================] - 2s 7ms/step - loss: 0.1284 - acc: 0.9557 - val_loss: 0.2226 - val_acc: 0.9260\n",
      "Epoch 55/120\n",
      "313/313 [==============================] - 2s 7ms/step - loss: 0.1230 - acc: 0.9566 - val_loss: 0.2372 - val_acc: 0.9220\n",
      "Epoch 56/120\n",
      "313/313 [==============================] - 2s 7ms/step - loss: 0.1072 - acc: 0.9635 - val_loss: 0.2088 - val_acc: 0.9330\n",
      "Epoch 57/120\n",
      "313/313 [==============================] - 2s 7ms/step - loss: 0.0987 - acc: 0.9657 - val_loss: 0.2221 - val_acc: 0.9300\n",
      "Epoch 58/120\n",
      "313/313 [==============================] - 2s 7ms/step - loss: 0.0974 - acc: 0.9663 - val_loss: 0.1932 - val_acc: 0.9400\n",
      "Epoch 59/120\n",
      "313/313 [==============================] - 2s 7ms/step - loss: 0.0867 - acc: 0.9704 - val_loss: 0.2029 - val_acc: 0.9370\n",
      "Epoch 60/120\n",
      "313/313 [==============================] - 2s 7ms/step - loss: 0.0835 - acc: 0.9720 - val_loss: 0.1859 - val_acc: 0.9360\n",
      "Epoch 61/120\n",
      "313/313 [==============================] - 2s 7ms/step - loss: 0.0814 - acc: 0.9717 - val_loss: 0.1850 - val_acc: 0.9390\n",
      "Epoch 62/120\n"
     ]
    },
    {
     "name": "stdout",
     "output_type": "stream",
     "text": [
      "313/313 [==============================] - 2s 7ms/step - loss: 0.0734 - acc: 0.9746 - val_loss: 0.2121 - val_acc: 0.9440\n",
      "Epoch 63/120\n",
      "313/313 [==============================] - 2s 7ms/step - loss: 0.0685 - acc: 0.9771 - val_loss: 0.2124 - val_acc: 0.9360\n",
      "Epoch 64/120\n",
      "313/313 [==============================] - 2s 7ms/step - loss: 0.0688 - acc: 0.9763 - val_loss: 0.2182 - val_acc: 0.9390\n",
      "Epoch 65/120\n",
      "313/313 [==============================] - 2s 7ms/step - loss: 0.0663 - acc: 0.9771 - val_loss: 0.1973 - val_acc: 0.9370\n",
      "Epoch 66/120\n",
      "313/313 [==============================] - 2s 8ms/step - loss: 0.0595 - acc: 0.9815 - val_loss: 0.2025 - val_acc: 0.9400\n",
      "Epoch 67/120\n",
      "313/313 [==============================] - 2s 8ms/step - loss: 0.0564 - acc: 0.9808 - val_loss: 0.2083 - val_acc: 0.9380\n",
      "Epoch 68/120\n",
      "313/313 [==============================] - 2s 8ms/step - loss: 0.0533 - acc: 0.9826 - val_loss: 0.2277 - val_acc: 0.9350\n",
      "Epoch 69/120\n",
      "313/313 [==============================] - 2s 7ms/step - loss: 0.0587 - acc: 0.9811 - val_loss: 0.2044 - val_acc: 0.9400\n",
      "Epoch 70/120\n",
      "313/313 [==============================] - 2s 7ms/step - loss: 0.0429 - acc: 0.9861 - val_loss: 0.2273 - val_acc: 0.9410\n",
      "Epoch 71/120\n",
      "313/313 [==============================] - 2s 7ms/step - loss: 0.0461 - acc: 0.9853 - val_loss: 0.2104 - val_acc: 0.9380\n",
      "Epoch 72/120\n",
      "313/313 [==============================] - 2s 7ms/step - loss: 0.0456 - acc: 0.9844 - val_loss: 0.2205 - val_acc: 0.9410\n",
      "Epoch 73/120\n",
      "313/313 [==============================] - 2s 7ms/step - loss: 0.0428 - acc: 0.9856 - val_loss: 0.2231 - val_acc: 0.9380\n",
      "Epoch 74/120\n",
      "313/313 [==============================] - 2s 7ms/step - loss: 0.0448 - acc: 0.9860 - val_loss: 0.2082 - val_acc: 0.9420\n",
      "Epoch 75/120\n",
      "313/313 [==============================] - 2s 7ms/step - loss: 0.0366 - acc: 0.9889 - val_loss: 0.2551 - val_acc: 0.9380\n",
      "Epoch 76/120\n",
      "313/313 [==============================] - 2s 7ms/step - loss: 0.0400 - acc: 0.9868 - val_loss: 0.2116 - val_acc: 0.9460\n",
      "Epoch 77/120\n",
      "313/313 [==============================] - 2s 7ms/step - loss: 0.0319 - acc: 0.9893 - val_loss: 0.2147 - val_acc: 0.9480\n",
      "Epoch 78/120\n",
      "313/313 [==============================] - 2s 7ms/step - loss: 0.0302 - acc: 0.9895 - val_loss: 0.2558 - val_acc: 0.9380\n",
      "Epoch 79/120\n",
      "313/313 [==============================] - 2s 7ms/step - loss: 0.0348 - acc: 0.9880 - val_loss: 0.1965 - val_acc: 0.9460\n",
      "Epoch 80/120\n",
      "313/313 [==============================] - 2s 7ms/step - loss: 0.0302 - acc: 0.9906 - val_loss: 0.2428 - val_acc: 0.9400\n",
      "Epoch 81/120\n",
      "313/313 [==============================] - 2s 7ms/step - loss: 0.0335 - acc: 0.9899 - val_loss: 0.2191 - val_acc: 0.9450\n",
      "Epoch 82/120\n",
      "313/313 [==============================] - 2s 7ms/step - loss: 0.0296 - acc: 0.9902 - val_loss: 0.2250 - val_acc: 0.9430\n",
      "Epoch 83/120\n",
      "313/313 [==============================] - 2s 8ms/step - loss: 0.0292 - acc: 0.9899 - val_loss: 0.2179 - val_acc: 0.9500\n",
      "Epoch 84/120\n",
      "313/313 [==============================] - 2s 8ms/step - loss: 0.0249 - acc: 0.9930 - val_loss: 0.2139 - val_acc: 0.9460\n",
      "Epoch 85/120\n",
      "313/313 [==============================] - 2s 8ms/step - loss: 0.0233 - acc: 0.9921 - val_loss: 0.2372 - val_acc: 0.9400\n",
      "Epoch 86/120\n",
      "313/313 [==============================] - 2s 7ms/step - loss: 0.0228 - acc: 0.9918 - val_loss: 0.2254 - val_acc: 0.9460\n",
      "Epoch 87/120\n",
      "313/313 [==============================] - 2s 7ms/step - loss: 0.0246 - acc: 0.9928 - val_loss: 0.2269 - val_acc: 0.9440\n",
      "Epoch 88/120\n",
      "313/313 [==============================] - 2s 7ms/step - loss: 0.0271 - acc: 0.9936 - val_loss: 0.2397 - val_acc: 0.9430\n",
      "Epoch 89/120\n",
      "313/313 [==============================] - 2s 7ms/step - loss: 0.0232 - acc: 0.9918 - val_loss: 0.2226 - val_acc: 0.9480\n",
      "Epoch 90/120\n",
      "313/313 [==============================] - 2s 8ms/step - loss: 0.0225 - acc: 0.9931 - val_loss: 0.2427 - val_acc: 0.9490\n",
      "Epoch 91/120\n",
      "313/313 [==============================] - 2s 8ms/step - loss: 0.0208 - acc: 0.9948 - val_loss: 0.2698 - val_acc: 0.9430\n",
      "Epoch 92/120\n",
      "313/313 [==============================] - 2s 7ms/step - loss: 0.0270 - acc: 0.9915 - val_loss: 0.2250 - val_acc: 0.9480\n",
      "Epoch 93/120\n",
      "313/313 [==============================] - 2s 7ms/step - loss: 0.0242 - acc: 0.9922 - val_loss: 0.2217 - val_acc: 0.9420\n",
      "Epoch 94/120\n",
      "313/313 [==============================] - 2s 8ms/step - loss: 0.0205 - acc: 0.9941 - val_loss: 0.2284 - val_acc: 0.9510\n",
      "Epoch 95/120\n",
      "313/313 [==============================] - 2s 7ms/step - loss: 0.0173 - acc: 0.9948 - val_loss: 0.2628 - val_acc: 0.9410\n",
      "Epoch 96/120\n",
      "313/313 [==============================] - 2s 8ms/step - loss: 0.0176 - acc: 0.9947 - val_loss: 0.3049 - val_acc: 0.9380\n",
      "Epoch 97/120\n",
      "313/313 [==============================] - 2s 7ms/step - loss: 0.0216 - acc: 0.9932 - val_loss: 0.2703 - val_acc: 0.9470\n",
      "Epoch 98/120\n",
      "313/313 [==============================] - 2s 7ms/step - loss: 0.0191 - acc: 0.9937 - val_loss: 0.2460 - val_acc: 0.9490\n",
      "Epoch 99/120\n",
      "313/313 [==============================] - 2s 7ms/step - loss: 0.0169 - acc: 0.9937 - val_loss: 0.2418 - val_acc: 0.9450\n",
      "Epoch 100/120\n",
      "313/313 [==============================] - 2s 7ms/step - loss: 0.0241 - acc: 0.9947 - val_loss: 0.2814 - val_acc: 0.9460\n",
      "Epoch 101/120\n",
      "313/313 [==============================] - 2s 7ms/step - loss: 0.0170 - acc: 0.9949 - val_loss: 0.2519 - val_acc: 0.9580\n",
      "Epoch 102/120\n",
      "313/313 [==============================] - 2s 7ms/step - loss: 0.0182 - acc: 0.9953 - val_loss: 0.2315 - val_acc: 0.9510\n",
      "Epoch 103/120\n",
      "313/313 [==============================] - 2s 7ms/step - loss: 0.0182 - acc: 0.9951 - val_loss: 0.2891 - val_acc: 0.9450\n",
      "Epoch 104/120\n",
      "313/313 [==============================] - 2s 7ms/step - loss: 0.0151 - acc: 0.9952 - val_loss: 0.2628 - val_acc: 0.9490\n",
      "Epoch 105/120\n",
      "313/313 [==============================] - 2s 7ms/step - loss: 0.0154 - acc: 0.9958 - val_loss: 0.2779 - val_acc: 0.9470\n",
      "Epoch 106/120\n",
      "313/313 [==============================] - 2s 7ms/step - loss: 0.0178 - acc: 0.9938 - val_loss: 0.2446 - val_acc: 0.9540\n",
      "Epoch 107/120\n",
      "313/313 [==============================] - 2s 7ms/step - loss: 0.0196 - acc: 0.9948 - val_loss: 0.2655 - val_acc: 0.9510\n",
      "Epoch 108/120\n",
      "313/313 [==============================] - 2s 7ms/step - loss: 0.0155 - acc: 0.9960 - val_loss: 0.2821 - val_acc: 0.9500\n",
      "Epoch 109/120\n",
      "313/313 [==============================] - 2s 7ms/step - loss: 0.0141 - acc: 0.9951 - val_loss: 0.2609 - val_acc: 0.9500\n",
      "Epoch 110/120\n",
      "313/313 [==============================] - 2s 7ms/step - loss: 0.0145 - acc: 0.9956 - val_loss: 0.2868 - val_acc: 0.9470\n",
      "Epoch 111/120\n",
      "313/313 [==============================] - 2s 7ms/step - loss: 0.0136 - acc: 0.9956 - val_loss: 0.2503 - val_acc: 0.9500\n",
      "Epoch 112/120\n",
      "313/313 [==============================] - 2s 7ms/step - loss: 0.0132 - acc: 0.9968 - val_loss: 0.2267 - val_acc: 0.9600\n",
      "Epoch 113/120\n",
      "313/313 [==============================] - 2s 7ms/step - loss: 0.0120 - acc: 0.9960 - val_loss: 0.2817 - val_acc: 0.9560\n",
      "Epoch 114/120\n",
      "313/313 [==============================] - 2s 7ms/step - loss: 0.0147 - acc: 0.9959 - val_loss: 0.2689 - val_acc: 0.9500\n",
      "Epoch 115/120\n",
      "313/313 [==============================] - 2s 7ms/step - loss: 0.0133 - acc: 0.9962 - val_loss: 0.3284 - val_acc: 0.9500\n",
      "Epoch 116/120\n",
      "313/313 [==============================] - 2s 7ms/step - loss: 0.0118 - acc: 0.9964 - val_loss: 0.2887 - val_acc: 0.9510\n",
      "Epoch 117/120\n",
      "313/313 [==============================] - 2s 7ms/step - loss: 0.0153 - acc: 0.9962 - val_loss: 0.2912 - val_acc: 0.9460\n",
      "Epoch 118/120\n",
      "313/313 [==============================] - 2s 7ms/step - loss: 0.0148 - acc: 0.9954 - val_loss: 0.2440 - val_acc: 0.9580\n",
      "Epoch 119/120\n",
      "313/313 [==============================] - 2s 7ms/step - loss: 0.0119 - acc: 0.9957 - val_loss: 0.2742 - val_acc: 0.9530\n",
      "Epoch 120/120\n",
      "313/313 [==============================] - 2s 7ms/step - loss: 0.0121 - acc: 0.9969 - val_loss: 0.2679 - val_acc: 0.9560\n"
     ]
    },
    {
     "name": "stderr",
     "output_type": "stream",
     "text": [
      "C:\\Users\\seungwon\\anaconda3\\envs\\scratch\\lib\\site-packages\\tensorflow\\python\\keras\\utils\\generic_utils.py:497: CustomMaskWarning: Custom mask layers require a config and must override get_config. When loading, the custom mask layer must be passed to the custom_objects argument.\n",
      "  category=CustomMaskWarning)\n"
     ]
    }
   ],
   "source": [
    "model = Model([input_sequence, question], answer)\n",
    "model.compile(optimizer='rmsprop', loss='categorical_crossentropy',\n",
    "              metrics=['acc'])\n",
    "\n",
    "history = model.fit([Xstrain, Xqtrain],\n",
    "         Ytrain, batch_size, train_epochs,\n",
    "         validation_data=([Xstest, Xqtest], Ytest))\n",
    "\n",
    "model.save('results/model_2002.h5')"
   ]
  },
  {
   "cell_type": "code",
   "execution_count": 37,
   "id": "22df9618",
   "metadata": {},
   "outputs": [
    {
     "data": {
      "image/png": "[encoded data removed]",
      "text/plain": [
       "<Figure size 432x288 with 2 Axes>"
      ]
     },
     "metadata": {
      "needs_background": "light"
     },
     "output_type": "display_data"
    }
   ],
   "source": [
    "plt.subplot(211)\n",
    "plt.title(\"Accuracy\")\n",
    "plt.plot(history.history[\"acc\"], color=\"g\", label=\"train\")\n",
    "plt.plot(history.history[\"val_acc\"], color=\"b\", label=\"validation\")\n",
    "plt.legend(loc=\"best\")\n",
    "\n",
    "plt.subplot(212)\n",
    "plt.title(\"Loss\")\n",
    "plt.plot(history.history[\"loss\"], color=\"g\", label=\"train\")\n",
    "plt.plot(history.history[\"val_loss\"], color=\"b\", label=\"validation\")\n",
    "plt.legend(loc=\"best\")\n",
    "\n",
    "plt.tight_layout()\n",
    "plt.show()\n",
    "\n",
    "ytest = np.argmax(Ytest, axis=1)\n",
    "Ytest_ = model.predict([Xstest, Xqtest])\n",
    "ytest_ = np.argmax(Ytest_, axis=1)"
   ]
  },
  {
   "cell_type": "code",
   "execution_count": 38,
   "id": "f3cd6909",
   "metadata": {},
   "outputs": [
    {
     "name": "stdout",
     "output_type": "stream",
     "text": [
      "질문                |실제값  |예측값\n",
      "---------------------------------------\n",
      "은경이 는 어디 야 ?        : 복도      복도\n",
      "필웅이 는 어디 야 ?        : 화장실     화장실\n",
      "경임이 는 어디 야 ?        : 부엌      부엌\n",
      "경임이 는 어디 야 ?        : 복도      복도\n",
      "경임이 는 어디 야 ?        : 부엌      부엌\n",
      "경임이 는 어디 야 ?        : 복도      복도\n",
      "경임이 는 어디 야 ?        : 정원      정원\n",
      "수종이 는 어디 야 ?        : 복도      복도\n",
      "경임이 는 어디 야 ?        : 사무실     사무실\n",
      "수종이 는 어디 야 ?        : 사무실     정원\n",
      "필웅이 는 어디 야 ?        : 부엌      부엌\n",
      "필웅이 는 어디 야 ?        : 정원      정원\n",
      "수종이 는 어디 야 ?        : 사무실     사무실\n",
      "필웅이 는 어디 야 ?        : 침실      침실\n",
      "필웅이 는 어디 야 ?        : 침실      침실\n",
      "은경이 는 어디 야 ?        : 부엌      부엌\n",
      "은경이 는 어디 야 ?        : 정원      정원\n",
      "은경이 는 어디 야 ?        : 부엌      부엌\n",
      "수종이 는 어디 야 ?        : 사무실     정원\n",
      "은경이 는 어디 야 ?        : 부엌      복도\n",
      "필웅이 는 어디 야 ?        : 복도      복도\n",
      "은경이 는 어디 야 ?        : 사무실     사무실\n",
      "은경이 는 어디 야 ?        : 사무실     사무실\n",
      "경임이 는 어디 야 ?        : 복도      복도\n",
      "수종이 는 어디 야 ?        : 침실      침실\n",
      "경임이 는 어디 야 ?        : 침실      침실\n",
      "필웅이 는 어디 야 ?        : 침실      침실\n",
      "수종이 는 어디 야 ?        : 부엌      부엌\n",
      "수종이 는 어디 야 ?        : 부엌      부엌\n",
      "수종이 는 어디 야 ?        : 부엌      복도\n"
     ]
    }
   ],
   "source": [
    "NUM_DISPLAY = 30\n",
    "\n",
    "print(\"{:18}|{:5}|{}\".format(\"질문\", \"실제값\", \"예측값\"))\n",
    "print(39 * \"-\")\n",
    "\n",
    "for i in range(NUM_DISPLAY):\n",
    "    question = \" \".join([idx2word[x] for x in Xqtest[i].tolist()])\n",
    "    label = idx2word[ytest[i]]\n",
    "    prediction = idx2word[ytest_[i]]\n",
    "    print(\"{:20}: {:7} {}\".format(question, label, prediction))"
   ]
  },
  {
   "cell_type": "code",
   "execution_count": null,
   "id": "ae25604e",
   "metadata": {},
   "outputs": [],
   "source": []
  }
 ],
 "metadata": {
  "kernelspec": {
   "display_name": "Python 3",
   "language": "python",
   "name": "python3"
  },
  "language_info": {
   "codemirror_mode": {
    "name": "ipython",
    "version": 3
   },
   "file_extension": ".py",
   "mimetype": "text/x-python",
   "name": "python",
   "nbconvert_exporter": "python",
   "pygments_lexer": "ipython3",
   "version": "3.6.3"
  }
 },
 "nbformat": 4,
 "nbformat_minor": 5
}
