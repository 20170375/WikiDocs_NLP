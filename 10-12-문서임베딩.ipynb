{
 "cells": [
  {
   "cell_type": "markdown",
   "id": "35cecdef",
   "metadata": {},
   "source": [
    "# 10. 워드 임베딩(Word Embedding)\n",
    "\n",
    "## 12) 문서 임베딩 : 워드 임베딩의 평균(Average Word Embedding)"
   ]
  },
  {
   "cell_type": "markdown",
   "id": "8d707231",
   "metadata": {},
   "source": [
    "영화 사이트 IMDB 영화 리뷰 데이터는 리뷰 텍스트에 리뷰가 긍정인 경우 1을, 부정인 경우 0으로 레이블링 한 데이터로 25,000개의 훈련 데이터와 테스트 데이터 25,000개로 구성된 데이터입니다."
   ]
  },
  {
   "cell_type": "markdown",
   "id": "0ce7292b",
   "metadata": {},
   "source": [
    "### 1. 데이터 로드와 전처리"
   ]
  },
  {
   "cell_type": "code",
   "execution_count": 1,
   "id": "d6d4fb6d",
   "metadata": {},
   "outputs": [],
   "source": [
    "import numpy as np\n",
    "from tensorflow.keras.datasets import imdb\n",
    "from tensorflow.keras.preprocessing.sequence import pad_sequences"
   ]
  },
  {
   "cell_type": "markdown",
   "id": "d9cb3eae",
   "metadata": {},
   "source": [
    "데이터를 로드할 때 파라미터로 num_words를 사용하면 이 데이터에서 등장 빈도 순위로 몇 번째에 해당하는 단어까지를 사용할 것인지를 의미합니다."
   ]
  },
  {
   "cell_type": "code",
   "execution_count": 2,
   "id": "c96246be",
   "metadata": {},
   "outputs": [
    {
     "name": "stdout",
     "output_type": "stream",
     "text": [
      "Downloading data from https://storage.googleapis.com/tensorflow/tf-keras-datasets/imdb.npz\n",
      "17465344/17464789 [==============================] - 0s 0us/step\n"
     ]
    },
    {
     "name": "stderr",
     "output_type": "stream",
     "text": [
      "<string>:6: VisibleDeprecationWarning: Creating an ndarray from ragged nested sequences (which is a list-or-tuple of lists-or-tuples-or ndarrays with different lengths or shapes) is deprecated. If you meant to do this, you must specify 'dtype=object' when creating the ndarray\n",
      "C:\\Users\\seungwon\\anaconda3\\envs\\scratch\\lib\\site-packages\\tensorflow\\python\\keras\\datasets\\imdb.py:155: VisibleDeprecationWarning: Creating an ndarray from ragged nested sequences (which is a list-or-tuple of lists-or-tuples-or ndarrays with different lengths or shapes) is deprecated. If you meant to do this, you must specify 'dtype=object' when creating the ndarray\n",
      "  x_train, y_train = np.array(xs[:idx]), np.array(labels[:idx])\n"
     ]
    },
    {
     "name": "stdout",
     "output_type": "stream",
     "text": [
      "훈련용 리뷰 개수 : 25000\n",
      "테스트용 리뷰 개수 : 25000\n"
     ]
    },
    {
     "name": "stderr",
     "output_type": "stream",
     "text": [
      "C:\\Users\\seungwon\\anaconda3\\envs\\scratch\\lib\\site-packages\\tensorflow\\python\\keras\\datasets\\imdb.py:156: VisibleDeprecationWarning: Creating an ndarray from ragged nested sequences (which is a list-or-tuple of lists-or-tuples-or ndarrays with different lengths or shapes) is deprecated. If you meant to do this, you must specify 'dtype=object' when creating the ndarray\n",
      "  x_test, y_test = np.array(xs[idx:]), np.array(labels[idx:])\n"
     ]
    }
   ],
   "source": [
    "vocab_size = 20000\n",
    "\n",
    "(X_train, y_train), (X_test, y_test) = imdb.load_data(num_words=vocab_size)\n",
    "print('훈련용 리뷰 개수 :',len(X_train))\n",
    "print('테스트용 리뷰 개수 :',len(X_test))"
   ]
  },
  {
   "cell_type": "markdown",
   "id": "14aebecb",
   "metadata": {},
   "source": [
    "이 데이터는 이미 정수 인코딩까지의 전처리가 진행되어져 있습니다. \n",
    "\n",
    "첫번째 리뷰와 첫번째 리뷰의 레이블을 출력해봅시다."
   ]
  },
  {
   "cell_type": "code",
   "execution_count": 5,
   "id": "0a9538c9",
   "metadata": {},
   "outputs": [
    {
     "name": "stdout",
     "output_type": "stream",
     "text": [
      "훈련 데이터의 첫번째 샘플 : [1, 14, 22, 16, 43, 530, 973, 1622, 1385, 65, 458, 4468, 66, 3941, 4, 173, 36, 256, 5, 25, 100, 43, 838, 112, 50, 670, 2, 9, 35, 480, 284, 5, 150, 4, 172, 112, 167, 2, 336, 385, 39, 4, 172, 4536, 1111, 17, 546, 38, 13, 447, 4, 192, 50, 16, 6, 147, 2025, 19, 14, 22, 4, 1920, 4613, 469, 4, 22, 71, 87, 12, 16, 43, 530, 38, 76, 15, 13, 1247, 4, 22, 17, 515, 17, 12, 16, 626, 18, 19193, 5, 62, 386, 12, 8, 316, 8, 106, 5, 4, 2223, 5244, 16, 480, 66, 3785, 33, 4, 130, 12, 16, 38, 619, 5, 25, 124, 51, 36, 135, 48, 25, 1415, 33, 6, 22, 12, 215, 28, 77, 52, 5, 14, 407, 16, 82, 10311, 8, 4, 107, 117, 5952, 15, 256, 4, 2, 7, 3766, 5, 723, 36, 71, 43, 530, 476, 26, 400, 317, 46, 7, 4, 12118, 1029, 13, 104, 88, 4, 381, 15, 297, 98, 32, 2071, 56, 26, 141, 6, 194, 7486, 18, 4, 226, 22, 21, 134, 476, 26, 480, 5, 144, 30, 5535, 18, 51, 36, 28, 224, 92, 25, 104, 4, 226, 65, 16, 38, 1334, 88, 12, 16, 283, 5, 16, 4472, 113, 103, 32, 15, 16, 5345, 19, 178, 32]\n",
      "훈련 데이터의 첫번째 샘플의 레이블 : 1\n"
     ]
    }
   ],
   "source": [
    "print('훈련 데이터의 첫번째 샘플 :', X_train[0])\n",
    "print('훈련 데이터의 첫번째 샘플의 레이블 :', y_train[0])"
   ]
  },
  {
   "cell_type": "code",
   "execution_count": 6,
   "id": "9d5e475c",
   "metadata": {},
   "outputs": [
    {
     "name": "stdout",
     "output_type": "stream",
     "text": [
      "훈련용 리뷰의 평규 길이: 238\n",
      "테스트용 리뷰의 평균 길이: 230\n"
     ]
    }
   ],
   "source": [
    "print('훈련용 리뷰의 평규 길이: {}'.format(np.mean(list(map(len, X_train)), dtype=int)))\n",
    "print('테스트용 리뷰의 평균 길이: {}'.format(np.mean(list(map(len, X_test)), dtype=int)))"
   ]
  },
  {
   "cell_type": "markdown",
   "id": "24f1fc96",
   "metadata": {},
   "source": [
    "훈련용 리뷰와 테스트용 리뷰의 평균 길이가 각각 238, 230입니다. 평균보다는 큰 수치인 400으로 패딩합니다."
   ]
  },
  {
   "cell_type": "code",
   "execution_count": 7,
   "id": "c64fb83a",
   "metadata": {},
   "outputs": [
    {
     "name": "stdout",
     "output_type": "stream",
     "text": [
      "X_train의 크기(shape) : (25000, 400)\n",
      "X_test의 크기(shape) : (25000, 400)\n"
     ]
    }
   ],
   "source": [
    "max_len = 400\n",
    "\n",
    "X_train = pad_sequences(X_train, maxlen=max_len)\n",
    "X_test = pad_sequences(X_test, maxlen=max_len)\n",
    "print('X_train의 크기(shape) :', X_train.shape)\n",
    "print('X_test의 크기(shape) :', X_test.shape)"
   ]
  },
  {
   "cell_type": "markdown",
   "id": "056c74e8",
   "metadata": {},
   "source": [
    "### 2. 모델 설계하기"
   ]
  },
  {
   "cell_type": "markdown",
   "id": "0f21e8ff",
   "metadata": {},
   "source": [
    "임베딩 벡터를 평균으로 사용하는 모델을 설계해봅시다.\n",
    "\n",
    "GlobalAveragePooling1D()은 입력으로 들어오는 모든 벡터들의 평균을 구하는 역할을 합니다. Embedding() 다음에 GlobalAveragePooling1D()을 추가하면 해당 문장의 모든 단어 벡터들의 평균 벡터를 구합니다."
   ]
  },
  {
   "cell_type": "code",
   "execution_count": 8,
   "id": "cdba3c4b",
   "metadata": {},
   "outputs": [
    {
     "name": "stdout",
     "output_type": "stream",
     "text": [
      "Epoch 1/10\n",
      "625/625 [==============================] - 9s 11ms/step - loss: 0.6294 - acc: 0.7142 - val_loss: 0.5224 - val_acc: 0.8078\n",
      "\n",
      "Epoch 00001: val_acc improved from -inf to 0.80780, saving model to embedding_average_model.h5\n",
      "Epoch 2/10\n",
      "625/625 [==============================] - 7s 11ms/step - loss: 0.4304 - acc: 0.8582 - val_loss: 0.3849 - val_acc: 0.8588\n",
      "\n",
      "Epoch 00002: val_acc improved from 0.80780 to 0.85880, saving model to embedding_average_model.h5\n",
      "Epoch 3/10\n",
      "625/625 [==============================] - 7s 11ms/step - loss: 0.3190 - acc: 0.8914 - val_loss: 0.3223 - val_acc: 0.8806\n",
      "\n",
      "Epoch 00003: val_acc improved from 0.85880 to 0.88060, saving model to embedding_average_model.h5\n",
      "Epoch 4/10\n",
      "625/625 [==============================] - 7s 11ms/step - loss: 0.2621 - acc: 0.9095 - val_loss: 0.3027 - val_acc: 0.8814\n",
      "\n",
      "Epoch 00004: val_acc improved from 0.88060 to 0.88140, saving model to embedding_average_model.h5\n",
      "Epoch 5/10\n",
      "625/625 [==============================] - 7s 11ms/step - loss: 0.2244 - acc: 0.9237 - val_loss: 0.2833 - val_acc: 0.8874\n",
      "\n",
      "Epoch 00005: val_acc improved from 0.88140 to 0.88740, saving model to embedding_average_model.h5\n",
      "Epoch 6/10\n",
      "625/625 [==============================] - 7s 11ms/step - loss: 0.1962 - acc: 0.9334 - val_loss: 0.2758 - val_acc: 0.8914\n",
      "\n",
      "Epoch 00006: val_acc improved from 0.88740 to 0.89140, saving model to embedding_average_model.h5\n",
      "Epoch 7/10\n",
      "625/625 [==============================] - 7s 11ms/step - loss: 0.1727 - acc: 0.9423 - val_loss: 0.2714 - val_acc: 0.8920\n",
      "\n",
      "Epoch 00007: val_acc improved from 0.89140 to 0.89200, saving model to embedding_average_model.h5\n",
      "Epoch 8/10\n",
      "625/625 [==============================] - 7s 11ms/step - loss: 0.1527 - acc: 0.9504 - val_loss: 0.2704 - val_acc: 0.8948\n",
      "\n",
      "Epoch 00008: val_acc improved from 0.89200 to 0.89480, saving model to embedding_average_model.h5\n",
      "Epoch 9/10\n",
      "625/625 [==============================] - 6s 10ms/step - loss: 0.1353 - acc: 0.9577 - val_loss: 0.2742 - val_acc: 0.8950\n",
      "\n",
      "Epoch 00009: val_acc improved from 0.89480 to 0.89500, saving model to embedding_average_model.h5\n",
      "Epoch 10/10\n",
      "625/625 [==============================] - 7s 11ms/step - loss: 0.1201 - acc: 0.9624 - val_loss: 0.2779 - val_acc: 0.8964\n",
      "\n",
      "Epoch 00010: val_acc improved from 0.89500 to 0.89640, saving model to embedding_average_model.h5\n"
     ]
    },
    {
     "data": {
      "text/plain": [
       "<tensorflow.python.keras.callbacks.History at 0x1d5403bc550>"
      ]
     },
     "execution_count": 8,
     "metadata": {},
     "output_type": "execute_result"
    }
   ],
   "source": [
    "from tensorflow.keras.models import Sequential, load_model\n",
    "from tensorflow.keras.layers import Dense, Embedding, GlobalAveragePooling1D\n",
    "from tensorflow.keras.callbacks import EarlyStopping, ModelCheckpoint\n",
    "\n",
    "embedding_dim = 64\n",
    "\n",
    "model = Sequential()\n",
    "model.add(Embedding(vocab_size, embedding_dim))\n",
    "\n",
    "# 모든 단어 벡터의 평균을 구한다.\n",
    "model.add(GlobalAveragePooling1D())\n",
    "model.add(Dense(1, activation='sigmoid'))\n",
    "\n",
    "es = EarlyStopping(monitor='val_loss', mode='min', verbose=1, patience=4)\n",
    "mc = ModelCheckpoint('results/embedding_average_model.h5', monitor='val_acc', mode='max', verbose=1, save_best_only=True)\n",
    "\n",
    "model.compile(loss='binary_crossentropy', optimizer='adam', metrics=['acc'])\n",
    "model.fit(X_train, y_train, batch_size=32, epochs=10, callbacks=[es, mc], validation_split=0.2)"
   ]
  },
  {
   "cell_type": "code",
   "execution_count": 10,
   "id": "2813b323",
   "metadata": {},
   "outputs": [
    {
     "name": "stdout",
     "output_type": "stream",
     "text": [
      "782/782 [==============================] - 2s 3ms/step - loss: 0.2936 - acc: 0.8860\n",
      "\n",
      " 테스트 정확도: 0.8860\n"
     ]
    }
   ],
   "source": [
    "loaded_model = load_model('results/embedding_average_model.h5')\n",
    "print(\"\\n 테스트 정확도: %.4f\" % (loaded_model.evaluate(X_test, y_test)[1]))"
   ]
  },
  {
   "cell_type": "code",
   "execution_count": null,
   "id": "df7ccc8f",
   "metadata": {},
   "outputs": [],
   "source": []
  }
 ],
 "metadata": {
  "kernelspec": {
   "display_name": "Python 3",
   "language": "python",
   "name": "python3"
  },
  "language_info": {
   "codemirror_mode": {
    "name": "ipython",
    "version": 3
   },
   "file_extension": ".py",
   "mimetype": "text/x-python",
   "name": "python",
   "nbconvert_exporter": "python",
   "pygments_lexer": "ipython3",
   "version": "3.6.3"
  }
 },
 "nbformat": 4,
 "nbformat_minor": 5
}
