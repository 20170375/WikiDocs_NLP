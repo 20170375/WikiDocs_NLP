{
 "cells": [
  {
   "cell_type": "markdown",
   "id": "a4b592c0",
   "metadata": {},
   "source": [
    "# 14. RNN을 이용한 인코더-디코더\n",
    "\n",
    "## 3) BLEU Score(Bilingual Evaluation Understudy Score)"
   ]
  },
  {
   "cell_type": "markdown",
   "id": "6f4abd2e",
   "metadata": {},
   "source": [
    "기계 번역의 성능이 얼마나 뛰어난가를 측정하기 위해 사용되는 대표적인 방법인 BLEU(Bilingual Evaluation Understudy) 대해서 학습해보겠습니다. "
   ]
  },
  {
   "cell_type": "code",
   "execution_count": 1,
   "id": "01707fef",
   "metadata": {},
   "outputs": [],
   "source": [
    "import numpy as np\n",
    "from collections import Counter\n",
    "from nltk import ngrams"
   ]
  },
  {
   "cell_type": "markdown",
   "id": "5ba49c79",
   "metadata": {},
   "source": [
    "### 1. BLEU(Bilingual Evaluation Understudy)"
   ]
  },
  {
   "cell_type": "markdown",
   "id": "6c6447bd",
   "metadata": {},
   "source": [
    "#### 1) 단어 개수 카운트로 측정하기(Unigram Precision)\n",
    "\n",
    "Example 1\n",
    "+ Candidate1 : It is a guide to action which ensures that the military always obeys the commands of the party.\n",
    "\n",
    "+ Candidate2 : It is to insure the troops forever hearing the activity guidebook that party direct.\n",
    "\n",
    "+ Reference1 : It is a guide to action that ensures that the military will forever heed Party commands.\n",
    "\n",
    "+ Reference2 : It is the guiding principle which guarantees the military forces always being under the command of the Party.\n",
    "\n",
    "+ Reference3 : It is the practical guide for the army always to heed the directions of the party.\n",
    "\n",
    "$ \\text{유니그램 정밀도} = {\\text{Ref들 중에서 존재하는 Ca의 단어 수} \\over \\text{Ca의 총 단어 수}} $"
   ]
  },
  {
   "cell_type": "markdown",
   "id": "dc5b459b",
   "metadata": {},
   "source": [
    "#### 2) 중복을 제거하여 보정하기(Modified Unigram Precision)\n",
    "\n",
    "Example 2\n",
    "+ Candidate : the the the the the the the\n",
    "\n",
    "+ Reference1 : the cat is on the mat\n",
    "\n",
    "+ Reference2 : there is a cat on the mat\n",
    "\n",
    "$ Count_{clip} = \\text{min(Count, Max_Ref_Count)} $\n",
    "\n",
    "$ \\text{보정된 유니그램 정밀도} = {\\text{Ca의 각 유니그램에 대해 } Count _{clip}{\\text을 수행한 값} \\over \\text{Ca의 총 유니그램 수}} $"
   ]
  },
  {
   "cell_type": "markdown",
   "id": "a3859b3c",
   "metadata": {},
   "source": [
    "#### 3) 보정된 유니그램 정밀도 (Modified Unigram Precision) 구현하기"
   ]
  },
  {
   "cell_type": "markdown",
   "id": "5f2acb11",
   "metadata": {},
   "source": [
    "우선 유니그램을 단순히 Count하는 함수를 simple_count라는 이름의 아래 함수로 구현합니다."
   ]
  },
  {
   "cell_type": "code",
   "execution_count": 2,
   "id": "dea39a74",
   "metadata": {},
   "outputs": [],
   "source": [
    "# 토큰화 된 문장(tokens)에서 n-gram을 카운트\n",
    "def simple_count(tokens, n):\n",
    "    return Counter(ngrams(tokens, n))"
   ]
  },
  {
   "cell_type": "markdown",
   "id": "8aa10ace",
   "metadata": {},
   "source": [
    "Example 1의 Ca1를 가져와 함수가 어떤 결과를 출력하는지 확인해봅시다."
   ]
  },
  {
   "cell_type": "code",
   "execution_count": 4,
   "id": "aca6e994",
   "metadata": {},
   "outputs": [
    {
     "name": "stdout",
     "output_type": "stream",
     "text": [
      "유니그램 카운트 :\n",
      " Counter({('the',): 3, ('It',): 1, ('is',): 1, ('a',): 1, ('guide',): 1, ('to',): 1, ('action',): 1, ('which',): 1, ('ensures',): 1, ('that',): 1, ('military',): 1, ('always',): 1, ('obeys',): 1, ('commands',): 1, ('of',): 1, ('party.',): 1})\n"
     ]
    }
   ],
   "source": [
    "candidate = \"It is a guide to action which ensures that the military always obeys the commands of the party.\"\n",
    "tokens = candidate.split() # 토큰화\n",
    "result = simple_count(tokens, 1) # n = 1은 유니그램\n",
    "print('유니그램 카운트 :\\n', result)"
   ]
  },
  {
   "cell_type": "markdown",
   "id": "b0639701",
   "metadata": {},
   "source": [
    "이번에는 Example 2의 Ca를 가지고 함수를 수행해봅시다."
   ]
  },
  {
   "cell_type": "code",
   "execution_count": 5,
   "id": "fd47b1aa",
   "metadata": {},
   "outputs": [
    {
     "name": "stdout",
     "output_type": "stream",
     "text": [
      "유니그램 카운트 : Counter({('the',): 7})\n"
     ]
    }
   ],
   "source": [
    "candidate = 'the the the the the the the'\n",
    "tokens = candidate.split() # 토큰화\n",
    "result = simple_count(tokens, 1) # n = 1은 유니그램\n",
    "print('유니그램 카운트 :', result)"
   ]
  },
  {
   "cell_type": "markdown",
   "id": "2b1cc84a",
   "metadata": {},
   "source": [
    "이번에는 Count<sub>clip</sub> 을 아래의 count_clip 이름을 가진 함수로 구현해보겠습니다."
   ]
  },
  {
   "cell_type": "code",
   "execution_count": 6,
   "id": "0605a414",
   "metadata": {},
   "outputs": [],
   "source": [
    "def count_clip(candidate, reference_list, n):\n",
    "    # Ca 문장에서 n-gram 카운트\n",
    "    ca_cnt = simple_count(candidate, n)\n",
    "    max_ref_cnt_dict = dict()\n",
    "\n",
    "    for ref in reference_list: \n",
    "        # Ref 문장에서 n-gram 카운트\n",
    "        ref_cnt = simple_count(ref, n)\n",
    "\n",
    "        # 각 Ref 문장에 대해서 비교하여 n-gram의 최대 등장 횟수를 계산.\n",
    "        for n_gram in ref_cnt: \n",
    "            if n_gram in max_ref_cnt_dict:\n",
    "                max_ref_cnt_dict[n_gram] = max(ref_cnt[n_gram], max_ref_cnt_dict[n_gram])\n",
    "            else:\n",
    "                max_ref_cnt_dict[n_gram] = ref_cnt[n_gram]\n",
    "\n",
    "    return {\n",
    "        # count_clip = min(count, max_ref_count)\n",
    "        n_gram: min(ca_cnt.get(n_gram, 0), max_ref_cnt_dict.get(n_gram, 0)) for n_gram in ca_cnt\n",
    "     }"
   ]
  },
  {
   "cell_type": "markdown",
   "id": "9837c5b3",
   "metadata": {},
   "source": [
    "Example 2를 통해 함수가 정상 작동되는지 확인해봅시다."
   ]
  },
  {
   "cell_type": "code",
   "execution_count": 7,
   "id": "ff936b87",
   "metadata": {},
   "outputs": [
    {
     "name": "stdout",
     "output_type": "stream",
     "text": [
      "보정된 유니그램 카운트 : {('the',): 2}\n"
     ]
    }
   ],
   "source": [
    "candidate = 'the the the the the the the'\n",
    "references = [\n",
    "    'the cat is on the mat',\n",
    "    'there is a cat on the mat'\n",
    "]\n",
    "result = count_clip(candidate.split(), list(map(lambda ref: ref.split(), references)),1)\n",
    "print('보정된 유니그램 카운트 :', result)"
   ]
  },
  {
   "cell_type": "markdown",
   "id": "a57c0402",
   "metadata": {},
   "source": [
    "위의 두 함수를 사용하여 예제 문장에 대해서 보정된 정밀도를 연산하는 함수를 **modified_precision**란 이름의 함수로 구현해봅시다."
   ]
  },
  {
   "cell_type": "code",
   "execution_count": 8,
   "id": "6a3a365e",
   "metadata": {},
   "outputs": [],
   "source": [
    "def modified_precision(candidate, reference_list, n):\n",
    "    clip_cnt = count_clip(candidate, reference_list, n) \n",
    "    total_clip_cnt = sum(clip_cnt.values()) # 분자\n",
    "\n",
    "    cnt = simple_count(candidate, n)\n",
    "    total_cnt = sum(cnt.values()) # 분모\n",
    "\n",
    "    # 분모가 0이 되는 것을 방지\n",
    "    if total_cnt == 0: \n",
    "        total_cnt = 1\n",
    "\n",
    "    # 분자 : count_clip의 합, 분모 : 단순 count의 합 ==> 보정된 정밀도\n",
    "    return (total_clip_cnt / total_cnt)"
   ]
  },
  {
   "cell_type": "code",
   "execution_count": 9,
   "id": "f65496e3",
   "metadata": {},
   "outputs": [
    {
     "name": "stdout",
     "output_type": "stream",
     "text": [
      "보정된 유니그램 정밀도 : 0.2857142857142857\n"
     ]
    }
   ],
   "source": [
    "result = modified_precision(candidate.split(), list(map(lambda ref: ref.split(), references)), n=1)\n",
    "print('보정된 유니그램 정밀도 :', result)"
   ]
  },
  {
   "cell_type": "markdown",
   "id": "2031c16b",
   "metadata": {},
   "source": [
    "#### 4) 순서를 고려하기 위해서 n-gram으로 확장하기\n",
    "\n",
    "BoW 표현과 유사하게, 유니그램 정밀도와 같이 각 단어의 빈도수로 접근하는 방법은 결국 단어의 순서를 고려하지 않는다는 특징이 있습니다. "
   ]
  },
  {
   "cell_type": "markdown",
   "id": "a3a64d96",
   "metadata": {},
   "source": [
    "Example 1\n",
    "\n",
    "+ Candidate3 : the that military a is It guide ensures which to commands the of action obeys always party the."
   ]
  },
  {
   "cell_type": "markdown",
   "id": "72475653",
   "metadata": {},
   "source": [
    "Ca3은 사실 Ca1에서 모든 유니그램의 순서를 랜덤으로 섞은 실제 영어 문법에 맞지 않은 문장입니다. \n",
    "\n",
    "하지만 Ref 1, 2, 3과 비교하여 유니그램 정밀도를 적용하면 Ca1과 Ca3의 두 정밀도는 동일합니다. 유니그램 정밀도는 유니그램의 순서를 전혀 고려하지 않기 때문입니다. "
   ]
  },
  {
   "attachments": {
    "image-2.png": {
     "image/png": "[encoded data removed]"
    }
   },
   "cell_type": "markdown",
   "id": "32deb87f",
   "metadata": {},
   "source": [
    "Example 2\n",
    "\n",
    "+ Candidate2 : the cat the cat on the mat\n",
    "\n",
    "이해를 돕고자 **Example 2**에 Ca2를 새로 추가했습니다. Ca2 바이그램의 Count와 \n",
    "Count<sub>clip</sub>은 아래와 같습니다.\n",
    "\n",
    "\n",
    "|바이그램|the cat|cat the|cat on|on the|the mat|SUM|\n",
    "|-|-|-|-|-|-|-|\n",
    "|Count|2|1|1|1|1|6|\n",
    "|Count<sub>clip</sub>|1|0|1|1|1|4|\n",
    "\n",
    "보정된 유니그램 정밀도는 다음과 같습니다.\n",
    "\n",
    "![image-2.png](attachment:image-2.png)"
   ]
  },
  {
   "cell_type": "markdown",
   "id": "14c107a8",
   "metadata": {},
   "source": [
    "#### 5) 짧은 문장 길이에 대한 패널티(Brevity Penalty)"
   ]
  },
  {
   "cell_type": "markdown",
   "id": "3e5d626c",
   "metadata": {},
   "source": [
    "Ca가 Ref보다 문장의 길이가 짧은 경우에는 점수에 패널티를 줄 필요가 있습니다. 이를 **브레버티 패널티(Brevity Penalty)**라고 합니다."
   ]
  },
  {
   "attachments": {
    "image-2.png": {
     "image/png": "[encoded data removed]"
    },
    "image.png": {
     "image/png": "[encoded data removed]"
    }
   },
   "cell_type": "markdown",
   "id": "a1dce4cb",
   "metadata": {},
   "source": [
    "브레버티 패널티는 앞서 배운 BLEU의 식에 곱하는 방식으로 사용합니다. 브레버티 패널티를 줄여서 BP라고 하였을 때, 최종 BLEU의 식은 아래와 같습니다.\n",
    "\n",
    "![image.png](attachment:image.png)\n",
    "\n",
    "위의 수식은 패널티를 줄 필요가 없는 경우에는 BP의 값이 1이어야 함을 의미합니다. 이를 반영한 BP의 수식은 아래와 같습니다.\n",
    "\n",
    "![image-2.png](attachment:image-2.png)"
   ]
  },
  {
   "cell_type": "markdown",
   "id": "5acbbb2e",
   "metadata": {},
   "source": [
    "여기서는 Ref가 여러 개일 때를 가정하고 있으므로 r은 모든 Ref들 중에서 Ca와 가장 길이 차이가 작은 Ref의 길이로 합니다.\n",
    "\n",
    "r을 구하는 코드는 아래와 같습니다."
   ]
  },
  {
   "cell_type": "code",
   "execution_count": 10,
   "id": "f61bc7ec",
   "metadata": {},
   "outputs": [],
   "source": [
    "# Ca 길이와 가장 근접한 Ref의 길이를 리턴하는 함수\n",
    "def closest_ref_length(candidate, reference_list):\n",
    "    ca_len = len(candidate) # ca 길이\n",
    "    ref_lens = (len(ref) for ref in reference_list) # Ref들의 길이\n",
    "    # 길이 차이를 최소화하는 Ref를 찾아서 Ref의 길이를 리턴\n",
    "    closest_ref_len = min(ref_lens, key=lambda ref_len: (abs(ref_len - ca_len), ref_len))\n",
    "    return closest_ref_len"
   ]
  },
  {
   "cell_type": "markdown",
   "id": "34af2a60",
   "metadata": {},
   "source": [
    "closest_ref_length 함수를 통해 r을 구했다면, BP를 구하는 함수 brevity_penalty를 구현해봅시다.\n",
    "\n",
    "위 함수는 앞서 배운 BP의 수식처럼 c가 r보다 클 경우에는 1을 리턴하고, 그 외의 경우에는 e<sup>1−r/c</sup>를 리턴합니다."
   ]
  },
  {
   "cell_type": "code",
   "execution_count": 11,
   "id": "8312b991",
   "metadata": {},
   "outputs": [],
   "source": [
    "def brevity_penalty(candidate, reference_list):\n",
    "    ca_len = len(candidate)\n",
    "    ref_len = closest_ref_length(candidate, reference_list)\n",
    "\n",
    "    if ca_len > ref_len:\n",
    "        return 1\n",
    "\n",
    "    # candidate가 비어있다면 BP = 0 → BLEU = 0.0\n",
    "    elif ca_len == 0 :\n",
    "        return 0\n",
    "    else:\n",
    "        return np.exp(1 - ref_len/ca_len)"
   ]
  },
  {
   "cell_type": "markdown",
   "id": "f7be84d5",
   "metadata": {},
   "source": [
    "최종적으로 BLEU 점수를 계산하는 함수 bleu_score를 구현해봅시다."
   ]
  },
  {
   "cell_type": "code",
   "execution_count": 12,
   "id": "568b9f6c",
   "metadata": {},
   "outputs": [],
   "source": [
    "def bleu_score(candidate, reference_list, weights=[0.25, 0.25, 0.25, 0.25]):\n",
    "    bp = brevity_penalty(candidate, reference_list) # 브레버티 패널티, BP\n",
    "\n",
    "    p_n = [modified_precision(candidate, reference_list, n=n) for n, _ in enumerate(weights,start=1)] \n",
    "    # p1, p2, p3, ..., pn\n",
    "    score = np.sum([w_i * np.log(p_i) if p_i != 0 else 0 for w_i, p_i in zip(weights, p_n)])\n",
    "    return bp * np.exp(score)"
   ]
  },
  {
   "cell_type": "markdown",
   "id": "84449ac9",
   "metadata": {},
   "source": [
    "### 2. NLTK를 사용한 BLEU 측정하기\n",
    "\n",
    "파이썬에서는 NLTK 패키지를 사용하여 BLEU를 계산할 수 있습니다."
   ]
  },
  {
   "cell_type": "code",
   "execution_count": 13,
   "id": "88dfb200",
   "metadata": {},
   "outputs": [
    {
     "name": "stdout",
     "output_type": "stream",
     "text": [
      "실습 코드의 BLEU : 0.5045666840058485\n",
      "패키지 NLTK의 BLEU : 0.5045666840058485\n"
     ]
    }
   ],
   "source": [
    "import nltk.translate.bleu_score as bleu\n",
    "\n",
    "candidate = 'It is a guide to action which ensures that the military always obeys the commands of the party'\n",
    "references = [\n",
    "    'It is a guide to action that ensures that the military will forever heed Party commands',\n",
    "    'It is the guiding principle which guarantees the military forces always being under the command of the Party',\n",
    "    'It is the practical guide for the army always to heed the directions of the party'\n",
    "]\n",
    "\n",
    "print('실습 코드의 BLEU :',bleu_score(candidate.split(),list(map(lambda ref: ref.split(), references))))\n",
    "print('패키지 NLTK의 BLEU :',bleu.sentence_bleu(list(map(lambda ref: ref.split(), references)),candidate.split()))"
   ]
  },
  {
   "cell_type": "code",
   "execution_count": null,
   "id": "8841b0c7",
   "metadata": {},
   "outputs": [],
   "source": []
  }
 ],
 "metadata": {
  "kernelspec": {
   "display_name": "Python 3",
   "language": "python",
   "name": "python3"
  },
  "language_info": {
   "codemirror_mode": {
    "name": "ipython",
    "version": 3
   },
   "file_extension": ".py",
   "mimetype": "text/x-python",
   "name": "python",
   "nbconvert_exporter": "python",
   "pygments_lexer": "ipython3",
   "version": "3.6.3"
  }
 },
 "nbformat": 4,
 "nbformat_minor": 5
}
