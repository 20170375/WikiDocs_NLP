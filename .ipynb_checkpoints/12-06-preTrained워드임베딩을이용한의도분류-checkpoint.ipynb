{
 "cells": [
  {
   "cell_type": "markdown",
   "id": "b2c31727",
   "metadata": {},
   "source": [
    "# 12. NLP를 위한 합성곱 신경망(Convolution Neural Network)\n",
    "\n",
    "## 6) 사전 훈련된 워드 임베딩을 이용한 의도 분류(Intent Classification using Pre-trained Word Embedding)"
   ]
  },
  {
   "cell_type": "markdown",
   "id": "72dbc0f9",
   "metadata": {},
   "source": [
    "의도 분류(Intent Classification)는 개체명 인식(Named Entity Recognition)과 더불어 챗봇(Chatbot)의 중요 모듈로서 사용될 수 있습니다. \n",
    "\n",
    "사전 훈련된 워드 임베딩(Pre-traiend word embedding)을 입력으로 의도 분류를 수행해봅시다. \n",
    "\n",
    "의도 분류 실습은 결국 텍스트 분류입니다."
   ]
  },
  {
   "cell_type": "markdown",
   "id": "f1824fe1",
   "metadata": {},
   "source": [
    "### 1. 데이터 로드와 전처리"
   ]
  },
  {
   "cell_type": "code",
   "execution_count": 1,
   "id": "57e61cf6",
   "metadata": {},
   "outputs": [],
   "source": [
    "import os\n",
    "import pandas as pd\n",
    "import numpy as np\n",
    "import matplotlib.pyplot as plt\n",
    "from sklearn import preprocessing\n",
    "from tensorflow.keras.preprocessing.text import Tokenizer\n",
    "from tensorflow.keras.preprocessing.sequence import pad_sequences\n",
    "from tensorflow.keras.utils import to_categorical\n",
    "from sklearn.metrics import classification_report"
   ]
  },
  {
   "cell_type": "code",
   "execution_count": 2,
   "id": "9ec7051a",
   "metadata": {},
   "outputs": [],
   "source": [
    "train_data = pd.read_csv('datasets/intent_train_data.csv')\n",
    "test_data = pd.read_csv('datasets/intent_test_data.csv')"
   ]
  },
  {
   "cell_type": "code",
   "execution_count": 4,
   "id": "0666e363",
   "metadata": {},
   "outputs": [
    {
     "data": {
      "text/html": [
       "<div>\n",
       "<style scoped>\n",
       "    .dataframe tbody tr th:only-of-type {\n",
       "        vertical-align: middle;\n",
       "    }\n",
       "\n",
       "    .dataframe tbody tr th {\n",
       "        vertical-align: top;\n",
       "    }\n",
       "\n",
       "    .dataframe thead th {\n",
       "        text-align: right;\n",
       "    }\n",
       "</style>\n",
       "<table border=\"1\" class=\"dataframe\">\n",
       "  <thead>\n",
       "    <tr style=\"text-align: right;\">\n",
       "      <th></th>\n",
       "      <th>intent</th>\n",
       "      <th>label</th>\n",
       "    </tr>\n",
       "  </thead>\n",
       "  <tbody>\n",
       "    <tr>\n",
       "      <th>0</th>\n",
       "      <td>add another song to the cita rom ntica playlist</td>\n",
       "      <td>AddToPlaylist</td>\n",
       "    </tr>\n",
       "    <tr>\n",
       "      <th>1</th>\n",
       "      <td>add clem burke in my playlist pre party r b jams</td>\n",
       "      <td>AddToPlaylist</td>\n",
       "    </tr>\n",
       "    <tr>\n",
       "      <th>2</th>\n",
       "      <td>add live from aragon ballroom to trapeo</td>\n",
       "      <td>AddToPlaylist</td>\n",
       "    </tr>\n",
       "    <tr>\n",
       "      <th>3</th>\n",
       "      <td>add unite and win to my night out</td>\n",
       "      <td>AddToPlaylist</td>\n",
       "    </tr>\n",
       "    <tr>\n",
       "      <th>4</th>\n",
       "      <td>add track to my digster future hits</td>\n",
       "      <td>AddToPlaylist</td>\n",
       "    </tr>\n",
       "    <tr>\n",
       "      <th>...</th>\n",
       "      <td>...</td>\n",
       "      <td>...</td>\n",
       "    </tr>\n",
       "    <tr>\n",
       "      <th>11779</th>\n",
       "      <td>can a i get the movie schedule for sympathy fo...</td>\n",
       "      <td>SearchScreeningEvent</td>\n",
       "    </tr>\n",
       "    <tr>\n",
       "      <th>11780</th>\n",
       "      <td>find movie schedules for animated movies aroun...</td>\n",
       "      <td>SearchScreeningEvent</td>\n",
       "    </tr>\n",
       "    <tr>\n",
       "      <th>11781</th>\n",
       "      <td>what time is bordertown trail showing</td>\n",
       "      <td>SearchScreeningEvent</td>\n",
       "    </tr>\n",
       "    <tr>\n",
       "      <th>11782</th>\n",
       "      <td>in the neighbourhood find movies with movie times</td>\n",
       "      <td>SearchScreeningEvent</td>\n",
       "    </tr>\n",
       "    <tr>\n",
       "      <th>11783</th>\n",
       "      <td>what cinema has the closest movies</td>\n",
       "      <td>SearchScreeningEvent</td>\n",
       "    </tr>\n",
       "  </tbody>\n",
       "</table>\n",
       "<p>11784 rows × 2 columns</p>\n",
       "</div>"
      ],
      "text/plain": [
       "                                                  intent                 label\n",
       "0        add another song to the cita rom ntica playlist         AddToPlaylist\n",
       "1       add clem burke in my playlist pre party r b jams         AddToPlaylist\n",
       "2                add live from aragon ballroom to trapeo         AddToPlaylist\n",
       "3                      add unite and win to my night out         AddToPlaylist\n",
       "4                    add track to my digster future hits         AddToPlaylist\n",
       "...                                                  ...                   ...\n",
       "11779  can a i get the movie schedule for sympathy fo...  SearchScreeningEvent\n",
       "11780  find movie schedules for animated movies aroun...  SearchScreeningEvent\n",
       "11781              what time is bordertown trail showing  SearchScreeningEvent\n",
       "11782  in the neighbourhood find movies with movie times  SearchScreeningEvent\n",
       "11783                 what cinema has the closest movies  SearchScreeningEvent\n",
       "\n",
       "[11784 rows x 2 columns]"
      ]
     },
     "execution_count": 4,
     "metadata": {},
     "output_type": "execute_result"
    }
   ],
   "source": [
    "train_data"
   ]
  },
  {
   "cell_type": "code",
   "execution_count": 5,
   "id": "c0d363a0",
   "metadata": {},
   "outputs": [
    {
     "name": "stdout",
     "output_type": "stream",
     "text": [
      "훈련용 문장의 수 : 11784\n",
      "훈련용 레이블의 수 : 11784\n",
      "테스트용 문장의 수 : 600\n",
      "테스트용 레이블의 수 : 600\n"
     ]
    }
   ],
   "source": [
    "intent_train = train_data['intent'].tolist()\n",
    "label_train = train_data['label'].tolist()\n",
    "intent_test = test_data['intent'].tolist()\n",
    "label_test = test_data['label'].tolist()\n",
    "\n",
    "print('훈련용 문장의 수 :', len(intent_train))\n",
    "print('훈련용 레이블의 수 :', len(label_train))\n",
    "print('테스트용 문장의 수 :', len(intent_test))\n",
    "print('테스트용 레이블의 수 :', len(label_test))"
   ]
  },
  {
   "cell_type": "code",
   "execution_count": 6,
   "id": "e5af01b4",
   "metadata": {},
   "outputs": [
    {
     "name": "stdout",
     "output_type": "stream",
     "text": [
      "['add another song to the cita rom ntica playlist', 'add clem burke in my playlist pre party r b jams', 'add live from aragon ballroom to trapeo', 'add unite and win to my night out', 'add track to my digster future hits']\n",
      "['AddToPlaylist', 'AddToPlaylist', 'AddToPlaylist', 'AddToPlaylist', 'AddToPlaylist']\n"
     ]
    }
   ],
   "source": [
    "print(intent_train[:5])\n",
    "print(label_train[:5])"
   ]
  },
  {
   "cell_type": "code",
   "execution_count": 11,
   "id": "b8b83242",
   "metadata": {
    "scrolled": true
   },
   "outputs": [
    {
     "name": "stdout",
     "output_type": "stream",
     "text": [
      "['please book reservations for 3 people at a restaurant in alderwood manor', 'book a table in mt for 3 for now at a pub that serves south indian']\n",
      "['BookRestaurant', 'BookRestaurant']\n",
      "\n",
      "['what will the weather be like on feb 8 , 2034 in cedar mountain wilderness', \"tell me the forecast in the same area here on robert e lee 's birthday\"]\n",
      "['GetWeather', 'GetWeather']\n",
      "\n",
      "['rate the current album one points', 'i give a zero rating for this essay']\n",
      "['RateBook', 'RateBook']\n",
      "\n",
      "[\"i'm trying to find the show chant ii\", 'find spirit of the bush']\n",
      "['SearchCreativeWork', 'SearchCreativeWork']\n",
      "\n",
      "['when is blood and ice cream trilogie playing at the nearest movie theatre \\\\?', 'show movie schedules']\n",
      "['SearchScreeningEvent', 'SearchScreeningEvent']\n",
      "\n"
     ]
    }
   ],
   "source": [
    "for i in range(2000, 10002, 2000):\n",
    "    print(intent_train[i:i+2])\n",
    "    print(label_train[i:i+2])\n",
    "    print()"
   ]
  },
  {
   "cell_type": "markdown",
   "id": "be65bf2d",
   "metadata": {},
   "source": [
    "데이터가 순서대로 정렬되어 있다."
   ]
  },
  {
   "cell_type": "code",
   "execution_count": 12,
   "id": "99ee3a7a",
   "metadata": {},
   "outputs": [
    {
     "data": {
      "text/plain": [
       "<AxesSubplot:>"
      ]
     },
     "execution_count": 12,
     "metadata": {},
     "output_type": "execute_result"
    },
    {
     "data": {
      "image/png": "[encoded data removed]",
      "text/plain": [
       "<Figure size 432x288 with 1 Axes>"
      ]
     },
     "metadata": {
      "needs_background": "light"
     },
     "output_type": "display_data"
    }
   ],
   "source": [
    "train_data['label'].value_counts().plot(kind='bar')"
   ]
  },
  {
   "cell_type": "markdown",
   "id": "7f9f682a",
   "metadata": {},
   "source": [
    "label_train과 label_test에 존재하는 6개의 카테고리들을 고유한 정수로 인코딩해봅시다.\n",
    "\n",
    "이런 경우에는 사이킷런(sklearn)의 preprocessing.LabelEncoder()가 유용합니다."
   ]
  },
  {
   "cell_type": "code",
   "execution_count": 13,
   "id": "fb95500f",
   "metadata": {},
   "outputs": [
    {
     "name": "stdout",
     "output_type": "stream",
     "text": [
      "레이블과 정수의 맵핑 관계 : {'AddToPlaylist': 0, 'BookRestaurant': 1, 'GetWeather': 2, 'RateBook': 3, 'SearchCreativeWork': 4, 'SearchScreeningEvent': 5}\n"
     ]
    }
   ],
   "source": [
    "# 레이블 인코딩. 레이블에 고유한 정수를 부여\n",
    "idx_encode = preprocessing.LabelEncoder()\n",
    "idx_encode.fit(label_train)\n",
    "\n",
    "label_train = idx_encode.transform(label_train) # 주어진 고유한 정수로 변환\n",
    "label_test = idx_encode.transform(label_test) # 고유한 정수로 변환\n",
    "\n",
    "label_idx = dict(zip(list(idx_encode.classes_), idx_encode.transform(list(idx_encode.classes_))))\n",
    "print('레이블과 정수의 맵핑 관계 :',label_idx)"
   ]
  },
  {
   "cell_type": "code",
   "execution_count": 16,
   "id": "59fe429e",
   "metadata": {},
   "outputs": [
    {
     "name": "stdout",
     "output_type": "stream",
     "text": [
      "['add another song to the cita rom ntica playlist', 'add clem burke in my playlist pre party r b jams']\n",
      "[0 0]\n",
      "\n",
      "['please book reservations for 3 people at a restaurant in alderwood manor', 'book a table in mt for 3 for now at a pub that serves south indian']\n",
      "[1 1]\n",
      "\n",
      "['what will the weather be like on feb 8 , 2034 in cedar mountain wilderness', \"tell me the forecast in the same area here on robert e lee 's birthday\"]\n",
      "[2 2]\n",
      "\n",
      "['rate the current album one points', 'i give a zero rating for this essay']\n",
      "[3 3]\n",
      "\n",
      "[\"i'm trying to find the show chant ii\", 'find spirit of the bush']\n",
      "[4 4]\n",
      "\n",
      "['when is blood and ice cream trilogie playing at the nearest movie theatre \\\\?', 'show movie schedules']\n",
      "[5 5]\n",
      "\n"
     ]
    }
   ],
   "source": [
    "for i in range(0, 10002, 2000):\n",
    "    print(intent_train[i:i+2])\n",
    "    print(label_train[i:i+2])\n",
    "    print()"
   ]
  },
  {
   "cell_type": "code",
   "execution_count": 17,
   "id": "f6709931",
   "metadata": {},
   "outputs": [
    {
     "data": {
      "text/plain": [
       "[[11, 191, 61, 4, 1, 4013, 1141, 1572, 15],\n",
       " [11, 2624, 1573, 3, 14, 15, 939, 82, 256, 188, 548],\n",
       " [11, 187, 42, 2625, 4014, 4, 1968],\n",
       " [11, 2626, 22, 2627, 4, 14, 192, 27],\n",
       " [11, 92, 4, 14, 651, 520, 195]]"
      ]
     },
     "execution_count": 17,
     "metadata": {},
     "output_type": "execute_result"
    }
   ],
   "source": [
    "tokenizer = Tokenizer()\n",
    "tokenizer.fit_on_texts(intent_train)\n",
    "\n",
    "sequences = tokenizer.texts_to_sequences(intent_train)\n",
    "sequences[:5] # 상위 5개 샘플 출력"
   ]
  },
  {
   "cell_type": "code",
   "execution_count": 18,
   "id": "9fe86c60",
   "metadata": {},
   "outputs": [
    {
     "name": "stdout",
     "output_type": "stream",
     "text": [
      "단어 집합(Vocabulary)의 크기 : 9870\n"
     ]
    }
   ],
   "source": [
    "word_index = tokenizer.word_index\n",
    "vocab_size = len(word_index) + 1\n",
    "print('단어 집합(Vocabulary)의 크기 :', vocab_size)"
   ]
  },
  {
   "cell_type": "code",
   "execution_count": 19,
   "id": "65dbb1e5",
   "metadata": {},
   "outputs": [
    {
     "name": "stdout",
     "output_type": "stream",
     "text": [
      "문장의 최대 길이 : 35\n",
      "문장의 평균 길이 : 9.364392396469789\n"
     ]
    },
    {
     "data": {
      "image/png": "[encoded data removed]",
      "text/plain": [
       "<Figure size 432x288 with 1 Axes>"
      ]
     },
     "metadata": {
      "needs_background": "light"
     },
     "output_type": "display_data"
    }
   ],
   "source": [
    "print('문장의 최대 길이 :',max(len(l) for l in sequences))\n",
    "print('문장의 평균 길이 :',sum(map(len, sequences))/len(sequences))\n",
    "\n",
    "plt.hist([len(s) for s in sequences], bins=50)\n",
    "plt.xlabel('length of samples')\n",
    "plt.ylabel('number of samples')\n",
    "plt.show()"
   ]
  },
  {
   "cell_type": "code",
   "execution_count": 20,
   "id": "e452f8a2",
   "metadata": {},
   "outputs": [
    {
     "name": "stdout",
     "output_type": "stream",
     "text": [
      "훈련 데이터의 크기(shape): (11784, 35)\n",
      "훈련 데이터 레이블의 크기(shape): (11784, 6)\n"
     ]
    }
   ],
   "source": [
    "# 최대 길이 35로 모든 훈련 데이터를 패딩하겠습니다.\n",
    "max_len = 35\n",
    "\n",
    "intent_train = pad_sequences(sequences, maxlen = max_len)\n",
    "label_train = to_categorical(np.asarray(label_train))\n",
    "print('훈련 데이터의 크기(shape):', intent_train.shape)\n",
    "print('훈련 데이터 레이블의 크기(shape):', label_train.shape)"
   ]
  },
  {
   "cell_type": "code",
   "execution_count": 21,
   "id": "8b133a0b",
   "metadata": {},
   "outputs": [
    {
     "name": "stdout",
     "output_type": "stream",
     "text": [
      "훈련 데이터의 첫번째 샘플 : [   0    0    0    0    0    0    0    0    0    0    0    0    0    0\n",
      "    0    0    0    0    0    0    0    0    0    0    0    0   11  191\n",
      "   61    4    1 4013 1141 1572   15]\n",
      "훈련 데이터의 첫번째 샘플의 레이블 : [1. 0. 0. 0. 0. 0.]\n"
     ]
    }
   ],
   "source": [
    "print('훈련 데이터의 첫번째 샘플 :',intent_train[0])\n",
    "print('훈련 데이터의 첫번째 샘플의 레이블 :',label_train[0])"
   ]
  },
  {
   "cell_type": "markdown",
   "id": "d12beb98",
   "metadata": {},
   "source": [
    "앞서 언급했듯이 훈련 데이터가 일정한 순서로 배치되어져 있으므로 순서를 랜덤으로 섞어주겠습니다."
   ]
  },
  {
   "cell_type": "code",
   "execution_count": 22,
   "id": "763d6de5",
   "metadata": {},
   "outputs": [
    {
     "name": "stdout",
     "output_type": "stream",
     "text": [
      "랜덤 시퀀스 : [ 9100 11276   698 ...  4095  8046   172]\n"
     ]
    }
   ],
   "source": [
    "indices = np.arange(intent_train.shape[0])\n",
    "np.random.shuffle(indices)\n",
    "print('랜덤 시퀀스 :', indices)"
   ]
  },
  {
   "cell_type": "code",
   "execution_count": 23,
   "id": "743e5280",
   "metadata": {},
   "outputs": [],
   "source": [
    "intent_train = intent_train[indices]\n",
    "label_train = label_train[indices]"
   ]
  },
  {
   "cell_type": "code",
   "execution_count": 24,
   "id": "553cf82b",
   "metadata": {},
   "outputs": [
    {
     "name": "stdout",
     "output_type": "stream",
     "text": [
      "검증 데이터의 개수 : 1178\n"
     ]
    }
   ],
   "source": [
    "# 검증 데이터는 훈련 데이터 중 10%만을 사용합니다. \n",
    "n_of_val = int(0.1 * intent_train.shape[0])\n",
    "print('검증 데이터의 개수 :',n_of_val)"
   ]
  },
  {
   "cell_type": "code",
   "execution_count": 47,
   "id": "a46d4463",
   "metadata": {},
   "outputs": [],
   "source": [
    "X_train = intent_train[:-n_of_val]\n",
    "y_train = label_train[:-n_of_val]\n",
    "\n",
    "X_val = intent_train[-n_of_val:]\n",
    "y_val = label_train[-n_of_val:]\n",
    "\n",
    "X_test = intent_test\n",
    "y_test = label_test"
   ]
  },
  {
   "cell_type": "code",
   "execution_count": 26,
   "id": "feafcf8a",
   "metadata": {},
   "outputs": [
    {
     "name": "stdout",
     "output_type": "stream",
     "text": [
      "훈련 데이터의 크기(shape): (10606, 35)\n",
      "검증 데이터의 크기(shape): (1178, 35)\n",
      "훈련 데이터 레이블의 크기(shape): (10606, 6)\n",
      "검증 데이터 레이블의 크기(shape): (1178, 6)\n",
      "테스트 데이터의 개수 : 600\n",
      "테스트 데이터 레이블의 개수 : 600\n"
     ]
    }
   ],
   "source": [
    "print('훈련 데이터의 크기(shape):', X_train.shape)\n",
    "print('검증 데이터의 크기(shape):', X_val.shape)\n",
    "print('훈련 데이터 레이블의 크기(shape):', y_train.shape)\n",
    "print('검증 데이터 레이블의 크기(shape):', y_val.shape)\n",
    "print('테스트 데이터의 개수 :', len(X_test))\n",
    "print('테스트 데이터 레이블의 개수 :', len(y_test))"
   ]
  },
  {
   "cell_type": "markdown",
   "id": "c4373ed8",
   "metadata": {},
   "source": [
    "### 2. 사전 훈련된 워드 임베딩 사용하기"
   ]
  },
  {
   "cell_type": "markdown",
   "id": "6b1fa9c8",
   "metadata": {},
   "source": [
    "스탠포드 대학교에서 제공하는 사전 훈련된 GloVe 임베딩을 사용합니다."
   ]
  },
  {
   "cell_type": "code",
   "execution_count": 28,
   "id": "b77afbf6",
   "metadata": {},
   "outputs": [
    {
     "name": "stdout",
     "output_type": "stream",
     "text": [
      "400000개의 Embedding vector가 있습니다.\n"
     ]
    }
   ],
   "source": [
    "embedding_dict = dict()\n",
    "f = open(os.path.join('preTrained/glove.6B.100d.txt'), encoding='utf-8')\n",
    "for line in f:\n",
    "    word_vector = line.split()\n",
    "    word = word_vector[0]\n",
    "    word_vector_arr = np.asarray(word_vector[1:], dtype='float32') # 100개의 값을 가지는 array로 변환\n",
    "    embedding_dict[word] = word_vector_arr\n",
    "f.close()\n",
    "\n",
    "print('%s개의 Embedding vector가 있습니다.' % len(embedding_dict))"
   ]
  },
  {
   "cell_type": "code",
   "execution_count": 30,
   "id": "09111c58",
   "metadata": {},
   "outputs": [
    {
     "name": "stdout",
     "output_type": "stream",
     "text": [
      "[-0.049773   0.19903    0.10585    0.1391    -0.32395    0.44053\n",
      "  0.3947    -0.22805   -0.25793    0.49768    0.15384   -0.08831\n",
      "  0.0782    -0.8299    -0.037788   0.16772   -0.45197   -0.17085\n",
      "  0.74756    0.98256    0.81872    0.28507    0.16178   -0.48626\n",
      " -0.006265  -0.92469   -0.30625   -0.067318  -0.046762  -0.76291\n",
      " -0.0025264 -0.018795   0.12882   -0.52457    0.3586     0.43119\n",
      " -0.89477   -0.057421  -0.53724    0.25587    0.55195    0.44698\n",
      " -0.24252    0.29946    0.25776   -0.8717     0.68426   -0.05688\n",
      " -0.1848    -0.59352   -0.11227   -0.57692   -0.013593   0.18488\n",
      " -0.32507   -0.90171    0.17672    0.075601   0.54896   -0.21488\n",
      " -0.54018   -0.45882   -0.79536    0.26331    0.18879   -0.16363\n",
      "  0.3975     0.1099     0.1164    -0.083499   0.50159    0.35802\n",
      "  0.25677    0.088546   0.42108    0.28674   -0.71285   -0.82915\n",
      "  0.15297   -0.82712    0.022112   1.067     -0.31776    0.1211\n",
      " -0.069755  -0.61327    0.27308   -0.42638   -0.085084  -0.17694\n",
      " -0.0090944  0.1109     0.62543   -0.23682   -0.44928   -0.3667\n",
      " -0.21616   -0.19187   -0.032502   0.38025  ]\n",
      "임베딩 벡터의 차원 :  100\n"
     ]
    }
   ],
   "source": [
    "print(embedding_dict['respectable'])\n",
    "print(\"임베딩 벡터의 차원 : \", len(embedding_dict['respectable']))"
   ]
  },
  {
   "cell_type": "code",
   "execution_count": 31,
   "id": "7a029197",
   "metadata": {},
   "outputs": [
    {
     "name": "stdout",
     "output_type": "stream",
     "text": [
      "임베딩 테이블의 크기(shape) : (9870, 100)\n"
     ]
    }
   ],
   "source": [
    "embedding_dim = 100\n",
    "embedding_matrix = np.zeros((vocab_size, embedding_dim))\n",
    "print('임베딩 테이블의 크기(shape) :',np.shape(embedding_matrix))"
   ]
  },
  {
   "cell_type": "markdown",
   "id": "448c924d",
   "metadata": {},
   "source": [
    "훈련 데이터에 있는 단어와 사전 훈련된 워드 임베딩 벡터의 값을 맵핑하여 임베딩 테이블에 저장합니다."
   ]
  },
  {
   "cell_type": "code",
   "execution_count": 32,
   "id": "4501f18f",
   "metadata": {},
   "outputs": [],
   "source": [
    "for word, i in word_index.items():\n",
    "    embedding_vector = embedding_dict.get(word)\n",
    "    if embedding_vector is not None:\n",
    "        embedding_matrix[i] = embedding_vector"
   ]
  },
  {
   "cell_type": "markdown",
   "id": "96cc25e5",
   "metadata": {},
   "source": [
    "### 3. 1D CNN을 이용한 의도 분류"
   ]
  },
  {
   "cell_type": "code",
   "execution_count": 33,
   "id": "c0cbf094",
   "metadata": {},
   "outputs": [
    {
     "name": "stdout",
     "output_type": "stream",
     "text": [
      "Model: \"model\"\n",
      "__________________________________________________________________________________________________\n",
      "Layer (type)                    Output Shape         Param #     Connected to                     \n",
      "==================================================================================================\n",
      "input_1 (InputLayer)            [(None, 35)]         0                                            \n",
      "__________________________________________________________________________________________________\n",
      "embedding (Embedding)           (None, 35, 100)      987000      input_1[0][0]                    \n",
      "__________________________________________________________________________________________________\n",
      "conv1d (Conv1D)                 (None, 34, 512)      102912      embedding[0][0]                  \n",
      "__________________________________________________________________________________________________\n",
      "conv1d_1 (Conv1D)               (None, 33, 512)      154112      embedding[0][0]                  \n",
      "__________________________________________________________________________________________________\n",
      "conv1d_2 (Conv1D)               (None, 31, 512)      256512      embedding[0][0]                  \n",
      "__________________________________________________________________________________________________\n",
      "global_max_pooling1d (GlobalMax (None, 512)          0           conv1d[0][0]                     \n",
      "__________________________________________________________________________________________________\n",
      "global_max_pooling1d_1 (GlobalM (None, 512)          0           conv1d_1[0][0]                   \n",
      "__________________________________________________________________________________________________\n",
      "global_max_pooling1d_2 (GlobalM (None, 512)          0           conv1d_2[0][0]                   \n",
      "__________________________________________________________________________________________________\n",
      "concatenate (Concatenate)       (None, 1536)         0           global_max_pooling1d[0][0]       \n",
      "                                                                 global_max_pooling1d_1[0][0]     \n",
      "                                                                 global_max_pooling1d_2[0][0]     \n",
      "__________________________________________________________________________________________________\n",
      "dropout (Dropout)               (None, 1536)         0           concatenate[0][0]                \n",
      "__________________________________________________________________________________________________\n",
      "dense (Dense)                   (None, 6)            9222        dropout[0][0]                    \n",
      "==================================================================================================\n",
      "Total params: 1,509,758\n",
      "Trainable params: 522,758\n",
      "Non-trainable params: 987,000\n",
      "__________________________________________________________________________________________________\n"
     ]
    }
   ],
   "source": [
    "from tensorflow.keras.models import Model\n",
    "from tensorflow.keras.layers import Embedding, Dropout, Conv1D, GlobalMaxPooling1D, Dense, Input, Flatten, Concatenate\n",
    "\n",
    "kernel_sizes = [2, 3, 5]\n",
    "num_filters = 512\n",
    "dropout_ratio = 0.5\n",
    "\n",
    "model_input = Input(shape=(max_len,))\n",
    "output = Embedding(vocab_size, embedding_dim, weights=[embedding_matrix],\n",
    "                      input_length=max_len, trainable=False)(model_input)\n",
    "\n",
    "conv_blocks = []\n",
    "for size in kernel_sizes:\n",
    "    conv = Conv1D(filters=num_filters, kernel_size=size,\n",
    "                  padding=\"valid\", activation=\"relu\", strides=1)(output)\n",
    "    conv = GlobalMaxPooling1D()(conv)\n",
    "    conv_blocks.append(conv)\n",
    "\n",
    "output = Concatenate()(conv_blocks) if len(conv_blocks) > 1 else conv_blocks[0]\n",
    "output = Dropout(dropout_ratio)(output)\n",
    "model_output = Dense(len(label_idx), activation='softmax')(output)\n",
    "model = Model(model_input, model_output)\n",
    "\n",
    "model.compile(loss='categorical_crossentropy', optimizer='adam', metrics=['acc'])\n",
    "model.summary()"
   ]
  },
  {
   "cell_type": "code",
   "execution_count": 34,
   "id": "de94f6cb",
   "metadata": {
    "scrolled": true
   },
   "outputs": [
    {
     "name": "stdout",
     "output_type": "stream",
     "text": [
      "Epoch 1/10\n",
      "166/166 [==============================] - 5s 12ms/step - loss: 0.1959 - acc: 0.9421 - val_loss: 0.0510 - val_acc: 0.9881\n",
      "Epoch 2/10\n",
      "166/166 [==============================] - 1s 7ms/step - loss: 0.0509 - acc: 0.9850 - val_loss: 0.0503 - val_acc: 0.9822\n",
      "Epoch 3/10\n",
      "166/166 [==============================] - 1s 7ms/step - loss: 0.0281 - acc: 0.9923 - val_loss: 0.0343 - val_acc: 0.9907\n",
      "Epoch 4/10\n",
      "166/166 [==============================] - 1s 7ms/step - loss: 0.0211 - acc: 0.9942 - val_loss: 0.0323 - val_acc: 0.9915\n",
      "Epoch 5/10\n",
      "166/166 [==============================] - 1s 7ms/step - loss: 0.0171 - acc: 0.9950 - val_loss: 0.0340 - val_acc: 0.9847\n",
      "Epoch 6/10\n",
      "166/166 [==============================] - 1s 7ms/step - loss: 0.0093 - acc: 0.9981 - val_loss: 0.0306 - val_acc: 0.9907\n",
      "Epoch 7/10\n",
      "166/166 [==============================] - 1s 7ms/step - loss: 0.0090 - acc: 0.9976 - val_loss: 0.0280 - val_acc: 0.9898\n",
      "Epoch 8/10\n",
      "166/166 [==============================] - 1s 7ms/step - loss: 0.0074 - acc: 0.9980 - val_loss: 0.0473 - val_acc: 0.9873\n",
      "Epoch 9/10\n",
      "166/166 [==============================] - 1s 7ms/step - loss: 0.0136 - acc: 0.9956 - val_loss: 0.0327 - val_acc: 0.9915\n",
      "Epoch 10/10\n",
      "166/166 [==============================] - 1s 7ms/step - loss: 0.0051 - acc: 0.9991 - val_loss: 0.0347 - val_acc: 0.9907\n"
     ]
    }
   ],
   "source": [
    "history = model.fit(X_train, y_train, batch_size=64,\n",
    "                    epochs=10, validation_data=(X_val, y_val))"
   ]
  },
  {
   "cell_type": "markdown",
   "id": "819cf6b5",
   "metadata": {},
   "source": [
    "정확도와 loss의 변화를 그래프로 시각화해봅시다."
   ]
  },
  {
   "cell_type": "code",
   "execution_count": 35,
   "id": "ef99c7b3",
   "metadata": {},
   "outputs": [
    {
     "data": {
      "image/png": "[encoded data removed]",
      "text/plain": [
       "<Figure size 432x288 with 1 Axes>"
      ]
     },
     "metadata": {
      "needs_background": "light"
     },
     "output_type": "display_data"
    },
    {
     "data": {
      "image/png": "[encoded data removed]",
      "text/plain": [
       "<Figure size 432x288 with 1 Axes>"
      ]
     },
     "metadata": {
      "needs_background": "light"
     },
     "output_type": "display_data"
    }
   ],
   "source": [
    "epochs = range(1, len(history.history['acc']) + 1)\n",
    "plt.plot(epochs, history.history['acc'])\n",
    "plt.plot(epochs, history.history['val_acc'])\n",
    "plt.title('model accuracy')\n",
    "plt.ylabel('accuracy')\n",
    "plt.xlabel('epochs')\n",
    "plt.legend(['train', 'test'], loc='lower right')\n",
    "plt.show()\n",
    "\n",
    "epochs = range(1, len(history.history['loss']) + 1)\n",
    "plt.plot(epochs, history.history['loss'])\n",
    "plt.plot(epochs, history.history['val_loss'])\n",
    "plt.title('model loss')\n",
    "plt.ylabel('loss')\n",
    "plt.xlabel('epochs')\n",
    "plt.legend(['train', 'test'], loc='upper right')\n",
    "plt.show()"
   ]
  },
  {
   "cell_type": "code",
   "execution_count": 48,
   "id": "5754be06",
   "metadata": {},
   "outputs": [],
   "source": [
    "X_test = tokenizer.texts_to_sequences(X_test)\n",
    "X_test = pad_sequences(X_test, maxlen=max_len)"
   ]
  },
  {
   "cell_type": "code",
   "execution_count": 49,
   "id": "c32f40e5",
   "metadata": {},
   "outputs": [
    {
     "name": "stdout",
     "output_type": "stream",
     "text": [
      "정확도(Accuracy) :  0.9933333333333333\n"
     ]
    }
   ],
   "source": [
    "y_predicted = model.predict(X_test)\n",
    "y_predicted = y_predicted.argmax(axis=-1) # 예측을 정수 시퀀스로 변환\n",
    "\n",
    "print('정확도(Accuracy) : ', sum(y_predicted == y_test) / len(y_test))"
   ]
  },
  {
   "cell_type": "code",
   "execution_count": null,
   "id": "21f730bb",
   "metadata": {},
   "outputs": [],
   "source": []
  }
 ],
 "metadata": {
  "kernelspec": {
   "display_name": "Python 3",
   "language": "python",
   "name": "python3"
  },
  "language_info": {
   "codemirror_mode": {
    "name": "ipython",
    "version": 3
   },
   "file_extension": ".py",
   "mimetype": "text/x-python",
   "name": "python",
   "nbconvert_exporter": "python",
   "pygments_lexer": "ipython3",
   "version": "3.6.3"
  }
 },
 "nbformat": 4,
 "nbformat_minor": 5
}
