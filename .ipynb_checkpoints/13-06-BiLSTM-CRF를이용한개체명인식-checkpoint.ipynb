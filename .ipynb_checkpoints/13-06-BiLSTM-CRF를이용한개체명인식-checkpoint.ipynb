{
 "cells": [
  {
   "cell_type": "markdown",
   "id": "e6443c44",
   "metadata": {},
   "source": [
    "# 13. 태깅 작업(Tagging Task)\n",
    "\n",
    "## 6) BiLSTM-CRF를 이용한 개체명 인식"
   ]
  },
  {
   "cell_type": "markdown",
   "id": "1e519ddc",
   "metadata": {},
   "source": [
    "### 1. CRF(Conditional Random Field)"
   ]
  },
  {
   "attachments": {
    "image.png": {
     "image/png": "[encoded data removed]"
    }
   },
   "cell_type": "markdown",
   "id": "cb7515dd",
   "metadata": {},
   "source": [
    "양방향 LSTM 위에 CRF 층을 추가하여 얻을 수 있는 이점을 언급하겠습니다. CRF 층을 추가하면 모델은 예측 개체명, 다시 말해 레이블 사이의 의존성을 고려할 수 있습니다.\n",
    "\n",
    "아래의 그림은 양방향 LSTM + CRF 모델을 보여줍니다.\n",
    "![image.png](attachment:image.png)\n",
    "\n",
    "이러한 구조에서 CRF 층은 점차적으로 훈련 데이터로부터 아래와 같은 제약사항 등을 학습하게 됩니다.\n",
    "\n",
    "<ol>\n",
    "<li>문장의 첫번째 단어에서는 I가 나오지 않습니다.</li>\n",
    "<li>O-I 패턴은 나오지 않습니다.</li>\n",
    "<li>B-I-I 패턴에서 개체명은 일관성을 유지합니다. 예를 들어 B-Per 다음에 I-Org는 나오지 않습니다.</li>\n",
    "</ol>\n",
    "\n",
    "요약하면 양방향 LSTM은 입력 단어에 대한 양방향 문맥을 반영하며, CRF는 출력 레이블에 대한 양방향 문맥을 반영합니다."
   ]
  },
  {
   "cell_type": "markdown",
   "id": "ddd2b4c8",
   "metadata": {},
   "source": [
    "### 2. CRF 층 설치하기\n",
    "\n",
    "CRF 층을 손쉽게 사용하기 위한 keras-crf를 설치합니다.\n",
    "```\n",
    "pip install keras-crf\n",
    "```"
   ]
  },
  {
   "cell_type": "markdown",
   "id": "d6366261",
   "metadata": {},
   "source": [
    "### 3. BiLSTM-CRF를 이용한 개체명 인식"
   ]
  },
  {
   "cell_type": "code",
   "execution_count": 1,
   "id": "419ad75a",
   "metadata": {},
   "outputs": [],
   "source": [
    "import pandas as pd\n",
    "import numpy as np\n",
    "import matplotlib.pyplot as plt\n",
    "from tensorflow.keras.preprocessing.text import Tokenizer\n",
    "from tensorflow.keras.preprocessing.sequence import pad_sequences\n",
    "from sklearn.model_selection import train_test_split\n",
    "from tensorflow.keras.utils import to_categorical"
   ]
  },
  {
   "cell_type": "code",
   "execution_count": 2,
   "id": "91ec499f",
   "metadata": {},
   "outputs": [],
   "source": [
    "data = pd.read_csv(\"datasets/ner_dataset.csv\", encoding=\"latin1\")"
   ]
  },
  {
   "cell_type": "markdown",
   "id": "07e4d590",
   "metadata": {},
   "source": [
    "데이터를 원하는 형태로 가공해보겠습니다.\n",
    "\n",
    "우선 Null 값을 제거합니다. Pandas의 fillna(method='ffill')는 Null 값을 가진 행의 바로 앞의 행의 값으로 Null 값을 채우는 작업을 수행합니다."
   ]
  },
  {
   "cell_type": "code",
   "execution_count": 3,
   "id": "73993619",
   "metadata": {},
   "outputs": [
    {
     "name": "stdout",
     "output_type": "stream",
     "text": [
      "              Sentence #       Word  POS Tag\n",
      "1048570  Sentence: 47959       they  PRP   O\n",
      "1048571  Sentence: 47959  responded  VBD   O\n",
      "1048572  Sentence: 47959         to   TO   O\n",
      "1048573  Sentence: 47959        the   DT   O\n",
      "1048574  Sentence: 47959     attack   NN   O\n"
     ]
    }
   ],
   "source": [
    "data = data.fillna(method=\"ffill\")\n",
    "print(data.tail())"
   ]
  },
  {
   "cell_type": "markdown",
   "id": "005967b2",
   "metadata": {},
   "source": [
    "모든 단어를 소문자화하여 단어의 개수를 줄여보겠습니다."
   ]
  },
  {
   "cell_type": "code",
   "execution_count": 4,
   "id": "173f2a0e",
   "metadata": {},
   "outputs": [
    {
     "name": "stdout",
     "output_type": "stream",
     "text": [
      "Word 열의 중복을 제거한 값의 개수 : 31817\n"
     ]
    }
   ],
   "source": [
    "data['Word'] = data['Word'].str.lower()\n",
    "print('Word 열의 중복을 제거한 값의 개수 : {}'.format(data.Word.nunique()))"
   ]
  },
  {
   "cell_type": "markdown",
   "id": "815fa6e8",
   "metadata": {},
   "source": [
    "하나의 문장에 등장한 단어와 개체명 태깅 정보끼리 쌍(pair)으로 묶는 작업을 수행합니다."
   ]
  },
  {
   "cell_type": "code",
   "execution_count": 5,
   "id": "8a8c3def",
   "metadata": {},
   "outputs": [
    {
     "name": "stdout",
     "output_type": "stream",
     "text": [
      "전체 샘플 개수: 47959\n"
     ]
    }
   ],
   "source": [
    "func = lambda temp: [(w, t) for w, t in zip(temp[\"Word\"].values.tolist(), temp[\"Tag\"].values.tolist())]\n",
    "tagged_sentences=[t for t in data.groupby(\"Sentence #\").apply(func)]\n",
    "print(\"전체 샘플 개수: {}\".format(len(tagged_sentences)))"
   ]
  },
  {
   "cell_type": "markdown",
   "id": "4b988df2",
   "metadata": {},
   "source": [
    "각 순서에 등장하는 원소들끼리 묶어줍니다."
   ]
  },
  {
   "cell_type": "code",
   "execution_count": 6,
   "id": "34cf6091",
   "metadata": {},
   "outputs": [],
   "source": [
    "sentences, ner_tags = [], [] \n",
    "for tagged_sentence in tagged_sentences: # 47,959개의 문장 샘플을 1개씩 불러온다.\n",
    "    # 각 샘플에서 단어들은 sentence에 개체명 태깅 정보들은 tag_info에 저장.\n",
    "    sentence, tag_info = zip(*tagged_sentence) \n",
    "    sentences.append(list(sentence)) # 각 샘플에서 단어 정보만 저장한다.\n",
    "    ner_tags.append(list(tag_info)) # 각 샘플에서 개체명 태깅 정보만 저장한다."
   ]
  },
  {
   "cell_type": "markdown",
   "id": "5be03b9e",
   "metadata": {},
   "source": [
    "정수 인코딩을 진행합니다."
   ]
  },
  {
   "cell_type": "code",
   "execution_count": 7,
   "id": "30b3c336",
   "metadata": {},
   "outputs": [],
   "source": [
    "# 모든 단어를 사용하며 인덱스 1에는 단어 'OOV'를 할당.\n",
    "src_tokenizer = Tokenizer(oov_token='OOV')\n",
    "src_tokenizer.fit_on_texts(sentences)\n",
    "\n",
    "# 태깅 정보들은 내부적으로 대문자를 유지한 채 저장\n",
    "tar_tokenizer = Tokenizer(lower=False)\n",
    "tar_tokenizer.fit_on_texts(ner_tags)"
   ]
  },
  {
   "cell_type": "code",
   "execution_count": 8,
   "id": "03810e66",
   "metadata": {},
   "outputs": [
    {
     "name": "stdout",
     "output_type": "stream",
     "text": [
      "단어 집합의 크기 : 31819\n",
      "개체명 태깅 정보 집합의 크기 : 18\n"
     ]
    }
   ],
   "source": [
    "vocab_size = len(src_tokenizer.word_index) + 1\n",
    "tag_size = len(tar_tokenizer.word_index) + 1\n",
    "print('단어 집합의 크기 : {}'.format(vocab_size))\n",
    "print('개체명 태깅 정보 집합의 크기 : {}'.format(tag_size))"
   ]
  },
  {
   "cell_type": "markdown",
   "id": "66525573",
   "metadata": {},
   "source": [
    "앞서 src_tokenizer를 만들때 Tokenizer의 인자로 oov_token='OOV'를 선택했습니다. 인덱스1에 단어 'OOV'가 할당됩니다."
   ]
  },
  {
   "cell_type": "code",
   "execution_count": 9,
   "id": "11c2d129",
   "metadata": {},
   "outputs": [
    {
     "name": "stdout",
     "output_type": "stream",
     "text": [
      "단어 OOV의 인덱스 : 1\n"
     ]
    }
   ],
   "source": [
    "print('단어 OOV의 인덱스 : {}'.format(src_tokenizer.word_index['OOV']))"
   ]
  },
  {
   "cell_type": "code",
   "execution_count": 10,
   "id": "3357c9f2",
   "metadata": {},
   "outputs": [],
   "source": [
    "X_data = src_tokenizer.texts_to_sequences(sentences)\n",
    "y_data = tar_tokenizer.texts_to_sequences(ner_tags)"
   ]
  },
  {
   "cell_type": "markdown",
   "id": "1a911ef1",
   "metadata": {},
   "source": [
    "모델 훈련 후 결과 확인을 위해 인덱스로부터 단어를 리턴하는 index_to_word와 인덱스로부터 개체명 태깅 정보를 리턴하는 index_to_ner를 만듭니다. \n",
    "\n",
    "인덱스 0은 'PAD'란 단어를 할당해둡니다."
   ]
  },
  {
   "cell_type": "code",
   "execution_count": 11,
   "id": "e00e35c1",
   "metadata": {},
   "outputs": [
    {
     "name": "stdout",
     "output_type": "stream",
     "text": [
      "{1: 'O', 2: 'B-geo', 3: 'B-tim', 4: 'B-org', 5: 'I-per', 6: 'B-per', 7: 'I-org', 8: 'B-gpe', 9: 'I-geo', 10: 'I-tim', 11: 'B-art', 12: 'B-eve', 13: 'I-art', 14: 'I-eve', 15: 'B-nat', 16: 'I-gpe', 17: 'I-nat', 0: 'PAD'}\n"
     ]
    }
   ],
   "source": [
    "word_to_index = src_tokenizer.word_index\n",
    "index_to_word = src_tokenizer.index_word\n",
    "\n",
    "ner_to_index = tar_tokenizer.word_index\n",
    "index_to_ner = tar_tokenizer.index_word\n",
    "index_to_ner[0] = 'PAD'\n",
    "\n",
    "print(index_to_ner)"
   ]
  },
  {
   "cell_type": "code",
   "execution_count": 12,
   "id": "12e5daf0",
   "metadata": {},
   "outputs": [],
   "source": [
    "max_len = 70\n",
    "X_data = pad_sequences(X_data, padding='post', maxlen=max_len)\n",
    "y_data = pad_sequences(y_data, padding='post', maxlen=max_len)"
   ]
  },
  {
   "cell_type": "code",
   "execution_count": 13,
   "id": "40a00c02",
   "metadata": {},
   "outputs": [],
   "source": [
    "X_train, X_test, y_train_int, y_test_int = train_test_split(X_data, y_data, \n",
    "                                                            test_size=.2, \n",
    "                                                            random_state=777)"
   ]
  },
  {
   "cell_type": "markdown",
   "id": "6dec7407",
   "metadata": {},
   "source": [
    "원-핫 인코딩을 수행합니다."
   ]
  },
  {
   "cell_type": "code",
   "execution_count": 14,
   "id": "26f94ac1",
   "metadata": {},
   "outputs": [],
   "source": [
    "y_train = to_categorical(y_train_int, num_classes=tag_size)\n",
    "y_test = to_categorical(y_test_int, num_classes=tag_size)"
   ]
  },
  {
   "cell_type": "code",
   "execution_count": 15,
   "id": "8829addd",
   "metadata": {},
   "outputs": [
    {
     "name": "stdout",
     "output_type": "stream",
     "text": [
      "훈련 샘플 문장의 크기 : (38367, 70)\n",
      "훈련 샘플 레이블(정수 인코딩)의 크기 : (38367, 70)\n",
      "훈련 샘플 레이블(원-핫 인코딩)의 크기 : (38367, 70, 18)\n",
      "테스트 샘플 문장의 크기 : (9592, 70)\n",
      "테스트 샘플 레이블(정수 인코딩)의 크기 : (9592, 70)\n",
      "테스트 샘플 레이블(원-핫 인코딩)의 크기 : (9592, 70, 18)\n"
     ]
    }
   ],
   "source": [
    "print('훈련 샘플 문장의 크기 : {}'.format(X_train.shape))\n",
    "print('훈련 샘플 레이블(정수 인코딩)의 크기 : {}'.format(y_train_int.shape))\n",
    "print('훈련 샘플 레이블(원-핫 인코딩)의 크기 : {}'.format(y_train.shape))\n",
    "print('테스트 샘플 문장의 크기 : {}'.format(X_test.shape))\n",
    "print('테스트 샘플 레이블(정수 인코딩)의 크기 : {}'.format(y_test_int.shape))\n",
    "print('테스트 샘플 레이블(원-핫 인코딩)의 크기 : {}'.format(y_test.shape))"
   ]
  },
  {
   "cell_type": "markdown",
   "id": "7b170385",
   "metadata": {},
   "source": [
    "출력층에 TimeDistributed()를 사용했는데, TimeDistributed()는 LSTM을 다 대 다 구조로 사용하여 LSTM의 모든 시점에 대해서 출력층을 사용할 필요가 있을 때 사용합니다.\n",
    "\n",
    "여기서는 최종 출력층이 CRF 층으로 CRF 층에 분류해야 하는 선택지 개수를 의미하는 tag_size를 전달해줍니다."
   ]
  },
  {
   "cell_type": "code",
   "execution_count": 16,
   "id": "242a869d",
   "metadata": {},
   "outputs": [
    {
     "name": "stderr",
     "output_type": "stream",
     "text": [
      "C:\\Users\\seungwon\\anaconda3\\envs\\scratch\\lib\\site-packages\\tensorflow\\python\\autograph\\impl\\api.py:376: UserWarning: CRF decoding models have serialization issues in TF >=2.5 . Please see isse #2476\n",
      "  return py_builtins.overload_of(f)(*args)\n"
     ]
    },
    {
     "name": "stdout",
     "output_type": "stream",
     "text": [
      "Epoch 1/15\n",
      "WARNING:tensorflow:From C:\\Users\\seungwon\\anaconda3\\envs\\scratch\\lib\\site-packages\\tensorflow\\python\\ops\\array_ops.py:5049: calling gather (from tensorflow.python.ops.array_ops) with validate_indices is deprecated and will be removed in a future version.\n",
      "Instructions for updating:\n",
      "The `validate_indices` argument has no effect. Indices are always validated on CPU and never validated on GPU.\n",
      "270/270 [==============================] - 68s 233ms/step - decode_sequence_accuracy: 0.9190 - loss: 27.0323 - val_decode_sequence_accuracy: 0.9615 - val_loss: 9.1874\n",
      "\n",
      "Epoch 00001: val_decode_sequence_accuracy improved from -inf to 0.96150, saving model to results/bilstm_crf\\cp.ckpt\n",
      "Epoch 2/15\n",
      "270/270 [==============================] - 62s 229ms/step - decode_sequence_accuracy: 0.9701 - loss: 6.6565 - val_decode_sequence_accuracy: 0.9782 - val_loss: 5.2274\n",
      "\n",
      "Epoch 00002: val_decode_sequence_accuracy improved from 0.96150 to 0.97823, saving model to results/bilstm_crf\\cp.ckpt\n",
      "Epoch 3/15\n",
      "270/270 [==============================] - 63s 234ms/step - decode_sequence_accuracy: 0.9812 - loss: 3.9509 - val_decode_sequence_accuracy: 0.9823 - val_loss: 3.8694\n",
      "\n",
      "Epoch 00003: val_decode_sequence_accuracy improved from 0.97823 to 0.98235, saving model to results/bilstm_crf\\cp.ckpt\n",
      "Epoch 4/15\n",
      "270/270 [==============================] - 64s 237ms/step - decode_sequence_accuracy: 0.9852 - loss: 2.8129 - val_decode_sequence_accuracy: 0.9836 - val_loss: 3.4776\n",
      "\n",
      "Epoch 00004: val_decode_sequence_accuracy improved from 0.98235 to 0.98365, saving model to results/bilstm_crf\\cp.ckpt\n",
      "Epoch 5/15\n",
      "270/270 [==============================] - 63s 234ms/step - decode_sequence_accuracy: 0.9872 - loss: 2.2466 - val_decode_sequence_accuracy: 0.9849 - val_loss: 3.1331\n",
      "\n",
      "Epoch 00005: val_decode_sequence_accuracy improved from 0.98365 to 0.98490, saving model to results/bilstm_crf\\cp.ckpt\n",
      "Epoch 6/15\n",
      "270/270 [==============================] - 64s 236ms/step - decode_sequence_accuracy: 0.9884 - loss: 1.8961 - val_decode_sequence_accuracy: 0.9851 - val_loss: 3.0968\n",
      "\n",
      "Epoch 00006: val_decode_sequence_accuracy improved from 0.98490 to 0.98507, saving model to results/bilstm_crf\\cp.ckpt\n",
      "Epoch 7/15\n",
      "270/270 [==============================] - 63s 234ms/step - decode_sequence_accuracy: 0.9894 - loss: 1.6417 - val_decode_sequence_accuracy: 0.9850 - val_loss: 3.0883\n",
      "\n",
      "Epoch 00007: val_decode_sequence_accuracy did not improve from 0.98507\n",
      "Epoch 8/15\n",
      "270/270 [==============================] - 62s 231ms/step - decode_sequence_accuracy: 0.9901 - loss: 1.4434 - val_decode_sequence_accuracy: 0.9853 - val_loss: 3.2206\n",
      "\n",
      "Epoch 00008: val_decode_sequence_accuracy improved from 0.98507 to 0.98532, saving model to results/bilstm_crf\\cp.ckpt\n",
      "Epoch 9/15\n",
      "270/270 [==============================] - 65s 241ms/step - decode_sequence_accuracy: 0.9909 - loss: 1.2860 - val_decode_sequence_accuracy: 0.9848 - val_loss: 3.4831\n",
      "\n",
      "Epoch 00009: val_decode_sequence_accuracy did not improve from 0.98532\n",
      "Epoch 10/15\n",
      "270/270 [==============================] - 65s 241ms/step - decode_sequence_accuracy: 0.9915 - loss: 1.1507 - val_decode_sequence_accuracy: 0.9855 - val_loss: 3.4647\n",
      "\n",
      "Epoch 00010: val_decode_sequence_accuracy improved from 0.98532 to 0.98548, saving model to results/bilstm_crf\\cp.ckpt\n",
      "Epoch 11/15\n",
      "270/270 [==============================] - 64s 239ms/step - decode_sequence_accuracy: 0.9920 - loss: 1.0268 - val_decode_sequence_accuracy: 0.9850 - val_loss: 3.7111\n",
      "\n",
      "Epoch 00011: val_decode_sequence_accuracy did not improve from 0.98548\n",
      "Epoch 00011: early stopping\n"
     ]
    }
   ],
   "source": [
    "import tensorflow as tf\n",
    "from tensorflow.keras import Model\n",
    "from tensorflow.keras.layers import Dense, LSTM, Input, Bidirectional, TimeDistributed, Embedding, Dropout\n",
    "from tensorflow.keras.callbacks import EarlyStopping, ModelCheckpoint\n",
    "from keras_crf import CRFModel\n",
    "from seqeval.metrics import f1_score, classification_report\n",
    "\n",
    "embedding_dim = 128\n",
    "hidden_units = 64\n",
    "dropout_ratio = 0.3\n",
    "\n",
    "sequence_input = Input(shape=(max_len,),dtype=tf.int32)\n",
    "model_embedding = Embedding(input_dim=vocab_size, output_dim=embedding_dim, input_length=max_len)(sequence_input)\n",
    "model_bilstm = Bidirectional(LSTM(units=hidden_units, return_sequences=True))(model_embedding)\n",
    "model_dropout = TimeDistributed(Dropout(dropout_ratio))(model_bilstm)\n",
    "model_dense = TimeDistributed(Dense(tag_size, activation='relu'))(model_dropout)\n",
    "\n",
    "base = Model(inputs=sequence_input, outputs=model_dense)\n",
    "model = CRFModel(base, tag_size)\n",
    "model.compile(optimizer=tf.keras.optimizers.Adam(0.001), metrics='accuracy')\n",
    "\n",
    "es = EarlyStopping(monitor='val_loss', mode='min', verbose=1, patience=4)\n",
    "mc = ModelCheckpoint('results/bilstm_crf/cp.ckpt', \n",
    "                     monitor='val_decode_sequence_accuracy', \n",
    "                     mode='max', verbose=1, save_best_only=True, \n",
    "                     save_weights_only=True)\n",
    "\n",
    "# history = model.fit(X_train, y_train_int, batch_size=128, epochs=15, \n",
    "#                     validation_split=0.1, callbacks=[mc, es])"
   ]
  },
  {
   "cell_type": "code",
   "execution_count": 17,
   "id": "7e41c7c2",
   "metadata": {},
   "outputs": [
    {
     "data": {
      "text/plain": [
       "<tensorflow.python.training.tracking.util.CheckpointLoadStatus at 0x1d0e88a3e80>"
      ]
     },
     "execution_count": 17,
     "metadata": {},
     "output_type": "execute_result"
    }
   ],
   "source": [
    "model.load_weights('results/bilstm_crf/cp.ckpt')"
   ]
  },
  {
   "cell_type": "markdown",
   "id": "068b7d67",
   "metadata": {},
   "source": [
    "임의로 선정한 테스트 데이터의 13번 인덱스의 샘플에 대해서 예측해봅시다."
   ]
  },
  {
   "cell_type": "code",
   "execution_count": 18,
   "id": "fae4b7b5",
   "metadata": {},
   "outputs": [
    {
     "name": "stdout",
     "output_type": "stream",
     "text": [
      "단어             |실제값  |예측값\n",
      "-----------------------------------\n",
      "the              : O       O\n",
      "statement        : O       O\n",
      "came             : O       O\n",
      "as               : O       O\n",
      "u.n.             : B-org   B-org\n",
      "secretary-general: I-org   I-org\n",
      "kofi             : B-per   B-per\n",
      "annan            : I-per   I-per\n",
      "met              : O       O\n",
      "with             : O       O\n",
      "officials        : O       O\n",
      "in               : O       O\n",
      "amman            : B-geo   B-geo\n",
      "to               : O       O\n",
      "discuss          : O       O\n",
      "wednesday        : B-tim   B-tim\n",
      "'s               : O       O\n",
      "attacks          : O       O\n",
      ".                : O       O\n"
     ]
    }
   ],
   "source": [
    "i = 13 # 확인하고 싶은 테스트용 샘플의 인덱스.\n",
    "\n",
    "# 입력한 테스트용 샘플에 대해서 예측 y를 리턴\n",
    "y_predicted = model.predict(np.array([X_test[i]]))[0] \n",
    "\n",
    "# 원-핫 인코딩을 다시 정수 인코딩으로 변경.\n",
    "labels = np.argmax(y_test[i], -1)\n",
    "\n",
    "print(\"{:15}|{:5}|{}\".format(\"단어\", \"실제값\", \"예측값\"))\n",
    "print(35 * \"-\")\n",
    "\n",
    "for word, tag, pred in zip(X_test[i], labels, y_predicted[0]):\n",
    "    if word != 0: # PAD값은 제외함.\n",
    "        print(\"{:17}: {:7} {}\".format(index_to_word[word], \n",
    "                                      index_to_ner[tag], \n",
    "                                      index_to_ner[pred]))"
   ]
  },
  {
   "cell_type": "code",
   "execution_count": 19,
   "id": "a7c20305",
   "metadata": {},
   "outputs": [],
   "source": [
    "y_predicted = model.predict(X_test)[0]"
   ]
  },
  {
   "cell_type": "code",
   "execution_count": 20,
   "id": "1814818c",
   "metadata": {},
   "outputs": [
    {
     "name": "stdout",
     "output_type": "stream",
     "text": [
      "[[ 1  3 10  1  8  1  1  1  1  1  1  1  1  1  1  1  1  1  0  0  0  0  0  0\n",
      "   0  0  0  0  0  0  0  0  0  0  0  0  0  0  0  0  0  0  0  0  0  0  0  0\n",
      "   0  0  0  0  0  0  0  0  0  0  0  0  0  0  0  0  0  0  0  0  0  0]\n",
      " [ 1  1  1  1  1  1  3  1  1  1  1  1  1  1  2  9  9  1  0  0  0  0  0  0\n",
      "   0  0  0  0  0  0  0  0  0  0  0  0  0  0  0  0  0  0  0  0  0  0  0  0\n",
      "   0  0  0  0  0  0  0  0  0  0  0  0  0  0  0  0  0  0  0  0  0  0]]\n"
     ]
    }
   ],
   "source": [
    "print(y_predicted[:2])"
   ]
  },
  {
   "cell_type": "markdown",
   "id": "46faa0bd",
   "metadata": {},
   "source": [
    "정수 시퀀스를 입력으로 받아서 태깅 정보 시퀀스를 리턴하는 함수로 sequences_to_tag_for_crf를 만듭니다. 해당 함수를 사용하여 예측값과 레이블에 해당하는 y_test를 태깅 정보 시퀀스로 변환하여 F1-score를 계산합니다."
   ]
  },
  {
   "cell_type": "code",
   "execution_count": 21,
   "id": "b4620b3e",
   "metadata": {},
   "outputs": [
    {
     "name": "stdout",
     "output_type": "stream",
     "text": [
      "F1-score: 78.9%\n"
     ]
    },
    {
     "name": "stderr",
     "output_type": "stream",
     "text": [
      "C:\\Users\\seungwon\\anaconda3\\envs\\scratch\\lib\\site-packages\\seqeval\\metrics\\v1.py:57: UndefinedMetricWarning: Precision and F-score are ill-defined and being set to 0.0 in labels with no predicted samples. Use `zero_division` parameter to control this behavior.\n",
      "  _warn_prf(average, modifier, msg_start, len(result))\n"
     ]
    },
    {
     "name": "stdout",
     "output_type": "stream",
     "text": [
      "              precision    recall  f1-score   support\n",
      "\n",
      "         art       0.00      0.00      0.00        63\n",
      "         eve       0.76      0.25      0.38        52\n",
      "         geo       0.81      0.85      0.83      7620\n",
      "         gpe       0.95      0.94      0.94      3145\n",
      "         nat       0.32      0.27      0.29        37\n",
      "         org       0.61      0.58      0.59      4033\n",
      "         per       0.76      0.71      0.73      3545\n",
      "         tim       0.86      0.83      0.84      4067\n",
      "\n",
      "   micro avg       0.79      0.78      0.79     22562\n",
      "   macro avg       0.63      0.55      0.58     22562\n",
      "weighted avg       0.79      0.78      0.79     22562\n",
      "\n"
     ]
    }
   ],
   "source": [
    "def sequences_to_tag(sequences):\n",
    "    result = []\n",
    "    # 전체 시퀀스로부터 시퀀스를 하나씩 꺼낸다.\n",
    "    for sequence in sequences:\n",
    "        word_sequence = []\n",
    "        # 시퀀스로부터 확률 벡터 또는 원-핫 벡터를 하나씩 꺼낸다.\n",
    "        for pred in sequence:\n",
    "            # 정수로 변환. 예를 들어 pred가 [0, 0, 1, 0 ,0]라면 1의 인덱스인 2를 리턴한다.\n",
    "            pred_index = np.argmax(pred)            \n",
    "            # index_to_ner을 사용하여 정수를 태깅 정보로 변환. 'PAD'는 'O'로 변경.\n",
    "            word_sequence.append(index_to_ner[pred_index].replace(\"PAD\", \"O\"))\n",
    "        result.append(word_sequence)\n",
    "    return result\n",
    "\n",
    "def sequences_to_tag_for_crf(sequences): \n",
    "    result = []\n",
    "    # 전체 시퀀스로부터 시퀀스를 하나씩 꺼낸다.\n",
    "    for sequence in sequences: \n",
    "        word_sequence = []\n",
    "        # 시퀀스로부터 예측 정수 레이블을 하나씩 꺼낸다.\n",
    "        for pred_index in sequence:\n",
    "            # index_to_ner을 사용하여 정수를 태깅 정보로 변환. 'PAD'는 'O'로 변경.\n",
    "            word_sequence.append(index_to_ner[pred_index].replace(\"PAD\", \"O\"))\n",
    "        result.append(word_sequence)\n",
    "    return result\n",
    "\n",
    "pred_tags = sequences_to_tag_for_crf(y_predicted)\n",
    "test_tags = sequences_to_tag(y_test)\n",
    "\n",
    "print(\"F1-score: {:.1%}\".format(f1_score(test_tags, pred_tags)))\n",
    "print(classification_report(test_tags, pred_tags))"
   ]
  },
  {
   "cell_type": "code",
   "execution_count": null,
   "id": "cac5889f",
   "metadata": {},
   "outputs": [],
   "source": []
  }
 ],
 "metadata": {
  "kernelspec": {
   "display_name": "Python 3",
   "language": "python",
   "name": "python3"
  },
  "language_info": {
   "codemirror_mode": {
    "name": "ipython",
    "version": 3
   },
   "file_extension": ".py",
   "mimetype": "text/x-python",
   "name": "python",
   "nbconvert_exporter": "python",
   "pygments_lexer": "ipython3",
   "version": "3.6.3"
  }
 },
 "nbformat": 4,
 "nbformat_minor": 5
}
