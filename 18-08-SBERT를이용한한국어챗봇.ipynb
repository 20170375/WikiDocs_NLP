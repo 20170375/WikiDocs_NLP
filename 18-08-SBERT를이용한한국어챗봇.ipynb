{
 "cells": [
  {
   "cell_type": "markdown",
   "id": "345ca913",
   "metadata": {},
   "source": [
    "# 18. 실전! BERT 실습하기\n",
    "\n",
    "## 08) BERT의 문장 임베딩(SBERT)을 이용한 한국어 챗봇"
   ]
  },
  {
   "cell_type": "markdown",
   "id": "58de0626",
   "metadata": {},
   "source": [
    "SBERT를 이용하여 문장 임베딩을 얻을 수 있는 패키지인 sentence_transformers를 사용하여 쉽고 간단하게 한국어 챗봇을 구현해봅시다. "
   ]
  },
  {
   "cell_type": "markdown",
   "id": "a1afcd97",
   "metadata": {},
   "source": [
    "```\n",
    "pip install sentence_transformers\n",
    "```"
   ]
  },
  {
   "cell_type": "code",
   "execution_count": 2,
   "id": "dc11aeef",
   "metadata": {},
   "outputs": [],
   "source": [
    "import numpy as np\n",
    "import pandas as pd\n",
    "from numpy import dot\n",
    "from numpy.linalg import norm\n",
    "import urllib.request\n",
    "from sentence_transformers import SentenceTransformer"
   ]
  },
  {
   "cell_type": "code",
   "execution_count": 3,
   "id": "eb55a100",
   "metadata": {},
   "outputs": [
    {
     "data": {
      "text/html": [
       "<div>\n",
       "<style scoped>\n",
       "    .dataframe tbody tr th:only-of-type {\n",
       "        vertical-align: middle;\n",
       "    }\n",
       "\n",
       "    .dataframe tbody tr th {\n",
       "        vertical-align: top;\n",
       "    }\n",
       "\n",
       "    .dataframe thead th {\n",
       "        text-align: right;\n",
       "    }\n",
       "</style>\n",
       "<table border=\"1\" class=\"dataframe\">\n",
       "  <thead>\n",
       "    <tr style=\"text-align: right;\">\n",
       "      <th></th>\n",
       "      <th>Q</th>\n",
       "      <th>A</th>\n",
       "      <th>label</th>\n",
       "    </tr>\n",
       "  </thead>\n",
       "  <tbody>\n",
       "    <tr>\n",
       "      <th>0</th>\n",
       "      <td>12시 땡!</td>\n",
       "      <td>하루가 또 가네요.</td>\n",
       "      <td>0</td>\n",
       "    </tr>\n",
       "    <tr>\n",
       "      <th>1</th>\n",
       "      <td>1지망 학교 떨어졌어</td>\n",
       "      <td>위로해 드립니다.</td>\n",
       "      <td>0</td>\n",
       "    </tr>\n",
       "    <tr>\n",
       "      <th>2</th>\n",
       "      <td>3박4일 놀러가고 싶다</td>\n",
       "      <td>여행은 언제나 좋죠.</td>\n",
       "      <td>0</td>\n",
       "    </tr>\n",
       "    <tr>\n",
       "      <th>3</th>\n",
       "      <td>3박4일 정도 놀러가고 싶다</td>\n",
       "      <td>여행은 언제나 좋죠.</td>\n",
       "      <td>0</td>\n",
       "    </tr>\n",
       "    <tr>\n",
       "      <th>4</th>\n",
       "      <td>PPL 심하네</td>\n",
       "      <td>눈살이 찌푸려지죠.</td>\n",
       "      <td>0</td>\n",
       "    </tr>\n",
       "  </tbody>\n",
       "</table>\n",
       "</div>"
      ],
      "text/plain": [
       "                 Q            A  label\n",
       "0           12시 땡!   하루가 또 가네요.      0\n",
       "1      1지망 학교 떨어졌어    위로해 드립니다.      0\n",
       "2     3박4일 놀러가고 싶다  여행은 언제나 좋죠.      0\n",
       "3  3박4일 정도 놀러가고 싶다  여행은 언제나 좋죠.      0\n",
       "4          PPL 심하네   눈살이 찌푸려지죠.      0"
      ]
     },
     "execution_count": 3,
     "metadata": {},
     "output_type": "execute_result"
    }
   ],
   "source": [
    "train_data = pd.read_csv('datasets/ChatBotData.csv')\n",
    "train_data.head()"
   ]
  },
  {
   "cell_type": "markdown",
   "id": "bb41aba7",
   "metadata": {},
   "source": [
    "문장 임베딩을 얻기 위해서 사전 훈련된 BERT를 로드합니다. 여기서는 한국어도 포함되어 학습된 다국어 모델을 로드합니다."
   ]
  },
  {
   "cell_type": "markdown",
   "id": "910b4d31",
   "metadata": {},
   "source": [
    "모델의 이름은 'xlm-r-100langs-bert-base-nli-stsb-mean-tokens'인데 이름이 의미하는 바는 100가지 언어를 지원(한국어 포함)하는 다국어 BERT BASE 모델로 SNLI 데이터를 학습 후 STS-B 데이터로 학습되었으며, 문장 표현을 얻기 위해서는 평균 풀링(mean-tokens)을 사용했다는 의미입니다. 다시 말해서 NLI 데이터를 학습 후에 STS 데이터로 추가 파인 튜닝한 모델이라는 의미입니다."
   ]
  },
  {
   "cell_type": "code",
   "execution_count": 4,
   "id": "a5bff2a8",
   "metadata": {},
   "outputs": [
    {
     "data": {
      "application/vnd.jupyter.widget-view+json": {
       "model_id": "6e11916765d14896a2d08d4cd95a1487",
       "version_major": 2,
       "version_minor": 0
      },
      "text/plain": [
       "Downloading:   0%|          | 0.00/574 [00:00<?, ?B/s]"
      ]
     },
     "metadata": {},
     "output_type": "display_data"
    },
    {
     "data": {
      "application/vnd.jupyter.widget-view+json": {
       "model_id": "cedc4ebc582149729c1951fc872b2e1f",
       "version_major": 2,
       "version_minor": 0
      },
      "text/plain": [
       "Downloading:   0%|          | 0.00/4.06k [00:00<?, ?B/s]"
      ]
     },
     "metadata": {},
     "output_type": "display_data"
    },
    {
     "data": {
      "application/vnd.jupyter.widget-view+json": {
       "model_id": "882ad747d4664d90a0925126f8072696",
       "version_major": 2,
       "version_minor": 0
      },
      "text/plain": [
       "Downloading:   0%|          | 0.00/731 [00:00<?, ?B/s]"
      ]
     },
     "metadata": {},
     "output_type": "display_data"
    },
    {
     "data": {
      "application/vnd.jupyter.widget-view+json": {
       "model_id": "03d6a64526c14d92954b2ec66976b0f9",
       "version_major": 2,
       "version_minor": 0
      },
      "text/plain": [
       "Downloading:   0%|          | 0.00/122 [00:00<?, ?B/s]"
      ]
     },
     "metadata": {},
     "output_type": "display_data"
    },
    {
     "data": {
      "application/vnd.jupyter.widget-view+json": {
       "model_id": "9dc64336cdaf479895d3a07cdc258507",
       "version_major": 2,
       "version_minor": 0
      },
      "text/plain": [
       "Downloading:   0%|          | 0.00/229 [00:00<?, ?B/s]"
      ]
     },
     "metadata": {},
     "output_type": "display_data"
    },
    {
     "data": {
      "application/vnd.jupyter.widget-view+json": {
       "model_id": "c64b2b96ca04482a8c35a572239adf80",
       "version_major": 2,
       "version_minor": 0
      },
      "text/plain": [
       "Downloading:   0%|          | 0.00/1.11G [00:00<?, ?B/s]"
      ]
     },
     "metadata": {},
     "output_type": "display_data"
    },
    {
     "data": {
      "application/vnd.jupyter.widget-view+json": {
       "model_id": "720f10f76d8e4759a908b4a4a3bb736f",
       "version_major": 2,
       "version_minor": 0
      },
      "text/plain": [
       "Downloading:   0%|          | 0.00/53.0 [00:00<?, ?B/s]"
      ]
     },
     "metadata": {},
     "output_type": "display_data"
    },
    {
     "data": {
      "application/vnd.jupyter.widget-view+json": {
       "model_id": "9e0feec51b6648fa9e809b882f5bb20f",
       "version_major": 2,
       "version_minor": 0
      },
      "text/plain": [
       "Downloading:   0%|          | 0.00/5.07M [00:00<?, ?B/s]"
      ]
     },
     "metadata": {},
     "output_type": "display_data"
    },
    {
     "data": {
      "application/vnd.jupyter.widget-view+json": {
       "model_id": "26393fef2edc4c029b834032c7b1b7aa",
       "version_major": 2,
       "version_minor": 0
      },
      "text/plain": [
       "Downloading:   0%|          | 0.00/150 [00:00<?, ?B/s]"
      ]
     },
     "metadata": {},
     "output_type": "display_data"
    },
    {
     "data": {
      "application/vnd.jupyter.widget-view+json": {
       "model_id": "f2481a87adf7443eb4ac23431451b43e",
       "version_major": 2,
       "version_minor": 0
      },
      "text/plain": [
       "Downloading:   0%|          | 0.00/9.10M [00:00<?, ?B/s]"
      ]
     },
     "metadata": {},
     "output_type": "display_data"
    },
    {
     "data": {
      "application/vnd.jupyter.widget-view+json": {
       "model_id": "05b446160d17464598e97ce21ba25dc6",
       "version_major": 2,
       "version_minor": 0
      },
      "text/plain": [
       "Downloading:   0%|          | 0.00/527 [00:00<?, ?B/s]"
      ]
     },
     "metadata": {},
     "output_type": "display_data"
    },
    {
     "data": {
      "application/vnd.jupyter.widget-view+json": {
       "model_id": "483e2f5313b44ea087e80ad05adeacbc",
       "version_major": 2,
       "version_minor": 0
      },
      "text/plain": [
       "Downloading:   0%|          | 0.00/190 [00:00<?, ?B/s]"
      ]
     },
     "metadata": {},
     "output_type": "display_data"
    }
   ],
   "source": [
    "model = SentenceTransformer('sentence-transformers/xlm-r-100langs-bert-base-nli-stsb-mean-tokens')"
   ]
  },
  {
   "cell_type": "markdown",
   "id": "2a0723c2",
   "metadata": {},
   "source": [
    "데이터에서 모든 질문열. 즉, train_data['Q']에 대해서 문장 임베딩 값을 구한 후 embedding이라는 새로운 열에 저장합니다."
   ]
  },
  {
   "cell_type": "code",
   "execution_count": 5,
   "id": "af8e7872",
   "metadata": {},
   "outputs": [],
   "source": [
    "train_data['embedding'] = train_data.apply(lambda row: model.encode(row.Q), axis=1)"
   ]
  },
  {
   "cell_type": "markdown",
   "id": "01a3760a",
   "metadata": {},
   "source": [
    "두 개의 벡터로부터 코사인 유사도를 구하는 함수 cos_sim를 정의합니다."
   ]
  },
  {
   "cell_type": "code",
   "execution_count": 6,
   "id": "ad8bc3fe",
   "metadata": {},
   "outputs": [],
   "source": [
    "def cos_sim(A, B):\n",
    "    return dot(A, B)/(norm(A)*norm(B))"
   ]
  },
  {
   "cell_type": "markdown",
   "id": "d9e88ff6",
   "metadata": {},
   "source": [
    "return_answer 함수는 임의의 질문이 들어오면 해당 질문의 문장 임베딩 값과 챗봇 데이터의 임베딩 열. 즉, train_data['embedding']에 저장해둔 모든 질문 샘플들의 문장 임베딩 값들을 전부 비교하여 코사인 유사도 값이 가장 높은 질문 샘플을 찾아냅니다. 그리고 해당 질문 샘플과 짝이 되는 답변 샘플을 리턴합니다."
   ]
  },
  {
   "cell_type": "code",
   "execution_count": 8,
   "id": "191852c9",
   "metadata": {},
   "outputs": [],
   "source": [
    "def return_answer(question):\n",
    "    embedding = model.encode(question)\n",
    "    train_data['score'] = train_data.apply(lambda x: cos_sim(x['embedding'], embedding), axis=1)\n",
    "    return train_data.loc[train_data['score'].idxmax()]['A']"
   ]
  },
  {
   "cell_type": "markdown",
   "id": "bbeff270",
   "metadata": {},
   "source": [
    "이제 챗봇을 테스트해봅시다."
   ]
  },
  {
   "cell_type": "code",
   "execution_count": 9,
   "id": "9ed74b27",
   "metadata": {},
   "outputs": [
    {
     "data": {
      "text/plain": [
       "'좋은 사람이랑 결혼할 수 있을 거예요.'"
      ]
     },
     "execution_count": 9,
     "metadata": {},
     "output_type": "execute_result"
    }
   ],
   "source": [
    "return_answer('결혼하고싶어')"
   ]
  },
  {
   "cell_type": "code",
   "execution_count": 10,
   "id": "e50fb9fd",
   "metadata": {},
   "outputs": [
    {
     "data": {
      "text/plain": [
       "'카페인이 필요한 시간인가 봐요.'"
      ]
     },
     "execution_count": 10,
     "metadata": {},
     "output_type": "execute_result"
    }
   ],
   "source": [
    "return_answer('나랑 커피먹을래?')"
   ]
  },
  {
   "cell_type": "code",
   "execution_count": 11,
   "id": "aebc0a24",
   "metadata": {},
   "outputs": [
    {
     "data": {
      "text/plain": [
       "'저도 반가워요.'"
      ]
     },
     "execution_count": 11,
     "metadata": {},
     "output_type": "execute_result"
    }
   ],
   "source": [
    "return_answer('반가워')"
   ]
  },
  {
   "cell_type": "code",
   "execution_count": 12,
   "id": "0773dd24",
   "metadata": {},
   "outputs": [
    {
     "data": {
      "text/plain": [
       "'상대방에게 전해보세요.'"
      ]
     },
     "execution_count": 12,
     "metadata": {},
     "output_type": "execute_result"
    }
   ],
   "source": [
    "return_answer('사랑해')"
   ]
  },
  {
   "cell_type": "code",
   "execution_count": 13,
   "id": "7eda5d51",
   "metadata": {},
   "outputs": [
    {
     "data": {
      "text/plain": [
       "'저는 위로봇입니다.'"
      ]
     },
     "execution_count": 13,
     "metadata": {},
     "output_type": "execute_result"
    }
   ],
   "source": [
    "return_answer('너는 누구니?')"
   ]
  },
  {
   "cell_type": "code",
   "execution_count": 14,
   "id": "94009d75",
   "metadata": {},
   "outputs": [
    {
     "data": {
      "text/plain": [
       "'짜증날 땐 짜장면'"
      ]
     },
     "execution_count": 14,
     "metadata": {},
     "output_type": "execute_result"
    }
   ],
   "source": [
    "return_answer('너무 짜증나')"
   ]
  },
  {
   "cell_type": "code",
   "execution_count": 15,
   "id": "0ba6c1fc",
   "metadata": {},
   "outputs": [
    {
     "data": {
      "text/plain": [
       "'화를 참는 연습을 해보세요.'"
      ]
     },
     "execution_count": 15,
     "metadata": {},
     "output_type": "execute_result"
    }
   ],
   "source": [
    "return_answer('화가납니다')"
   ]
  },
  {
   "cell_type": "code",
   "execution_count": 16,
   "id": "499e75fa",
   "metadata": {},
   "outputs": [
    {
     "data": {
      "text/plain": [
       "'지금 그러고 있어요.'"
      ]
     },
     "execution_count": 16,
     "metadata": {},
     "output_type": "execute_result"
    }
   ],
   "source": [
    "return_answer('나랑 놀자')"
   ]
  },
  {
   "cell_type": "code",
   "execution_count": 17,
   "id": "fda3dfb2",
   "metadata": {},
   "outputs": [
    {
     "data": {
      "text/plain": [
       "'같이 놀아요.'"
      ]
     },
     "execution_count": 17,
     "metadata": {},
     "output_type": "execute_result"
    }
   ],
   "source": [
    "return_answer('나랑 게임하자')"
   ]
  },
  {
   "cell_type": "code",
   "execution_count": 18,
   "id": "4fbc04b3",
   "metadata": {},
   "outputs": [
    {
     "data": {
      "text/plain": [
       "'씻고 푹 쉬세요.'"
      ]
     },
     "execution_count": 18,
     "metadata": {},
     "output_type": "execute_result"
    }
   ],
   "source": [
    "return_answer('출근하기싫어')"
   ]
  },
  {
   "cell_type": "code",
   "execution_count": 19,
   "id": "5bca86a0",
   "metadata": {},
   "outputs": [
    {
     "data": {
      "text/plain": [
       "'이김에 떠나보세요.'"
      ]
     },
     "execution_count": 19,
     "metadata": {},
     "output_type": "execute_result"
    }
   ],
   "source": [
    "return_answer('여행가고싶다')"
   ]
  },
  {
   "cell_type": "code",
   "execution_count": 20,
   "id": "fed0abf7",
   "metadata": {},
   "outputs": [
    {
     "data": {
      "text/plain": [
       "'그런 사람이 있으면 저 좀 소개시켜주세요.'"
      ]
     },
     "execution_count": 20,
     "metadata": {},
     "output_type": "execute_result"
    }
   ],
   "source": [
    "return_answer('너 말 잘한다')"
   ]
  },
  {
   "cell_type": "code",
   "execution_count": null,
   "id": "0d664043",
   "metadata": {},
   "outputs": [],
   "source": []
  }
 ],
 "metadata": {
  "kernelspec": {
   "display_name": "Python 3",
   "language": "python",
   "name": "python3"
  },
  "language_info": {
   "codemirror_mode": {
    "name": "ipython",
    "version": 3
   },
   "file_extension": ".py",
   "mimetype": "text/x-python",
   "name": "python",
   "nbconvert_exporter": "python",
   "pygments_lexer": "ipython3",
   "version": "3.6.3"
  }
 },
 "nbformat": 4,
 "nbformat_minor": 5
}
