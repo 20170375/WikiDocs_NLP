{
 "cells": [
  {
   "cell_type": "markdown",
   "id": "16fd9620",
   "metadata": {},
   "source": [
    "# 20. 질의 응답(Question Answering, QA)\n",
    "\n",
    "## 1) 메모리 네트워크(Memory Network, MemN)를 이용한 QA"
   ]
  },
  {
   "cell_type": "markdown",
   "id": "13f7a966",
   "metadata": {},
   "source": [
    "### 1. Babi 데이터셋"
   ]
  },
  {
   "cell_type": "markdown",
   "id": "2c7bc180",
   "metadata": {},
   "source": [
    "babi Project의 데이터셋은 기본적으로 다음과 같은 형식을 갖고 있습니다.\n",
    "\n",
    "```\n",
    "1 Mary moved to the bathroom.\n",
    "2 John went to the hallway.\n",
    "3 Where is Mary?        bathroom        1\n",
    "4 Daniel went back to the hallway.\n",
    "5 Sandra moved to the garden.\n",
    "6 Where is Daniel?      hallway         4\n",
    "7 John moved to the office.\n",
    "8 Sandra journeyed to the bathroom.\n",
    "9 Where is Daniel?      hallway         4\n",
    "1 Sandra travelled to the office.\n",
    "2 Sandra went to the bathroom.\n",
    "3 Where is Sandra?      bathroom        2\n",
    "```\n",
    "\n",
    "질문이 한 번 나왔다고해서 스토리가 끝나는 게 아니에요. 스토리는 계속 이어지고 질문도 계속 이어집니다. 두번째 스토리가 시작되자 9번 다음에는 다시 ID가 1번부터 시작되고 있네요."
   ]
  },
  {
   "cell_type": "markdown",
   "id": "9e146140",
   "metadata": {},
   "source": [
    "### 2. 메모리 네트워크 구조"
   ]
  },
  {
   "attachments": {
    "image.png": {
     "image/png": "[encoded data removed]"
    }
   },
   "cell_type": "markdown",
   "id": "1c100c46",
   "metadata": {},
   "source": [
    "![image.png](attachment:image.png)\n",
    "\n",
    "위 그림에서 '덧셈'이라고 적혀있는 부분까지의 연산은 어텐션 메커니즘을 통해서 질문 문장과의 유사도를 반영한 **스토리 문장 표현**을 얻기 위한 여정이었습니다. 이 스토리 **문장 표현**을 질문 문장을 임베딩한 질문 표현과 연결(concatenate)해줍니다. 그리고 이 표현을 LSTM과 밀집층(dense layer)의 입력으로 사용하여 정답을 예측합니다."
   ]
  },
  {
   "cell_type": "markdown",
   "id": "11928f6e",
   "metadata": {},
   "source": [
    "### 3. Babi 데이터셋 전처리하기"
   ]
  },
  {
   "cell_type": "code",
   "execution_count": 1,
   "id": "26a8c349",
   "metadata": {},
   "outputs": [],
   "source": [
    "from tensorflow.keras.utils import get_file\n",
    "from tensorflow.keras.preprocessing.sequence import pad_sequences\n",
    "from tensorflow.keras.utils import to_categorical\n",
    "import numpy as np\n",
    "import tarfile\n",
    "from nltk import FreqDist\n",
    "from functools import reduce\n",
    "import os\n",
    "import re\n",
    "import matplotlib.pyplot as plt"
   ]
  },
  {
   "cell_type": "code",
   "execution_count": 3,
   "id": "0b38e9dd",
   "metadata": {},
   "outputs": [
    {
     "name": "stdout",
     "output_type": "stream",
     "text": [
      "Downloading data from https://s3.amazonaws.com/text-datasets/babi_tasks_1-20_v1-2.tar.gz\n",
      "11747328/11745123 [==============================] - 3s 0us/step\n"
     ]
    }
   ],
   "source": [
    "# 케라스의 get_file을 통해 데이터셋을 다운로드합니다.\n",
    "# path = get_file('babi-tasks-v1-2.tar.gz', origin='https://s3.amazonaws.com/text-datasets/'\n",
    "#                 'babi_tasks_1-20_v1-2.tar.gz')"
   ]
  },
  {
   "cell_type": "code",
   "execution_count": 6,
   "id": "220978c3",
   "metadata": {},
   "outputs": [],
   "source": [
    "# with tarfile.open(path) as tar:\n",
    "#     tar.extractall()\n",
    "#     tar.close()\n",
    "\n",
    "DATA_DIR = 'datasets/tasks_1-20_v1-2/en-10k'\n",
    "TRAIN_FILE = os.path.join(DATA_DIR, \"qa1_single-supporting-fact_train.txt\")\n",
    "TEST_FILE = os.path.join(DATA_DIR, \"qa1_single-supporting-fact_test.txt\")"
   ]
  },
  {
   "cell_type": "markdown",
   "id": "434bf657",
   "metadata": {},
   "source": [
    "훈련 데이터로부터 상위 20개의 라인(line)만 읽고 출력해보겠습니다."
   ]
  },
  {
   "cell_type": "code",
   "execution_count": 7,
   "id": "0c6cca58",
   "metadata": {},
   "outputs": [
    {
     "name": "stdout",
     "output_type": "stream",
     "text": [
      "1 Mary moved to the bathroom.\n",
      "2 John went to the hallway.\n",
      "3 Where is Mary? \tbathroom\t1\n",
      "4 Daniel went back to the hallway.\n",
      "5 Sandra moved to the garden.\n",
      "6 Where is Daniel? \thallway\t4\n",
      "7 John moved to the office.\n",
      "8 Sandra journeyed to the bathroom.\n",
      "9 Where is Daniel? \thallway\t4\n",
      "10 Mary moved to the hallway.\n",
      "11 Daniel travelled to the office.\n",
      "12 Where is Daniel? \toffice\t11\n",
      "13 John went back to the garden.\n",
      "14 John moved to the bedroom.\n",
      "15 Where is Sandra? \tbathroom\t8\n",
      "1 Sandra travelled to the office.\n",
      "2 Sandra went to the bathroom.\n",
      "3 Where is Sandra? \tbathroom\t2\n",
      "4 Mary went to the bedroom.\n",
      "5 Daniel moved to the hallway.\n"
     ]
    }
   ],
   "source": [
    "i = 0\n",
    "lines = open(TRAIN_FILE , \"rb\")\n",
    "for line in lines:\n",
    "    line = line.decode(\"utf-8\").strip()\n",
    "    # lno, text = line.split(\" \", 1) # ID와 TEXT 분리\n",
    "    i = i + 1\n",
    "    print(line)\n",
    "    if i == 20:\n",
    "        break"
   ]
  },
  {
   "cell_type": "markdown",
   "id": "6d71c75a",
   "metadata": {},
   "source": [
    "전처리를 거쳐서 스토리, 질문, 답변을 전부 별도로 저장해두겠습니다."
   ]
  },
  {
   "cell_type": "code",
   "execution_count": 8,
   "id": "90abde14",
   "metadata": {},
   "outputs": [],
   "source": [
    "def read_data(dir):\n",
    "    # 각각 스토리, 질문, 답변을 저장할 예정\n",
    "    stories, questions, answers = [], [], []\n",
    "    \n",
    "    # 현재 시점의 스토리 임시 저장\n",
    "    story_temp = []\n",
    "    lines = open(dir, \"rb\")\n",
    "\n",
    "    for line in lines:\n",
    "        line = line.decode(\"utf-8\") # b' 제거\n",
    "        line = line.strip() # '\\n' 제거\n",
    "        idx, text = line.split(\" \", 1) # 맨 앞에 있는 id number 분리\n",
    "        # 여기까지는 모든 줄에 적용되는 전처리\n",
    "\n",
    "        if int(idx) == 1:\n",
    "            story_temp = []\n",
    "\n",
    "        if \"\\t\" in text: # 현재 읽는 줄이 질문 (tab) 답변 (tab)인 경우\n",
    "            question, answer, _ = text.split(\"\\t\") # 질문과 답변을 각각 저장\n",
    "            stories.append([x for x in story_temp if x]) # 지금까지의 누적 스토리를 스토리에 저장\n",
    "            questions.append(question)\n",
    "            answers.append(answer)\n",
    "\n",
    "        else: # 현재 읽는 줄이 스토리인 경우\n",
    "            story_temp.append(text) # 임시 저장\n",
    "\n",
    "    lines.close()\n",
    "    return stories, questions, answers"
   ]
  },
  {
   "cell_type": "code",
   "execution_count": 9,
   "id": "b7a1e841",
   "metadata": {},
   "outputs": [],
   "source": [
    "train_data = read_data(TRAIN_FILE)\n",
    "test_data = read_data(TEST_FILE)"
   ]
  },
  {
   "cell_type": "code",
   "execution_count": 10,
   "id": "400fcb6e",
   "metadata": {},
   "outputs": [],
   "source": [
    "train_stories, train_questions, train_answers = read_data(TRAIN_FILE)\n",
    "test_stories, test_questions, test_answers = read_data(TEST_FILE)"
   ]
  },
  {
   "cell_type": "code",
   "execution_count": 11,
   "id": "b544fd2c",
   "metadata": {},
   "outputs": [
    {
     "name": "stdout",
     "output_type": "stream",
     "text": [
      "훈련용 스토리의 개수 : 10000\n",
      "훈련용 질문의 개수 : 10000\n",
      "훈련용 답변의 개수 : 10000\n",
      "테스트용 스토리의 개수 : 1000\n",
      "테스트용 질문의 개수 : 1000\n",
      "테스트용 답변의 개수 : 1000\n"
     ]
    }
   ],
   "source": [
    "print('훈련용 스토리의 개수 :', len(train_stories))\n",
    "print('훈련용 질문의 개수 :', len(train_questions))\n",
    "print('훈련용 답변의 개수 :', len(train_answers))\n",
    "print('테스트용 스토리의 개수 :', len(test_stories))\n",
    "print('테스트용 질문의 개수 :', len(test_questions))\n",
    "print('테스트용 답변의 개수 :', len(test_answers))"
   ]
  },
  {
   "cell_type": "markdown",
   "id": "c50069a9",
   "metadata": {},
   "source": [
    "임의로 3,576번째를 출력해봅시다."
   ]
  },
  {
   "cell_type": "code",
   "execution_count": 12,
   "id": "2d6d9cfa",
   "metadata": {},
   "outputs": [
    {
     "name": "stdout",
     "output_type": "stream",
     "text": [
      "['John went back to the garden.', 'Mary went to the kitchen.', 'Sandra went back to the bedroom.', 'John travelled to the bedroom.']\n",
      "\n",
      "Where is John? \n",
      "\n",
      "bedroom\n"
     ]
    }
   ],
   "source": [
    "print(train_stories[3576])\n",
    "print()\n",
    "print(train_questions[3576])\n",
    "print()\n",
    "print(train_answers[3576])"
   ]
  },
  {
   "cell_type": "markdown",
   "id": "b7efd3c1",
   "metadata": {},
   "source": [
    "토큰화 함수를 만든다."
   ]
  },
  {
   "cell_type": "code",
   "execution_count": 13,
   "id": "1c0b9e69",
   "metadata": {},
   "outputs": [],
   "source": [
    "def tokenize(sent):\n",
    "    return [x.strip() for x in re.split('(\\W+)', sent) if x and x.strip()]"
   ]
  },
  {
   "cell_type": "code",
   "execution_count": 14,
   "id": "4dbfc9f9",
   "metadata": {},
   "outputs": [],
   "source": [
    "def preprocess_data(train_data, test_data):\n",
    "    counter = FreqDist()\n",
    "\n",
    "    # 두 문장의 story를 하나의 문장으로 통합하는 함수\n",
    "    flatten = lambda data: reduce(lambda x, y: x + y, data)\n",
    "\n",
    "    # 각 샘플의 길이를 저장하는 리스트\n",
    "    story_len = []\n",
    "    question_len = []\n",
    "\n",
    "    for stories, questions, answers in [train_data, test_data]:\n",
    "        for story in stories:\n",
    "            stories = tokenize(flatten(story)) # 스토리의 문장들을 펼친 후 토큰화\n",
    "            story_len.append(len(stories)) # 각 story의 길이 저장\n",
    "            for word in stories: # 단어 집합에 단어 추가\n",
    "                counter[word] += 1\n",
    "        for question in questions:\n",
    "            question = tokenize(question)\n",
    "            question_len.append(len(question))\n",
    "            for word in question:\n",
    "                counter[word] += 1\n",
    "        for answer in answers:\n",
    "            answer = tokenize(answer)\n",
    "            for word in answer:\n",
    "                counter[word] += 1\n",
    "\n",
    "    # 단어 집합 생성\n",
    "    word2idx = {word : (idx + 1) for idx, (word, _) in enumerate(counter.most_common())}\n",
    "    idx2word = {idx : word for word, idx in word2idx.items()}\n",
    "\n",
    "    # 가장 긴 샘플의 길이\n",
    "    story_max_len = np.max(story_len)\n",
    "    question_max_len = np.max(question_len)\n",
    "\n",
    "    return word2idx, idx2word, story_max_len, question_max_len"
   ]
  },
  {
   "cell_type": "code",
   "execution_count": 15,
   "id": "1011baf1",
   "metadata": {},
   "outputs": [],
   "source": [
    "word2idx, idx2word, story_max_len, question_max_len = preprocess_data(train_data, test_data)"
   ]
  },
  {
   "cell_type": "code",
   "execution_count": 16,
   "id": "66c29797",
   "metadata": {},
   "outputs": [
    {
     "name": "stdout",
     "output_type": "stream",
     "text": [
      "{'to': 1, 'the': 2, '.': 3, 'went': 4, 'Sandra': 5, 'John': 6, 'Daniel': 7, 'Mary': 8, 'travelled': 9, 'journeyed': 10, 'back': 11, 'bathroom': 12, 'garden': 13, 'hallway': 14, 'moved': 15, 'office': 16, 'kitchen': 17, 'bedroom': 18, 'Where': 19, 'is': 20, '?': 21}\n"
     ]
    }
   ],
   "source": [
    "print(word2idx)"
   ]
  },
  {
   "cell_type": "code",
   "execution_count": 17,
   "id": "9a120b29",
   "metadata": {},
   "outputs": [],
   "source": [
    "vocab_size = len(word2idx) + 1"
   ]
  },
  {
   "cell_type": "code",
   "execution_count": 18,
   "id": "ba9bc5f8",
   "metadata": {},
   "outputs": [
    {
     "name": "stdout",
     "output_type": "stream",
     "text": [
      "스토리의 최대 길이 : 68\n",
      "질문의 최대 길이 : 4\n"
     ]
    }
   ],
   "source": [
    "print('스토리의 최대 길이 :', story_max_len)\n",
    "print('질문의 최대 길이 :', question_max_len)"
   ]
  },
  {
   "cell_type": "markdown",
   "id": "cdc3ba24",
   "metadata": {},
   "source": [
    "데이터를 벡터화한다."
   ]
  },
  {
   "cell_type": "code",
   "execution_count": 19,
   "id": "ccb97b2a",
   "metadata": {},
   "outputs": [],
   "source": [
    "def vectorize(data, word2idx, story_maxlen, question_maxlen):\n",
    "    Xs, Xq, Y = [], [], []\n",
    "    flatten = lambda data: reduce(lambda x, y: x + y, data)\n",
    "\n",
    "    stories, questions, answers = data\n",
    "    for story, question, answer in zip(stories, questions, answers):\n",
    "        xs = [word2idx[w] for w in tokenize(flatten(story))]\n",
    "        xq = [word2idx[w] for w in tokenize(question)]\n",
    "        Xs.append(xs)\n",
    "        Xq.append(xq)\n",
    "        Y.append(word2idx[answer])\n",
    "\n",
    "        # 스토리와 질문은 각각의 최대 길이로 패딩\n",
    "        # 정답은 원-핫 인코딩\n",
    "    return pad_sequences(Xs, maxlen=story_maxlen),\\\n",
    "           pad_sequences(Xq, maxlen=question_maxlen),\\\n",
    "           to_categorical(Y, num_classes=len(word2idx) + 1)"
   ]
  },
  {
   "cell_type": "code",
   "execution_count": 20,
   "id": "fc5ae568",
   "metadata": {},
   "outputs": [],
   "source": [
    "Xstrain, Xqtrain, Ytrain = vectorize(train_data, word2idx, story_max_len, question_max_len)\n",
    "Xstest, Xqtest, Ytest = vectorize(test_data, word2idx, story_max_len, question_max_len)"
   ]
  },
  {
   "cell_type": "code",
   "execution_count": 21,
   "id": "618c02fd",
   "metadata": {},
   "outputs": [
    {
     "name": "stdout",
     "output_type": "stream",
     "text": [
      "(10000, 68) (10000, 4) (10000, 22) (1000, 68) (1000, 4) (1000, 22)\n"
     ]
    }
   ],
   "source": [
    "print(Xstrain.shape, Xqtrain.shape, Ytrain.shape, \n",
    "      Xstest.shape, Xqtest.shape, Ytest.shape)"
   ]
  },
  {
   "cell_type": "markdown",
   "id": "8d6141d4",
   "metadata": {},
   "source": [
    "### 4. 메모리 네트워크로 QA 태스크 풀기"
   ]
  },
  {
   "cell_type": "code",
   "execution_count": 22,
   "id": "451277ab",
   "metadata": {},
   "outputs": [],
   "source": [
    "from tensorflow.keras.models import Sequential, Model\n",
    "from tensorflow.keras.layers import Embedding\n",
    "from tensorflow.keras.layers import Permute, dot, add, concatenate\n",
    "from tensorflow.keras.layers import LSTM, Dense, Dropout, Input, Activation"
   ]
  },
  {
   "cell_type": "code",
   "execution_count": 23,
   "id": "e39d3243",
   "metadata": {},
   "outputs": [],
   "source": [
    "train_epochs = 120 # 에포크 횟수\n",
    "batch_size = 32 # 배치 크기\n",
    "embed_size = 50 # 임베딩 크기\n",
    "lstm_size = 64 # LSTM의 크기\n",
    "dropout_rate = 0.30 # 과적합 방지 기법인 드롭아웃 적용 비율"
   ]
  },
  {
   "cell_type": "code",
   "execution_count": 24,
   "id": "62270434",
   "metadata": {
    "scrolled": true
   },
   "outputs": [
    {
     "name": "stdout",
     "output_type": "stream",
     "text": [
      "Stories : KerasTensor(type_spec=TensorSpec(shape=(None, 68), dtype=tf.float32, name='input_1'), name='input_1', description=\"created by layer 'input_1'\")\n",
      "Question: KerasTensor(type_spec=TensorSpec(shape=(None, 4), dtype=tf.float32, name='input_2'), name='input_2', description=\"created by layer 'input_2'\")\n"
     ]
    }
   ],
   "source": [
    "# 플레이스 홀더. 입력을 담는 변수\n",
    "input_sequence = Input((story_max_len,))\n",
    "question = Input((question_max_len,))\n",
    "\n",
    "print('Stories :', input_sequence)\n",
    "print('Question:', question)"
   ]
  },
  {
   "cell_type": "code",
   "execution_count": 25,
   "id": "7892cef7",
   "metadata": {},
   "outputs": [],
   "source": [
    "# 스토리를 위한 첫번째 임베딩. 그림에서의 Embedding A\n",
    "input_encoder_m = Sequential()\n",
    "input_encoder_m.add(Embedding(input_dim=vocab_size,\n",
    "                              output_dim=embed_size))\n",
    "input_encoder_m.add(Dropout(dropout_rate))\n",
    "# 결과 : (samples, story_max_len, embedding_dim) / 샘플의 수, 문장의 최대 길이, 임베딩 벡터의 차원\n",
    "\n",
    "# 스토리를 위한 두번째 임베딩. 그림에서의 Embedding C\n",
    "# 임베딩 벡터의 차원을 question_max_len(질문의 최대 길이)로 한다.\n",
    "input_encoder_c = Sequential()\n",
    "input_encoder_c.add(Embedding(input_dim=vocab_size,\n",
    "                              output_dim=question_max_len))\n",
    "input_encoder_c.add(Dropout(dropout_rate))\n",
    "# 결과 : (samples, story_max_len, question_max_len) / 샘플의 수, 문장의 최대 길이, 질문의 최대 길이(임베딩 벡터의 차원)"
   ]
  },
  {
   "cell_type": "code",
   "execution_count": 26,
   "id": "b19356f4",
   "metadata": {},
   "outputs": [],
   "source": [
    "# 질문을 위한 임베딩. 그림에서의 Embedding B\n",
    "question_encoder = Sequential()\n",
    "question_encoder.add(Embedding(input_dim=vocab_size,\n",
    "                               output_dim=embed_size,\n",
    "                               input_length=question_max_len))\n",
    "question_encoder.add(Dropout(dropout_rate))\n",
    "# 결과 : (samples, question_max_len, embedding_dim) / 샘플의 수, 질문의 최대 길이, 임베딩 벡터의 차원"
   ]
  },
  {
   "cell_type": "code",
   "execution_count": 27,
   "id": "679af1f2",
   "metadata": {},
   "outputs": [
    {
     "name": "stdout",
     "output_type": "stream",
     "text": [
      "Input encoded m KerasTensor(type_spec=TensorSpec(shape=(None, 68, 50), dtype=tf.float32, name=None), name='sequential/dropout/Identity:0', description=\"created by layer 'sequential'\")\n",
      "Input encoded c KerasTensor(type_spec=TensorSpec(shape=(None, 68, 4), dtype=tf.float32, name=None), name='sequential_1/dropout_1/Identity:0', description=\"created by layer 'sequential_1'\")\n",
      "Question encoded KerasTensor(type_spec=TensorSpec(shape=(None, 4, 50), dtype=tf.float32, name=None), name='sequential_2/dropout_2/Identity:0', description=\"created by layer 'sequential_2'\")\n"
     ]
    }
   ],
   "source": [
    "# 실질적인 임베딩 과정\n",
    "input_encoded_m = input_encoder_m(input_sequence)\n",
    "input_encoded_c = input_encoder_c(input_sequence)\n",
    "question_encoded = question_encoder(question)\n",
    "\n",
    "print('Input encoded m', input_encoded_m)\n",
    "print('Input encoded c', input_encoded_c)\n",
    "print('Question encoded', question_encoded)"
   ]
  },
  {
   "cell_type": "code",
   "execution_count": 28,
   "id": "31154042",
   "metadata": {},
   "outputs": [
    {
     "name": "stdout",
     "output_type": "stream",
     "text": [
      "Match shape KerasTensor(type_spec=TensorSpec(shape=(None, 68, 4), dtype=tf.float32, name=None), name='activation/Softmax:0', description=\"created by layer 'activation'\")\n",
      "Response shape KerasTensor(type_spec=TensorSpec(shape=(None, 4, 68), dtype=tf.float32, name=None), name='permute/transpose:0', description=\"created by layer 'permute'\")\n",
      "Answer shape KerasTensor(type_spec=TensorSpec(shape=(None, 4, 118), dtype=tf.float32, name=None), name='concatenate/concat:0', description=\"created by layer 'concatenate'\")\n"
     ]
    }
   ],
   "source": [
    "# 스토리 단어들과 질문 단어들 간의 유사도를 구하는 과정\n",
    "# 유사도는 내적을 사용한다.\n",
    "match = dot([input_encoded_m, question_encoded], axes=-1, normalize=False)\n",
    "match = Activation('softmax')(match)\n",
    "print('Match shape', match)\n",
    "# 결과 : (samples, story_maxlen, question_max_len) / 샘플의 수, 문장의 최대 길이, 질문의 최대 길이\n",
    "\n",
    "response = add([match, input_encoded_c])  # (samples, story_max_len, question_max_len)\n",
    "response = Permute((2, 1))(response)  # (samples, question_max_len, story_max_len)\n",
    "print('Response shape', response)\n",
    "\n",
    "# 질문 벡터와 답변 벡터를 연결\n",
    "answer = concatenate([response, question_encoded])\n",
    "print('Answer shape', answer)\n",
    "\n",
    "answer = LSTM(lstm_size)(answer)\n",
    "answer = Dropout(dropout_rate)(answer)\n",
    "answer = Dense(vocab_size)(answer)\n",
    "answer = Activation('softmax')(answer)"
   ]
  },
  {
   "cell_type": "code",
   "execution_count": 29,
   "id": "c36e6351",
   "metadata": {},
   "outputs": [
    {
     "name": "stdout",
     "output_type": "stream",
     "text": [
      "Model: \"model\"\n",
      "__________________________________________________________________________________________________\n",
      "Layer (type)                    Output Shape         Param #     Connected to                     \n",
      "==================================================================================================\n",
      "input_1 (InputLayer)            [(None, 68)]         0                                            \n",
      "__________________________________________________________________________________________________\n",
      "input_2 (InputLayer)            [(None, 4)]          0                                            \n",
      "__________________________________________________________________________________________________\n",
      "sequential (Sequential)         (None, None, 50)     1100        input_1[0][0]                    \n",
      "__________________________________________________________________________________________________\n",
      "sequential_2 (Sequential)       (None, 4, 50)        1100        input_2[0][0]                    \n",
      "__________________________________________________________________________________________________\n",
      "dot (Dot)                       (None, 68, 4)        0           sequential[0][0]                 \n",
      "                                                                 sequential_2[0][0]               \n",
      "__________________________________________________________________________________________________\n",
      "activation (Activation)         (None, 68, 4)        0           dot[0][0]                        \n",
      "__________________________________________________________________________________________________\n",
      "sequential_1 (Sequential)       (None, None, 4)      88          input_1[0][0]                    \n",
      "__________________________________________________________________________________________________\n",
      "add (Add)                       (None, 68, 4)        0           activation[0][0]                 \n",
      "                                                                 sequential_1[0][0]               \n",
      "__________________________________________________________________________________________________\n",
      "permute (Permute)               (None, 4, 68)        0           add[0][0]                        \n",
      "__________________________________________________________________________________________________\n",
      "concatenate (Concatenate)       (None, 4, 118)       0           permute[0][0]                    \n",
      "                                                                 sequential_2[0][0]               \n",
      "__________________________________________________________________________________________________\n",
      "lstm (LSTM)                     (None, 64)           46848       concatenate[0][0]                \n",
      "__________________________________________________________________________________________________\n",
      "dropout_3 (Dropout)             (None, 64)           0           lstm[0][0]                       \n",
      "__________________________________________________________________________________________________\n",
      "dense (Dense)                   (None, 22)           1430        dropout_3[0][0]                  \n",
      "__________________________________________________________________________________________________\n",
      "activation_1 (Activation)       (None, 22)           0           dense[0][0]                      \n",
      "==================================================================================================\n",
      "Total params: 50,566\n",
      "Trainable params: 50,566\n",
      "Non-trainable params: 0\n",
      "__________________________________________________________________________________________________\n",
      "None\n",
      "Epoch 1/120\n",
      "313/313 [==============================] - 8s 8ms/step - loss: 1.8963 - acc: 0.1674 - val_loss: 1.7793 - val_acc: 0.2300\n",
      "Epoch 2/120\n",
      "313/313 [==============================] - 2s 7ms/step - loss: 1.7032 - acc: 0.2573 - val_loss: 1.6646 - val_acc: 0.2660\n",
      "Epoch 3/120\n",
      "313/313 [==============================] - 2s 7ms/step - loss: 1.6189 - acc: 0.3153 - val_loss: 1.5476 - val_acc: 0.3890\n",
      "Epoch 4/120\n",
      "313/313 [==============================] - 2s 7ms/step - loss: 1.5034 - acc: 0.4151 - val_loss: 1.4558 - val_acc: 0.4510\n",
      "Epoch 5/120\n",
      "313/313 [==============================] - 2s 7ms/step - loss: 1.4300 - acc: 0.4542 - val_loss: 1.3706 - val_acc: 0.4710\n",
      "Epoch 6/120\n",
      "313/313 [==============================] - 2s 7ms/step - loss: 1.3858 - acc: 0.4682 - val_loss: 1.3427 - val_acc: 0.4920\n",
      "Epoch 7/120\n",
      "313/313 [==============================] - 2s 7ms/step - loss: 1.3470 - acc: 0.4881 - val_loss: 1.3208 - val_acc: 0.4910\n",
      "Epoch 8/120\n",
      "313/313 [==============================] - 2s 7ms/step - loss: 1.3241 - acc: 0.4919 - val_loss: 1.2923 - val_acc: 0.5170\n",
      "Epoch 9/120\n",
      "313/313 [==============================] - 2s 7ms/step - loss: 1.3068 - acc: 0.5024 - val_loss: 1.2622 - val_acc: 0.5210\n",
      "Epoch 10/120\n",
      "313/313 [==============================] - 2s 7ms/step - loss: 1.2898 - acc: 0.5050 - val_loss: 1.2475 - val_acc: 0.5200\n",
      "Epoch 11/120\n",
      "313/313 [==============================] - 2s 7ms/step - loss: 1.2700 - acc: 0.5096 - val_loss: 1.2328 - val_acc: 0.5230\n",
      "Epoch 12/120\n",
      "313/313 [==============================] - 2s 8ms/step - loss: 1.2534 - acc: 0.5115 - val_loss: 1.2143 - val_acc: 0.5230\n",
      "Epoch 13/120\n",
      "313/313 [==============================] - 2s 7ms/step - loss: 1.2369 - acc: 0.5154 - val_loss: 1.2173 - val_acc: 0.5200\n",
      "Epoch 14/120\n",
      "313/313 [==============================] - 2s 7ms/step - loss: 1.2278 - acc: 0.5194 - val_loss: 1.2039 - val_acc: 0.5230\n",
      "Epoch 15/120\n",
      "313/313 [==============================] - 2s 7ms/step - loss: 1.2094 - acc: 0.5169 - val_loss: 1.1917 - val_acc: 0.5170\n",
      "Epoch 16/120\n",
      "313/313 [==============================] - 2s 7ms/step - loss: 1.1913 - acc: 0.5170 - val_loss: 1.1724 - val_acc: 0.5190\n",
      "Epoch 17/120\n",
      "313/313 [==============================] - 2s 7ms/step - loss: 1.1758 - acc: 0.5288 - val_loss: 1.1590 - val_acc: 0.5220\n",
      "Epoch 18/120\n",
      "313/313 [==============================] - 2s 7ms/step - loss: 1.1660 - acc: 0.5236 - val_loss: 1.1711 - val_acc: 0.5140\n",
      "Epoch 19/120\n",
      "313/313 [==============================] - 2s 7ms/step - loss: 1.1479 - acc: 0.5347 - val_loss: 1.1539 - val_acc: 0.5260\n",
      "Epoch 20/120\n",
      "313/313 [==============================] - 2s 7ms/step - loss: 1.1493 - acc: 0.5284 - val_loss: 1.1350 - val_acc: 0.5110\n",
      "Epoch 21/120\n",
      "313/313 [==============================] - 2s 7ms/step - loss: 1.1370 - acc: 0.5286 - val_loss: 1.1733 - val_acc: 0.5050\n",
      "Epoch 22/120\n",
      "313/313 [==============================] - 2s 7ms/step - loss: 1.1259 - acc: 0.5271 - val_loss: 1.1441 - val_acc: 0.5100\n",
      "Epoch 23/120\n",
      "313/313 [==============================] - 2s 7ms/step - loss: 1.1199 - acc: 0.5376 - val_loss: 1.1609 - val_acc: 0.5210\n",
      "Epoch 24/120\n",
      "313/313 [==============================] - 2s 7ms/step - loss: 1.1073 - acc: 0.5396 - val_loss: 1.1671 - val_acc: 0.5030\n",
      "Epoch 25/120\n",
      "313/313 [==============================] - 2s 7ms/step - loss: 1.0927 - acc: 0.5400 - val_loss: 1.1217 - val_acc: 0.5110\n",
      "Epoch 26/120\n",
      "313/313 [==============================] - 2s 7ms/step - loss: 1.0935 - acc: 0.5398 - val_loss: 1.1280 - val_acc: 0.5210\n",
      "Epoch 27/120\n",
      "313/313 [==============================] - 2s 8ms/step - loss: 1.0830 - acc: 0.5447 - val_loss: 1.1241 - val_acc: 0.5140\n",
      "Epoch 28/120\n",
      "313/313 [==============================] - 2s 8ms/step - loss: 1.0738 - acc: 0.5477 - val_loss: 1.1275 - val_acc: 0.5200\n",
      "Epoch 29/120\n",
      "313/313 [==============================] - 2s 8ms/step - loss: 1.0683 - acc: 0.5571 - val_loss: 1.1029 - val_acc: 0.5310\n",
      "Epoch 30/120\n",
      "313/313 [==============================] - 2s 7ms/step - loss: 1.0387 - acc: 0.5748 - val_loss: 1.0934 - val_acc: 0.5600\n",
      "Epoch 31/120\n",
      "313/313 [==============================] - 2s 7ms/step - loss: 0.9951 - acc: 0.6047 - val_loss: 0.9593 - val_acc: 0.6480\n",
      "Epoch 32/120\n",
      "313/313 [==============================] - 2s 7ms/step - loss: 0.8383 - acc: 0.6916 - val_loss: 0.7802 - val_acc: 0.7340\n",
      "Epoch 33/120\n",
      "313/313 [==============================] - 2s 7ms/step - loss: 0.6999 - acc: 0.7471 - val_loss: 0.6724 - val_acc: 0.7470\n",
      "Epoch 34/120\n",
      "313/313 [==============================] - 2s 7ms/step - loss: 0.6178 - acc: 0.7740 - val_loss: 0.6475 - val_acc: 0.7570\n",
      "Epoch 35/120\n",
      "313/313 [==============================] - 2s 7ms/step - loss: 0.5736 - acc: 0.7835 - val_loss: 0.6179 - val_acc: 0.7590\n",
      "Epoch 36/120\n",
      "313/313 [==============================] - 2s 7ms/step - loss: 0.5433 - acc: 0.7929 - val_loss: 0.5898 - val_acc: 0.7580\n",
      "Epoch 37/120\n",
      "313/313 [==============================] - 2s 7ms/step - loss: 0.5042 - acc: 0.8076 - val_loss: 0.5293 - val_acc: 0.7880\n",
      "Epoch 38/120\n",
      "313/313 [==============================] - 2s 7ms/step - loss: 0.4471 - acc: 0.8257 - val_loss: 0.4659 - val_acc: 0.8110\n",
      "Epoch 39/120\n",
      "313/313 [==============================] - 2s 8ms/step - loss: 0.4021 - acc: 0.8452 - val_loss: 0.4192 - val_acc: 0.8400\n",
      "Epoch 40/120\n",
      "313/313 [==============================] - 2s 8ms/step - loss: 0.3731 - acc: 0.8586 - val_loss: 0.3943 - val_acc: 0.8500\n",
      "Epoch 41/120\n",
      "313/313 [==============================] - 2s 7ms/step - loss: 0.3503 - acc: 0.8672 - val_loss: 0.3999 - val_acc: 0.8560\n",
      "Epoch 42/120\n",
      "313/313 [==============================] - 2s 7ms/step - loss: 0.3400 - acc: 0.8748 - val_loss: 0.3828 - val_acc: 0.8510\n",
      "Epoch 43/120\n",
      "313/313 [==============================] - 2s 7ms/step - loss: 0.3216 - acc: 0.8803 - val_loss: 0.3555 - val_acc: 0.8680\n",
      "Epoch 44/120\n",
      "313/313 [==============================] - 2s 7ms/step - loss: 0.3054 - acc: 0.8895 - val_loss: 0.3687 - val_acc: 0.8630\n",
      "Epoch 45/120\n",
      "313/313 [==============================] - 2s 7ms/step - loss: 0.2935 - acc: 0.8883 - val_loss: 0.3584 - val_acc: 0.8600\n",
      "Epoch 46/120\n",
      "313/313 [==============================] - 2s 7ms/step - loss: 0.2875 - acc: 0.8934 - val_loss: 0.3731 - val_acc: 0.8550\n",
      "Epoch 47/120\n",
      "313/313 [==============================] - 2s 7ms/step - loss: 0.2759 - acc: 0.8942 - val_loss: 0.3344 - val_acc: 0.8680\n",
      "Epoch 48/120\n",
      "313/313 [==============================] - 2s 7ms/step - loss: 0.2612 - acc: 0.9041 - val_loss: 0.3289 - val_acc: 0.8680\n",
      "Epoch 49/120\n",
      "313/313 [==============================] - 2s 7ms/step - loss: 0.2601 - acc: 0.9016 - val_loss: 0.3186 - val_acc: 0.8750\n",
      "Epoch 50/120\n",
      "313/313 [==============================] - 2s 7ms/step - loss: 0.2461 - acc: 0.9084 - val_loss: 0.3135 - val_acc: 0.8680\n",
      "Epoch 51/120\n",
      "313/313 [==============================] - 2s 7ms/step - loss: 0.2387 - acc: 0.9118 - val_loss: 0.3098 - val_acc: 0.8730\n",
      "Epoch 52/120\n",
      "313/313 [==============================] - 2s 7ms/step - loss: 0.2224 - acc: 0.9207 - val_loss: 0.2925 - val_acc: 0.8920\n",
      "Epoch 53/120\n",
      "313/313 [==============================] - 2s 7ms/step - loss: 0.2110 - acc: 0.9225 - val_loss: 0.2719 - val_acc: 0.9010\n",
      "Epoch 54/120\n",
      "313/313 [==============================] - 2s 7ms/step - loss: 0.1920 - acc: 0.9290 - val_loss: 0.2482 - val_acc: 0.9100\n",
      "Epoch 55/120\n",
      "313/313 [==============================] - 2s 7ms/step - loss: 0.1852 - acc: 0.9330 - val_loss: 0.2796 - val_acc: 0.9020\n",
      "Epoch 56/120\n",
      "313/313 [==============================] - 2s 7ms/step - loss: 0.1690 - acc: 0.9371 - val_loss: 0.2194 - val_acc: 0.9160\n",
      "Epoch 57/120\n",
      "313/313 [==============================] - 2s 7ms/step - loss: 0.1593 - acc: 0.9432 - val_loss: 0.2041 - val_acc: 0.9310\n",
      "Epoch 58/120\n",
      "313/313 [==============================] - 2s 7ms/step - loss: 0.1497 - acc: 0.9488 - val_loss: 0.1983 - val_acc: 0.9390\n",
      "Epoch 59/120\n",
      "313/313 [==============================] - 2s 7ms/step - loss: 0.1434 - acc: 0.9508 - val_loss: 0.1788 - val_acc: 0.9380\n",
      "Epoch 60/120\n",
      "313/313 [==============================] - 2s 7ms/step - loss: 0.1260 - acc: 0.9580 - val_loss: 0.1869 - val_acc: 0.9350\n",
      "Epoch 61/120\n",
      "313/313 [==============================] - 2s 7ms/step - loss: 0.1208 - acc: 0.9583 - val_loss: 0.1931 - val_acc: 0.9370\n",
      "Epoch 62/120\n",
      "313/313 [==============================] - 2s 7ms/step - loss: 0.1121 - acc: 0.9608 - val_loss: 0.1745 - val_acc: 0.9500\n",
      "Epoch 63/120\n",
      "313/313 [==============================] - 2s 7ms/step - loss: 0.1061 - acc: 0.9662 - val_loss: 0.2007 - val_acc: 0.9380\n",
      "Epoch 64/120\n",
      "313/313 [==============================] - 2s 7ms/step - loss: 0.1038 - acc: 0.9631 - val_loss: 0.1558 - val_acc: 0.9530\n",
      "Epoch 65/120\n",
      "313/313 [==============================] - 2s 7ms/step - loss: 0.0983 - acc: 0.9677 - val_loss: 0.1627 - val_acc: 0.9510\n",
      "Epoch 66/120\n",
      "313/313 [==============================] - 2s 7ms/step - loss: 0.1064 - acc: 0.9637 - val_loss: 0.1841 - val_acc: 0.9380\n",
      "Epoch 67/120\n",
      "313/313 [==============================] - 2s 7ms/step - loss: 0.0878 - acc: 0.9689 - val_loss: 0.1945 - val_acc: 0.9450\n",
      "Epoch 68/120\n",
      "313/313 [==============================] - 2s 7ms/step - loss: 0.0888 - acc: 0.9685 - val_loss: 0.2115 - val_acc: 0.9390\n",
      "Epoch 69/120\n",
      "313/313 [==============================] - 2s 7ms/step - loss: 0.0846 - acc: 0.9730 - val_loss: 0.1641 - val_acc: 0.9540\n",
      "Epoch 70/120\n",
      "313/313 [==============================] - 2s 7ms/step - loss: 0.0783 - acc: 0.9736 - val_loss: 0.1574 - val_acc: 0.9600\n",
      "Epoch 71/120\n",
      "313/313 [==============================] - 2s 7ms/step - loss: 0.0782 - acc: 0.9725 - val_loss: 0.1537 - val_acc: 0.9540\n",
      "Epoch 72/120\n",
      "313/313 [==============================] - 2s 7ms/step - loss: 0.0700 - acc: 0.9762 - val_loss: 0.1598 - val_acc: 0.9550\n",
      "Epoch 73/120\n",
      "313/313 [==============================] - 2s 7ms/step - loss: 0.0725 - acc: 0.9756 - val_loss: 0.1614 - val_acc: 0.9530\n",
      "Epoch 74/120\n",
      "313/313 [==============================] - 2s 7ms/step - loss: 0.0628 - acc: 0.9784 - val_loss: 0.1490 - val_acc: 0.9610\n",
      "Epoch 75/120\n",
      "313/313 [==============================] - 2s 7ms/step - loss: 0.0584 - acc: 0.9792 - val_loss: 0.1503 - val_acc: 0.9580\n",
      "Epoch 76/120\n",
      "313/313 [==============================] - 2s 7ms/step - loss: 0.0585 - acc: 0.9801 - val_loss: 0.1493 - val_acc: 0.9620\n",
      "Epoch 77/120\n",
      "313/313 [==============================] - 2s 7ms/step - loss: 0.0587 - acc: 0.9789 - val_loss: 0.1575 - val_acc: 0.9600\n",
      "Epoch 78/120\n",
      "313/313 [==============================] - 2s 8ms/step - loss: 0.0617 - acc: 0.9796 - val_loss: 0.1538 - val_acc: 0.9600\n",
      "Epoch 79/120\n",
      "313/313 [==============================] - 2s 8ms/step - loss: 0.0531 - acc: 0.9816 - val_loss: 0.1543 - val_acc: 0.9570\n",
      "Epoch 80/120\n",
      "313/313 [==============================] - 2s 7ms/step - loss: 0.0539 - acc: 0.9828 - val_loss: 0.1401 - val_acc: 0.9620\n",
      "Epoch 81/120\n",
      "313/313 [==============================] - 2s 7ms/step - loss: 0.0591 - acc: 0.9812 - val_loss: 0.1304 - val_acc: 0.9610\n",
      "Epoch 82/120\n",
      "313/313 [==============================] - 2s 7ms/step - loss: 0.0488 - acc: 0.9853 - val_loss: 0.1282 - val_acc: 0.9660\n",
      "Epoch 83/120\n",
      "313/313 [==============================] - 2s 8ms/step - loss: 0.0488 - acc: 0.9856 - val_loss: 0.1445 - val_acc: 0.9650\n",
      "Epoch 84/120\n",
      "313/313 [==============================] - 2s 7ms/step - loss: 0.0517 - acc: 0.9846 - val_loss: 0.1438 - val_acc: 0.9630\n",
      "Epoch 85/120\n",
      "313/313 [==============================] - 2s 7ms/step - loss: 0.0488 - acc: 0.9851 - val_loss: 0.1490 - val_acc: 0.9610\n",
      "Epoch 86/120\n",
      "313/313 [==============================] - 2s 7ms/step - loss: 0.0460 - acc: 0.9854 - val_loss: 0.1490 - val_acc: 0.9650\n",
      "Epoch 87/120\n",
      "313/313 [==============================] - 2s 7ms/step - loss: 0.0448 - acc: 0.9855 - val_loss: 0.1405 - val_acc: 0.9630\n",
      "Epoch 88/120\n",
      "313/313 [==============================] - 2s 7ms/step - loss: 0.0417 - acc: 0.9876 - val_loss: 0.2047 - val_acc: 0.9490\n",
      "Epoch 89/120\n",
      "313/313 [==============================] - 2s 7ms/step - loss: 0.0383 - acc: 0.9868 - val_loss: 0.1340 - val_acc: 0.9630\n",
      "Epoch 90/120\n",
      "313/313 [==============================] - 2s 7ms/step - loss: 0.0408 - acc: 0.9867 - val_loss: 0.1457 - val_acc: 0.9640\n",
      "Epoch 91/120\n",
      "313/313 [==============================] - 2s 7ms/step - loss: 0.0360 - acc: 0.9891 - val_loss: 0.1567 - val_acc: 0.9590\n",
      "Epoch 92/120\n",
      "313/313 [==============================] - 2s 7ms/step - loss: 0.0369 - acc: 0.9890 - val_loss: 0.1324 - val_acc: 0.9640\n",
      "Epoch 93/120\n",
      "313/313 [==============================] - 2s 7ms/step - loss: 0.0385 - acc: 0.9889 - val_loss: 0.1475 - val_acc: 0.9660\n",
      "Epoch 94/120\n",
      "313/313 [==============================] - 2s 7ms/step - loss: 0.0385 - acc: 0.9875 - val_loss: 0.1358 - val_acc: 0.9670\n",
      "Epoch 95/120\n",
      "313/313 [==============================] - 2s 7ms/step - loss: 0.0354 - acc: 0.9887 - val_loss: 0.1897 - val_acc: 0.9530\n",
      "Epoch 96/120\n"
     ]
    },
    {
     "name": "stdout",
     "output_type": "stream",
     "text": [
      "313/313 [==============================] - 2s 7ms/step - loss: 0.0386 - acc: 0.9891 - val_loss: 0.1381 - val_acc: 0.9640\n",
      "Epoch 97/120\n",
      "313/313 [==============================] - 2s 7ms/step - loss: 0.0404 - acc: 0.9887 - val_loss: 0.1490 - val_acc: 0.9650\n",
      "Epoch 98/120\n",
      "313/313 [==============================] - 2s 8ms/step - loss: 0.0397 - acc: 0.9887 - val_loss: 0.1311 - val_acc: 0.9650\n",
      "Epoch 99/120\n",
      "313/313 [==============================] - 2s 7ms/step - loss: 0.0350 - acc: 0.9888 - val_loss: 0.1440 - val_acc: 0.9660\n",
      "Epoch 100/120\n",
      "313/313 [==============================] - 2s 7ms/step - loss: 0.0413 - acc: 0.9880 - val_loss: 0.1586 - val_acc: 0.9610\n",
      "Epoch 101/120\n",
      "313/313 [==============================] - 2s 7ms/step - loss: 0.0286 - acc: 0.9909 - val_loss: 0.1396 - val_acc: 0.9660\n",
      "Epoch 102/120\n",
      "313/313 [==============================] - 2s 7ms/step - loss: 0.0325 - acc: 0.9907 - val_loss: 0.1418 - val_acc: 0.9660\n",
      "Epoch 103/120\n",
      "313/313 [==============================] - 2s 7ms/step - loss: 0.0359 - acc: 0.9912 - val_loss: 0.1086 - val_acc: 0.9700\n",
      "Epoch 104/120\n",
      "313/313 [==============================] - 2s 7ms/step - loss: 0.0341 - acc: 0.9899 - val_loss: 0.1308 - val_acc: 0.9650\n",
      "Epoch 105/120\n",
      "313/313 [==============================] - 2s 7ms/step - loss: 0.0320 - acc: 0.9910 - val_loss: 0.1456 - val_acc: 0.9680\n",
      "Epoch 106/120\n",
      "313/313 [==============================] - 2s 7ms/step - loss: 0.0322 - acc: 0.9918 - val_loss: 0.1272 - val_acc: 0.9610\n",
      "Epoch 107/120\n",
      "313/313 [==============================] - 2s 7ms/step - loss: 0.0265 - acc: 0.9921 - val_loss: 0.1188 - val_acc: 0.9690\n",
      "Epoch 108/120\n",
      "313/313 [==============================] - 2s 7ms/step - loss: 0.0253 - acc: 0.9916 - val_loss: 0.1426 - val_acc: 0.9690\n",
      "Epoch 109/120\n",
      "313/313 [==============================] - 2s 7ms/step - loss: 0.0238 - acc: 0.9926 - val_loss: 0.1265 - val_acc: 0.9710\n",
      "Epoch 110/120\n",
      "313/313 [==============================] - 2s 7ms/step - loss: 0.0313 - acc: 0.9914 - val_loss: 0.1378 - val_acc: 0.9710\n",
      "Epoch 111/120\n",
      "313/313 [==============================] - 2s 7ms/step - loss: 0.0265 - acc: 0.9924 - val_loss: 0.1395 - val_acc: 0.9690\n",
      "Epoch 112/120\n",
      "313/313 [==============================] - 2s 7ms/step - loss: 0.0301 - acc: 0.9926 - val_loss: 0.1477 - val_acc: 0.9690\n",
      "Epoch 113/120\n",
      "313/313 [==============================] - 2s 7ms/step - loss: 0.0264 - acc: 0.9926 - val_loss: 0.1379 - val_acc: 0.9680\n",
      "Epoch 114/120\n",
      "313/313 [==============================] - 2s 7ms/step - loss: 0.0199 - acc: 0.9942 - val_loss: 0.1264 - val_acc: 0.9670\n",
      "Epoch 115/120\n",
      "313/313 [==============================] - 2s 7ms/step - loss: 0.0253 - acc: 0.9930 - val_loss: 0.1616 - val_acc: 0.9660\n",
      "Epoch 116/120\n",
      "313/313 [==============================] - 2s 7ms/step - loss: 0.0294 - acc: 0.9915 - val_loss: 0.1188 - val_acc: 0.9700\n",
      "Epoch 117/120\n",
      "313/313 [==============================] - 2s 7ms/step - loss: 0.0219 - acc: 0.9928 - val_loss: 0.1475 - val_acc: 0.9720\n",
      "Epoch 118/120\n",
      "313/313 [==============================] - 2s 7ms/step - loss: 0.0221 - acc: 0.9944 - val_loss: 0.1599 - val_acc: 0.9720\n",
      "Epoch 119/120\n",
      "313/313 [==============================] - 2s 7ms/step - loss: 0.0233 - acc: 0.9938 - val_loss: 0.1340 - val_acc: 0.9650\n",
      "Epoch 120/120\n",
      "313/313 [==============================] - 2s 7ms/step - loss: 0.0270 - acc: 0.9916 - val_loss: 0.1453 - val_acc: 0.9690\n"
     ]
    },
    {
     "name": "stderr",
     "output_type": "stream",
     "text": [
      "C:\\Users\\seungwon\\anaconda3\\envs\\scratch\\lib\\site-packages\\tensorflow\\python\\keras\\utils\\generic_utils.py:497: CustomMaskWarning: Custom mask layers require a config and must override get_config. When loading, the custom mask layer must be passed to the custom_objects argument.\n",
      "  category=CustomMaskWarning)\n"
     ]
    }
   ],
   "source": [
    "model = Model([input_sequence, question], answer)\n",
    "model.compile(optimizer='rmsprop', loss='categorical_crossentropy',\n",
    "              metrics=['acc'])\n",
    "\n",
    "print(model.summary())\n",
    "\n",
    "history = model.fit([Xstrain, Xqtrain],\n",
    "         Ytrain, batch_size, train_epochs,\n",
    "         validation_data=([Xstest, Xqtest], Ytest))\n",
    "\n",
    "model.save('results/model_2001.h5')"
   ]
  },
  {
   "cell_type": "code",
   "execution_count": 30,
   "id": "6d5bb2e3",
   "metadata": {},
   "outputs": [
    {
     "name": "stdout",
     "output_type": "stream",
     "text": [
      "32/32 [==============================] - 0s 3ms/step - loss: 0.1453 - acc: 0.9690\n",
      "\n",
      " 테스트 정확도: 0.9690\n"
     ]
    }
   ],
   "source": [
    "print(\"\\n 테스트 정확도: %.4f\" % (model.evaluate([Xstest, Xqtest], Ytest)[1]))"
   ]
  },
  {
   "cell_type": "code",
   "execution_count": 31,
   "id": "179f3573",
   "metadata": {},
   "outputs": [
    {
     "data": {
      "image/png": "[encoded data removed]",
      "text/plain": [
       "<Figure size 432x288 with 2 Axes>"
      ]
     },
     "metadata": {
      "needs_background": "light"
     },
     "output_type": "display_data"
    }
   ],
   "source": [
    "plt.subplot(211)\n",
    "plt.title(\"Accuracy\")\n",
    "plt.plot(history.history[\"acc\"], color=\"g\", label=\"train\")\n",
    "plt.plot(history.history[\"val_acc\"], color=\"b\", label=\"validation\")\n",
    "plt.legend(loc=\"best\")\n",
    "\n",
    "plt.subplot(212)\n",
    "plt.title(\"Loss\")\n",
    "plt.plot(history.history[\"loss\"], color=\"g\", label=\"train\")\n",
    "plt.plot(history.history[\"val_loss\"], color=\"b\", label=\"validation\")\n",
    "plt.legend(loc=\"best\")\n",
    "\n",
    "plt.tight_layout()\n",
    "plt.show()\n",
    "\n",
    "ytest = np.argmax(Ytest, axis=1)\n",
    "\n",
    "Ytest_ = model.predict([Xstest, Xqtest])\n",
    "ytest_ = np.argmax(Ytest_, axis=1)"
   ]
  },
  {
   "cell_type": "code",
   "execution_count": null,
   "id": "0970f598",
   "metadata": {},
   "outputs": [],
   "source": []
  }
 ],
 "metadata": {
  "kernelspec": {
   "display_name": "Python 3",
   "language": "python",
   "name": "python3"
  },
  "language_info": {
   "codemirror_mode": {
    "name": "ipython",
    "version": 3
   },
   "file_extension": ".py",
   "mimetype": "text/x-python",
   "name": "python",
   "nbconvert_exporter": "python",
   "pygments_lexer": "ipython3",
   "version": "3.6.3"
  }
 },
 "nbformat": 4,
 "nbformat_minor": 5
}
